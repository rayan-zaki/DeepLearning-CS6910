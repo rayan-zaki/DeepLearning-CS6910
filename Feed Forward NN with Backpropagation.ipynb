{
 "cells": [
  {
   "cell_type": "code",
   "execution_count": 1,
   "metadata": {},
   "outputs": [],
   "source": [
    "import numpy as np\n",
    "import matplotlib.pyplot as plt"
   ]
  },
  {
   "cell_type": "code",
   "execution_count": 2,
   "metadata": {},
   "outputs": [],
   "source": [
    "# Activation Functions\n",
    "def sigmoid(X):\n",
    "    A = 1/(1+np.exp(-X))\n",
    "    return A\n",
    "\n",
    "def relu(X):\n",
    "    A = np.maximum(0,X)\n",
    "    return A\n",
    "\n",
    "def relu_grad(dA,A):\n",
    "    dX = np.array(dA, copy=True)\n",
    "    dX[A<=0] = 0\n",
    "    return dX\n",
    "\n",
    "def sigmoid_grad(dA,A):\n",
    "    dX = dA * A* (1-A)\n",
    "    return dX\n",
    "\n",
    "def softmax(X):\n",
    "    A=np.exp(X)\n",
    "    A = A/np.sum(A, axis=0, keepdims=True)\n",
    "    return A\n",
    "\n",
    "def act_fn(X,activation):\n",
    "    if activation == \"sigmoid\":\n",
    "        return sigmoid(X) \n",
    "\n",
    "    elif activation == \"relu\":\n",
    "        return relu(X)\n",
    "\n",
    "    elif activation == \"softmax\":\n",
    "        return softmax(X)\n",
    "    else:\n",
    "        print(\"Please include the fn first\")\n",
    "            \n",
    "def act_fn_grad(dA, A, activation_name):\n",
    "    # Returns dX\n",
    "    if activation_name == \"relu\":\n",
    "        return relu_grad(dA, A)\n",
    "\n",
    "    elif activation_name == \"sigmoid\":\n",
    "        return sigmoid_grad(dA, A)"
   ]
  },
  {
   "cell_type": "code",
   "execution_count": 3,
   "metadata": {},
   "outputs": [],
   "source": [
    "def class_onehot(indices, num_classes , zero_indexed=True): # Takes class number [0,classes-1] and returns one hot (zero indexed)\n",
    "    if zero_indexed:\n",
    "        return np.identity(num_classes)[np.array(indices)].T\n",
    "    else :\n",
    "        return np.identity(num_classes)[np.array(indices-1)].T"
   ]
  },
  {
   "cell_type": "code",
   "execution_count": 4,
   "metadata": {},
   "outputs": [],
   "source": [
    "# Loss Functions\n",
    "def cross_entropy_sigmoid(y, y_pred):\n",
    "    m = Y.shape[1]\n",
    "    cost = -1 / m * np.sum(y * np.log(y_pred) + (1-y) * np.log(1-y_pred))\n",
    "    cost = np.squeeze(cost)\n",
    "    return cost\n",
    "\n",
    "def cross_entropy_sigmoid_grad(y, y_pred):\n",
    "    m = y.shape[1]\n",
    "    return -(np.divide(y, y_pred) - np.divide(1 - y, 1 - y_pred))\n",
    "\n",
    "def mean_squared(y, y_pred):\n",
    "    return  np.sum((y - y_pred)**2 ).squeeze() / (y_pred.shape[1]*2)\n",
    "\n",
    "def mean_squared_grad(y, y_pred):\n",
    "    return (y_pred - y)\n",
    "\n",
    "def cross_entropy_softmax(y,y_pred,one_hot=False,zero_indexed_classes=True, classes=1):\n",
    "    if one_hot:\n",
    "        return np.sum(np.array(y)*(-1*np.log(y_pred)))\n",
    "    else:\n",
    "        # classes should begin with zero index or else change one_hot_fn\n",
    "        return np.sum(class_onehot(y,classes,zero_indexed=zero_indexed_classes)*(-1*np.log(y_pred)))\n",
    "\n",
    "def cross_entropy_softmax_grad(y,y_pred,one_hot=False,zero_indexed_classes=True, classes=1):\n",
    "    if one_hot:\n",
    "        return np.array(y)*(-1/y_pred)\n",
    "    else:\n",
    "        # classes should begin with zero index or else change one_hot_fn\n",
    "        return class_onehot(y,classes,zero_indexed=zero_indexed_classes)*(-1/y_pred)"
   ]
  },
  {
   "cell_type": "code",
   "execution_count": 5,
   "metadata": {},
   "outputs": [],
   "source": [
    "def cost_fn(y,y_pred, output_activation=\"sigmoid\", loss_fn=\"cross_entropy\"):\n",
    "    if output_activation==\"sigmoid\" and loss_fn==\"cross_entropy\":\n",
    "        return cross_entropy_sigmoid(y, y_pred)\n",
    "    elif output_activation==\"softmax\" and loss_fn==\"cross_entropy\":\n",
    "        return cross_entropy_softmax(y,y_pred)\n",
    "    elif output_activation==\"linear\" and loss_fn==\"mse\":\n",
    "        return mean_squared(y, y_pred)"
   ]
  },
  {
   "cell_type": "code",
   "execution_count": 6,
   "metadata": {},
   "outputs": [],
   "source": [
    "def output_exc_act_grad(y,y_pred, output_activation=\"sigmoid\", loss_fn=\"cross_entropy\", classes=1):\n",
    "    if output_activation==\"sigmoid\" and loss_fn==\"cross_entropy\":\n",
    "        return y_pred-y\n",
    "    elif output_activation==\"softmax\" and loss_fn==\"cross_entropy\":\n",
    "        y=class_onehot(y,classes)\n",
    "        return y_pred-y \n",
    "    elif output_activation==\"linear\" and loss_fn==\"mse\":\n",
    "        return y - y_pred"
   ]
  },
  {
   "cell_type": "code",
   "execution_count": 7,
   "metadata": {},
   "outputs": [],
   "source": [
    "class FeedForward_NN:\n",
    "    def __init__(self, input_features, hidden_layers_dims=[2], output_nodes=1):\n",
    "\n",
    "        self.hL = len(hidden_layers_dims)\n",
    "        self.output_nodes = output_nodes\n",
    "        self.layer_dims = [input_features] + hidden_layers_dims + [output_nodes] # list with all layer sizes (including input and output)\n",
    "        \n",
    "        ## Weight Initialization\n",
    "        self.params = {}\n",
    "        L = len(self.layer_dims) # total number of layers in the network\n",
    "\n",
    "        for l in range(1, L):\n",
    "            self.params['W' + str(l)] = np.random.randn(self.layer_dims[l], self.layer_dims[l-1]) * 0.01\n",
    "            self.params['b' + str(l)] = np.zeros((self.layer_dims[l], 1))\n",
    "        \n",
    "        self.L = len(self.params) // 2 # number of layers in the neural network\n",
    "        self.caches=[] # stores tuple of X_W (W, X) and activation cache for each layer\n",
    "        self.grads = {} # it is storing all the partial derivatives i.e. dX, db and dW\n",
    "        \n",
    "    \n",
    "    def forward_prop(self, X):\n",
    "     \n",
    "        self.caches.clear() # self.caches stores tuple of X_W and activation cache for each layer\n",
    "        \n",
    "        for l in range(1, self.L):\n",
    "            W = self.params['W%d' % l]\n",
    "            b = self.params['b%d' % l]\n",
    "            \n",
    "            self.caches.append(X)\n",
    "            X = np.dot(W , X) + b\n",
    "            A = act_fn(X,'relu')\n",
    "            \n",
    "            X = A # current activation will act as input for next layer\n",
    "        \n",
    "        self.caches.append(X)\n",
    "        ## last layer activation and cache done seperately because different activation functions used\n",
    "        W = self.params['W%d' % self.L]\n",
    "        b = self.params['b%d' % self.L]\n",
    "        \n",
    "        X = np.dot(W , X) + b\n",
    "        return X\n",
    "    \n",
    "    \n",
    "    def backward_prop(self,dX): # dX is derivaltive of loss fn wrt last layer X i.e, X = W_L @ A_L-1 + b_L\n",
    "        self.grads.clear()\n",
    "        m = dX.shape[1]\n",
    "        \n",
    "        # Now you know partial derivative of last layer activation wrt loss, calculate the weights, biases and L-1 layer activation gradients \n",
    "        A_prev = self.caches[self.L-1] # caches stores activations of all layer(last layer not required) + input\n",
    "        \n",
    "        W = self.params[\"W\"+str(self.L)]\n",
    "        \n",
    "        self.grads[\"dW\" + str(self.L)] = 1 / m * np.dot(dX , A_prev.T)\n",
    "        self.grads[\"db\" + str(self.L)] = 1 / m * np.sum(dX, axis=1, keepdims=True)\n",
    "        self.grads[\"dA\" + str(self.L-1)] = np.dot(W.T , dX)\n",
    "        \n",
    "        for l in reversed(range(self.L-1)):\n",
    "            A_prev = self.caches[l]\n",
    "            W = self.params[\"W\"+str(l+1)]\n",
    "            \n",
    "            dX = act_fn_grad(self.grads[\"dA\" + str(l + 1)], A_prev, 'relu') # in first iteration it is dx_L-1\n",
    "                                                                            # use dX_L-1 to find dW_L-1, db_L-1 and dA_L-2\n",
    "            self.grads[\"dW\" + str(l+1)] = 1 / m * np.dot(dX , A_prev.T)\n",
    "            self.grads[\"db\" + str(l+1)] = 1 / m * np.sum(dX, axis=1, keepdims=True)\n",
    "            self.grads[\"dA\" + str(l)] = np.dot(W.T , dX)\n",
    "            \n",
    "    def update_parameters(self,learning_rate):\n",
    "        for l in range(self.L):\n",
    "            self.params[\"W\" + str(l+1)] = self.params[\"W\" + str(l+1)] - learning_rate * self.grads[\"dW\" + str(l+1)]\n",
    "            self.params[\"b\" + str(l+1)] = self.params[\"b\" + str(l+1)] - learning_rate * self.grads[\"db\" + str(l+1)]"
   ]
  },
  {
   "cell_type": "code",
   "execution_count": 8,
   "metadata": {},
   "outputs": [],
   "source": [
    "# Prior to this define the model\n",
    "def train(model,X,Y,output_activation=\"sigmoid\", output_loss_fn=\"cross_entropy\", iterations=51, optimizer=None, learning_rate=0.0075, batch_size=None, print_cost=False):\n",
    "    \n",
    "    costs = []\n",
    "    for i in range(iterations):\n",
    "\n",
    "        # Forward Propagation\n",
    "        XL = model.forward_prop(X)\n",
    "        Y_pred = act_fn(XL,output_activation)\n",
    "        #model.caches.append((X_W_cache, Y_pred))\n",
    "        \n",
    "        # Compute cost\n",
    "        cost = cost_fn(Y,Y_pred, output_activation=output_activation, loss_fn=output_loss_fn)\n",
    "        \n",
    "        # Backward propagation\n",
    "        Y = Y.reshape(Y_pred.shape) # True output\n",
    "        \n",
    "        dZ=output_exc_act_grad(Y,Y_pred,output_activation=output_activation,loss_fn=output_loss_fn,classes=model.output_nodes)\n",
    "        \n",
    "        model.backward_prop(dZ)\n",
    "        \n",
    "        # Update parameters.\n",
    "        #optimizer_step(model.grads, optimizer=optimizer, learning_rate)\n",
    "        model.update_parameters(learning_rate)\n",
    "\n",
    "        # Print the cost every 100 training example\n",
    "        if print_cost and i % 10 == 0:\n",
    "            print(\"Cost after iteration {}: {}\".format(i, np.squeeze(cost)))\n",
    "        if print_cost and i % 10 == 0:\n",
    "            costs.append(cost)\n",
    "\n",
    "    # plot the cost\n",
    "    plt.plot(np.squeeze(costs))\n",
    "    plt.ylabel('cost')\n",
    "    plt.xlabel('iterations (per tens)')\n",
    "    plt.title(\"Learning rate =\" + str(learning_rate))\n",
    "    plt.show()\n"
   ]
  },
  {
   "cell_type": "markdown",
   "metadata": {},
   "source": [
    "### Dummy data for checking"
   ]
  },
  {
   "cell_type": "code",
   "execution_count": 12,
   "metadata": {},
   "outputs": [],
   "source": [
    "X=np.array([[0,0],[0,1],[1,0],[1,1],[2,1]]).T\n",
    "Y=np.array([0,1,1,0,1]).reshape(-1,1).T"
   ]
  },
  {
   "cell_type": "code",
   "execution_count": 10,
   "metadata": {},
   "outputs": [],
   "source": [
    "nn=FeedForward_NN(2)"
   ]
  },
  {
   "cell_type": "code",
   "execution_count": 11,
   "metadata": {},
   "outputs": [
    {
     "name": "stdout",
     "output_type": "stream",
     "text": [
      "Cost after iteration 0: 0.6931739295363786\n",
      "Cost after iteration 10: 0.6924350767649047\n",
      "Cost after iteration 20: 0.6917234237458493\n",
      "Cost after iteration 30: 0.6910379658077948\n",
      "Cost after iteration 40: 0.6903777348394766\n",
      "Cost after iteration 50: 0.689741798034607\n"
     ]
    },
    {
     "data": {
      "image/png": "[encoded data removed]",
      "text/plain": [
       "<Figure size 432x288 with 1 Axes>"
      ]
     },
     "metadata": {
      "needs_background": "light"
     },
     "output_type": "display_data"
    }
   ],
   "source": [
    "train(nn,X,Y,print_cost=True)"
   ]
  },
  {
   "cell_type": "code",
   "execution_count": null,
   "metadata": {},
   "outputs": [],
   "source": []
  }
 ],
 "metadata": {
  "kernelspec": {
   "display_name": "Python 3",
   "language": "python",
   "name": "python3"
  },
  "language_info": {
   "codemirror_mode": {
    "name": "ipython",
    "version": 3
   },
   "file_extension": ".py",
   "mimetype": "text/x-python",
   "name": "python",
   "nbconvert_exporter": "python",
   "pygments_lexer": "ipython3",
   "version": "3.7.3"
  }
 },
 "nbformat": 4,
 "nbformat_minor": 4
}
