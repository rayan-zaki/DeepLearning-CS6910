{
 "cells": [
  {
   "cell_type": "code",
   "execution_count": 23,
   "metadata": {},
   "outputs": [],
   "source": [
    "from Feed_Forward_NN import *\n",
    "#from train_fn import *\n",
    "from activation_fns_and_grads import *\n",
    "from loss_fns_with_regularization import *\n",
    "from optimizers_with_regularization import *\n",
    "from utils import *\n",
    "import numpy as np\n",
    "import matplotlib.pyplot as plt\n",
    "import torchvision\n",
    "import wandb\n"
   ]
  },
  {
   "cell_type": "code",
   "execution_count": 24,
   "metadata": {},
   "outputs": [
    {
     "name": "stderr",
     "output_type": "stream",
     "text": [
      "wandb: Currently logged in as: anshuman802 (use `wandb login --relogin` to force relogin)\n"
     ]
    }
   ],
   "source": [
    "!wandb login"
   ]
  },
  {
   "cell_type": "code",
   "execution_count": 25,
   "metadata": {
    "scrolled": true
   },
   "outputs": [
    {
     "name": "stderr",
     "output_type": "stream",
     "text": [
      "wandb: WARNING Ignored wandb.init() arg project when running a sweep\n",
      "wandb: wandb version 0.10.22 is available!  To upgrade, please run:\n",
      "wandb:  $ pip install wandb --upgrade\n"
     ]
    },
    {
     "data": {
      "text/html": [
       "\n",
       "                Tracking run with wandb version 0.10.21<br/>\n",
       "                Syncing run <strong style=\"color:#cdcd00\">ep:[15] hl:[64-32] lr:[0.0002] op:[adam] bs:[512] ac:[relu] L2:[0.0005] dp:[0.8]</strong> to <a href=\"https://wandb.ai\" target=\"_blank\">Weights & Biases</a> <a href=\"https://docs.wandb.com/integrations/jupyter.html\" target=\"_blank\">(Documentation)</a>.<br/>\n",
       "                Project page: <a href=\"https://wandb.ai/anshuman802/Sweep_final\" target=\"_blank\">https://wandb.ai/anshuman802/Sweep_final</a><br/>\n",
       "                Sweep page: <a href=\"https://wandb.ai/anshuman802/Sweep_final/sweeps/66ubrk5r\" target=\"_blank\">https://wandb.ai/anshuman802/Sweep_final/sweeps/66ubrk5r</a><br/>\n",
       "Run page: <a href=\"https://wandb.ai/anshuman802/Sweep_final/runs/kteoy7t7\" target=\"_blank\">https://wandb.ai/anshuman802/Sweep_final/runs/kteoy7t7</a><br/>\n",
       "                Run data is saved locally in <code>D:\\DL\\wandb\\run-20210313_125651-kteoy7t7</code><br/><br/>\n",
       "            "
      ],
      "text/plain": [
       "<IPython.core.display.HTML object>"
      ]
     },
     "metadata": {},
     "output_type": "display_data"
    },
    {
     "data": {
      "text/html": [
       "<h1>Run(kteoy7t7)</h1><iframe src=\"https://wandb.ai/anshuman802/Sweep_final/runs/kteoy7t7\" style=\"border:none;width:100%;height:400px\"></iframe>"
      ],
      "text/plain": [
       "<wandb.sdk.wandb_run.Run at 0x1f9ce4ad3c8>"
      ]
     },
     "execution_count": 25,
     "metadata": {},
     "output_type": "execute_result"
    }
   ],
   "source": [
    "wandb.init(project='MNIST_sweep')"
   ]
  },
  {
   "cell_type": "code",
   "execution_count": 26,
   "metadata": {},
   "outputs": [],
   "source": [
    "train_set = torchvision.datasets.MNIST(\n",
    "    root=''\n",
    "    ,train=True\n",
    "    ,download=True\n",
    "    \n",
    ")\n",
    "test_set = torchvision.datasets.MNIST(\n",
    "    root=''\n",
    "    ,train=False\n",
    "    ,download=True\n",
    "    \n",
    ")"
   ]
  },
  {
   "cell_type": "code",
   "execution_count": 27,
   "metadata": {},
   "outputs": [],
   "source": [
    "X_train = np.array(train_set.data)\n",
    "\n",
    "Y_train = np.array(train_set.targets)\n",
    "\n",
    "Y_train=Y_train.reshape(-1,1).T\n",
    "\n",
    "X_train = X_train.reshape(X_train.shape[0],-1).T\n",
    "\n",
    "X_train, X_val, Y_train, Y_val = train_val_split(X_train, Y_train, val_size=0.1, random_state=42)"
   ]
  },
  {
   "cell_type": "code",
   "execution_count": 28,
   "metadata": {},
   "outputs": [],
   "source": [
    "# Prior to this define the model\n",
    "def train(model,\n",
    "      X_train = X_train,\n",
    "      Y_train = Y_train,\n",
    "      X_val = X_val,\n",
    "      Y_val = Y_val,\n",
    "      output_activation = \"softmax\",\n",
    "      output_loss_fn = \"cross_entropy\",\n",
    "      epochs = 15, \n",
    "      optimizer_name='adam',\n",
    "      l2_lambd =0.0005,\n",
    "      learning_rate = 0.0002,\n",
    "      lr_schedule = 0.5,\n",
    "      batch_size = 512,\n",
    "      print_cost = True, \n",
    "      val = True):\n",
    "    \n",
    "    train_costs_batches = []\n",
    "    train_accuracy_batches = []\n",
    "    \n",
    "    train_costs=[]\n",
    "    train_accuracy = []\n",
    "    val_costs = []\n",
    "    val_accuracy = []\n",
    "    \n",
    "    if optimizer_name=='sgd':\n",
    "        optimizer = stochastic_gradient_descent(learning_rate=learning_rate , l2_lambd=l2_lambd)\n",
    "    elif optimizer_name=='momentum':\n",
    "        optimizer = momentum_gradient_descent(params=model.params,learning_rate= learning_rate , l2_lambd=l2_lambd)\n",
    "    elif optimizer_name=='rmsprop':\n",
    "        optimizer = rms_prop(params=model.params,learning_rate= learning_rate , l2_lambd=l2_lambd)\n",
    "    elif optimizer_name=='adam':\n",
    "        optimizer = adam(params = model.params, learning_rate= learning_rate , l2_lambd=l2_lambd)\n",
    "    elif optimizer_name== 'nesterov':\n",
    "        optimizer = nesterov_gradient_descent(params = model.params, learning_rate= learning_rate , l2_lambd=l2_lambd)\n",
    "    elif optimizer_name=='nadam':\n",
    "        optimizer = nadam(params = model.params, learning_rate= learning_rate, beta1=0.9, beta2=0.999 , l2_lambd=l2_lambd)\n",
    "        \n",
    "    if batch_size==None:\n",
    "        batch_size = X_train.shape[1]\n",
    "        \n",
    "    for i in range(1,epochs+1):\n",
    "        if i%10==0:\n",
    "            optimizer.lr=optimizer.lr * lr_schedule\n",
    "        '''decay = 0.001\n",
    "        optimizer.lr=optimizer.lr * 1/(1 + decay * i)'''\n",
    "        \n",
    "        mini_batches = create_mini_batches(X_train, Y_train, batch_size)\n",
    "        no_batches = len(mini_batches)\n",
    "        \n",
    "        epoch_loss=0\n",
    "        epoch_correct=0\n",
    "        \n",
    "        \n",
    "        for j , mini_batch in enumerate(mini_batches,1):\n",
    "            X_mini, Y_mini = mini_batch\n",
    "            bs = X_mini.shape[1]\n",
    "            if bs==0:\n",
    "                break\n",
    "            \n",
    "            # Forward Propagation\n",
    "            XL = model.forward_prop(X_mini) ## final layer output w/o activation\n",
    "            Y_pred = act_fn(XL,output_activation)\n",
    "            \n",
    "            # Compute cost\n",
    "            batch_cost = cost_fn(model.params,Y_mini,Y_pred, l2_lambd=l2_lambd, output_activation=output_activation, loss_fn=output_loss_fn)\n",
    "            batch_correct = np.sum(onehot_to_class(Y_pred)==Y_mini)\n",
    "            \n",
    "            epoch_loss += batch_cost*bs\n",
    "            epoch_correct += batch_correct\n",
    "            \n",
    "            # Backward propagation\n",
    "            ## look forward step\n",
    "            if optimizer_name=='nesterov' or optimizer_name=='nadam':\n",
    "                optimizer.update_params_prior_grad(model)\n",
    "            \n",
    "            dZ=output_exc_act_grad(Y_mini,Y_pred,output_activation=output_activation,loss_fn=output_loss_fn,classes=model.output_nodes)\n",
    "\n",
    "            model.backward_prop(dZ)\n",
    "\n",
    "            # Update parameters.\n",
    "            if optimizer_name== 'nesterov' or optimizer_name=='nadam':\n",
    "                optimizer.update_params_after_grad(model)\n",
    "            else:\n",
    "                optimizer.update_params(model)\n",
    "\n",
    "            # Print the cost every 100 training batch\n",
    "            if j % 100 == 0:\n",
    "                train_costs_batches.append(batch_cost)\n",
    "                train_accuracy_batches.append(batch_correct/Y_mini.shape[1])\n",
    "        \n",
    "        epoch_loss = epoch_loss / X_train.shape[1]\n",
    "        epoch_correct = epoch_correct / X_train.shape[1]\n",
    "        \n",
    "        train_costs.append(epoch_loss)\n",
    "        train_accuracy.append(epoch_correct)\n",
    "        wandb.log({'epoch': i,'train loss': epoch_loss,'train accuracy': epoch_correct})\n",
    "        if val :\n",
    "            val_acc,val_loss=accuracy_loss(model,X_val,Y_val,output_activation=output_activation,output_loss_fn=output_loss_fn)\n",
    "            val_costs.append(val_loss)\n",
    "            val_accuracy.append(val_acc)\n",
    "            \n",
    "            wandb.log({'val loss': val_loss,'val accuracy': val_acc})\n",
    "            if print_cost:\n",
    "                print(\"val cost for epoch \", i , \"= \",val_loss)\n",
    "                print(\"val accuracy for epoch \", i , \"= \",val_acc)\n",
    "                print(\"train cost for epoch \", i , \"= \",epoch_loss)\n",
    "                print(\"train accuracy for epoch \", i , \"= \",epoch_correct)\n",
    "                print(\"\")\n",
    "            \n",
    "    # plot the cost per 100 batches\n",
    "    plt.plot(np.squeeze(train_costs_batches))\n",
    "    plt.plot(np.squeeze(train_accuracy_batches))\n",
    "    plt.ylabel('train_costs_batches')\n",
    "    plt.xlabel('batches (per 100)')\n",
    "    plt.title(\"Learning rate =\" + str(learning_rate))\n",
    "    plt.show()\n",
    "    \n"
   ]
  },
  {
   "cell_type": "code",
   "execution_count": 29,
   "metadata": {},
   "outputs": [],
   "source": [
    "def layers_config_str(s):\n",
    "    l=list(map(int, s.split('-')))\n",
    "    return l"
   ]
  },
  {
   "cell_type": "code",
   "execution_count": 30,
   "metadata": {},
   "outputs": [],
   "source": [
    "def sp_train():\n",
    "    config_defaults = {\n",
    "        'epochs': 15,\n",
    "        'hidden_layers_config':'512' ,\n",
    "        'L2_regularization': 0.0005,\n",
    "        'dropout':0.8,\n",
    "        'learning_rate': 1e-4,\n",
    "        'optimizer': 'adam',\n",
    "        'batch_size': 512,\n",
    "        'weight_initialization': 'xavier' ,\n",
    "        'activation_fns': 'relu'\n",
    "    }\n",
    "    # Initialize a new wandb run\n",
    "    wandb.init(config=config_defaults)\n",
    "    # Config is a variable that holds and saves hyperparameters and inputs\n",
    "    config = wandb.config\n",
    "    run_name=\"ep:[\"+str(config.epochs)+\"] hl:[\"+config.hidden_layers_config+\"] lr:[\"+str(config.learning_rate)+\"] op:[\"+config.optimizer+\"] bs:[\"+str(config.batch_size)+\"] ac:[\"+config.activation_fns+\"] L2:[\"+str(config.L2_regularization)+\"] dp:[\"+str(config.dropout)+\"]\"\n",
    "    wandb.run.name=run_name\n",
    "    #wandb.init(config=config_defaults, name= run_name)\n",
    "    \n",
    "    \n",
    "    \n",
    "    nn=FeedForward_NN(input_features= 784, \n",
    "                  output_nodes=10, \n",
    "                  hidden_layers_dims=layers_config_str(config.hidden_layers_config),\n",
    "                  act_fn=config.activation_fns,\n",
    "                  dropout = config.dropout,\n",
    "                  initialization=config.weight_initialization)\n",
    "    \n",
    "    train(model=nn,\n",
    "          X_train = X_train,\n",
    "          Y_train = Y_train,\n",
    "          X_val = X_val,\n",
    "          Y_val = Y_val,\n",
    "          output_activation = \"softmax\",\n",
    "          output_loss_fn = \"cross_entropy\",\n",
    "          epochs = config.epochs, \n",
    "          optimizer_name= config.optimizer,\n",
    "          l2_lambd = config.L2_regularization,\n",
    "          learning_rate = config.learning_rate,\n",
    "          lr_schedule = 1,\n",
    "          batch_size = config.batch_size,\n",
    "          print_cost = True, \n",
    "          val = True)"
   ]
  },
  {
   "cell_type": "code",
   "execution_count": 31,
   "metadata": {},
   "outputs": [],
   "source": [
    "sweep_config = {\n",
    "    'method': 'grid', \n",
    "    'metric': {\n",
    "      'name': 'val accuracy',\n",
    "      'goal': 'maximize'   \n",
    "    },\n",
    "    'parameters': {\n",
    "        'epochs': {\n",
    "            'values':[15]\n",
    "        },\n",
    "        'hidden_layers_config': {\n",
    "            'values': ['64-32', \n",
    "                       '512'\n",
    "                       ]\n",
    "        },\n",
    "        'L2_regularization': {\n",
    "            'values':[0.0005] \n",
    "        },\n",
    "        'dropout':{\n",
    "            'values':[0.8]\n",
    "        },\n",
    "        'learning_rate':{\n",
    "            'values': [2e-4,1e-4]\n",
    "        },\n",
    "        'optimizer': {\n",
    "            'values':['adam']\n",
    "        },\n",
    "        'batch_size': {\n",
    "            'values':[512]\n",
    "        },\n",
    "        'weight_initialization': {\n",
    "            'values':['xavier'] \n",
    "        },\n",
    "        'activation_fns': {\n",
    "            'values':['relu']\n",
    "        }\n",
    "    }\n",
    "}"
   ]
  },
  {
   "cell_type": "code",
   "execution_count": 32,
   "metadata": {},
   "outputs": [
    {
     "name": "stderr",
     "output_type": "stream",
     "text": [
      "wandb: WARNING Calling wandb.login() after wandb.init() has no effect.\n"
     ]
    },
    {
     "name": "stdout",
     "output_type": "stream",
     "text": [
      "Create sweep with ID: 377wrv08\n",
      "Sweep URL: https://wandb.ai/anshuman802/Sweep_final/sweeps/377wrv08\n"
     ]
    }
   ],
   "source": [
    "sweep_id = wandb.sweep(sweep_config, project=\"Sweep_final\")"
   ]
  },
  {
   "cell_type": "code",
   "execution_count": 33,
   "metadata": {},
   "outputs": [
    {
     "name": "stderr",
     "output_type": "stream",
     "text": [
      "wandb: WARNING Calling wandb.login() after wandb.init() has no effect.\n",
      "wandb: Agent Starting Run: lgqn9dez with config:\n",
      "wandb: \tL2_regularization: 0.0005\n",
      "wandb: \tactivation_fns: relu\n",
      "wandb: \tbatch_size: 512\n",
      "wandb: \tdropout: 0.8\n",
      "wandb: \tepochs: 15\n",
      "wandb: \thidden_layers_config: 64-32\n",
      "wandb: \tlearning_rate: 0.0002\n",
      "wandb: \toptimizer: adam\n",
      "wandb: \tweight_initialization: xavier\n",
      "wandb: wandb version 0.10.22 is available!  To upgrade, please run:\n",
      "wandb:  $ pip install wandb --upgrade\n"
     ]
    },
    {
     "data": {
      "text/html": [
       "\n",
       "                Tracking run with wandb version 0.10.21<br/>\n",
       "                Syncing run <strong style=\"color:#cdcd00\">dry-sweep-1</strong> to <a href=\"https://wandb.ai\" target=\"_blank\">Weights & Biases</a> <a href=\"https://docs.wandb.com/integrations/jupyter.html\" target=\"_blank\">(Documentation)</a>.<br/>\n",
       "                Project page: <a href=\"https://wandb.ai/anshuman802/Sweep_final\" target=\"_blank\">https://wandb.ai/anshuman802/Sweep_final</a><br/>\n",
       "                Sweep page: <a href=\"https://wandb.ai/anshuman802/Sweep_final/sweeps/377wrv08\" target=\"_blank\">https://wandb.ai/anshuman802/Sweep_final/sweeps/377wrv08</a><br/>\n",
       "Run page: <a href=\"https://wandb.ai/anshuman802/Sweep_final/runs/lgqn9dez\" target=\"_blank\">https://wandb.ai/anshuman802/Sweep_final/runs/lgqn9dez</a><br/>\n",
       "                Run data is saved locally in <code>D:\\DL\\wandb\\run-20210313_125703-lgqn9dez</code><br/><br/>\n",
       "            "
      ],
      "text/plain": [
       "<IPython.core.display.HTML object>"
      ]
     },
     "metadata": {},
     "output_type": "display_data"
    },
    {
     "name": "stdout",
     "output_type": "stream",
     "text": [
      "val cost for epoch  1 =  0.6075528956197486\n",
      "val accuracy for epoch  1 =  0.818\n",
      "train cost for epoch  1 =  1.254910715706848\n",
      "train accuracy for epoch  1 =  0.5560555555555555\n",
      "\n",
      "val cost for epoch  2 =  0.4198978756360271\n",
      "val accuracy for epoch  2 =  0.8785\n",
      "train cost for epoch  2 =  0.4972064336876352\n",
      "train accuracy for epoch  2 =  0.8574444444444445\n",
      "\n",
      "val cost for epoch  3 =  0.3407954638123311\n",
      "val accuracy for epoch  3 =  0.8995\n",
      "train cost for epoch  3 =  0.3840587814116304\n",
      "train accuracy for epoch  3 =  0.8936481481481482\n",
      "\n",
      "val cost for epoch  4 =  0.29646084092281194\n",
      "val accuracy for epoch  4 =  0.915\n",
      "train cost for epoch  4 =  0.3241787540250492\n",
      "train accuracy for epoch  4 =  0.9115\n",
      "\n",
      "val cost for epoch  5 =  0.26855415413676403\n",
      "val accuracy for epoch  5 =  0.9198333333333333\n",
      "train cost for epoch  5 =  0.2861238471471489\n",
      "train accuracy for epoch  5 =  0.9230555555555555\n",
      "\n",
      "val cost for epoch  6 =  0.24081213094581677\n",
      "val accuracy for epoch  6 =  0.9305\n",
      "train cost for epoch  6 =  0.25492026144518387\n",
      "train accuracy for epoch  6 =  0.9317777777777778\n",
      "\n",
      "val cost for epoch  7 =  0.22576254666058695\n",
      "val accuracy for epoch  7 =  0.9348333333333333\n",
      "train cost for epoch  7 =  0.2332590089265589\n",
      "train accuracy for epoch  7 =  0.9379074074074074\n",
      "\n",
      "val cost for epoch  8 =  0.2129912635519391\n",
      "val accuracy for epoch  8 =  0.9393333333333334\n",
      "train cost for epoch  8 =  0.21998904347272596\n",
      "train accuracy for epoch  8 =  0.9402037037037037\n",
      "\n",
      "val cost for epoch  9 =  0.2132387826985762\n",
      "val accuracy for epoch  9 =  0.9378333333333333\n",
      "train cost for epoch  9 =  0.20136996345952995\n",
      "train accuracy for epoch  9 =  0.9456666666666667\n",
      "\n",
      "val cost for epoch  10 =  0.1911645843813227\n",
      "val accuracy for epoch  10 =  0.9468333333333333\n",
      "train cost for epoch  10 =  0.19017783883713943\n",
      "train accuracy for epoch  10 =  0.9488703703703704\n",
      "\n",
      "val cost for epoch  11 =  0.1918049114290757\n",
      "val accuracy for epoch  11 =  0.9433333333333334\n",
      "train cost for epoch  11 =  0.18428375102496283\n",
      "train accuracy for epoch  11 =  0.9507407407407408\n",
      "\n",
      "val cost for epoch  12 =  0.18867846666976432\n",
      "val accuracy for epoch  12 =  0.9446666666666667\n",
      "train cost for epoch  12 =  0.17267827846680162\n",
      "train accuracy for epoch  12 =  0.9537222222222222\n",
      "\n",
      "val cost for epoch  13 =  0.18230839659410095\n",
      "val accuracy for epoch  13 =  0.9468333333333333\n",
      "train cost for epoch  13 =  0.16699122018793072\n",
      "train accuracy for epoch  13 =  0.954574074074074\n",
      "\n",
      "val cost for epoch  14 =  0.1822634194894163\n",
      "val accuracy for epoch  14 =  0.9465\n",
      "train cost for epoch  14 =  0.16124073137552997\n",
      "train accuracy for epoch  14 =  0.9576481481481481\n",
      "\n",
      "val cost for epoch  15 =  0.17121910234405402\n",
      "val accuracy for epoch  15 =  0.952\n",
      "train cost for epoch  15 =  0.15353033432756433\n",
      "train accuracy for epoch  15 =  0.959925925925926\n",
      "\n"
     ]
    },
    {
     "data": {
      "image/png": "[encoded data removed]",
      "text/plain": [
       "<Figure size 432x288 with 1 Axes>"
      ]
     },
     "metadata": {
      "needs_background": "light"
     },
     "output_type": "display_data"
    },
    {
     "data": {
      "text/html": [
       "<br/>Waiting for W&B process to finish, PID 10048<br/>Program ended successfully."
      ],
      "text/plain": [
       "<IPython.core.display.HTML object>"
      ]
     },
     "metadata": {},
     "output_type": "display_data"
    },
    {
     "data": {
      "application/vnd.jupyter.widget-view+json": {
       "model_id": "",
       "version_major": 2,
       "version_minor": 0
      },
      "text/plain": [
       "VBox(children=(Label(value=' 0.00MB of 0.00MB uploaded (0.00MB deduped)\\r'), FloatProgress(value=1.0, max=1.0)…"
      ]
     },
     "metadata": {},
     "output_type": "display_data"
    },
    {
     "data": {
      "text/html": [
       "Find user logs for this run at: <code>D:\\DL\\wandb\\run-20210313_125703-lgqn9dez\\logs\\debug.log</code>"
      ],
      "text/plain": [
       "<IPython.core.display.HTML object>"
      ]
     },
     "metadata": {},
     "output_type": "display_data"
    },
    {
     "data": {
      "text/html": [
       "Find internal logs for this run at: <code>D:\\DL\\wandb\\run-20210313_125703-lgqn9dez\\logs\\debug-internal.log</code>"
      ],
      "text/plain": [
       "<IPython.core.display.HTML object>"
      ]
     },
     "metadata": {},
     "output_type": "display_data"
    },
    {
     "data": {
      "text/html": [
       "<h3>Run summary:</h3><br/><style>\n",
       "    table.wandb td:nth-child(1) { padding: 0 10px; text-align: right }\n",
       "    </style><table class=\"wandb\">\n",
       "<tr><td>epoch</td><td>15</td></tr><tr><td>train loss</td><td>0.15353</td></tr><tr><td>train accuracy</td><td>0.95993</td></tr><tr><td>_runtime</td><td>76</td></tr><tr><td>_timestamp</td><td>1615620499</td></tr><tr><td>_step</td><td>29</td></tr><tr><td>val loss</td><td>0.17122</td></tr><tr><td>val accuracy</td><td>0.952</td></tr></table>"
      ],
      "text/plain": [
       "<IPython.core.display.HTML object>"
      ]
     },
     "metadata": {},
     "output_type": "display_data"
    },
    {
     "data": {
      "text/html": [
       "<h3>Run history:</h3><br/><style>\n",
       "    table.wandb td:nth-child(1) { padding: 0 10px; text-align: right }\n",
       "    </style><table class=\"wandb\">\n",
       "<tr><td>epoch</td><td>▁▁▂▃▃▃▄▅▅▅▆▇▇▇█</td></tr><tr><td>train loss</td><td>█▃▂▂▂▂▂▁▁▁▁▁▁▁▁</td></tr><tr><td>train accuracy</td><td>▁▆▇▇▇██████████</td></tr><tr><td>_runtime</td><td>▁▁▂▂▂▂▃▃▃▃▃▄▄▄▄▅▅▅▅▆▆▆▆▆▇▇▇▇██</td></tr><tr><td>_timestamp</td><td>▁▁▂▂▂▂▃▃▃▃▃▄▄▄▄▅▅▅▅▆▆▆▆▆▇▇▇▇██</td></tr><tr><td>_step</td><td>▁▁▁▂▂▂▂▃▃▃▃▄▄▄▄▅▅▅▅▆▆▆▆▇▇▇▇███</td></tr><tr><td>val loss</td><td>█▅▄▃▃▂▂▂▂▁▁▁▁▁▁</td></tr><tr><td>val accuracy</td><td>▁▄▅▆▆▇▇▇▇██████</td></tr></table><br/>"
      ],
      "text/plain": [
       "<IPython.core.display.HTML object>"
      ]
     },
     "metadata": {},
     "output_type": "display_data"
    },
    {
     "data": {
      "text/html": [
       "Synced 5 W&B file(s), 0 media file(s), 0 artifact file(s) and 0 other file(s)"
      ],
      "text/plain": [
       "<IPython.core.display.HTML object>"
      ]
     },
     "metadata": {},
     "output_type": "display_data"
    },
    {
     "data": {
      "text/html": [
       "\n",
       "                    <br/>Synced <strong style=\"color:#cdcd00\">dry-sweep-1</strong>: <a href=\"https://wandb.ai/anshuman802/Sweep_final/runs/lgqn9dez\" target=\"_blank\">https://wandb.ai/anshuman802/Sweep_final/runs/lgqn9dez</a><br/>\n",
       "                "
      ],
      "text/plain": [
       "<IPython.core.display.HTML object>"
      ]
     },
     "metadata": {},
     "output_type": "display_data"
    },
    {
     "name": "stderr",
     "output_type": "stream",
     "text": [
      "wandb: Agent Starting Run: v37638k9 with config:\n",
      "wandb: \tL2_regularization: 0.0005\n",
      "wandb: \tactivation_fns: relu\n",
      "wandb: \tbatch_size: 512\n",
      "wandb: \tdropout: 0.8\n",
      "wandb: \tepochs: 15\n",
      "wandb: \thidden_layers_config: 64-32\n",
      "wandb: \tlearning_rate: 0.0001\n",
      "wandb: \toptimizer: adam\n",
      "wandb: \tweight_initialization: xavier\n",
      "wandb: wandb version 0.10.22 is available!  To upgrade, please run:\n",
      "wandb:  $ pip install wandb --upgrade\n"
     ]
    },
    {
     "data": {
      "text/html": [
       "\n",
       "                Tracking run with wandb version 0.10.21<br/>\n",
       "                Syncing run <strong style=\"color:#cdcd00\">wobbly-sweep-2</strong> to <a href=\"https://wandb.ai\" target=\"_blank\">Weights & Biases</a> <a href=\"https://docs.wandb.com/integrations/jupyter.html\" target=\"_blank\">(Documentation)</a>.<br/>\n",
       "                Project page: <a href=\"https://wandb.ai/anshuman802/Sweep_final\" target=\"_blank\">https://wandb.ai/anshuman802/Sweep_final</a><br/>\n",
       "                Sweep page: <a href=\"https://wandb.ai/anshuman802/Sweep_final/sweeps/377wrv08\" target=\"_blank\">https://wandb.ai/anshuman802/Sweep_final/sweeps/377wrv08</a><br/>\n",
       "Run page: <a href=\"https://wandb.ai/anshuman802/Sweep_final/runs/v37638k9\" target=\"_blank\">https://wandb.ai/anshuman802/Sweep_final/runs/v37638k9</a><br/>\n",
       "                Run data is saved locally in <code>D:\\DL\\wandb\\run-20210313_125830-v37638k9</code><br/><br/>\n",
       "            "
      ],
      "text/plain": [
       "<IPython.core.display.HTML object>"
      ]
     },
     "metadata": {},
     "output_type": "display_data"
    },
    {
     "name": "stdout",
     "output_type": "stream",
     "text": [
      "val cost for epoch  1 =  0.8485459661133167\n",
      "val accuracy for epoch  1 =  0.7256666666666667\n",
      "train cost for epoch  1 =  1.5575984322444518\n",
      "train accuracy for epoch  1 =  0.49924074074074076\n",
      "\n",
      "val cost for epoch  2 =  0.5620295886190994\n",
      "val accuracy for epoch  2 =  0.833\n",
      "train cost for epoch  2 =  0.6916554408475317\n",
      "train accuracy for epoch  2 =  0.7894814814814815\n",
      "\n",
      "val cost for epoch  3 =  0.4491722677135669\n",
      "val accuracy for epoch  3 =  0.87\n",
      "train cost for epoch  3 =  0.5025584743903371\n",
      "train accuracy for epoch  3 =  0.8566296296296296\n",
      "\n",
      "val cost for epoch  4 =  0.39324195105774007\n",
      "val accuracy for epoch  4 =  0.884\n",
      "train cost for epoch  4 =  0.4194076596472406\n",
      "train accuracy for epoch  4 =  0.8828888888888888\n",
      "\n",
      "val cost for epoch  5 =  0.35186698836824065\n",
      "val accuracy for epoch  5 =  0.8991666666666667\n",
      "train cost for epoch  5 =  0.3758423000908304\n",
      "train accuracy for epoch  5 =  0.8962222222222223\n",
      "\n",
      "val cost for epoch  6 =  0.327401639439632\n",
      "val accuracy for epoch  6 =  0.9038333333333334\n",
      "train cost for epoch  6 =  0.339598896204847\n",
      "train accuracy for epoch  6 =  0.9064444444444445\n",
      "\n",
      "val cost for epoch  7 =  0.2971694816871846\n",
      "val accuracy for epoch  7 =  0.914\n",
      "train cost for epoch  7 =  0.31143756898805275\n",
      "train accuracy for epoch  7 =  0.9156111111111112\n",
      "\n",
      "val cost for epoch  8 =  0.2904649301325229\n",
      "val accuracy for epoch  8 =  0.9136666666666666\n",
      "train cost for epoch  8 =  0.28957394945969994\n",
      "train accuracy for epoch  8 =  0.9225185185185185\n",
      "\n",
      "val cost for epoch  9 =  0.27664883552375896\n",
      "val accuracy for epoch  9 =  0.921\n",
      "train cost for epoch  9 =  0.2748764798046607\n",
      "train accuracy for epoch  9 =  0.9264814814814815\n",
      "\n",
      "val cost for epoch  10 =  0.2577290919484397\n",
      "val accuracy for epoch  10 =  0.9253333333333333\n",
      "train cost for epoch  10 =  0.25947932635095255\n",
      "train accuracy for epoch  10 =  0.9309074074074074\n",
      "\n",
      "val cost for epoch  11 =  0.2421145999204095\n",
      "val accuracy for epoch  11 =  0.9311666666666667\n",
      "train cost for epoch  11 =  0.24388262776126735\n",
      "train accuracy for epoch  11 =  0.936\n",
      "\n",
      "val cost for epoch  12 =  0.23626591053075321\n",
      "val accuracy for epoch  12 =  0.9283333333333333\n",
      "train cost for epoch  12 =  0.2317279761215218\n",
      "train accuracy for epoch  12 =  0.9387037037037037\n",
      "\n",
      "val cost for epoch  13 =  0.22692987596296185\n",
      "val accuracy for epoch  13 =  0.9358333333333333\n",
      "train cost for epoch  13 =  0.2213867616305521\n",
      "train accuracy for epoch  13 =  0.9411296296296296\n",
      "\n",
      "val cost for epoch  14 =  0.2129584529929346\n",
      "val accuracy for epoch  14 =  0.9365\n",
      "train cost for epoch  14 =  0.21491266208638715\n",
      "train accuracy for epoch  14 =  0.9437592592592593\n",
      "\n",
      "val cost for epoch  15 =  0.21290430510140937\n",
      "val accuracy for epoch  15 =  0.9403333333333334\n",
      "train cost for epoch  15 =  0.2059707939678478\n",
      "train accuracy for epoch  15 =  0.9457037037037037\n",
      "\n"
     ]
    },
    {
     "data": {
      "image/png": "[encoded data removed]",
      "text/plain": [
       "<Figure size 432x288 with 1 Axes>"
      ]
     },
     "metadata": {
      "needs_background": "light"
     },
     "output_type": "display_data"
    },
    {
     "data": {
      "text/html": [
       "<br/>Waiting for W&B process to finish, PID 3824<br/>Program ended successfully."
      ],
      "text/plain": [
       "<IPython.core.display.HTML object>"
      ]
     },
     "metadata": {},
     "output_type": "display_data"
    },
    {
     "data": {
      "application/vnd.jupyter.widget-view+json": {
       "model_id": "",
       "version_major": 2,
       "version_minor": 0
      },
      "text/plain": [
       "VBox(children=(Label(value=' 0.00MB of 0.00MB uploaded (0.00MB deduped)\\r'), FloatProgress(value=1.0, max=1.0)…"
      ]
     },
     "metadata": {},
     "output_type": "display_data"
    },
    {
     "data": {
      "text/html": [
       "Find user logs for this run at: <code>D:\\DL\\wandb\\run-20210313_125830-v37638k9\\logs\\debug.log</code>"
      ],
      "text/plain": [
       "<IPython.core.display.HTML object>"
      ]
     },
     "metadata": {},
     "output_type": "display_data"
    },
    {
     "data": {
      "text/html": [
       "Find internal logs for this run at: <code>D:\\DL\\wandb\\run-20210313_125830-v37638k9\\logs\\debug-internal.log</code>"
      ],
      "text/plain": [
       "<IPython.core.display.HTML object>"
      ]
     },
     "metadata": {},
     "output_type": "display_data"
    },
    {
     "data": {
      "text/html": [
       "<h3>Run summary:</h3><br/><style>\n",
       "    table.wandb td:nth-child(1) { padding: 0 10px; text-align: right }\n",
       "    </style><table class=\"wandb\">\n",
       "<tr><td>epoch</td><td>15</td></tr><tr><td>train loss</td><td>0.20597</td></tr><tr><td>train accuracy</td><td>0.9457</td></tr><tr><td>_runtime</td><td>72</td></tr><tr><td>_timestamp</td><td>1615620582</td></tr><tr><td>_step</td><td>29</td></tr><tr><td>val loss</td><td>0.2129</td></tr><tr><td>val accuracy</td><td>0.94033</td></tr></table>"
      ],
      "text/plain": [
       "<IPython.core.display.HTML object>"
      ]
     },
     "metadata": {},
     "output_type": "display_data"
    },
    {
     "data": {
      "text/html": [
       "<h3>Run history:</h3><br/><style>\n",
       "    table.wandb td:nth-child(1) { padding: 0 10px; text-align: right }\n",
       "    </style><table class=\"wandb\">\n",
       "<tr><td>epoch</td><td>▁▁▂▃▃▃▄▅▅▅▆▇▇▇█</td></tr><tr><td>train loss</td><td>█▄▃▂▂▂▂▁▁▁▁▁▁▁▁</td></tr><tr><td>train accuracy</td><td>▁▆▇▇▇▇█████████</td></tr><tr><td>_runtime</td><td>▁▁▁▂▂▂▂▃▃▃▃▄▄▄▄▅▅▅▅▆▆▆▆▇▇▇▇███</td></tr><tr><td>_timestamp</td><td>▁▁▁▂▂▂▂▃▃▃▃▄▄▄▄▅▅▅▅▆▆▆▆▇▇▇▇███</td></tr><tr><td>_step</td><td>▁▁▁▂▂▂▂▃▃▃▃▄▄▄▄▅▅▅▅▆▆▆▆▇▇▇▇███</td></tr><tr><td>val loss</td><td>█▅▄▃▃▂▂▂▂▁▁▁▁▁▁</td></tr><tr><td>val accuracy</td><td>▁▅▆▆▇▇▇▇▇██████</td></tr></table><br/>"
      ],
      "text/plain": [
       "<IPython.core.display.HTML object>"
      ]
     },
     "metadata": {},
     "output_type": "display_data"
    },
    {
     "data": {
      "text/html": [
       "Synced 5 W&B file(s), 0 media file(s), 0 artifact file(s) and 0 other file(s)"
      ],
      "text/plain": [
       "<IPython.core.display.HTML object>"
      ]
     },
     "metadata": {},
     "output_type": "display_data"
    },
    {
     "data": {
      "text/html": [
       "\n",
       "                    <br/>Synced <strong style=\"color:#cdcd00\">wobbly-sweep-2</strong>: <a href=\"https://wandb.ai/anshuman802/Sweep_final/runs/v37638k9\" target=\"_blank\">https://wandb.ai/anshuman802/Sweep_final/runs/v37638k9</a><br/>\n",
       "                "
      ],
      "text/plain": [
       "<IPython.core.display.HTML object>"
      ]
     },
     "metadata": {},
     "output_type": "display_data"
    },
    {
     "name": "stderr",
     "output_type": "stream",
     "text": [
      "wandb: Agent Starting Run: 2wwlxoxi with config:\n",
      "wandb: \tL2_regularization: 0.0005\n",
      "wandb: \tactivation_fns: relu\n",
      "wandb: \tbatch_size: 512\n",
      "wandb: \tdropout: 0.8\n",
      "wandb: \tepochs: 15\n",
      "wandb: \thidden_layers_config: 512\n",
      "wandb: \tlearning_rate: 0.0002\n",
      "wandb: \toptimizer: adam\n",
      "wandb: \tweight_initialization: xavier\n",
      "wandb: wandb version 0.10.22 is available!  To upgrade, please run:\n",
      "wandb:  $ pip install wandb --upgrade\n"
     ]
    },
    {
     "data": {
      "text/html": [
       "\n",
       "                Tracking run with wandb version 0.10.21<br/>\n",
       "                Syncing run <strong style=\"color:#cdcd00\">zesty-sweep-3</strong> to <a href=\"https://wandb.ai\" target=\"_blank\">Weights & Biases</a> <a href=\"https://docs.wandb.com/integrations/jupyter.html\" target=\"_blank\">(Documentation)</a>.<br/>\n",
       "                Project page: <a href=\"https://wandb.ai/anshuman802/Sweep_final\" target=\"_blank\">https://wandb.ai/anshuman802/Sweep_final</a><br/>\n",
       "                Sweep page: <a href=\"https://wandb.ai/anshuman802/Sweep_final/sweeps/377wrv08\" target=\"_blank\">https://wandb.ai/anshuman802/Sweep_final/sweeps/377wrv08</a><br/>\n",
       "Run page: <a href=\"https://wandb.ai/anshuman802/Sweep_final/runs/2wwlxoxi\" target=\"_blank\">https://wandb.ai/anshuman802/Sweep_final/runs/2wwlxoxi</a><br/>\n",
       "                Run data is saved locally in <code>D:\\DL\\wandb\\run-20210313_125952-2wwlxoxi</code><br/><br/>\n",
       "            "
      ],
      "text/plain": [
       "<IPython.core.display.HTML object>"
      ]
     },
     "metadata": {},
     "output_type": "display_data"
    },
    {
     "name": "stdout",
     "output_type": "stream",
     "text": [
      "val cost for epoch  1 =  0.17660849680508028\n",
      "val accuracy for epoch  1 =  0.945\n",
      "train cost for epoch  1 =  0.41947270010857957\n",
      "train accuracy for epoch  1 =  0.8895925925925926\n",
      "\n",
      "val cost for epoch  2 =  0.11225661961798922\n",
      "val accuracy for epoch  2 =  0.9675\n",
      "train cost for epoch  2 =  0.13750991022158657\n",
      "train accuracy for epoch  2 =  0.9638518518518518\n",
      "\n",
      "val cost for epoch  3 =  0.09723494680416474\n",
      "val accuracy for epoch  3 =  0.971\n",
      "train cost for epoch  3 =  0.09041369516429089\n",
      "train accuracy for epoch  3 =  0.9771296296296297\n",
      "\n",
      "val cost for epoch  4 =  0.08498195315219446\n",
      "val accuracy for epoch  4 =  0.9748333333333333\n",
      "train cost for epoch  4 =  0.06986751609636525\n",
      "train accuracy for epoch  4 =  0.9833888888888889\n",
      "\n",
      "val cost for epoch  5 =  0.08103364832694732\n",
      "val accuracy for epoch  5 =  0.9748333333333333\n",
      "train cost for epoch  5 =  0.05464929900945963\n",
      "train accuracy for epoch  5 =  0.9874444444444445\n",
      "\n",
      "val cost for epoch  6 =  0.06720177709205497\n",
      "val accuracy for epoch  6 =  0.9798333333333333\n",
      "train cost for epoch  6 =  0.04140085590560545\n",
      "train accuracy for epoch  6 =  0.9909814814814815\n",
      "\n",
      "val cost for epoch  7 =  0.07534686711360616\n",
      "val accuracy for epoch  7 =  0.9801666666666666\n",
      "train cost for epoch  7 =  0.03460374771205391\n",
      "train accuracy for epoch  7 =  0.9935\n",
      "\n",
      "val cost for epoch  8 =  0.07528453509238141\n",
      "val accuracy for epoch  8 =  0.9783333333333334\n",
      "train cost for epoch  8 =  0.030628781887717317\n",
      "train accuracy for epoch  8 =  0.9947222222222222\n",
      "\n",
      "val cost for epoch  9 =  0.06978457563483811\n",
      "val accuracy for epoch  9 =  0.9806666666666667\n",
      "train cost for epoch  9 =  0.023740403261288373\n",
      "train accuracy for epoch  9 =  0.9967407407407407\n",
      "\n",
      "val cost for epoch  10 =  0.07154209923226482\n",
      "val accuracy for epoch  10 =  0.9811666666666666\n",
      "train cost for epoch  10 =  0.019789991465750206\n",
      "train accuracy for epoch  10 =  0.9979629629629629\n",
      "\n",
      "val cost for epoch  11 =  0.06778490602329164\n",
      "val accuracy for epoch  11 =  0.9823333333333333\n",
      "train cost for epoch  11 =  0.017270748304560168\n",
      "train accuracy for epoch  11 =  0.9990555555555556\n",
      "\n",
      "val cost for epoch  12 =  0.0665986904278266\n",
      "val accuracy for epoch  12 =  0.9823333333333333\n",
      "train cost for epoch  12 =  0.015500328289133978\n",
      "train accuracy for epoch  12 =  0.9997037037037036\n",
      "\n",
      "val cost for epoch  13 =  0.07902299173512559\n",
      "val accuracy for epoch  13 =  0.9798333333333333\n",
      "train cost for epoch  13 =  0.013240373339737677\n",
      "train accuracy for epoch  13 =  1.0004259259259258\n",
      "\n",
      "val cost for epoch  14 =  0.07595079378342859\n",
      "val accuracy for epoch  14 =  0.982\n",
      "train cost for epoch  14 =  0.011448052576269584\n",
      "train accuracy for epoch  14 =  1.0009814814814815\n",
      "\n",
      "val cost for epoch  15 =  0.07557967088506257\n",
      "val accuracy for epoch  15 =  0.9808333333333333\n",
      "train cost for epoch  15 =  0.011716507796643107\n",
      "train accuracy for epoch  15 =  1.0007592592592593\n",
      "\n"
     ]
    },
    {
     "data": {
      "image/png": "[encoded data removed]",
      "text/plain": [
       "<Figure size 432x288 with 1 Axes>"
      ]
     },
     "metadata": {
      "needs_background": "light"
     },
     "output_type": "display_data"
    },
    {
     "data": {
      "text/html": [
       "<br/>Waiting for W&B process to finish, PID 11224<br/>Program ended successfully."
      ],
      "text/plain": [
       "<IPython.core.display.HTML object>"
      ]
     },
     "metadata": {},
     "output_type": "display_data"
    },
    {
     "data": {
      "application/vnd.jupyter.widget-view+json": {
       "model_id": "",
       "version_major": 2,
       "version_minor": 0
      },
      "text/plain": [
       "VBox(children=(Label(value=' 0.00MB of 0.00MB uploaded (0.00MB deduped)\\r'), FloatProgress(value=1.0, max=1.0)…"
      ]
     },
     "metadata": {},
     "output_type": "display_data"
    },
    {
     "data": {
      "text/html": [
       "Find user logs for this run at: <code>D:\\DL\\wandb\\run-20210313_125952-2wwlxoxi\\logs\\debug.log</code>"
      ],
      "text/plain": [
       "<IPython.core.display.HTML object>"
      ]
     },
     "metadata": {},
     "output_type": "display_data"
    },
    {
     "data": {
      "text/html": [
       "Find internal logs for this run at: <code>D:\\DL\\wandb\\run-20210313_125952-2wwlxoxi\\logs\\debug-internal.log</code>"
      ],
      "text/plain": [
       "<IPython.core.display.HTML object>"
      ]
     },
     "metadata": {},
     "output_type": "display_data"
    },
    {
     "data": {
      "text/html": [
       "<h3>Run summary:</h3><br/><style>\n",
       "    table.wandb td:nth-child(1) { padding: 0 10px; text-align: right }\n",
       "    </style><table class=\"wandb\">\n",
       "<tr><td>epoch</td><td>15</td></tr><tr><td>train loss</td><td>0.01172</td></tr><tr><td>train accuracy</td><td>1.00076</td></tr><tr><td>_runtime</td><td>236</td></tr><tr><td>_timestamp</td><td>1615620828</td></tr><tr><td>_step</td><td>29</td></tr><tr><td>val loss</td><td>0.07558</td></tr><tr><td>val accuracy</td><td>0.98083</td></tr></table>"
      ],
      "text/plain": [
       "<IPython.core.display.HTML object>"
      ]
     },
     "metadata": {},
     "output_type": "display_data"
    },
    {
     "data": {
      "text/html": [
       "<h3>Run history:</h3><br/><style>\n",
       "    table.wandb td:nth-child(1) { padding: 0 10px; text-align: right }\n",
       "    </style><table class=\"wandb\">\n",
       "<tr><td>epoch</td><td>▁▁▂▃▃▃▄▅▅▅▆▇▇▇█</td></tr><tr><td>train loss</td><td>█▃▂▂▂▂▁▁▁▁▁▁▁▁▁</td></tr><tr><td>train accuracy</td><td>▁▆▇▇▇▇█████████</td></tr><tr><td>_runtime</td><td>▁▁▁▂▂▂▂▃▃▃▄▄▄▄▅▅▅▅▅▆▆▆▆▇▇▇▇███</td></tr><tr><td>_timestamp</td><td>▁▁▁▂▂▂▂▃▃▃▄▄▄▄▅▅▅▅▅▆▆▆▆▇▇▇▇███</td></tr><tr><td>_step</td><td>▁▁▁▂▂▂▂▃▃▃▃▄▄▄▄▅▅▅▅▆▆▆▆▇▇▇▇███</td></tr><tr><td>val loss</td><td>█▄▃▂▂▁▂▂▁▁▁▁▂▂▂</td></tr><tr><td>val accuracy</td><td>▁▅▆▇▇██▇███████</td></tr></table><br/>"
      ],
      "text/plain": [
       "<IPython.core.display.HTML object>"
      ]
     },
     "metadata": {},
     "output_type": "display_data"
    },
    {
     "data": {
      "text/html": [
       "Synced 5 W&B file(s), 0 media file(s), 0 artifact file(s) and 0 other file(s)"
      ],
      "text/plain": [
       "<IPython.core.display.HTML object>"
      ]
     },
     "metadata": {},
     "output_type": "display_data"
    },
    {
     "data": {
      "text/html": [
       "\n",
       "                    <br/>Synced <strong style=\"color:#cdcd00\">zesty-sweep-3</strong>: <a href=\"https://wandb.ai/anshuman802/Sweep_final/runs/2wwlxoxi\" target=\"_blank\">https://wandb.ai/anshuman802/Sweep_final/runs/2wwlxoxi</a><br/>\n",
       "                "
      ],
      "text/plain": [
       "<IPython.core.display.HTML object>"
      ]
     },
     "metadata": {},
     "output_type": "display_data"
    },
    {
     "name": "stderr",
     "output_type": "stream",
     "text": [
      "wandb: Agent Starting Run: p94f7z48 with config:\n",
      "wandb: \tL2_regularization: 0.0005\n",
      "wandb: \tactivation_fns: relu\n",
      "wandb: \tbatch_size: 512\n",
      "wandb: \tdropout: 0.8\n",
      "wandb: \tepochs: 15\n",
      "wandb: \thidden_layers_config: 512\n",
      "wandb: \tlearning_rate: 0.0001\n",
      "wandb: \toptimizer: adam\n",
      "wandb: \tweight_initialization: xavier\n",
      "wandb: wandb version 0.10.22 is available!  To upgrade, please run:\n",
      "wandb:  $ pip install wandb --upgrade\n"
     ]
    },
    {
     "data": {
      "text/html": [
       "\n",
       "                Tracking run with wandb version 0.10.21<br/>\n",
       "                Syncing run <strong style=\"color:#cdcd00\">icy-sweep-4</strong> to <a href=\"https://wandb.ai\" target=\"_blank\">Weights & Biases</a> <a href=\"https://docs.wandb.com/integrations/jupyter.html\" target=\"_blank\">(Documentation)</a>.<br/>\n",
       "                Project page: <a href=\"https://wandb.ai/anshuman802/Sweep_final\" target=\"_blank\">https://wandb.ai/anshuman802/Sweep_final</a><br/>\n",
       "                Sweep page: <a href=\"https://wandb.ai/anshuman802/Sweep_final/sweeps/377wrv08\" target=\"_blank\">https://wandb.ai/anshuman802/Sweep_final/sweeps/377wrv08</a><br/>\n",
       "Run page: <a href=\"https://wandb.ai/anshuman802/Sweep_final/runs/p94f7z48\" target=\"_blank\">https://wandb.ai/anshuman802/Sweep_final/runs/p94f7z48</a><br/>\n",
       "                Run data is saved locally in <code>D:\\DL\\wandb\\run-20210313_130357-p94f7z48</code><br/><br/>\n",
       "            "
      ],
      "text/plain": [
       "<IPython.core.display.HTML object>"
      ]
     },
     "metadata": {},
     "output_type": "display_data"
    },
    {
     "name": "stdout",
     "output_type": "stream",
     "text": [
      "val cost for epoch  1 =  0.23529170828630588\n",
      "val accuracy for epoch  1 =  0.934\n",
      "train cost for epoch  1 =  0.5304424484266512\n",
      "train accuracy for epoch  1 =  0.8682222222222222\n",
      "\n",
      "val cost for epoch  2 =  0.16833101553432173\n",
      "val accuracy for epoch  2 =  0.9515\n",
      "train cost for epoch  2 =  0.1969954096723055\n",
      "train accuracy for epoch  2 =  0.9477592592592593\n",
      "\n",
      "val cost for epoch  3 =  0.11750989227804674\n",
      "val accuracy for epoch  3 =  0.9675\n",
      "train cost for epoch  3 =  0.13174509068752485\n",
      "train accuracy for epoch  3 =  0.9664074074074074\n",
      "\n",
      "val cost for epoch  4 =  0.10386717408071582\n",
      "val accuracy for epoch  4 =  0.9701666666666666\n",
      "train cost for epoch  4 =  0.09925941141047252\n",
      "train accuracy for epoch  4 =  0.9750740740740741\n",
      "\n",
      "val cost for epoch  5 =  0.09414691546564033\n",
      "val accuracy for epoch  5 =  0.9723333333333334\n",
      "train cost for epoch  5 =  0.08043469611347215\n",
      "train accuracy for epoch  5 =  0.9813518518518518\n",
      "\n",
      "val cost for epoch  6 =  0.08213828664307828\n",
      "val accuracy for epoch  6 =  0.9765\n",
      "train cost for epoch  6 =  0.0654131708722586\n",
      "train accuracy for epoch  6 =  0.9852962962962963\n",
      "\n",
      "val cost for epoch  7 =  0.07757471925983386\n",
      "val accuracy for epoch  7 =  0.9763333333333334\n",
      "train cost for epoch  7 =  0.05482872045090456\n",
      "train accuracy for epoch  7 =  0.9881481481481481\n",
      "\n",
      "val cost for epoch  8 =  0.08408958045453187\n",
      "val accuracy for epoch  8 =  0.9763333333333334\n",
      "train cost for epoch  8 =  0.04327879722087442\n",
      "train accuracy for epoch  8 =  0.9920555555555556\n",
      "\n",
      "val cost for epoch  9 =  0.07562698734250325\n",
      "val accuracy for epoch  9 =  0.9783333333333334\n",
      "train cost for epoch  9 =  0.03832969283476542\n",
      "train accuracy for epoch  9 =  0.9931851851851852\n",
      "\n",
      "val cost for epoch  10 =  0.07426298175971076\n",
      "val accuracy for epoch  10 =  0.9793333333333333\n",
      "train cost for epoch  10 =  0.03297961819819712\n",
      "train accuracy for epoch  10 =  0.9947592592592592\n",
      "\n",
      "val cost for epoch  11 =  0.06635726697278088\n",
      "val accuracy for epoch  11 =  0.9795\n",
      "train cost for epoch  11 =  0.028412768369575285\n",
      "train accuracy for epoch  11 =  0.9959259259259259\n",
      "\n",
      "val cost for epoch  12 =  0.06698478238015891\n",
      "val accuracy for epoch  12 =  0.9798333333333333\n",
      "train cost for epoch  12 =  0.0237641080776907\n",
      "train accuracy for epoch  12 =  0.9977407407407407\n",
      "\n",
      "val cost for epoch  13 =  0.06403341431297359\n",
      "val accuracy for epoch  13 =  0.9803333333333333\n",
      "train cost for epoch  13 =  0.021102505427209033\n",
      "train accuracy for epoch  13 =  0.9983333333333333\n",
      "\n",
      "val cost for epoch  14 =  0.06759271223894421\n",
      "val accuracy for epoch  14 =  0.9811666666666666\n",
      "train cost for epoch  14 =  0.017828493500069268\n",
      "train accuracy for epoch  14 =  0.999537037037037\n",
      "\n",
      "val cost for epoch  15 =  0.0769057721027045\n",
      "val accuracy for epoch  15 =  0.9776666666666667\n",
      "train cost for epoch  15 =  0.01692852738406045\n",
      "train accuracy for epoch  15 =  0.9998333333333334\n",
      "\n"
     ]
    },
    {
     "data": {
      "image/png": "[encoded data removed]",
      "text/plain": [
       "<Figure size 432x288 with 1 Axes>"
      ]
     },
     "metadata": {
      "needs_background": "light"
     },
     "output_type": "display_data"
    },
    {
     "data": {
      "text/html": [
       "<br/>Waiting for W&B process to finish, PID 10204<br/>Program ended successfully."
      ],
      "text/plain": [
       "<IPython.core.display.HTML object>"
      ]
     },
     "metadata": {},
     "output_type": "display_data"
    },
    {
     "data": {
      "application/vnd.jupyter.widget-view+json": {
       "model_id": "",
       "version_major": 2,
       "version_minor": 0
      },
      "text/plain": [
       "VBox(children=(Label(value=' 0.00MB of 0.00MB uploaded (0.00MB deduped)\\r'), FloatProgress(value=1.0, max=1.0)…"
      ]
     },
     "metadata": {},
     "output_type": "display_data"
    },
    {
     "data": {
      "text/html": [
       "Find user logs for this run at: <code>D:\\DL\\wandb\\run-20210313_130357-p94f7z48\\logs\\debug.log</code>"
      ],
      "text/plain": [
       "<IPython.core.display.HTML object>"
      ]
     },
     "metadata": {},
     "output_type": "display_data"
    },
    {
     "data": {
      "text/html": [
       "Find internal logs for this run at: <code>D:\\DL\\wandb\\run-20210313_130357-p94f7z48\\logs\\debug-internal.log</code>"
      ],
      "text/plain": [
       "<IPython.core.display.HTML object>"
      ]
     },
     "metadata": {},
     "output_type": "display_data"
    },
    {
     "data": {
      "text/html": [
       "<h3>Run summary:</h3><br/><style>\n",
       "    table.wandb td:nth-child(1) { padding: 0 10px; text-align: right }\n",
       "    </style><table class=\"wandb\">\n",
       "<tr><td>epoch</td><td>15</td></tr><tr><td>train loss</td><td>0.01693</td></tr><tr><td>train accuracy</td><td>0.99983</td></tr><tr><td>_runtime</td><td>231</td></tr><tr><td>_timestamp</td><td>1615621068</td></tr><tr><td>_step</td><td>29</td></tr><tr><td>val loss</td><td>0.07691</td></tr><tr><td>val accuracy</td><td>0.97767</td></tr></table>"
      ],
      "text/plain": [
       "<IPython.core.display.HTML object>"
      ]
     },
     "metadata": {},
     "output_type": "display_data"
    },
    {
     "data": {
      "text/html": [
       "<h3>Run history:</h3><br/><style>\n",
       "    table.wandb td:nth-child(1) { padding: 0 10px; text-align: right }\n",
       "    </style><table class=\"wandb\">\n",
       "<tr><td>epoch</td><td>▁▁▂▃▃▃▄▅▅▅▆▇▇▇█</td></tr><tr><td>train loss</td><td>█▃▃▂▂▂▂▁▁▁▁▁▁▁▁</td></tr><tr><td>train accuracy</td><td>▁▅▆▇▇▇▇████████</td></tr><tr><td>_runtime</td><td>▁▁▁▂▂▂▂▃▃▃▃▄▄▄▄▅▅▅▅▆▆▆▆▇▇▇▇███</td></tr><tr><td>_timestamp</td><td>▁▁▁▂▂▂▂▃▃▃▃▄▄▄▄▅▅▅▅▆▆▆▆▇▇▇▇███</td></tr><tr><td>_step</td><td>▁▁▁▂▂▂▂▃▃▃▃▄▄▄▄▅▅▅▅▆▆▆▆▇▇▇▇███</td></tr><tr><td>val loss</td><td>█▅▃▃▂▂▂▂▁▁▁▁▁▁▂</td></tr><tr><td>val accuracy</td><td>▁▄▆▆▇▇▇▇██████▇</td></tr></table><br/>"
      ],
      "text/plain": [
       "<IPython.core.display.HTML object>"
      ]
     },
     "metadata": {},
     "output_type": "display_data"
    },
    {
     "data": {
      "text/html": [
       "Synced 5 W&B file(s), 0 media file(s), 0 artifact file(s) and 0 other file(s)"
      ],
      "text/plain": [
       "<IPython.core.display.HTML object>"
      ]
     },
     "metadata": {},
     "output_type": "display_data"
    },
    {
     "data": {
      "text/html": [
       "\n",
       "                    <br/>Synced <strong style=\"color:#cdcd00\">icy-sweep-4</strong>: <a href=\"https://wandb.ai/anshuman802/Sweep_final/runs/p94f7z48\" target=\"_blank\">https://wandb.ai/anshuman802/Sweep_final/runs/p94f7z48</a><br/>\n",
       "                "
      ],
      "text/plain": [
       "<IPython.core.display.HTML object>"
      ]
     },
     "metadata": {},
     "output_type": "display_data"
    },
    {
     "name": "stderr",
     "output_type": "stream",
     "text": [
      "wandb: Sweep Agent: Waiting for job.\n",
      "wandb: Sweep Agent: Exiting.\n"
     ]
    }
   ],
   "source": [
    "wandb.agent(sweep_id, sp_train)"
   ]
  },
  {
   "cell_type": "code",
   "execution_count": null,
   "metadata": {},
   "outputs": [],
   "source": []
  }
 ],
 "metadata": {
  "kernelspec": {
   "display_name": "Python 3",
   "language": "python",
   "name": "python3"
  },
  "language_info": {
   "codemirror_mode": {
    "name": "ipython",
    "version": 3
   },
   "file_extension": ".py",
   "mimetype": "text/x-python",
   "name": "python",
   "nbconvert_exporter": "python",
   "pygments_lexer": "ipython3",
   "version": "3.7.1"
  }
 },
 "nbformat": 4,
 "nbformat_minor": 4
}
