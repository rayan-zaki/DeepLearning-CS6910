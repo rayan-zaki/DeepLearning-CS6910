{
 "cells": [
  {
   "cell_type": "code",
   "execution_count": 1,
   "metadata": {},
   "outputs": [],
   "source": [
    "from Feed_Forward_NN import *\n",
    "from train_fn import *\n",
    "from activation_fns_and_grads import *\n",
    "from loss_fns_with_regularization import *\n",
    "from optimizers_with_regularization import *\n",
    "from utils import *\n",
    "import numpy as np\n",
    "import matplotlib.pyplot as plt\n",
    "import torchvision"
   ]
  },
  {
   "cell_type": "code",
   "execution_count": 2,
   "metadata": {},
   "outputs": [],
   "source": [
    "train_set = torchvision.datasets.FashionMNIST(\n",
    "    root=r'C:\\Users\\Rayan Zaki\\Desktop\\Fundamentals of Deep Learning\\Assignment 1'\n",
    "    ,train=True\n",
    "    ,download=False\n",
    "    \n",
    ")\n",
    "test_set = torchvision.datasets.FashionMNIST(\n",
    "    root=r'C:\\Users\\Rayan Zaki\\Desktop\\Fundamentals of Deep Learning\\Assignment 1'\n",
    "    ,train=False\n",
    "    ,download=False\n",
    "    \n",
    ")"
   ]
  },
  {
   "cell_type": "code",
   "execution_count": 3,
   "metadata": {},
   "outputs": [],
   "source": [
    "X_train = np.array(train_set.data)\n",
    "\n",
    "Y_train = np.array(train_set.targets)\n",
    "\n",
    "Y_train= Y_train.reshape(-1,1).T\n",
    "\n",
    "X_train = X_train.reshape(X_train.shape[0],-1).T"
   ]
  },
  {
   "cell_type": "code",
   "execution_count": 4,
   "metadata": {},
   "outputs": [],
   "source": [
    "X_test = np.array(test_set.data)\n",
    "\n",
    "Y_test = np.array(test_set.targets)\n",
    "\n",
    "Y_test=Y_test.reshape(-1,1).T\n",
    "\n",
    "X_test = X_test.reshape(X_test.shape[0],-1).T"
   ]
  },
  {
   "cell_type": "code",
   "execution_count": 5,
   "metadata": {},
   "outputs": [],
   "source": [
    "X_train, X_val, Y_train, Y_val = train_val_split(X_train, Y_train, val_size=0.1, random_state=42)"
   ]
  },
  {
   "cell_type": "markdown",
   "metadata": {},
   "source": [
    "Optimizers :'sgd', 'momentum', 'rmsprop', 'nesterov', 'adam', 'nadam' \n",
    "\n",
    "Output activations : 'softmax', 'linear'\n",
    "\n",
    "Activation functions : 'relu', 'tanh', 'sigmoid'\n",
    "\n",
    "Initialization : 'xavier', 'random'"
   ]
  },
  {
   "cell_type": "code",
   "execution_count": 6,
   "metadata": {},
   "outputs": [],
   "source": [
    "nn=FeedForward_NN(input_features= 784, \n",
    "                  output_nodes=10, \n",
    "                  hidden_layers_dims=[16],\n",
    "                  act_fn='relu',\n",
    "                  dropout = 1, # with what probability u want nodes to be on\n",
    "                  initialization='xavier')"
   ]
  },
  {
   "cell_type": "code",
   "execution_count": 7,
   "metadata": {},
   "outputs": [
    {
     "name": "stdout",
     "output_type": "stream",
     "text": [
      "val cost for epoch  1 =  0.6038695623675006\n",
      "val accuracy for epoch  1 =  0.7773333333333333\n",
      "train cost for epoch  1 =  0.9665659880318691\n",
      "train accuracy for epoch  1 =  0.6696296296296296\n",
      "\n",
      "val cost for epoch  2 =  0.5031178928508552\n",
      "val accuracy for epoch  2 =  0.827\n",
      "train cost for epoch  2 =  0.5370132508183183\n",
      "train accuracy for epoch  2 =  0.8150185185185185\n",
      "\n",
      "val cost for epoch  3 =  0.49670405721615857\n",
      "val accuracy for epoch  3 =  0.8271666666666667\n",
      "train cost for epoch  3 =  0.47664638448765984\n",
      "train accuracy for epoch  3 =  0.8395370370370371\n",
      "\n"
     ]
    },
    {
     "data": {
      "image/png": "[encoded data removed]",
      "text/plain": [
       "<Figure size 432x288 with 1 Axes>"
      ]
     },
     "metadata": {
      "needs_background": "light"
     },
     "output_type": "display_data"
    }
   ],
   "source": [
    "train(model=nn,\n",
    "      X_train = X_train,\n",
    "      Y_train = Y_train,\n",
    "      X_val = X_val,\n",
    "      Y_val = Y_val,\n",
    "      output_activation = \"softmax\",\n",
    "      output_loss_fn = \"cross_entropy\",\n",
    "      epochs = 3, \n",
    "      optimizer_name='adam',\n",
    "      l2_lambd =0.005,\n",
    "      learning_rate = 0.0002,\n",
    "      lr_schedule = 0.5,\n",
    "      batch_size = 512,\n",
    "      print_cost = True, \n",
    "      val = True)"
   ]
  },
  {
   "cell_type": "code",
   "execution_count": 8,
   "metadata": {},
   "outputs": [],
   "source": [
    "Y_pred=[]\n",
    "correct=0\n",
    "for i in range(X_test.shape[1]):\n",
    "    XL=nn.forward_prop(X_test[:,i].reshape(-1,1))\n",
    "    pred=act_fn(XL,'softmax')\n",
    "    class_pred=onehot_to_class(pred)[0][0]\n",
    "    if class_pred==Y_test[0][i]:\n",
    "        correct+=1\n",
    "    Y_pred.append(class_pred)\n",
    "test_accuracy = correct/len(Y_pred)"
   ]
  },
  {
   "cell_type": "code",
   "execution_count": 9,
   "metadata": {},
   "outputs": [
    {
     "name": "stdout",
     "output_type": "stream",
     "text": [
      "0.8225\n"
     ]
    }
   ],
   "source": [
    "print(\"Test accuracy is \",test_accuracy)"
   ]
  }
 ],
 "metadata": {
  "kernelspec": {
   "display_name": "Python 3",
   "language": "python",
   "name": "python3"
  },
  "language_info": {
   "codemirror_mode": {
    "name": "ipython",
    "version": 3
   },
   "file_extension": ".py",
   "mimetype": "text/x-python",
   "name": "python",
   "nbconvert_exporter": "python",
   "pygments_lexer": "ipython3",
   "version": "3.7.3"
  }
 },
 "nbformat": 4,
 "nbformat_minor": 4
}
