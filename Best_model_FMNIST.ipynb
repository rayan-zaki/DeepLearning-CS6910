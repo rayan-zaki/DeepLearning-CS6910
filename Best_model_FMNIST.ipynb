{
 "cells": [
  {
   "cell_type": "code",
   "execution_count": 1,
   "metadata": {},
   "outputs": [],
   "source": [
    "from Feed_Forward_NN import *\n",
    "#from train_fn import *\n",
    "from activation_fns_and_grads import *\n",
    "from loss_fns_with_regularization import *\n",
    "from optimizers_with_regularization import *\n",
    "from utils import *\n",
    "import numpy as np\n",
    "import matplotlib.pyplot as plt\n",
    "import torchvision\n",
    "import wandb"
   ]
  },
  {
   "cell_type": "code",
   "execution_count": 2,
   "metadata": {},
   "outputs": [
    {
     "name": "stderr",
     "output_type": "stream",
     "text": [
      "wandb: Currently logged in as: rayanz (use `wandb login --relogin` to force relogin)\n"
     ]
    }
   ],
   "source": [
    "!wandb login"
   ]
  },
  {
   "cell_type": "code",
   "execution_count": 3,
   "metadata": {},
   "outputs": [
    {
     "name": "stderr",
     "output_type": "stream",
     "text": [
      "wandb: Currently logged in as: rayanz (use `wandb login --relogin` to force relogin)\n"
     ]
    },
    {
     "data": {
      "text/html": [
       "\n",
       "                Tracking run with wandb version 0.10.22<br/>\n",
       "                Syncing run <strong style=\"color:#cdcd00\">happy-wildflower-3</strong> to <a href=\"https://wandb.ai\" target=\"_blank\">Weights & Biases</a> <a href=\"https://docs.wandb.com/integrations/jupyter.html\" target=\"_blank\">(Documentation)</a>.<br/>\n",
       "                Project page: <a href=\"https://wandb.ai/rayanz/Best%20model%20Fashion%20MNIST\" target=\"_blank\">https://wandb.ai/rayanz/Best%20model%20Fashion%20MNIST</a><br/>\n",
       "                Run page: <a href=\"https://wandb.ai/rayanz/Best%20model%20Fashion%20MNIST/runs/36z7o5yn\" target=\"_blank\">https://wandb.ai/rayanz/Best%20model%20Fashion%20MNIST/runs/36z7o5yn</a><br/>\n",
       "                Run data is saved locally in <code>C:\\Users\\Rayan Zaki\\Desktop\\Deep Learning\\CS6910\\Try 2\\wandb\\run-20210313_133909-36z7o5yn</code><br/><br/>\n",
       "            "
      ],
      "text/plain": [
       "<IPython.core.display.HTML object>"
      ]
     },
     "metadata": {},
     "output_type": "display_data"
    },
    {
     "data": {
      "text/html": [
       "<h1>Run(36z7o5yn)</h1><iframe src=\"https://wandb.ai/rayanz/Best%20model%20Fashion%20MNIST/runs/36z7o5yn\" style=\"border:none;width:100%;height:400px\"></iframe>"
      ],
      "text/plain": [
       "<wandb.sdk.wandb_run.Run at 0x219c87a1358>"
      ]
     },
     "execution_count": 3,
     "metadata": {},
     "output_type": "execute_result"
    }
   ],
   "source": [
    "wandb.init(project='Best model Fashion MNIST')"
   ]
  },
  {
   "cell_type": "code",
   "execution_count": 4,
   "metadata": {},
   "outputs": [],
   "source": [
    "train_set = torchvision.datasets.FashionMNIST(\n",
    "    root=r'C:\\Users\\Rayan Zaki\\Desktop\\Fundamentals of Deep Learning\\Assignment 1'\n",
    "    ,train=True\n",
    "    ,download=False\n",
    "    \n",
    ")\n",
    "test_set = torchvision.datasets.FashionMNIST(\n",
    "    root=r'C:\\Users\\Rayan Zaki\\Desktop\\Fundamentals of Deep Learning\\Assignment 1'\n",
    "    ,train=False\n",
    "    ,download=False\n",
    "    \n",
    ")"
   ]
  },
  {
   "cell_type": "code",
   "execution_count": 5,
   "metadata": {},
   "outputs": [],
   "source": [
    "X_train = np.array(train_set.data)\n",
    "\n",
    "Y_train = np.array(train_set.targets)\n",
    "\n",
    "Y_train=Y_train.reshape(-1,1).T\n",
    "\n",
    "X_train = X_train.reshape(X_train.shape[0],-1).T"
   ]
  },
  {
   "cell_type": "code",
   "execution_count": 6,
   "metadata": {},
   "outputs": [],
   "source": [
    "X_train, X_val, Y_train, Y_val = train_val_split(X_train, Y_train, val_size=0.1, random_state=42)"
   ]
  },
  {
   "cell_type": "code",
   "execution_count": 7,
   "metadata": {},
   "outputs": [],
   "source": [
    "# Prior to this define the model\n",
    "def train(model,\n",
    "      X_train = X_train,\n",
    "      Y_train = Y_train,\n",
    "      X_val = X_val,\n",
    "      Y_val = Y_val,\n",
    "      output_activation = \"softmax\",\n",
    "      output_loss_fn = \"cross_entropy\",\n",
    "      epochs = 50, \n",
    "      optimizer_name='adam',\n",
    "      l2_lambd =0.05,\n",
    "      learning_rate = 0.0002,\n",
    "      lr_schedule = 0.4,\n",
    "      batch_size = 512,\n",
    "      print_cost = True, \n",
    "      val = True):\n",
    "    \n",
    "    train_costs_batches = []\n",
    "    train_accuracy_batches = []\n",
    "    \n",
    "    train_costs=[]\n",
    "    train_accuracy = []\n",
    "    val_costs = []\n",
    "    val_accuracy = []\n",
    "    \n",
    "    if optimizer_name=='sgd':\n",
    "        optimizer = stochastic_gradient_descent(learning_rate=learning_rate , l2_lambd=l2_lambd)\n",
    "    elif optimizer_name=='momentum':\n",
    "        optimizer = momentum_gradient_descent(params=model.params,learning_rate= learning_rate , l2_lambd=l2_lambd)\n",
    "    elif optimizer_name=='rmsprop':\n",
    "        optimizer = rms_prop(params=model.params,learning_rate= learning_rate , l2_lambd=l2_lambd)\n",
    "    elif optimizer_name=='adam':\n",
    "        optimizer = adam(params = model.params, learning_rate= learning_rate , l2_lambd=l2_lambd)\n",
    "    elif optimizer_name== 'nesterov':\n",
    "        optimizer = nesterov_gradient_descent(params = model.params, learning_rate= learning_rate , l2_lambd=l2_lambd)\n",
    "    elif optimizer_name=='nadam':\n",
    "        optimizer = nadam(params = model.params, learning_rate= learning_rate, beta1=0.9, beta2=0.999 , l2_lambd=l2_lambd)\n",
    "        \n",
    "    if batch_size==None:\n",
    "        batch_size = X_train.shape[1]\n",
    "        \n",
    "    for i in range(1,epochs+1):\n",
    "        if i%10==0:\n",
    "            optimizer.lr=optimizer.lr * lr_schedule\n",
    "        '''decay = 0.001\n",
    "        optimizer.lr=optimizer.lr * 1/(1 + decay * i)'''\n",
    "        \n",
    "        mini_batches = create_mini_batches(X_train, Y_train, batch_size)\n",
    "        no_batches = len(mini_batches)\n",
    "        \n",
    "        epoch_loss=0\n",
    "        epoch_correct=0\n",
    "        \n",
    "        \n",
    "        for j , mini_batch in enumerate(mini_batches,1):\n",
    "            X_mini, Y_mini = mini_batch\n",
    "            bs = X_mini.shape[1]\n",
    "            if bs==0:\n",
    "                break\n",
    "            \n",
    "            # Forward Propagation\n",
    "            XL = model.forward_prop(X_mini) ## final layer output w/o activation\n",
    "            Y_pred = act_fn(XL,output_activation)\n",
    "            \n",
    "            # Compute cost\n",
    "            batch_cost = cost_fn(model.params,Y_mini,Y_pred, l2_lambd=l2_lambd, output_activation=output_activation, loss_fn=output_loss_fn)\n",
    "            batch_correct = np.sum(onehot_to_class(Y_pred)==Y_mini)\n",
    "            \n",
    "            epoch_loss += batch_cost*bs\n",
    "            epoch_correct += batch_correct\n",
    "            \n",
    "            # Backward propagation\n",
    "            ## look forward step\n",
    "            if optimizer_name=='nesterov' or optimizer_name=='nadam':\n",
    "                optimizer.update_params_prior_grad(model)\n",
    "            \n",
    "            dZ=output_exc_act_grad(Y_mini,Y_pred,output_activation=output_activation,loss_fn=output_loss_fn,classes=model.output_nodes)\n",
    "\n",
    "            model.backward_prop(dZ)\n",
    "\n",
    "            # Update parameters.\n",
    "            if optimizer_name== 'nesterov' or optimizer_name=='nadam':\n",
    "                optimizer.update_params_after_grad(model)\n",
    "            else:\n",
    "                optimizer.update_params(model)\n",
    "\n",
    "            # Print the cost every 100 training batch\n",
    "            if j % 100 == 0:\n",
    "                train_costs_batches.append(batch_cost)\n",
    "                train_accuracy_batches.append(batch_correct/Y_mini.shape[1])\n",
    "        \n",
    "        epoch_loss = epoch_loss / X_train.shape[1]\n",
    "        epoch_correct = epoch_correct / X_train.shape[1]\n",
    "        \n",
    "        train_costs.append(epoch_loss)\n",
    "        train_accuracy.append(epoch_correct)\n",
    "        wandb.log({'epoch': i,'train loss': epoch_loss,'train accuracy': epoch_correct})\n",
    "        if val :\n",
    "            val_acc,val_loss=accuracy_loss(model,X_val,Y_val,output_activation=output_activation,output_loss_fn=output_loss_fn)\n",
    "            val_costs.append(val_loss)\n",
    "            val_accuracy.append(val_acc)\n",
    "            \n",
    "            wandb.log({'val loss': val_loss,'val accuracy': val_acc})\n",
    "            if print_cost:\n",
    "                print(\"val cost for epoch \", i , \"= \",val_loss)\n",
    "                print(\"val accuracy for epoch \", i , \"= \",val_acc)\n",
    "                print(\"train cost for epoch \", i , \"= \",epoch_loss)\n",
    "                print(\"train accuracy for epoch \", i , \"= \",epoch_correct)\n",
    "                print(\"\")\n",
    "            \n",
    "    # plot the cost per 100 batches\n",
    "    plt.plot(np.squeeze(train_costs_batches))\n",
    "    plt.plot(np.squeeze(train_accuracy_batches))\n",
    "    plt.ylabel('train_costs_batches')\n",
    "    plt.xlabel('batches (per 100)')\n",
    "    plt.title(\"Learning rate =\" + str(learning_rate))\n",
    "    plt.show()\n",
    "    \n"
   ]
  },
  {
   "cell_type": "code",
   "execution_count": 8,
   "metadata": {},
   "outputs": [],
   "source": [
    "nn=FeedForward_NN(input_features= 784, \n",
    "                  output_nodes=10, \n",
    "                  hidden_layers_dims=[256],\n",
    "                  act_fn='relu',\n",
    "                  dropout = 1, # with what probability u want nodes to be on\n",
    "                  initialization='xavier')"
   ]
  },
  {
   "cell_type": "code",
   "execution_count": 9,
   "metadata": {},
   "outputs": [
    {
     "name": "stdout",
     "output_type": "stream",
     "text": [
      "val cost for epoch  1 =  0.5098706574147044\n",
      "val accuracy for epoch  1 =  0.8195\n",
      "train cost for epoch  1 =  0.6660448346106369\n",
      "train accuracy for epoch  1 =  0.7733518518518518\n",
      "\n",
      "val cost for epoch  2 =  0.4004944895996551\n",
      "val accuracy for epoch  2 =  0.8548333333333333\n",
      "train cost for epoch  2 =  0.4199994545634499\n",
      "train accuracy for epoch  2 =  0.8546481481481482\n",
      "\n",
      "val cost for epoch  3 =  0.37707987200580345\n",
      "val accuracy for epoch  3 =  0.8643333333333333\n",
      "train cost for epoch  3 =  0.36630951535512307\n",
      "train accuracy for epoch  3 =  0.8731666666666666\n",
      "\n",
      "val cost for epoch  4 =  0.3619205592408814\n",
      "val accuracy for epoch  4 =  0.8698333333333333\n",
      "train cost for epoch  4 =  0.3433163576890788\n",
      "train accuracy for epoch  4 =  0.8795925925925926\n",
      "\n",
      "val cost for epoch  5 =  0.375677300172263\n",
      "val accuracy for epoch  5 =  0.8628333333333333\n",
      "train cost for epoch  5 =  0.3180115462581091\n",
      "train accuracy for epoch  5 =  0.8886851851851851\n",
      "\n",
      "val cost for epoch  6 =  0.3380769068424021\n",
      "val accuracy for epoch  6 =  0.8771666666666667\n",
      "train cost for epoch  6 =  0.302366206892005\n",
      "train accuracy for epoch  6 =  0.8946481481481482\n",
      "\n",
      "val cost for epoch  7 =  0.346511892210793\n",
      "val accuracy for epoch  7 =  0.8731666666666666\n",
      "train cost for epoch  7 =  0.28977376888131284\n",
      "train accuracy for epoch  7 =  0.8987592592592593\n",
      "\n",
      "val cost for epoch  8 =  0.34513993308619895\n",
      "val accuracy for epoch  8 =  0.8805\n",
      "train cost for epoch  8 =  0.27882441144167963\n",
      "train accuracy for epoch  8 =  0.9024444444444445\n",
      "\n",
      "val cost for epoch  9 =  0.3250586375609294\n",
      "val accuracy for epoch  9 =  0.882\n",
      "train cost for epoch  9 =  0.2657089533727451\n",
      "train accuracy for epoch  9 =  0.9075925925925926\n",
      "\n",
      "val cost for epoch  10 =  0.3166068209055951\n",
      "val accuracy for epoch  10 =  0.8863333333333333\n",
      "train cost for epoch  10 =  0.2395232639512276\n",
      "train accuracy for epoch  10 =  0.9169074074074074\n",
      "\n",
      "val cost for epoch  11 =  0.3170727436129067\n",
      "val accuracy for epoch  11 =  0.8865\n",
      "train cost for epoch  11 =  0.23098380181605732\n",
      "train accuracy for epoch  11 =  0.9206851851851852\n",
      "\n",
      "val cost for epoch  12 =  0.3114430627064836\n",
      "val accuracy for epoch  12 =  0.8871666666666667\n",
      "train cost for epoch  12 =  0.22495115850774663\n",
      "train accuracy for epoch  12 =  0.922074074074074\n",
      "\n",
      "val cost for epoch  13 =  0.31799702811672165\n",
      "val accuracy for epoch  13 =  0.8855\n",
      "train cost for epoch  13 =  0.22341834036584984\n",
      "train accuracy for epoch  13 =  0.9222037037037037\n",
      "\n",
      "val cost for epoch  14 =  0.3212913019784746\n",
      "val accuracy for epoch  14 =  0.8873333333333333\n",
      "train cost for epoch  14 =  0.2158059530600962\n",
      "train accuracy for epoch  14 =  0.9255555555555556\n",
      "\n",
      "val cost for epoch  15 =  0.30307173568352413\n",
      "val accuracy for epoch  15 =  0.8938333333333334\n",
      "train cost for epoch  15 =  0.2094691388800613\n",
      "train accuracy for epoch  15 =  0.9280185185185185\n",
      "\n",
      "val cost for epoch  16 =  0.3250632767804489\n",
      "val accuracy for epoch  16 =  0.883\n",
      "train cost for epoch  16 =  0.20471391274352915\n",
      "train accuracy for epoch  16 =  0.9297592592592593\n",
      "\n",
      "val cost for epoch  17 =  0.3086263792730096\n",
      "val accuracy for epoch  17 =  0.8933333333333333\n",
      "train cost for epoch  17 =  0.20129098120754518\n",
      "train accuracy for epoch  17 =  0.9312222222222222\n",
      "\n",
      "val cost for epoch  18 =  0.3232890787791226\n",
      "val accuracy for epoch  18 =  0.8875\n",
      "train cost for epoch  18 =  0.19357647845161882\n",
      "train accuracy for epoch  18 =  0.9347777777777778\n",
      "\n",
      "val cost for epoch  19 =  0.3151178947945366\n",
      "val accuracy for epoch  19 =  0.8901666666666667\n",
      "train cost for epoch  19 =  0.1910664457656461\n",
      "train accuracy for epoch  19 =  0.9353888888888889\n",
      "\n",
      "val cost for epoch  20 =  0.30533040978734566\n",
      "val accuracy for epoch  20 =  0.8953333333333333\n",
      "train cost for epoch  20 =  0.17745577371686896\n",
      "train accuracy for epoch  20 =  0.9416481481481481\n",
      "\n"
     ]
    },
    {
     "data": {
      "image/png": "[encoded data removed]",
      "text/plain": [
       "<Figure size 432x288 with 1 Axes>"
      ]
     },
     "metadata": {
      "needs_background": "light"
     },
     "output_type": "display_data"
    }
   ],
   "source": [
    "train(model=nn,\n",
    "      X_train = X_train,\n",
    "      Y_train = Y_train,\n",
    "      X_val = X_val,\n",
    "      Y_val = Y_val,\n",
    "      output_activation = \"softmax\",\n",
    "      output_loss_fn = \"cross_entropy\",\n",
    "      epochs = 20, \n",
    "      optimizer_name='adam',\n",
    "      l2_lambd =0.005,\n",
    "      learning_rate = 0.0002,\n",
    "      lr_schedule = 0.5,\n",
    "      batch_size = 512,\n",
    "      print_cost = True, \n",
    "      val = True)"
   ]
  },
  {
   "cell_type": "markdown",
   "metadata": {},
   "source": [
    "## Confusion Matrix"
   ]
  },
  {
   "cell_type": "code",
   "execution_count": 10,
   "metadata": {},
   "outputs": [],
   "source": [
    "X_test = np.array(test_set.data)\n",
    "\n",
    "Y_test = np.array(test_set.targets)\n",
    "\n",
    "Y_test=Y_test.reshape(-1,1).T\n",
    "\n",
    "X_test = X_test.reshape(X_test.shape[0],-1).T"
   ]
  },
  {
   "cell_type": "code",
   "execution_count": 11,
   "metadata": {},
   "outputs": [],
   "source": [
    "Y_pred=[]\n",
    "correct=0\n",
    "for i in range(X_test.shape[1]):\n",
    "    XL=nn.forward_prop(X_test[:,i].reshape(-1,1))\n",
    "    pred=act_fn(XL,'softmax')\n",
    "    class_pred=onehot_to_class(pred)[0][0]\n",
    "    if class_pred==Y_test[0][i]:\n",
    "        correct+=1\n",
    "    Y_pred.append(class_pred)\n",
    "test_accuracy = correct/len(Y_pred)"
   ]
  },
  {
   "cell_type": "code",
   "execution_count": 12,
   "metadata": {},
   "outputs": [],
   "source": [
    "class_names=['T-shirt/top', 'Trouser', 'Pullover','Dress','Coat','Sandal','Shirt','Sneaker','Bag','Ankle boot']"
   ]
  },
  {
   "cell_type": "code",
   "execution_count": 13,
   "metadata": {},
   "outputs": [],
   "source": [
    "wandb.log({\"confusion_matrix\" : wandb.plot.confusion_matrix(probs=None,\n",
    "                        y_true=Y_test.squeeze(), preds=Y_pred,\n",
    "                        class_names=class_names)})"
   ]
  },
  {
   "cell_type": "code",
   "execution_count": 14,
   "metadata": {},
   "outputs": [],
   "source": [
    "wandb.log({\"Test Accuracy\": test_accuracy})"
   ]
  },
  {
   "cell_type": "code",
   "execution_count": null,
   "metadata": {},
   "outputs": [],
   "source": []
  }
 ],
 "metadata": {
  "kernelspec": {
   "display_name": "Python 3",
   "language": "python",
   "name": "python3"
  },
  "language_info": {
   "codemirror_mode": {
    "name": "ipython",
    "version": 3
   },
   "file_extension": ".py",
   "mimetype": "text/x-python",
   "name": "python",
   "nbconvert_exporter": "python",
   "pygments_lexer": "ipython3",
   "version": "3.7.3"
  }
 },
 "nbformat": 4,
 "nbformat_minor": 4
}
