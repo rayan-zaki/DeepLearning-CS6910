{
 "cells": [
  {
   "cell_type": "markdown",
   "id": "8be9c551",
   "metadata": {
    "id": "8be9c551"
   },
   "source": [
    "## Import Libraries"
   ]
  },
  {
   "cell_type": "code",
   "execution_count": null,
   "id": "844505c5",
   "metadata": {
    "id": "844505c5"
   },
   "outputs": [],
   "source": [
    "import numpy as np\n",
    "import torch\n",
    "from torch import nn\n",
    "import torch.nn.functional as F\n",
    "import torch.optim as optim\n",
    "import torch.utils.data as data_utils\n",
    "import random\n",
    "import math\n",
    "import time\n",
    "\n",
    "import operator\n",
    "from queue import PriorityQueue"
   ]
  },
  {
   "cell_type": "markdown",
   "id": "pTeosbnt8VLF",
   "metadata": {
    "id": "pTeosbnt8VLF"
   },
   "source": [
    "## Google Drive"
   ]
  },
  {
   "cell_type": "code",
   "execution_count": null,
   "id": "6pgEjHdZ8Uyz",
   "metadata": {
    "colab": {
     "base_uri": "https://localhost:8080/"
    },
    "id": "6pgEjHdZ8Uyz",
    "outputId": "625d8d2e-250e-4c30-c554-1fd0706444d1"
   },
   "outputs": [
    {
     "name": "stdout",
     "output_type": "stream",
     "text": [
      "Collecting wandb\n",
      "\u001b[?25l  Downloading https://files.pythonhosted.org/packages/98/5f/45439b4767334b868e1c8c35b1b0ba3747d8c21be77b79f09eed7aa3c72b/wandb-0.10.30-py2.py3-none-any.whl (1.8MB)\n",
      "\r",
      "\u001b[K     |▏                               | 10kB 23.3MB/s eta 0:00:01\r",
      "\u001b[K     |▍                               | 20kB 29.8MB/s eta 0:00:01\r",
      "\u001b[K     |▌                               | 30kB 22.8MB/s eta 0:00:01\r",
      "\u001b[K     |▊                               | 40kB 16.9MB/s eta 0:00:01\r",
      "\u001b[K     |█                               | 51kB 8.3MB/s eta 0:00:01\r",
      "\u001b[K     |█                               | 61kB 7.6MB/s eta 0:00:01\r",
      "\u001b[K     |█▎                              | 71kB 8.6MB/s eta 0:00:01\r",
      "\u001b[K     |█▌                              | 81kB 9.5MB/s eta 0:00:01\r",
      "\u001b[K     |█▋                              | 92kB 9.9MB/s eta 0:00:01\r",
      "\u001b[K     |█▉                              | 102kB 8.0MB/s eta 0:00:01\r",
      "\u001b[K     |██                              | 112kB 8.0MB/s eta 0:00:01\r",
      "\u001b[K     |██▏                             | 122kB 8.0MB/s eta 0:00:01\r",
      "\u001b[K     |██▍                             | 133kB 8.0MB/s eta 0:00:01\r",
      "\u001b[K     |██▌                             | 143kB 8.0MB/s eta 0:00:01\r",
      "\u001b[K     |██▊                             | 153kB 8.0MB/s eta 0:00:01\r",
      "\u001b[K     |███                             | 163kB 8.0MB/s eta 0:00:01\r",
      "\u001b[K     |███                             | 174kB 8.0MB/s eta 0:00:01\r",
      "\u001b[K     |███▎                            | 184kB 8.0MB/s eta 0:00:01\r",
      "\u001b[K     |███▍                            | 194kB 8.0MB/s eta 0:00:01\r",
      "\u001b[K     |███▋                            | 204kB 8.0MB/s eta 0:00:01\r",
      "\u001b[K     |███▉                            | 215kB 8.0MB/s eta 0:00:01\r",
      "\u001b[K     |████                            | 225kB 8.0MB/s eta 0:00:01\r",
      "\u001b[K     |████▏                           | 235kB 8.0MB/s eta 0:00:01\r",
      "\u001b[K     |████▍                           | 245kB 8.0MB/s eta 0:00:01\r",
      "\u001b[K     |████▌                           | 256kB 8.0MB/s eta 0:00:01\r",
      "\u001b[K     |████▊                           | 266kB 8.0MB/s eta 0:00:01\r",
      "\u001b[K     |█████                           | 276kB 8.0MB/s eta 0:00:01\r",
      "\u001b[K     |█████                           | 286kB 8.0MB/s eta 0:00:01\r",
      "\u001b[K     |█████▎                          | 296kB 8.0MB/s eta 0:00:01\r",
      "\u001b[K     |█████▍                          | 307kB 8.0MB/s eta 0:00:01\r",
      "\u001b[K     |█████▋                          | 317kB 8.0MB/s eta 0:00:01\r",
      "\u001b[K     |█████▉                          | 327kB 8.0MB/s eta 0:00:01\r",
      "\u001b[K     |██████                          | 337kB 8.0MB/s eta 0:00:01\r",
      "\u001b[K     |██████▏                         | 348kB 8.0MB/s eta 0:00:01\r",
      "\u001b[K     |██████▍                         | 358kB 8.0MB/s eta 0:00:01\r",
      "\u001b[K     |██████▌                         | 368kB 8.0MB/s eta 0:00:01\r",
      "\u001b[K     |██████▊                         | 378kB 8.0MB/s eta 0:00:01\r",
      "\u001b[K     |██████▉                         | 389kB 8.0MB/s eta 0:00:01\r",
      "\u001b[K     |███████                         | 399kB 8.0MB/s eta 0:00:01\r",
      "\u001b[K     |███████▎                        | 409kB 8.0MB/s eta 0:00:01\r",
      "\u001b[K     |███████▍                        | 419kB 8.0MB/s eta 0:00:01\r",
      "\u001b[K     |███████▋                        | 430kB 8.0MB/s eta 0:00:01\r",
      "\u001b[K     |███████▉                        | 440kB 8.0MB/s eta 0:00:01\r",
      "\u001b[K     |████████                        | 450kB 8.0MB/s eta 0:00:01\r",
      "\u001b[K     |████████▏                       | 460kB 8.0MB/s eta 0:00:01\r",
      "\u001b[K     |████████▍                       | 471kB 8.0MB/s eta 0:00:01\r",
      "\u001b[K     |████████▌                       | 481kB 8.0MB/s eta 0:00:01\r",
      "\u001b[K     |████████▊                       | 491kB 8.0MB/s eta 0:00:01\r",
      "\u001b[K     |████████▉                       | 501kB 8.0MB/s eta 0:00:01\r",
      "\u001b[K     |█████████                       | 512kB 8.0MB/s eta 0:00:01\r",
      "\u001b[K     |█████████▎                      | 522kB 8.0MB/s eta 0:00:01\r",
      "\u001b[K     |█████████▍                      | 532kB 8.0MB/s eta 0:00:01\r",
      "\u001b[K     |█████████▋                      | 542kB 8.0MB/s eta 0:00:01\r",
      "\u001b[K     |█████████▉                      | 552kB 8.0MB/s eta 0:00:01\r",
      "\u001b[K     |██████████                      | 563kB 8.0MB/s eta 0:00:01\r",
      "\u001b[K     |██████████▏                     | 573kB 8.0MB/s eta 0:00:01\r",
      "\u001b[K     |██████████▎                     | 583kB 8.0MB/s eta 0:00:01\r",
      "\u001b[K     |██████████▌                     | 593kB 8.0MB/s eta 0:00:01\r",
      "\u001b[K     |██████████▊                     | 604kB 8.0MB/s eta 0:00:01\r",
      "\u001b[K     |██████████▉                     | 614kB 8.0MB/s eta 0:00:01\r",
      "\u001b[K     |███████████                     | 624kB 8.0MB/s eta 0:00:01\r",
      "\u001b[K     |███████████▎                    | 634kB 8.0MB/s eta 0:00:01\r",
      "\u001b[K     |███████████▍                    | 645kB 8.0MB/s eta 0:00:01\r",
      "\u001b[K     |███████████▋                    | 655kB 8.0MB/s eta 0:00:01\r",
      "\u001b[K     |███████████▉                    | 665kB 8.0MB/s eta 0:00:01\r",
      "\u001b[K     |████████████                    | 675kB 8.0MB/s eta 0:00:01\r",
      "\u001b[K     |████████████▏                   | 686kB 8.0MB/s eta 0:00:01\r",
      "\u001b[K     |████████████▎                   | 696kB 8.0MB/s eta 0:00:01\r",
      "\u001b[K     |████████████▌                   | 706kB 8.0MB/s eta 0:00:01\r",
      "\u001b[K     |████████████▊                   | 716kB 8.0MB/s eta 0:00:01\r",
      "\u001b[K     |████████████▉                   | 727kB 8.0MB/s eta 0:00:01\r",
      "\u001b[K     |█████████████                   | 737kB 8.0MB/s eta 0:00:01\r",
      "\u001b[K     |█████████████▎                  | 747kB 8.0MB/s eta 0:00:01\r",
      "\u001b[K     |█████████████▍                  | 757kB 8.0MB/s eta 0:00:01\r",
      "\u001b[K     |█████████████▋                  | 768kB 8.0MB/s eta 0:00:01\r",
      "\u001b[K     |█████████████▊                  | 778kB 8.0MB/s eta 0:00:01\r",
      "\u001b[K     |██████████████                  | 788kB 8.0MB/s eta 0:00:01\r",
      "\u001b[K     |██████████████▏                 | 798kB 8.0MB/s eta 0:00:01\r",
      "\u001b[K     |██████████████▎                 | 808kB 8.0MB/s eta 0:00:01\r",
      "\u001b[K     |██████████████▌                 | 819kB 8.0MB/s eta 0:00:01\r",
      "\u001b[K     |██████████████▊                 | 829kB 8.0MB/s eta 0:00:01\r",
      "\u001b[K     |██████████████▉                 | 839kB 8.0MB/s eta 0:00:01\r",
      "\u001b[K     |███████████████                 | 849kB 8.0MB/s eta 0:00:01\r",
      "\u001b[K     |███████████████▎                | 860kB 8.0MB/s eta 0:00:01\r",
      "\u001b[K     |███████████████▍                | 870kB 8.0MB/s eta 0:00:01\r",
      "\u001b[K     |███████████████▋                | 880kB 8.0MB/s eta 0:00:01\r",
      "\u001b[K     |███████████████▊                | 890kB 8.0MB/s eta 0:00:01\r",
      "\u001b[K     |████████████████                | 901kB 8.0MB/s eta 0:00:01\r",
      "\u001b[K     |████████████████▏               | 911kB 8.0MB/s eta 0:00:01\r",
      "\u001b[K     |████████████████▎               | 921kB 8.0MB/s eta 0:00:01\r",
      "\u001b[K     |████████████████▌               | 931kB 8.0MB/s eta 0:00:01\r",
      "\u001b[K     |████████████████▊               | 942kB 8.0MB/s eta 0:00:01\r",
      "\u001b[K     |████████████████▉               | 952kB 8.0MB/s eta 0:00:01\r",
      "\u001b[K     |█████████████████               | 962kB 8.0MB/s eta 0:00:01\r",
      "\u001b[K     |█████████████████▏              | 972kB 8.0MB/s eta 0:00:01\r",
      "\u001b[K     |█████████████████▍              | 983kB 8.0MB/s eta 0:00:01\r",
      "\u001b[K     |█████████████████▋              | 993kB 8.0MB/s eta 0:00:01\r",
      "\u001b[K     |█████████████████▊              | 1.0MB 8.0MB/s eta 0:00:01\r",
      "\u001b[K     |██████████████████              | 1.0MB 8.0MB/s eta 0:00:01\r",
      "\u001b[K     |██████████████████▏             | 1.0MB 8.0MB/s eta 0:00:01\r",
      "\u001b[K     |██████████████████▎             | 1.0MB 8.0MB/s eta 0:00:01\r",
      "\u001b[K     |██████████████████▌             | 1.0MB 8.0MB/s eta 0:00:01\r",
      "\u001b[K     |██████████████████▊             | 1.1MB 8.0MB/s eta 0:00:01\r",
      "\u001b[K     |██████████████████▉             | 1.1MB 8.0MB/s eta 0:00:01\r",
      "\u001b[K     |███████████████████             | 1.1MB 8.0MB/s eta 0:00:01\r",
      "\u001b[K     |███████████████████▏            | 1.1MB 8.0MB/s eta 0:00:01\r",
      "\u001b[K     |███████████████████▍            | 1.1MB 8.0MB/s eta 0:00:01\r",
      "\u001b[K     |███████████████████▋            | 1.1MB 8.0MB/s eta 0:00:01\r",
      "\u001b[K     |███████████████████▊            | 1.1MB 8.0MB/s eta 0:00:01\r",
      "\u001b[K     |████████████████████            | 1.1MB 8.0MB/s eta 0:00:01\r",
      "\u001b[K     |████████████████████▏           | 1.1MB 8.0MB/s eta 0:00:01\r",
      "\u001b[K     |████████████████████▎           | 1.1MB 8.0MB/s eta 0:00:01\r",
      "\u001b[K     |████████████████████▌           | 1.2MB 8.0MB/s eta 0:00:01\r",
      "\u001b[K     |████████████████████▋           | 1.2MB 8.0MB/s eta 0:00:01\r",
      "\u001b[K     |████████████████████▉           | 1.2MB 8.0MB/s eta 0:00:01\r",
      "\u001b[K     |█████████████████████           | 1.2MB 8.0MB/s eta 0:00:01\r",
      "\u001b[K     |█████████████████████▏          | 1.2MB 8.0MB/s eta 0:00:01\r",
      "\u001b[K     |█████████████████████▍          | 1.2MB 8.0MB/s eta 0:00:01\r",
      "\u001b[K     |█████████████████████▋          | 1.2MB 8.0MB/s eta 0:00:01\r",
      "\u001b[K     |█████████████████████▊          | 1.2MB 8.0MB/s eta 0:00:01\r",
      "\u001b[K     |██████████████████████          | 1.2MB 8.0MB/s eta 0:00:01\r",
      "\u001b[K     |██████████████████████▏         | 1.2MB 8.0MB/s eta 0:00:01\r",
      "\u001b[K     |██████████████████████▎         | 1.3MB 8.0MB/s eta 0:00:01\r",
      "\u001b[K     |██████████████████████▌         | 1.3MB 8.0MB/s eta 0:00:01\r",
      "\u001b[K     |██████████████████████▋         | 1.3MB 8.0MB/s eta 0:00:01\r",
      "\u001b[K     |██████████████████████▉         | 1.3MB 8.0MB/s eta 0:00:01\r",
      "\u001b[K     |███████████████████████         | 1.3MB 8.0MB/s eta 0:00:01\r",
      "\u001b[K     |███████████████████████▏        | 1.3MB 8.0MB/s eta 0:00:01\r",
      "\u001b[K     |███████████████████████▍        | 1.3MB 8.0MB/s eta 0:00:01\r",
      "\u001b[K     |███████████████████████▋        | 1.3MB 8.0MB/s eta 0:00:01\r",
      "\u001b[K     |███████████████████████▊        | 1.3MB 8.0MB/s eta 0:00:01\r",
      "\u001b[K     |████████████████████████        | 1.4MB 8.0MB/s eta 0:00:01\r",
      "\u001b[K     |████████████████████████        | 1.4MB 8.0MB/s eta 0:00:01\r",
      "\u001b[K     |████████████████████████▎       | 1.4MB 8.0MB/s eta 0:00:01\r",
      "\u001b[K     |████████████████████████▌       | 1.4MB 8.0MB/s eta 0:00:01\r",
      "\u001b[K     |████████████████████████▋       | 1.4MB 8.0MB/s eta 0:00:01\r",
      "\u001b[K     |████████████████████████▉       | 1.4MB 8.0MB/s eta 0:00:01\r",
      "\u001b[K     |█████████████████████████       | 1.4MB 8.0MB/s eta 0:00:01\r",
      "\u001b[K     |█████████████████████████▏      | 1.4MB 8.0MB/s eta 0:00:01\r",
      "\u001b[K     |█████████████████████████▍      | 1.4MB 8.0MB/s eta 0:00:01\r",
      "\u001b[K     |█████████████████████████▋      | 1.4MB 8.0MB/s eta 0:00:01\r",
      "\u001b[K     |█████████████████████████▊      | 1.5MB 8.0MB/s eta 0:00:01\r",
      "\u001b[K     |██████████████████████████      | 1.5MB 8.0MB/s eta 0:00:01\r",
      "\u001b[K     |██████████████████████████      | 1.5MB 8.0MB/s eta 0:00:01\r",
      "\u001b[K     |██████████████████████████▎     | 1.5MB 8.0MB/s eta 0:00:01\r",
      "\u001b[K     |██████████████████████████▌     | 1.5MB 8.0MB/s eta 0:00:01\r",
      "\u001b[K     |██████████████████████████▋     | 1.5MB 8.0MB/s eta 0:00:01\r",
      "\u001b[K     |██████████████████████████▉     | 1.5MB 8.0MB/s eta 0:00:01\r",
      "\u001b[K     |███████████████████████████     | 1.5MB 8.0MB/s eta 0:00:01\r",
      "\u001b[K     |███████████████████████████▏    | 1.5MB 8.0MB/s eta 0:00:01\r",
      "\u001b[K     |███████████████████████████▍    | 1.5MB 8.0MB/s eta 0:00:01\r",
      "\u001b[K     |███████████████████████████▌    | 1.6MB 8.0MB/s eta 0:00:01\r",
      "\u001b[K     |███████████████████████████▊    | 1.6MB 8.0MB/s eta 0:00:01\r",
      "\u001b[K     |████████████████████████████    | 1.6MB 8.0MB/s eta 0:00:01\r",
      "\u001b[K     |████████████████████████████    | 1.6MB 8.0MB/s eta 0:00:01\r",
      "\u001b[K     |████████████████████████████▎   | 1.6MB 8.0MB/s eta 0:00:01\r",
      "\u001b[K     |████████████████████████████▌   | 1.6MB 8.0MB/s eta 0:00:01\r",
      "\u001b[K     |████████████████████████████▋   | 1.6MB 8.0MB/s eta 0:00:01\r",
      "\u001b[K     |████████████████████████████▉   | 1.6MB 8.0MB/s eta 0:00:01\r",
      "\u001b[K     |█████████████████████████████   | 1.6MB 8.0MB/s eta 0:00:01\r",
      "\u001b[K     |█████████████████████████████▏  | 1.6MB 8.0MB/s eta 0:00:01\r",
      "\u001b[K     |█████████████████████████████▍  | 1.7MB 8.0MB/s eta 0:00:01\r",
      "\u001b[K     |█████████████████████████████▌  | 1.7MB 8.0MB/s eta 0:00:01\r",
      "\u001b[K     |█████████████████████████████▊  | 1.7MB 8.0MB/s eta 0:00:01\r",
      "\u001b[K     |██████████████████████████████  | 1.7MB 8.0MB/s eta 0:00:01\r",
      "\u001b[K     |██████████████████████████████  | 1.7MB 8.0MB/s eta 0:00:01\r",
      "\u001b[K     |██████████████████████████████▎ | 1.7MB 8.0MB/s eta 0:00:01\r",
      "\u001b[K     |██████████████████████████████▌ | 1.7MB 8.0MB/s eta 0:00:01\r",
      "\u001b[K     |██████████████████████████████▋ | 1.7MB 8.0MB/s eta 0:00:01\r",
      "\u001b[K     |██████████████████████████████▉ | 1.7MB 8.0MB/s eta 0:00:01\r",
      "\u001b[K     |███████████████████████████████ | 1.8MB 8.0MB/s eta 0:00:01\r",
      "\u001b[K     |███████████████████████████████▏| 1.8MB 8.0MB/s eta 0:00:01\r",
      "\u001b[K     |███████████████████████████████▍| 1.8MB 8.0MB/s eta 0:00:01\r",
      "\u001b[K     |███████████████████████████████▌| 1.8MB 8.0MB/s eta 0:00:01\r",
      "\u001b[K     |███████████████████████████████▊| 1.8MB 8.0MB/s eta 0:00:01\r",
      "\u001b[K     |████████████████████████████████| 1.8MB 8.0MB/s eta 0:00:01\r",
      "\u001b[K     |████████████████████████████████| 1.8MB 8.0MB/s \n",
      "\u001b[?25hRequirement already satisfied: PyYAML in /usr/local/lib/python3.7/dist-packages (from wandb) (3.13)\n",
      "Requirement already satisfied: python-dateutil>=2.6.1 in /usr/local/lib/python3.7/dist-packages (from wandb) (2.8.1)\n",
      "Requirement already satisfied: requests<3,>=2.0.0 in /usr/local/lib/python3.7/dist-packages (from wandb) (2.23.0)\n",
      "Collecting sentry-sdk>=0.4.0\n",
      "\u001b[?25l  Downloading https://files.pythonhosted.org/packages/1c/4a/a54b254f67d8f4052338d54ebe90126f200693440a93ef76d254d581e3ec/sentry_sdk-1.1.0-py2.py3-none-any.whl (131kB)\n",
      "\u001b[K     |████████████████████████████████| 133kB 54.8MB/s \n",
      "\u001b[?25hRequirement already satisfied: psutil>=5.0.0 in /usr/local/lib/python3.7/dist-packages (from wandb) (5.4.8)\n",
      "Requirement already satisfied: promise<3,>=2.0 in /usr/local/lib/python3.7/dist-packages (from wandb) (2.3)\n",
      "Collecting shortuuid>=0.5.0\n",
      "  Downloading https://files.pythonhosted.org/packages/25/a6/2ecc1daa6a304e7f1b216f0896b26156b78e7c38e1211e9b798b4716c53d/shortuuid-1.0.1-py3-none-any.whl\n",
      "Collecting pathtools\n",
      "  Downloading https://files.pythonhosted.org/packages/e7/7f/470d6fcdf23f9f3518f6b0b76be9df16dcc8630ad409947f8be2eb0ed13a/pathtools-0.1.2.tar.gz\n",
      "Requirement already satisfied: six>=1.13.0 in /usr/local/lib/python3.7/dist-packages (from wandb) (1.15.0)\n",
      "Requirement already satisfied: Click>=7.0 in /usr/local/lib/python3.7/dist-packages (from wandb) (7.1.2)\n",
      "Requirement already satisfied: protobuf>=3.12.0 in /usr/local/lib/python3.7/dist-packages (from wandb) (3.12.4)\n",
      "Collecting docker-pycreds>=0.4.0\n",
      "  Downloading https://files.pythonhosted.org/packages/f5/e8/f6bd1eee09314e7e6dee49cbe2c5e22314ccdb38db16c9fc72d2fa80d054/docker_pycreds-0.4.0-py2.py3-none-any.whl\n",
      "Collecting GitPython>=1.0.0\n",
      "\u001b[?25l  Downloading https://files.pythonhosted.org/packages/a6/99/98019716955ba243657daedd1de8f3a88ca1f5b75057c38e959db22fb87b/GitPython-3.1.14-py3-none-any.whl (159kB)\n",
      "\u001b[K     |████████████████████████████████| 163kB 49.9MB/s \n",
      "\u001b[?25hCollecting subprocess32>=3.5.3\n",
      "\u001b[?25l  Downloading https://files.pythonhosted.org/packages/32/c8/564be4d12629b912ea431f1a50eb8b3b9d00f1a0b1ceff17f266be190007/subprocess32-3.5.4.tar.gz (97kB)\n",
      "\u001b[K     |████████████████████████████████| 102kB 12.9MB/s \n",
      "\u001b[?25hCollecting configparser>=3.8.1\n",
      "  Downloading https://files.pythonhosted.org/packages/fd/01/ff260a18caaf4457eb028c96eeb405c4a230ca06c8ec9c1379f813caa52e/configparser-5.0.2-py3-none-any.whl\n",
      "Requirement already satisfied: chardet<4,>=3.0.2 in /usr/local/lib/python3.7/dist-packages (from requests<3,>=2.0.0->wandb) (3.0.4)\n",
      "Requirement already satisfied: urllib3!=1.25.0,!=1.25.1,<1.26,>=1.21.1 in /usr/local/lib/python3.7/dist-packages (from requests<3,>=2.0.0->wandb) (1.24.3)\n",
      "Requirement already satisfied: certifi>=2017.4.17 in /usr/local/lib/python3.7/dist-packages (from requests<3,>=2.0.0->wandb) (2020.12.5)\n",
      "Requirement already satisfied: idna<3,>=2.5 in /usr/local/lib/python3.7/dist-packages (from requests<3,>=2.0.0->wandb) (2.10)\n",
      "Requirement already satisfied: setuptools in /usr/local/lib/python3.7/dist-packages (from protobuf>=3.12.0->wandb) (56.1.0)\n",
      "Collecting gitdb<5,>=4.0.1\n",
      "\u001b[?25l  Downloading https://files.pythonhosted.org/packages/ea/e8/f414d1a4f0bbc668ed441f74f44c116d9816833a48bf81d22b697090dba8/gitdb-4.0.7-py3-none-any.whl (63kB)\n",
      "\u001b[K     |████████████████████████████████| 71kB 8.2MB/s \n",
      "\u001b[?25hCollecting smmap<5,>=3.0.1\n",
      "  Downloading https://files.pythonhosted.org/packages/68/ee/d540eb5e5996eb81c26ceffac6ee49041d473bc5125f2aa995cf51ec1cf1/smmap-4.0.0-py2.py3-none-any.whl\n",
      "Building wheels for collected packages: pathtools, subprocess32\n",
      "  Building wheel for pathtools (setup.py) ... \u001b[?25l\u001b[?25hdone\n",
      "  Created wheel for pathtools: filename=pathtools-0.1.2-cp37-none-any.whl size=8786 sha256=9cc485683fbfe62a912905dfaaee75cb32555229a16db1962c6141ef8ab021a3\n",
      "  Stored in directory: /root/.cache/pip/wheels/0b/04/79/c3b0c3a0266a3cb4376da31e5bfe8bba0c489246968a68e843\n",
      "  Building wheel for subprocess32 (setup.py) ... \u001b[?25l\u001b[?25hdone\n",
      "  Created wheel for subprocess32: filename=subprocess32-3.5.4-cp37-none-any.whl size=6489 sha256=b8c406f51fc4a57e63dceaddcf8e78ba559c0ec80ee205d43849a2e9ec245f7f\n",
      "  Stored in directory: /root/.cache/pip/wheels/68/39/1a/5e402bdfdf004af1786c8b853fd92f8c4a04f22aad179654d1\n",
      "Successfully built pathtools subprocess32\n",
      "Installing collected packages: sentry-sdk, shortuuid, pathtools, docker-pycreds, smmap, gitdb, GitPython, subprocess32, configparser, wandb\n",
      "Successfully installed GitPython-3.1.14 configparser-5.0.2 docker-pycreds-0.4.0 gitdb-4.0.7 pathtools-0.1.2 sentry-sdk-1.1.0 shortuuid-1.0.1 smmap-4.0.0 subprocess32-3.5.4 wandb-0.10.30\n",
      "Mounted at /content/drive\n"
     ]
    }
   ],
   "source": [
    "import os\n",
    "!pip install wandb\n",
    "from google.colab import drive\n",
    "drive.mount('/content/drive')\n",
    "import sys\n",
    "sys.path.append('./drive/MyDrive/Colab Notebooks/CS6910/Assignment 3/')"
   ]
  },
  {
   "cell_type": "markdown",
   "id": "31d369c2",
   "metadata": {
    "id": "31d369c2"
   },
   "source": [
    "## Wandb"
   ]
  },
  {
   "cell_type": "code",
   "execution_count": null,
   "id": "e0be8f8d",
   "metadata": {
    "colab": {
     "base_uri": "https://localhost:8080/"
    },
    "id": "e0be8f8d",
    "outputId": "4a919a8e-0e75-481f-e32e-dc06533df91f"
   },
   "outputs": [
    {
     "name": "stdout",
     "output_type": "stream",
     "text": [
      "Requirement already up-to-date: wandb in /usr/local/lib/python3.7/dist-packages (0.10.30)\n",
      "Requirement already satisfied, skipping upgrade: PyYAML in /usr/local/lib/python3.7/dist-packages (from wandb) (3.13)\n",
      "Requirement already satisfied, skipping upgrade: promise<3,>=2.0 in /usr/local/lib/python3.7/dist-packages (from wandb) (2.3)\n",
      "Requirement already satisfied, skipping upgrade: python-dateutil>=2.6.1 in /usr/local/lib/python3.7/dist-packages (from wandb) (2.8.1)\n",
      "Requirement already satisfied, skipping upgrade: pathtools in /usr/local/lib/python3.7/dist-packages (from wandb) (0.1.2)\n",
      "Requirement already satisfied, skipping upgrade: protobuf>=3.12.0 in /usr/local/lib/python3.7/dist-packages (from wandb) (3.12.4)\n",
      "Requirement already satisfied, skipping upgrade: shortuuid>=0.5.0 in /usr/local/lib/python3.7/dist-packages (from wandb) (1.0.1)\n",
      "Requirement already satisfied, skipping upgrade: Click>=7.0 in /usr/local/lib/python3.7/dist-packages (from wandb) (7.1.2)\n",
      "Requirement already satisfied, skipping upgrade: six>=1.13.0 in /usr/local/lib/python3.7/dist-packages (from wandb) (1.15.0)\n",
      "Requirement already satisfied, skipping upgrade: psutil>=5.0.0 in /usr/local/lib/python3.7/dist-packages (from wandb) (5.4.8)\n",
      "Requirement already satisfied, skipping upgrade: subprocess32>=3.5.3 in /usr/local/lib/python3.7/dist-packages (from wandb) (3.5.4)\n",
      "Requirement already satisfied, skipping upgrade: docker-pycreds>=0.4.0 in /usr/local/lib/python3.7/dist-packages (from wandb) (0.4.0)\n",
      "Requirement already satisfied, skipping upgrade: configparser>=3.8.1 in /usr/local/lib/python3.7/dist-packages (from wandb) (5.0.2)\n",
      "Requirement already satisfied, skipping upgrade: sentry-sdk>=0.4.0 in /usr/local/lib/python3.7/dist-packages (from wandb) (1.1.0)\n",
      "Requirement already satisfied, skipping upgrade: requests<3,>=2.0.0 in /usr/local/lib/python3.7/dist-packages (from wandb) (2.23.0)\n",
      "Requirement already satisfied, skipping upgrade: GitPython>=1.0.0 in /usr/local/lib/python3.7/dist-packages (from wandb) (3.1.14)\n",
      "Requirement already satisfied, skipping upgrade: setuptools in /usr/local/lib/python3.7/dist-packages (from protobuf>=3.12.0->wandb) (56.1.0)\n",
      "Requirement already satisfied, skipping upgrade: urllib3>=1.10.0 in /usr/local/lib/python3.7/dist-packages (from sentry-sdk>=0.4.0->wandb) (1.24.3)\n",
      "Requirement already satisfied, skipping upgrade: certifi in /usr/local/lib/python3.7/dist-packages (from sentry-sdk>=0.4.0->wandb) (2020.12.5)\n",
      "Requirement already satisfied, skipping upgrade: idna<3,>=2.5 in /usr/local/lib/python3.7/dist-packages (from requests<3,>=2.0.0->wandb) (2.10)\n",
      "Requirement already satisfied, skipping upgrade: chardet<4,>=3.0.2 in /usr/local/lib/python3.7/dist-packages (from requests<3,>=2.0.0->wandb) (3.0.4)\n",
      "Requirement already satisfied, skipping upgrade: gitdb<5,>=4.0.1 in /usr/local/lib/python3.7/dist-packages (from GitPython>=1.0.0->wandb) (4.0.7)\n",
      "Requirement already satisfied, skipping upgrade: smmap<5,>=3.0.1 in /usr/local/lib/python3.7/dist-packages (from gitdb<5,>=4.0.1->GitPython>=1.0.0->wandb) (4.0.0)\n",
      "\u001b[34m\u001b[1mwandb\u001b[0m: You can find your API key in your browser here: https://wandb.ai/authorize\n",
      "\u001b[34m\u001b[1mwandb\u001b[0m: Paste an API key from your profile and hit enter: \n",
      "\u001b[34m\u001b[1mwandb\u001b[0m: Appending key for api.wandb.ai to your netrc file: /root/.netrc\n"
     ]
    }
   ],
   "source": [
    "!pip install wandb --upgrade\n",
    "import wandb\n",
    "!wandb login"
   ]
  },
  {
   "cell_type": "markdown",
   "id": "65a4e6c4",
   "metadata": {
    "id": "65a4e6c4"
   },
   "source": [
    "## Set up device"
   ]
  },
  {
   "cell_type": "code",
   "execution_count": null,
   "id": "452620f3",
   "metadata": {
    "id": "452620f3"
   },
   "outputs": [],
   "source": [
    "device = torch.device('cuda' if torch.cuda.is_available() else 'cpu')"
   ]
  },
  {
   "cell_type": "code",
   "execution_count": null,
   "id": "D-yqoK0AyyT8",
   "metadata": {
    "colab": {
     "base_uri": "https://localhost:8080/"
    },
    "id": "D-yqoK0AyyT8",
    "outputId": "b99b369d-2e50-4e3e-b5bf-4dab6d348d11"
   },
   "outputs": [
    {
     "data": {
      "text/plain": [
       "device(type='cuda')"
      ]
     },
     "execution_count": 5,
     "metadata": {
      "tags": []
     },
     "output_type": "execute_result"
    }
   ],
   "source": [
    "device"
   ]
  },
  {
   "cell_type": "markdown",
   "id": "4df79a1b",
   "metadata": {
    "id": "4df79a1b"
   },
   "source": [
    "## Assign model name"
   ]
  },
  {
   "cell_type": "code",
   "execution_count": null,
   "id": "b6d4d263",
   "metadata": {
    "id": "b6d4d263"
   },
   "outputs": [],
   "source": [
    "modelName = 'Encoder_Decoder_attention_Dakshina_Hi'"
   ]
  },
  {
   "cell_type": "markdown",
   "id": "9e25dba3",
   "metadata": {
    "id": "9e25dba3"
   },
   "source": [
    "## Set up Dataset"
   ]
  },
  {
   "cell_type": "code",
   "execution_count": null,
   "id": "e4fcc57a",
   "metadata": {
    "id": "e4fcc57a"
   },
   "outputs": [],
   "source": [
    "with open(r\"./drive/MyDrive/Colab Notebooks/CS6910/Assignment 3/hi/lexicons/hi.translit.sampled.train.tsv\", 'r', encoding=\"utf8\") as f:\n",
    "    train_lines = f.read().split(\"\\n\")\n",
    "    \n",
    "with open(r\"./drive/MyDrive/Colab Notebooks/CS6910/Assignment 3/hi/lexicons/hi.translit.sampled.dev.tsv\", 'r', encoding=\"utf8\") as f:\n",
    "    val_lines = f.read().split(\"\\n\")"
   ]
  },
  {
   "cell_type": "code",
   "execution_count": null,
   "id": "12af2065",
   "metadata": {
    "id": "12af2065"
   },
   "outputs": [],
   "source": [
    "train_num_samples = len(train_lines)\n",
    "val_num_samples = len(val_lines)"
   ]
  },
  {
   "cell_type": "code",
   "execution_count": null,
   "id": "e0da68eb",
   "metadata": {
    "id": "e0da68eb"
   },
   "outputs": [],
   "source": [
    "train_input_texts = []\n",
    "train_target_texts = []\n",
    "\n",
    "val_input_texts = []\n",
    "val_target_texts = []\n",
    "\n",
    "input_characters = set()\n",
    "target_characters = set()"
   ]
  },
  {
   "cell_type": "code",
   "execution_count": null,
   "id": "6aa5511b",
   "metadata": {
    "colab": {
     "base_uri": "https://localhost:8080/"
    },
    "id": "6aa5511b",
    "outputId": "9fe3e64b-5179-48dd-e096-c5a36f946dd2"
   },
   "outputs": [
    {
     "name": "stdout",
     "output_type": "stream",
     "text": [
      "Number of train samples: 44204\n",
      "Number of unique input tokens: 27\n",
      "Number of unique output tokens: 66\n",
      "Max train sequence length for inputs: 20\n",
      "Max train sequence length for outputs: 21\n"
     ]
    }
   ],
   "source": [
    "## Train Data ##\n",
    "\n",
    "for line in train_lines[: min(train_num_samples, len(train_lines) - 1)]:\n",
    "    target_text, input_text, _ = line.split(\"\\t\")\n",
    "    target_text = \"\\t\" + target_text + \"\\n\"\n",
    "    train_input_texts.append(input_text)\n",
    "    train_target_texts.append(target_text)\n",
    "    for char in input_text:\n",
    "        if char not in input_characters:\n",
    "            input_characters.add(char)\n",
    "    for char in target_text:\n",
    "        if char not in target_characters:\n",
    "            target_characters.add(char)\n",
    "\n",
    "input_characters.add(' ')\n",
    "target_characters.add(' ')\n",
    "input_characters = sorted(list(input_characters))\n",
    "target_characters = sorted(list(target_characters))\n",
    "num_encoder_tokens = len(input_characters)\n",
    "num_decoder_tokens = len(target_characters)\n",
    "\n",
    "train_max_encoder_seq_length = max([len(txt) for txt in train_input_texts])\n",
    "train_max_decoder_seq_length = max([len(txt) for txt in train_target_texts])\n",
    "\n",
    "print(\"Number of train samples:\", len(train_input_texts))\n",
    "print(\"Number of unique input tokens:\", num_encoder_tokens)\n",
    "print(\"Number of unique output tokens:\", num_decoder_tokens)\n",
    "\n",
    "print(\"Max train sequence length for inputs:\", train_max_encoder_seq_length)\n",
    "print(\"Max train sequence length for outputs:\", train_max_decoder_seq_length)"
   ]
  },
  {
   "cell_type": "code",
   "execution_count": null,
   "id": "6fe62ef4",
   "metadata": {
    "colab": {
     "base_uri": "https://localhost:8080/"
    },
    "id": "6fe62ef4",
    "outputId": "ee065b03-7d81-4f43-8539-da8bdcc225ef"
   },
   "outputs": [
    {
     "name": "stdout",
     "output_type": "stream",
     "text": [
      "Number of val samples: 4358\n",
      "Max val sequence length for inputs: 18\n",
      "Max val sequence length for outputs: 16\n"
     ]
    }
   ],
   "source": [
    "## Val Data ##\n",
    "\n",
    "for line in val_lines[: min(val_num_samples, len(val_lines) - 1)]:\n",
    "    target_text, input_text, _ = line.split(\"\\t\")\n",
    "    target_text = \"\\t\" + target_text + \"\\n\"\n",
    "    val_input_texts.append(input_text)\n",
    "    val_target_texts.append(target_text)\n",
    "    \n",
    "val_max_encoder_seq_length = max([len(txt) for txt in val_input_texts])\n",
    "val_max_decoder_seq_length = max([len(txt) for txt in val_target_texts])\n",
    "\n",
    "print(\"Number of val samples:\", len(val_input_texts))\n",
    "\n",
    "print(\"Max val sequence length for inputs:\", val_max_encoder_seq_length)\n",
    "print(\"Max val sequence length for outputs:\", val_max_decoder_seq_length)"
   ]
  },
  {
   "cell_type": "code",
   "execution_count": null,
   "id": "8c2fb4c2",
   "metadata": {
    "id": "8c2fb4c2"
   },
   "outputs": [],
   "source": [
    "# token indices\n",
    "input_token_index = dict([(char, i) for i, char in enumerate(input_characters)])\n",
    "target_token_index = dict([(char, i) for i, char in enumerate(target_characters)])\n",
    "\n",
    "encoder_input_data_train = np.zeros(\n",
    "    (len(train_input_texts), train_max_encoder_seq_length, num_encoder_tokens), dtype=\"float32\"\n",
    ")\n",
    "decoder_input_data_train = np.zeros(\n",
    "    (len(train_input_texts), train_max_decoder_seq_length, num_decoder_tokens), dtype=\"float32\"\n",
    ")\n",
    "\n",
    "\n",
    "encoder_input_data_val = np.zeros(\n",
    "    (len(val_input_texts), train_max_encoder_seq_length, num_encoder_tokens), dtype=\"float32\"\n",
    ")\n",
    "decoder_input_data_val = np.zeros(\n",
    "    (len(val_input_texts), train_max_decoder_seq_length, num_decoder_tokens), dtype=\"float32\"\n",
    ")"
   ]
  },
  {
   "cell_type": "code",
   "execution_count": null,
   "id": "755765e5",
   "metadata": {
    "id": "755765e5"
   },
   "outputs": [],
   "source": [
    "## Train Data ##\n",
    "\n",
    "for i, (input_text, target_text) in enumerate(zip(train_input_texts, train_target_texts)):\n",
    "    for t, char in enumerate(input_text):\n",
    "        encoder_input_data_train[i, t, input_token_index[char]] = 1. \n",
    "    encoder_input_data_train[i, t + 1:, input_token_index[' ']] = 1.\n",
    "    \n",
    "    for t, char in enumerate(target_text):\n",
    "        decoder_input_data_train[i, t, target_token_index[char]] = 1.\n",
    "    decoder_input_data_train[i, t + 1:, target_token_index[' ']] = 1.\n",
    "    \n",
    "## Val Data ##\n",
    "\n",
    "for i, (input_text, target_text) in enumerate(zip(val_input_texts, val_target_texts)):\n",
    "    for t, char in enumerate(input_text):\n",
    "        encoder_input_data_val[i, t, input_token_index[char]] = 1. \n",
    "    encoder_input_data_val[i, t + 1:, input_token_index[' ']] = 1.\n",
    "    \n",
    "    for t, char in enumerate(target_text):\n",
    "        decoder_input_data_val[i, t, target_token_index[char]] = 1.\n",
    "    decoder_input_data_val[i, t + 1:, target_token_index[' ']] = 1."
   ]
  },
  {
   "cell_type": "code",
   "execution_count": null,
   "id": "ebffc224",
   "metadata": {
    "id": "ebffc224"
   },
   "outputs": [],
   "source": [
    "# Convert data to tensors so that u can pass through dataloaders\n",
    "\n",
    "encoder_inp_train = torch.stack([torch.from_numpy(np.array(i)) for i in encoder_input_data_train])\n",
    "decoder_inp_train = torch.stack([torch.from_numpy(np.array(i)) for i in decoder_input_data_train])\n",
    "\n",
    "encoder_inp_val = torch.stack([torch.from_numpy(np.array(i)) for i in encoder_input_data_val])\n",
    "decoder_inp_val = torch.stack([torch.from_numpy(np.array(i)) for i in decoder_input_data_val])"
   ]
  },
  {
   "cell_type": "code",
   "execution_count": null,
   "id": "47a4ae78",
   "metadata": {
    "id": "47a4ae78"
   },
   "outputs": [],
   "source": [
    "batch_size = 64\n",
    "\n",
    "train_dataset = torch.utils.data.TensorDataset(encoder_inp_train, decoder_inp_train)\n",
    "train_loader = torch.utils.data.DataLoader(train_dataset, batch_size=batch_size, shuffle = True)\n",
    "\n",
    "val_dataset = torch.utils.data.TensorDataset(encoder_inp_val, decoder_inp_val)\n",
    "val_loader = torch.utils.data.DataLoader(val_dataset, batch_size=batch_size)#, shuffle = True)"
   ]
  },
  {
   "cell_type": "markdown",
   "id": "e3c20593",
   "metadata": {
    "id": "e3c20593"
   },
   "source": [
    "## Build Model"
   ]
  },
  {
   "cell_type": "code",
   "execution_count": null,
   "id": "de4135b0",
   "metadata": {
    "id": "de4135b0"
   },
   "outputs": [],
   "source": [
    "class Attention(nn.Module):\n",
    "    def __init__(self, hidden_size):\n",
    "        super(Attention, self).__init__()\n",
    "        self.hidden_size = hidden_size\n",
    "        self.attn = nn.Linear(self.hidden_size * 2, hidden_size)\n",
    "        self.v = nn.Parameter(torch.rand(hidden_size))\n",
    "        stdv = 1. / math.sqrt(self.v.size(0))\n",
    "        self.v.data.uniform_(-stdv, stdv)\n",
    "\n",
    "    def forward(self, hidden, encoder_outputs):\n",
    "        timestep = encoder_outputs.size(0)\n",
    "        h = hidden.repeat(timestep, 1, 1).transpose(0, 1)\n",
    "        encoder_outputs = encoder_outputs.transpose(0, 1)\n",
    "        attn_energies = self.score(h, encoder_outputs) \n",
    "        return F.softmax(attn_energies, dim=1).unsqueeze(1) \n",
    "\n",
    "    def score(self, hidden, encoder_outputs):\n",
    "        energy = F.relu(self.attn(torch.cat([hidden, encoder_outputs], 2)))\n",
    "        energy = energy.transpose(1, 2)\n",
    "        v = self.v.repeat(encoder_outputs.size(0), 1).unsqueeze(1)\n",
    "        energy = torch.bmm(v, energy)\n",
    "        return energy.squeeze(1)"
   ]
  },
  {
   "cell_type": "code",
   "execution_count": null,
   "id": "4a8a7067",
   "metadata": {
    "id": "4a8a7067"
   },
   "outputs": [],
   "source": [
    "class Encoder(nn.Module):\n",
    "    def __init__(self,  num_encoder_tokens, hid_dim, n_layers, dropout, enc_embedding_dim = 0, module='LSTM'):\n",
    "        super(Encoder,self).__init__()\n",
    "        \n",
    "        self.hid_dim = hid_dim\n",
    "        self.n_layers = n_layers\n",
    "        self.module = module\n",
    "        self.embedding_dim = enc_embedding_dim\n",
    "        self.enc_inp = num_encoder_tokens\n",
    "        if self.embedding_dim !=0:\n",
    "            self.enc_inp = self.embedding_dim\n",
    "            self.embedding = nn.Embedding(num_encoder_tokens, self.embedding_dim)\n",
    "            \n",
    "        if self.module =='LSTM':\n",
    "            self.rnn = nn.LSTM(self.enc_inp, hid_dim, n_layers, dropout = dropout)\n",
    "        elif self.module == 'RNN':\n",
    "            self.rnn = nn.RNN(self.enc_inp, hid_dim, n_layers, dropout = dropout)\n",
    "        elif self.module == 'GRU':\n",
    "            self.rnn = nn.GRU(self.enc_inp, hid_dim, n_layers, dropout = dropout)\n",
    "        \n",
    "    def forward(self, inp):\n",
    "        \n",
    "        inp = inp.transpose(0,1)  # check input dimensions before embedding. Currently : (T, N)\n",
    "        if self.embedding_dim !=0:\n",
    "            inp = inp.argmax(2)\n",
    "            inp = self.embedding(inp)\n",
    "            \n",
    "        outputs, hidden_cell = self.rnn(inp)\n",
    "        \n",
    "        return outputs, hidden_cell"
   ]
  },
  {
   "cell_type": "code",
   "execution_count": null,
   "id": "046c4f0b",
   "metadata": {
    "id": "046c4f0b"
   },
   "outputs": [],
   "source": [
    "class Decoder(nn.Module):\n",
    "    def __init__(self, num_decoder_tokens, hid_dim, n_layers, dropout, dec_embedding_dim = 0, module='LSTM', atten=False):\n",
    "        super(Decoder,self).__init__()\n",
    "        \n",
    "        self.output_dim = num_decoder_tokens\n",
    "        self.hid_dim = hid_dim\n",
    "        self.n_layers = n_layers\n",
    "        self.module = module\n",
    "        self.atten = atten\n",
    "        self.embedding_dim = dec_embedding_dim\n",
    "        self.dec_inp = num_decoder_tokens\n",
    "        \n",
    "        if self.embedding_dim !=0:\n",
    "            self.dec_inp = self.embedding_dim\n",
    "            self.embedding = nn.Embedding(num_decoder_tokens, self.embedding_dim)\n",
    "        \n",
    "        if self.atten == False:\n",
    "            if module=='LSTM':\n",
    "                self.rnn = nn.LSTM(self.dec_inp, hid_dim, n_layers, dropout = dropout)\n",
    "            if module=='RNN':\n",
    "                self.rnn = nn.RNN(self.dec_inp, hid_dim, n_layers, dropout = dropout)\n",
    "            if module=='GRU':\n",
    "                self.rnn = nn.GRU(self.dec_inp, hid_dim, n_layers, dropout = dropout)\n",
    "                \n",
    "            self.fc_out = nn.Linear(self.hid_dim, self.output_dim)\n",
    "                \n",
    "        else:\n",
    "            self.attention = Attention(self.hid_dim)\n",
    "            \n",
    "            if module=='LSTM':\n",
    "                self.rnn = nn.LSTM(self.hid_dim + self.dec_inp, hid_dim, n_layers, dropout = dropout)\n",
    "            if module=='RNN':\n",
    "                self.rnn = nn.RNN(self.hid_dim + self.dec_inp, hid_dim, n_layers, dropout = dropout)\n",
    "            if module=='GRU':\n",
    "                self.rnn = nn.GRU(self.hid_dim + self.dec_inp, hid_dim, n_layers, dropout = dropout)\n",
    "                \n",
    "            self.fc_out = nn.Linear(self.hid_dim * 2, self.output_dim)\n",
    "        \n",
    "        \n",
    "        \n",
    "    def forward(self, inp, hidden_cell, encoder_states):\n",
    "        \n",
    "        if isinstance(hidden_cell, tuple):\n",
    "            hidden = hidden_cell[0]\n",
    "            cell = hidden_cell[1]\n",
    "        else:\n",
    "            hidden = hidden_cell\n",
    "        \n",
    "        if self.embedding_dim !=0:\n",
    "            inp = inp.argmax(2)\n",
    "            inp = self.embedding(inp)\n",
    "        \n",
    "        if self.atten == False:\n",
    "            if self.module == 'LSTM':\n",
    "                output, hidden = self.rnn(inp, (hidden, cell))\n",
    "            else:\n",
    "                output, hidden = self.rnn(inp,hidden)\n",
    "\n",
    "            prediction = self.fc_out(output.squeeze(0))\n",
    "            return prediction, hidden\n",
    "        \n",
    "        else:\n",
    "            attn_weights = self.attention(hidden[-1], encoder_states)  # why -1 ? wat is dim of hidden?\n",
    "            context = attn_weights.bmm(encoder_states.transpose(0, 1))\n",
    "            context = context.transpose(0, 1)\n",
    "            rnn_inp = torch.cat([inp, context], 2) \n",
    "            \n",
    "            if self.module == 'LSTM':\n",
    "                output, hidden = self.rnn(rnn_inp, (hidden, cell))\n",
    "            else:\n",
    "                output, hidden = self.rnn(rnn_inp, hidden)\n",
    "            \n",
    "            output = output.squeeze(0) \n",
    "            context = context.squeeze(0)\n",
    "            output = self.fc_out(torch.cat([output, context], 1))\n",
    "            \n",
    "            return output, hidden, attn_weights"
   ]
  },
  {
   "cell_type": "code",
   "execution_count": null,
   "id": "3eddbe7c",
   "metadata": {
    "id": "3eddbe7c"
   },
   "outputs": [],
   "source": [
    "class Seq2Seq(nn.Module):\n",
    "    def __init__(self, encoder, decoder, device):\n",
    "        super(Seq2Seq, self).__init__()\n",
    "        \n",
    "        self.encoder = encoder\n",
    "        self.decoder = decoder\n",
    "        self.device = device\n",
    "        self.atten = self.decoder.atten\n",
    "        \n",
    "        assert encoder.hid_dim == decoder.hid_dim, \\\n",
    "            \"Hidden dimensions of encoder and decoder must be equal!\"\n",
    "        assert encoder.n_layers == decoder.n_layers, \\\n",
    "            \"Encoder and decoder must have equal number of layers!\"\n",
    "        \n",
    "    def forward(self, src, trg, to_train, teacher_forcing_ratio = 0.5, beam_width = 3):\n",
    "        \n",
    "        if to_train == True:\n",
    "        \n",
    "            trg = trg.transpose(0,1)\n",
    "            batch_size = trg.shape[1]\n",
    "            trg_len = trg.shape[0]\n",
    "            trg_vocab_size = self.decoder.output_dim\n",
    "            \n",
    "            outputs = torch.zeros(trg_len, batch_size, trg_vocab_size).to(self.device)\n",
    "\n",
    "            enc_output, hidden_cell = self.encoder(src)\n",
    "            inp = trg[0,:]\n",
    "\n",
    "            for t in range(1, trg_len):\n",
    "                \n",
    "                if self.atten == False:\n",
    "                    prediction, hidden_cell = self.decoder(inp.unsqueeze(0), hidden_cell, enc_output) # recursively set hidden, cell\n",
    "                else:\n",
    "                    prediction, hidden_cell, atten_weights = self.decoder(inp.unsqueeze(0), hidden_cell, enc_output)\n",
    "                outputs[t] = prediction\n",
    "                teacher_force = random.random() < teacher_forcing_ratio\n",
    "                top1 = prediction.argmax(1)\n",
    "                top1_one_hot = torch.zeros_like(prediction).to(self.device)\n",
    "                top1_one_hot[:,top1] = 1.\n",
    "\n",
    "                inp = trg[t] if teacher_force else top1_one_hot\n",
    "\n",
    "            return outputs\n",
    "        \n",
    "        else :\n",
    "            batch_size = trg.shape[0]\n",
    "            trg_len = trg.shape[1]\n",
    "            trg_vocab_size = self.decoder.output_dim\n",
    "\n",
    "            enc_output, hidden_cell = self.encoder(src)\n",
    "            outputs = self.beam_decode(beam_width, trg, hidden_cell, enc_output)\n",
    "            \n",
    "            return outputs\n",
    "        \n",
    "    def beam_decode(self, beam_width, target_tensor, decoder_hiddens, encoder_outputs=None):\n",
    "        \n",
    "        target_tensor = target_tensor.transpose(0,1)\n",
    "        beam_width = beam_width\n",
    "        topk = 1\n",
    "        decoded_batch = []\n",
    "        \n",
    "        batch_loss = []\n",
    "        EOS_token = target_token_index['\\n']\n",
    "        \n",
    "        criterion_infer = torch.nn.CrossEntropyLoss(ignore_index = target_token_index[' '])\n",
    "        \n",
    "        for idx in range(target_tensor.size(1)):\n",
    "            if isinstance(decoder_hiddens, tuple):\n",
    "                decoder_hidden = (\n",
    "                    decoder_hiddens[0][:, idx, :].contiguous().unsqueeze(1), decoder_hiddens[1][:, idx, :].contiguous().unsqueeze(1))\n",
    "            else:\n",
    "                decoder_hidden = decoder_hiddens[:, idx, :].contiguous().unsqueeze(1)\n",
    "                \n",
    "            encoder_output = encoder_outputs[:, idx, :].unsqueeze(1)\n",
    "            decoder_input_token =  target_token_index[\"\\t\"]\n",
    "            endnodes = []\n",
    "            number_required = min((topk + 1), topk - len(endnodes))\n",
    "\n",
    "            node = BeamSearchNode(decoder_hidden,   None,       decoder_input_token, 0,     1   , 0)\n",
    "            nodes = PriorityQueue()\n",
    "\n",
    "            nodes.put((-node.eval(), node))\n",
    "            qsize = 1\n",
    "\n",
    "            while True:\n",
    "                if qsize > train_max_decoder_seq_length * beam_width: \n",
    "                    break\n",
    "\n",
    "                score, n = nodes.get()\n",
    "                decoder_input_token = n.wordid\n",
    "                #print(\"wordid: \",n.wordid)\n",
    "                decoder_hidden = n.h\n",
    "                \n",
    "                decoder_input = torch.zeros((1, 1, num_decoder_tokens)).to(self.device)\n",
    "                decoder_input[0, 0, decoder_input_token] = 1.\n",
    "                if n.wordid == EOS_token and n.prevNode != None:\n",
    "                    \n",
    "                    endnodes.append((score, n))\n",
    "                    if len(endnodes) >= number_required:\n",
    "                        break\n",
    "                    else:\n",
    "                        continue\n",
    "\n",
    "                if self.atten == False:\n",
    "                    decoder_output, decoder_hidden = self.decoder(decoder_input, decoder_hidden, encoder_output)\n",
    "                \n",
    "                else:\n",
    "                    decoder_output, decoder_hidden, atten_weights = self.decoder(decoder_input, decoder_hidden, encoder_output)\n",
    "                \n",
    "                log_softmax =  F.log_softmax(decoder_output, dim=1)\n",
    "                log_prob, indexes = torch.topk(log_softmax, beam_width)\n",
    "                #log_prob =  F.log_softmax(log_prob, dim=1)\n",
    "                nextnodes = []\n",
    "                # Below seems okay :-)\n",
    "                #print(\"Verify target_tensor shape to check argmax(0)\",target_tensor[n.leng, idx].shape)\n",
    "                loss_at_t = criterion_infer(decoder_output, target_tensor[n.leng, idx].argmax(0).unsqueeze(0))\n",
    "                \n",
    "                for new_k in range(beam_width):\n",
    "                    decoded_t = indexes[0][new_k].view(-1)\n",
    "                    log_p = log_prob[0][new_k].item()\n",
    "                    #print(\"decoded_t: \",decoded_t)\n",
    "                    #print(\"decoded_t: \",n.wordid)\n",
    "                    node = BeamSearchNode(decoder_hidden, n, decoded_t.item(), n.logp + log_p, n.leng + 1, n.loss + loss_at_t)\n",
    "                    score = -node.eval()\n",
    "                    \n",
    "                    if n.leng < train_max_decoder_seq_length - 1:\n",
    "                        nextnodes.append((score, node))\n",
    "                    \n",
    "                    else:\n",
    "                        endnodes.append((score,node))\n",
    "\n",
    "                for i in range(len(nextnodes)):\n",
    "                    score, nn = nextnodes[i]\n",
    "                    nodes.put((score, nn))\n",
    "                    \n",
    "                qsize += len(nextnodes) - 1\n",
    "            \n",
    "            if len(endnodes) == 0:\n",
    "                endnodes = [nodes.get() for _ in range(topk)]\n",
    "\n",
    "            utterances = []\n",
    "            utterances_loss = []\n",
    "            for score, n in sorted(endnodes, key=operator.itemgetter(0)):\n",
    "                utterance = []\n",
    "                utterance.append(n.wordid)\n",
    "                loss_sum = n.loss\n",
    "                utterances_loss.append(loss_sum)\n",
    "                while n.prevNode != None:\n",
    "                    n = n.prevNode\n",
    "                    utterance.append(n.wordid)\n",
    "                \n",
    "                utterance = utterance[::-1]\n",
    "                utterances.append(utterance)\n",
    "                #print(utterance)\n",
    "            decoded_batch.append(utterances)\n",
    "            batch_loss.append(utterances_loss)\n",
    "            \n",
    "        return decoded_batch, batch_loss\n",
    "\n",
    "\n",
    "class BeamSearchNode(object):\n",
    "    def __init__(self, hiddenstate, previousNode, wordId, logProb, length, loss):\n",
    "        self.h = hiddenstate\n",
    "        self.prevNode = previousNode\n",
    "        self.wordid = wordId\n",
    "        self.logp = logProb\n",
    "        self.leng = length\n",
    "        self.loss = loss\n",
    "\n",
    "    def eval(self, alpha=1.0):\n",
    "        reward = 0\n",
    "        return self.logp / float(self.leng - 1 + 1e-6) + alpha * reward \n",
    "\n",
    "    def __lt__(self, other):\n",
    "        return self.leng < other.leng\n",
    "\n",
    "    def __gt__(self, other):\n",
    "        return self.leng > other.leng"
   ]
  },
  {
   "cell_type": "markdown",
   "id": "4373b05f",
   "metadata": {
    "id": "4373b05f"
   },
   "source": [
    "## Helpers to decode back sentance"
   ]
  },
  {
   "cell_type": "code",
   "execution_count": null,
   "id": "4aac82c0",
   "metadata": {
    "id": "4aac82c0"
   },
   "outputs": [],
   "source": [
    "reverse_input_char_index = dict((i, char) for char, i in input_token_index.items())\n",
    "reverse_target_char_index = dict((i, char) for char, i in target_token_index.items())"
   ]
  },
  {
   "cell_type": "markdown",
   "id": "3fca3128",
   "metadata": {
    "id": "3fca3128"
   },
   "source": [
    "## Functions to match output sequence to calculate accuracy"
   ]
  },
  {
   "cell_type": "code",
   "execution_count": null,
   "id": "58094cf3",
   "metadata": {
    "id": "58094cf3"
   },
   "outputs": [],
   "source": [
    "def no_correct_in_batch_train(target, output):\n",
    "    target = target.transpose(0,1)\n",
    "    truth = output.argmax(2).transpose(0,1)\n",
    "    no_correct = 0\n",
    "    batch_size = target.shape[0]\n",
    "    trgt_length = target.shape[1]\n",
    "    for seq in range(batch_size):\n",
    "        #decoded_sen = \"\"\n",
    "        for char in range(1, trgt_length):\n",
    "            if target[seq,char] == target_token_index['\\n']:\n",
    "                no_correct += 1\n",
    "                break\n",
    "            if target[seq,char] != truth[seq,char]:\n",
    "                break\n",
    "            #decoded_sen = decoded_sen + reverse_target_char_index[target[seq,char]]\n",
    "        #print(decoded_sen)\n",
    "    return no_correct, batch_size"
   ]
  },
  {
   "cell_type": "code",
   "execution_count": null,
   "id": "a2a7e372",
   "metadata": {
    "id": "a2a7e372"
   },
   "outputs": [],
   "source": [
    "def no_correct_in_batch_infer(target, output):\n",
    "    target = target.transpose(0,1)\n",
    "    no_correct = 0\n",
    "    batch_size = target.shape[0]\n",
    "    trgt_length = target.shape[1]\n",
    "    \n",
    "    # Verify batch_size  ------ Seems Okay\n",
    "    #print(\"In Infer, BS = 256 , TL = 21: \",target.shape)\n",
    "    #print(\"Target BS: \", batch_size)\n",
    "    #print(\"Output BS: \", len(output))\n",
    "    for seq in range(batch_size):\n",
    "        #true_sen = \"\"\n",
    "        #decoded_sen = \"\"\n",
    "        \n",
    "        for char in range(1,trgt_length):\n",
    "            \n",
    "            if target[seq,char] == target_token_index['\\n']:\n",
    "                no_correct += 1\n",
    "                break\n",
    "            if char== len(output[seq][0]) or target[seq,char] != output[seq][0][char]:\n",
    "                break\n",
    "            #true_sen = true_sen + reverse_target_char_index[target[seq,char].item()]\n",
    "            #decoded_sen = decoded_sen + reverse_target_char_index[output[seq][0][char]]\n",
    "        \n",
    "        #print(\"true output is \",true_sen)\n",
    "        #print(\"decoded output is \",decoded_sen)\n",
    "    return no_correct, batch_size"
   ]
  },
  {
   "cell_type": "markdown",
   "id": "239c9d92",
   "metadata": {
    "id": "239c9d92"
   },
   "source": [
    "## Train Function"
   ]
  },
  {
   "cell_type": "code",
   "execution_count": null,
   "id": "2a759b69",
   "metadata": {
    "id": "2a759b69"
   },
   "outputs": [],
   "source": [
    "def train(model, iterator, optimizer, criterion, clip, teacher_forcing_ratio):\n",
    "    \n",
    "    model.train()\n",
    "    \n",
    "    epoch_loss = 0\n",
    "    \n",
    "    total_no_correct = 0\n",
    "    total_samples = 0\n",
    "    for i, (src,trg) in enumerate(iterator):\n",
    "        \n",
    "        optimizer.zero_grad()\n",
    "        src, trg = src.to(device), trg.to(device)\n",
    "        \n",
    "        \n",
    "        output = model(src, trg, teacher_forcing_ratio = teacher_forcing_ratio, to_train = True).to(device) \n",
    "        trg = trg.transpose(0,1)\n",
    "        \n",
    "        trg = trg.argmax(2)\n",
    "        no_correct , samples = no_correct_in_batch_train(trg, output)\n",
    "        total_no_correct += no_correct\n",
    "        total_samples += samples\n",
    "        \n",
    "        output_dim = output.shape[-1]\n",
    "        \n",
    "        output = output[1:].view(-1, output_dim)\n",
    "        trg = trg[1:].reshape(-1)\n",
    "        \n",
    "        loss = criterion(output, trg)\n",
    "        \n",
    "        loss.backward()\n",
    "        \n",
    "        torch.nn.utils.clip_grad_norm_(model.parameters(), clip)\n",
    "        \n",
    "        optimizer.step()\n",
    "        \n",
    "        epoch_loss += loss.item()\n",
    "        \n",
    "    return epoch_loss / len(iterator), total_no_correct/total_samples"
   ]
  },
  {
   "cell_type": "markdown",
   "id": "775125d9",
   "metadata": {
    "id": "775125d9"
   },
   "source": [
    "## Evaluate function"
   ]
  },
  {
   "cell_type": "code",
   "execution_count": null,
   "id": "560ff298",
   "metadata": {
    "id": "560ff298"
   },
   "outputs": [],
   "source": [
    "def evaluate(model, iterator, beam_width):\n",
    "    \n",
    "    model.eval()\n",
    "    \n",
    "    epoch_loss = 0\n",
    "    total_no_correct = 0\n",
    "    total_samples = 0\n",
    "    with torch.no_grad():\n",
    "    \n",
    "        for i, (src,trg) in enumerate(iterator):\n",
    "\n",
    "            src, trg = src.to(device), trg.to(device)\n",
    "\n",
    "            output = model( src, trg, beam_width = beam_width, to_train= False)\n",
    "            \n",
    "            trg = trg.transpose(0,1)\n",
    "\n",
    "            trg = trg.argmax(2)\n",
    "            no_correct , samples = no_correct_in_batch_infer(trg, output[0])\n",
    "            total_no_correct += no_correct\n",
    "            total_samples += samples\n",
    "            \n",
    "            loss = 0\n",
    "            total_chars = 0\n",
    "            for sample in range(len(output[1])):\n",
    "                for utterances in range(len(output[1][sample])):\n",
    "                    loss+= output[1][sample][utterances] \n",
    "                    total_chars += len(output[0][sample][utterances])\n",
    "            \n",
    "            epoch_loss += loss / total_chars\n",
    "            \n",
    "    return epoch_loss / len(iterator), total_no_correct/total_samples"
   ]
  },
  {
   "cell_type": "markdown",
   "id": "d1fdfa45",
   "metadata": {
    "id": "d1fdfa45"
   },
   "source": [
    "## Function to calculate time"
   ]
  },
  {
   "cell_type": "code",
   "execution_count": null,
   "id": "fc92fddb",
   "metadata": {
    "id": "fc92fddb"
   },
   "outputs": [],
   "source": [
    "def epoch_time(start_time, end_time):\n",
    "    elapsed_time = end_time - start_time\n",
    "    elapsed_mins = int(elapsed_time / 60)\n",
    "    elapsed_secs = int(elapsed_time - (elapsed_mins * 60))\n",
    "    return elapsed_mins, elapsed_secs"
   ]
  },
  {
   "cell_type": "markdown",
   "id": "5d8aad56",
   "metadata": {
    "id": "5d8aad56"
   },
   "source": [
    "## Start Training and evaluating the model"
   ]
  },
  {
   "cell_type": "code",
   "execution_count": null,
   "id": "e335a432",
   "metadata": {
    "id": "e335a432"
   },
   "outputs": [],
   "source": [
    "def train_evaluate(model, train_loader,val_loader, optimizer, criterion, CLIP, N_EPOCHS, teacher_forcing_ratio, beam_width):\n",
    "    teacher_forcing_ratio = teacher_forcing_ratio\n",
    "    \n",
    "    for epoch in range(N_EPOCHS):\n",
    "\n",
    "        start_time = time.time()\n",
    "        \n",
    "        train_loss, train_accuracy = train(model, train_loader, optimizer, criterion, CLIP, teacher_forcing_ratio)\n",
    "        valid_loss, valid_accuracy = evaluate(model, val_loader, beam_width)\n",
    "\n",
    "        end_time = time.time()\n",
    "\n",
    "        epoch_mins, epoch_secs = epoch_time(start_time, end_time)\n",
    "\n",
    "        print(f'Epoch: {epoch+1:02} | Time: {epoch_mins}m {epoch_secs}s')\n",
    "        print(f'\\tTrain Loss: {train_loss:.3f} | Train PPL: {math.exp(train_loss):7.3f}')\n",
    "        print(f'\\tTrain Accuracy: {train_accuracy:.3f}')\n",
    "        print(f'\\tVal. Loss: {valid_loss:.3f} |  Val. PPL: {math.exp(valid_loss):7.3f}')\n",
    "        print(f'\\tVal Accuracy: {valid_accuracy:.3f}')\n",
    "        \n",
    "        wandb.log({'epoch': epoch,'train loss': train_loss,'train PPL':math.exp(train_loss), 'train accuracy': train_accuracy,\n",
    "                   'val loss': valid_loss,'valid PPL':math.exp(valid_loss), 'val accuracy': valid_accuracy})\n",
    "        \n",
    "    return model"
   ]
  },
  {
   "cell_type": "code",
   "execution_count": null,
   "id": "3b025556",
   "metadata": {
    "id": "3b025556"
   },
   "outputs": [],
   "source": [
    "def sp_train():\n",
    "    config_defaults = {\n",
    "        'epochs': 20,\n",
    "        'cell_type':'LSTM',\n",
    "        #'enc_embedding_dim': 10,\n",
    "        #'dec_embedding_dim': 30,\n",
    "        'no_encoder_decoder_layers': 1 ,\n",
    "        'hidden_layer_size': 256,\n",
    "        'dropout':0.5,\n",
    "        'beam_search_size': 3,\n",
    "        #'lr': 1e-3,\n",
    "        #'optimizer': 'adam',\n",
    "        'teacher_forcing_ratio': 0.5\n",
    "    }\n",
    "    # Initialize a new wandb run\n",
    "    wandb.init(config=config_defaults)\n",
    "    # Config is a variable that holds and saves hyperparameters and inputs\n",
    "    config = wandb.config\n",
    "    run_name=\"cell:[\"+config.cell_type+\"] layers:[\"+str(config.no_encoder_decoder_layers)+\"] HL_size:[\"+str(config.hidden_layer_size)+\"] dp:[\"+str(config.dropout)+\"] beam_width:[\"+str(config.beam_search_size)+\"] tfr:[\"+str(config.teacher_forcing_ratio)+\"]\"\n",
    "    wandb.run.name=run_name\n",
    "    teacher_forcing_ratio = config.teacher_forcing_ratio\n",
    "    CLIP = 1\n",
    "    enc_embedding_dim = 0\n",
    "    dec_embedding_dim = 0\n",
    "    enc = Encoder( num_encoder_tokens, config.hidden_layer_size, n_layers = config.no_encoder_decoder_layers, enc_embedding_dim = enc_embedding_dim, dropout = config.dropout, module=config.cell_type)\n",
    "    dec = Decoder( num_decoder_tokens, config.hidden_layer_size, n_layers = config.no_encoder_decoder_layers, dec_embedding_dim = dec_embedding_dim, dropout = config.dropout, module=config.cell_type, atten = True)\n",
    "\n",
    "    model = Seq2Seq(enc, dec, device).to(device)\n",
    "    learning_rate = 1e-3\n",
    "    #if config.optimizer == 'adam':\n",
    "    optimizer = optim.Adam(model.parameters(), lr = learning_rate)\n",
    "    \n",
    "    #elif config.optimizer == 'RMSprop':\n",
    "    #  optimizer = optim.RMSprop(model.parameters(), lr = config.learning_rate)\n",
    "    #scheduler = StepLR(optimizer, step_size=10, gamma=0.5)\n",
    "    criterion = nn.CrossEntropyLoss(ignore_index = target_token_index[' '])\n",
    "    \n",
    "    train_evaluate(model, train_loader, val_loader, optimizer, criterion, CLIP, config.epochs, teacher_forcing_ratio, config.beam_search_size)"
   ]
  },
  {
   "cell_type": "code",
   "execution_count": null,
   "id": "80f4f018",
   "metadata": {
    "id": "80f4f018"
   },
   "outputs": [],
   "source": [
    "sweep_config = {\n",
    "    'method': 'random', \n",
    "    'metric': {\n",
    "      'name': 'val accuracy',\n",
    "      'goal': 'maximize'   \n",
    "    },\n",
    "    'parameters': {\n",
    "        'epochs': {\n",
    "            'values':[20]\n",
    "        },\n",
    "        'cell_type':{\n",
    "            'values': [\n",
    "                       'GRU', \n",
    "                       'LSTM'\n",
    "                       ]\n",
    "        },\n",
    "        'no_encoder_decoder_layers': {\n",
    "            'values':[1,2,3] \n",
    "        },\n",
    "        'hidden_layer_size':{\n",
    "            'values':[64,256,512]\n",
    "        },\n",
    "        'dropout':{\n",
    "            'values': [0.20,0.50]\n",
    "        },\n",
    "        'beam_search_size': {\n",
    "            'values':[3,4]\n",
    "        },\n",
    "        'teacher_forcing_ratio': {\n",
    "            'values':[0.2,0.5]\n",
    "        }\n",
    "    }\n",
    "}"
   ]
  },
  {
   "cell_type": "code",
   "execution_count": null,
   "id": "STYBW67x-SPu",
   "metadata": {
    "colab": {
     "base_uri": "https://localhost:8080/",
     "height": 1000,
     "referenced_widgets": [
      "6759f67dc94d45259d7b42d5ea76e6a0",
      "753aa6820fa14a4bb103a8998d452ef9",
      "5bf066b726c34563835a559b02dab33e",
      "915ce17f676d4d8da25c467ce8a3eb14",
      "10162466584746069d70ade29cf9662d",
      "0e9ea8cdc3334a428aa17d48f90e0eb4",
      "21b1c66b4ec947fab1cdd41af643a903",
      "8846b750ef134ff996ab48966819ec05",
      "4a6e965bb1664ab0b1fc65e5972b54cd",
      "579db41bb75a40e9a02b4816c0b5648c",
      "7f7739f1d7334b3cb8f7517ac286bb40",
      "3c4fd67c0aa540f0a8c9f724f42324c9",
      "01a2533acf9f43ad988ff1aec275e9d9",
      "aca188468e2d49f7912e8d842fc72c6c",
      "c9d54cc58bee40a98e7843fd90ef4746",
      "425b7c191bda4fb285d6489057508645",
      "3bb71d59ea5e487a9bfca27d79b3ad6c",
      "ce096939a21046f98b4f995645e64a92",
      "b8effde5220a4e3c9687d27a4af05717",
      "cd8e94846b594e0f90c4ef3ada411e86",
      "acb4214b7c8548fc9019d4c6caf09589",
      "98df6a93ab0e428a97d02810d99f9a1f",
      "ae14992e700348db95c75fc6cd3a4191",
      "c295e7ed83584268a23a90201475459a",
      "d7713131b5f0488db1e2c7ae3a978697",
      "c81189165d2849eca357e3720d6f13e2",
      "ac280bafabca4fbb8a913a30f4fd4d46",
      "d24cfbed7f044a4f852b230c613398d9",
      "4ffe57269e02444083a9bcf14f8e7e43",
      "3da850a7cb0a4fc39e2fa133f1cef1c0",
      "9630b70210334313afe4434bf1efb942",
      "bc6d21baa39f43c79c06cb98a50cc4ad",
      "7af52ee4e5484495a40214a8bc3a55a6",
      "973dad0d9a3f4ab2b9738e193e180a1b",
      "f98a7aa146cb4c7482af02391b2b9c7b",
      "92d64c2bee7a43b2a17045ea9f862756",
      "807e9b816fa34a46ac60a1791d215553",
      "c49befa67f3b46ba9c5cb7e0cb30222e",
      "5f912130827d49d1b57e99316c4ad2b8",
      "91a2276e937b41998755c6cde1f51c93",
      "199632a8bece40fdae1684971cef9432",
      "57f6126656c84940898107aec5b408f4",
      "e8aee72d14264ec28e94a54f11753f9d",
      "e1d7a1f2f79d42a28f0b8429d792d84d",
      "0f5c4202a8674442bb50b9a22d5f3625",
      "3f134181952144a38bfe737f7bd2a0fd",
      "bbd960d143f8462aaa8e338cd2ec5a9c",
      "ee341f5e65a740ea9effc2d9b17f230c",
      "aa44829fca984811b0c45a0ebd3ff44a",
      "4e78987ea1544a1ebff3478a2afd359b",
      "94b0b6061ab443419e9690b2365051cc",
      "8c8220c2f55c49e589d91a1194c91872",
      "41fcc552bc21480f8207ca2aa55fffda",
      "dd85eb3e47054a3fbd32e9ed59a0bc10",
      "1aa29ffc87f8454f970237df28e2f172",
      "426f79d56b4142dd903256e2e69b0911",
      "631e95ece8dd40458ecec54dbffebd87",
      "d2c10eb28b274892831038cdb215d2b2",
      "4c8f1e84a52f4e1d8b67a52e2a9930b6",
      "262f003e29f34103a8397f47e1ea0b3a",
      "25d4b951c7434c688b83a6bd5aab13c2",
      "11df95086561449c8d06ce5442948289",
      "ab9f8b9f6641423b98d7a66e0fdbff06",
      "6c0768587e88493c8c6a4ac723c860f7",
      "1535e3c3d2cc417d9d8647dacda61195",
      "312671f343bd470ab4b632f064be65ce",
      "1fbed25e7b8b48b18889766298560078",
      "539a7640fc8643708c1851507dc7312f",
      "75dd141725cb4f938b29ca3ad15dcc7a",
      "45e5973ceea04441b09455a9ea1b5751",
      "e4e5d4f4bb5b40caa631669c3bcf2d47",
      "cc0cc9e9e7864cf8b38100e11687e9d1",
      "142eb739b2414dafb46e2902600a0fe7",
      "262683216b0a4df9a66eed48d7d5d852",
      "a11eb3ffc5324e77a6b3c7f60eb34c3f",
      "6e9ea48fc6934c358a05d63473aa87fa",
      "65bdc04c89114891acc1c4ffaa630a31",
      "d07273afe3f7424cbf413a4c963be670",
      "1930996d40254504b7621f9262087e21",
      "6680093161a44be18c94319e02872815",
      "609a10d37ea04976a1e00b79c3a3dc52",
      "4bbab4855275435f9cfde1434cb501e5",
      "68b2f67a3b834742b8ae3cf349dc6477",
      "10771f45b22e4ab1b945bac1944e4584",
      "cd5de422266b4d6a8d06f4525469b7dd",
      "a1930d86d19443e5ba38d24e8c25b61a",
      "7ec36d4306a54acbbb84a1185c8d0892",
      "4b845049664b423f912859a6116057dc",
      "2189881617f341caa746225d82db8e4d",
      "f557c10e717d42539582c3fdf2fa5b24",
      "05d854199b3c4f3aa6cc2ba2a66b6187",
      "2aadd1f11a734276aba0160ac90a40a7",
      "098f8932bd884b2f9a57a334b90ff7a4",
      "60e9c205e3794916a8e2fcc946e56b17",
      "9f04acd0c63945c0b2ca13e47c211918",
      "62103d23df2c48bdba4b0c90a9718450"
     ]
    },
    "id": "STYBW67x-SPu",
    "outputId": "8c844e6e-3169-4750-f57c-021d0f1a136f"
   },
   "outputs": [
    {
     "name": "stderr",
     "output_type": "stream",
     "text": [
      "\u001b[34m\u001b[1mwandb\u001b[0m: Agent Starting Run: 21j0x79y with config:\n",
      "\u001b[34m\u001b[1mwandb\u001b[0m: \tbeam_search_size: 2\n",
      "\u001b[34m\u001b[1mwandb\u001b[0m: \tcell_type: LSTM\n",
      "\u001b[34m\u001b[1mwandb\u001b[0m: \tdropout: 0.6573622668013036\n",
      "\u001b[34m\u001b[1mwandb\u001b[0m: \tepochs: 15\n",
      "\u001b[34m\u001b[1mwandb\u001b[0m: \thidden_layer_size: 512\n",
      "\u001b[34m\u001b[1mwandb\u001b[0m: \tno_encoder_decoder_layers: 2\n",
      "\u001b[34m\u001b[1mwandb\u001b[0m: \tteacher_forcing_ratio: 0.27609870077288134\n"
     ]
    },
    {
     "data": {
      "text/html": [
       "\n",
       "                Tracking run with wandb version 0.10.30<br/>\n",
       "                Syncing run <strong style=\"color:#cdcd00\">wise-sweep-3</strong> to <a href=\"https://wandb.ai\" target=\"_blank\">Weights & Biases</a> <a href=\"https://docs.wandb.com/integrations/jupyter.html\" target=\"_blank\">(Documentation)</a>.<br/>\n",
       "                Project page: <a href=\"https://wandb.ai/rayanz/Encoder_Decoder_attention_Dakshina_Hi_Sweep_1\" target=\"_blank\">https://wandb.ai/rayanz/Encoder_Decoder_attention_Dakshina_Hi_Sweep_1</a><br/>\n",
       "                Sweep page: <a href=\"https://wandb.ai/rayanz/Encoder_Decoder_attention_Dakshina_Hi_Sweep_1/sweeps/g9ym6ooa\" target=\"_blank\">https://wandb.ai/rayanz/Encoder_Decoder_attention_Dakshina_Hi_Sweep_1/sweeps/g9ym6ooa</a><br/>\n",
       "Run page: <a href=\"https://wandb.ai/rayanz/Encoder_Decoder_attention_Dakshina_Hi_Sweep_1/runs/21j0x79y\" target=\"_blank\">https://wandb.ai/rayanz/Encoder_Decoder_attention_Dakshina_Hi_Sweep_1/runs/21j0x79y</a><br/>\n",
       "                Run data is saved locally in <code>/content/wandb/run-20210512_181916-21j0x79y</code><br/><br/>\n",
       "            "
      ],
      "text/plain": [
       "<IPython.core.display.HTML object>"
      ]
     },
     "metadata": {
      "tags": []
     },
     "output_type": "display_data"
    },
    {
     "name": "stdout",
     "output_type": "stream",
     "text": [
      "Epoch: 01 | Time: 1m 21s\n",
      "\tTrain Loss: 2.215 | Train PPL:   9.162\n",
      "\tTrain Accuracy: 0.024\n",
      "\tVal. Loss: 1.146 |  Val. PPL:   3.147\n",
      "\tVal Accuracy: 0.093\n",
      "Epoch: 02 | Time: 1m 25s\n",
      "\tTrain Loss: 1.130 | Train PPL:   3.094\n",
      "\tTrain Accuracy: 0.141\n",
      "\tVal. Loss: 0.876 |  Val. PPL:   2.400\n",
      "\tVal Accuracy: 0.187\n",
      "Epoch: 03 | Time: 1m 18s\n",
      "\tTrain Loss: 0.911 | Train PPL:   2.487\n",
      "\tTrain Accuracy: 0.223\n",
      "\tVal. Loss: 0.799 |  Val. PPL:   2.223\n",
      "\tVal Accuracy: 0.281\n",
      "Epoch: 04 | Time: 1m 19s\n",
      "\tTrain Loss: 0.779 | Train PPL:   2.178\n",
      "\tTrain Accuracy: 0.284\n",
      "\tVal. Loss: 0.829 |  Val. PPL:   2.290\n",
      "\tVal Accuracy: 0.309\n",
      "Epoch: 05 | Time: 1m 18s\n",
      "\tTrain Loss: 0.681 | Train PPL:   1.975\n",
      "\tTrain Accuracy: 0.330\n",
      "\tVal. Loss: 0.860 |  Val. PPL:   2.362\n",
      "\tVal Accuracy: 0.341\n",
      "Epoch: 06 | Time: 1m 18s\n",
      "\tTrain Loss: 0.606 | Train PPL:   1.833\n",
      "\tTrain Accuracy: 0.373\n",
      "\tVal. Loss: 0.888 |  Val. PPL:   2.430\n",
      "\tVal Accuracy: 0.372\n",
      "Epoch: 07 | Time: 1m 17s\n",
      "\tTrain Loss: 0.554 | Train PPL:   1.740\n",
      "\tTrain Accuracy: 0.405\n",
      "\tVal. Loss: 0.913 |  Val. PPL:   2.491\n",
      "\tVal Accuracy: 0.380\n",
      "Epoch: 08 | Time: 1m 18s\n",
      "\tTrain Loss: 0.509 | Train PPL:   1.664\n",
      "\tTrain Accuracy: 0.433\n",
      "\tVal. Loss: 0.928 |  Val. PPL:   2.530\n",
      "\tVal Accuracy: 0.380\n",
      "Epoch: 09 | Time: 1m 19s\n",
      "\tTrain Loss: 0.471 | Train PPL:   1.601\n",
      "\tTrain Accuracy: 0.463\n",
      "\tVal. Loss: 0.925 |  Val. PPL:   2.522\n",
      "\tVal Accuracy: 0.391\n",
      "Epoch: 10 | Time: 1m 19s\n",
      "\tTrain Loss: 0.436 | Train PPL:   1.546\n",
      "\tTrain Accuracy: 0.489\n",
      "\tVal. Loss: 0.993 |  Val. PPL:   2.699\n",
      "\tVal Accuracy: 0.385\n",
      "Epoch: 11 | Time: 1m 19s\n",
      "\tTrain Loss: 0.406 | Train PPL:   1.500\n",
      "\tTrain Accuracy: 0.509\n",
      "\tVal. Loss: 0.975 |  Val. PPL:   2.652\n",
      "\tVal Accuracy: 0.390\n",
      "Epoch: 12 | Time: 1m 18s\n",
      "\tTrain Loss: 0.381 | Train PPL:   1.463\n",
      "\tTrain Accuracy: 0.531\n",
      "\tVal. Loss: 1.017 |  Val. PPL:   2.766\n",
      "\tVal Accuracy: 0.395\n",
      "Epoch: 13 | Time: 1m 19s\n",
      "\tTrain Loss: 0.355 | Train PPL:   1.426\n",
      "\tTrain Accuracy: 0.550\n",
      "\tVal. Loss: 1.032 |  Val. PPL:   2.806\n",
      "\tVal Accuracy: 0.419\n",
      "Epoch: 14 | Time: 1m 19s\n",
      "\tTrain Loss: 0.335 | Train PPL:   1.397\n",
      "\tTrain Accuracy: 0.571\n",
      "\tVal. Loss: 1.045 |  Val. PPL:   2.844\n",
      "\tVal Accuracy: 0.402\n",
      "Epoch: 15 | Time: 1m 19s\n",
      "\tTrain Loss: 0.312 | Train PPL:   1.366\n",
      "\tTrain Accuracy: 0.590\n",
      "\tVal. Loss: 1.096 |  Val. PPL:   2.992\n",
      "\tVal Accuracy: 0.399\n"
     ]
    },
    {
     "data": {
      "text/html": [
       "<br/>Waiting for W&B process to finish, PID 387<br/>Program ended successfully."
      ],
      "text/plain": [
       "<IPython.core.display.HTML object>"
      ]
     },
     "metadata": {
      "tags": []
     },
     "output_type": "display_data"
    },
    {
     "data": {
      "application/vnd.jupyter.widget-view+json": {
       "model_id": "6759f67dc94d45259d7b42d5ea76e6a0",
       "version_major": 2,
       "version_minor": 0
      },
      "text/plain": [
       "VBox(children=(Label(value=' 0.00MB of 0.00MB uploaded (0.00MB deduped)\\r'), FloatProgress(value=1.0, max=1.0)…"
      ]
     },
     "metadata": {
      "tags": []
     },
     "output_type": "display_data"
    },
    {
     "data": {
      "text/html": [
       "Find user logs for this run at: <code>/content/wandb/run-20210512_181916-21j0x79y/logs/debug.log</code>"
      ],
      "text/plain": [
       "<IPython.core.display.HTML object>"
      ]
     },
     "metadata": {
      "tags": []
     },
     "output_type": "display_data"
    },
    {
     "data": {
      "text/html": [
       "Find internal logs for this run at: <code>/content/wandb/run-20210512_181916-21j0x79y/logs/debug-internal.log</code>"
      ],
      "text/plain": [
       "<IPython.core.display.HTML object>"
      ]
     },
     "metadata": {
      "tags": []
     },
     "output_type": "display_data"
    },
    {
     "data": {
      "text/html": [
       "<h3>Run summary:</h3><br/><style>\n",
       "    table.wandb td:nth-child(1) { padding: 0 10px; text-align: right }\n",
       "    </style><table class=\"wandb\">\n",
       "<tr><td>epoch</td><td>14</td></tr><tr><td>train loss</td><td>0.31189</td></tr><tr><td>train PPL</td><td>1.366</td></tr><tr><td>train accuracy</td><td>0.59035</td></tr><tr><td>val loss</td><td>1.09596</td></tr><tr><td>valid PPL</td><td>2.99206</td></tr><tr><td>val accuracy</td><td>0.39927</td></tr><tr><td>_runtime</td><td>1196</td></tr><tr><td>_timestamp</td><td>1620844752</td></tr><tr><td>_step</td><td>14</td></tr></table>"
      ],
      "text/plain": [
       "<IPython.core.display.HTML object>"
      ]
     },
     "metadata": {
      "tags": []
     },
     "output_type": "display_data"
    },
    {
     "data": {
      "text/html": [
       "<h3>Run history:</h3><br/><style>\n",
       "    table.wandb td:nth-child(1) { padding: 0 10px; text-align: right }\n",
       "    </style><table class=\"wandb\">\n",
       "<tr><td>epoch</td><td>▁▁▂▃▃▃▄▅▅▅▆▇▇▇█</td></tr><tr><td>train loss</td><td>█▄▃▃▂▂▂▂▂▁▁▁▁▁▁</td></tr><tr><td>train PPL</td><td>█▃▂▂▂▁▁▁▁▁▁▁▁▁▁</td></tr><tr><td>train accuracy</td><td>▁▂▃▄▅▅▆▆▆▇▇▇███</td></tr><tr><td>val loss</td><td>█▃▁▂▂▃▃▄▄▅▅▅▆▆▇</td></tr><tr><td>valid PPL</td><td>█▂▁▂▂▃▃▃▃▅▄▅▅▆▇</td></tr><tr><td>val accuracy</td><td>▁▃▅▆▆▇▇▇▇▇▇▇███</td></tr><tr><td>_runtime</td><td>▁▂▂▃▃▄▄▅▅▅▆▆▇▇█</td></tr><tr><td>_timestamp</td><td>▁▂▂▃▃▄▄▅▅▅▆▆▇▇█</td></tr><tr><td>_step</td><td>▁▁▂▃▃▃▄▅▅▅▆▇▇▇█</td></tr></table><br/>"
      ],
      "text/plain": [
       "<IPython.core.display.HTML object>"
      ]
     },
     "metadata": {
      "tags": []
     },
     "output_type": "display_data"
    },
    {
     "data": {
      "text/html": [
       "Synced 5 W&B file(s), 0 media file(s), 0 artifact file(s) and 0 other file(s)"
      ],
      "text/plain": [
       "<IPython.core.display.HTML object>"
      ]
     },
     "metadata": {
      "tags": []
     },
     "output_type": "display_data"
    },
    {
     "data": {
      "text/html": [
       "\n",
       "                    <br/>Synced <strong style=\"color:#cdcd00\">wise-sweep-3</strong>: <a href=\"https://wandb.ai/rayanz/Encoder_Decoder_attention_Dakshina_Hi_Sweep_1/runs/21j0x79y\" target=\"_blank\">https://wandb.ai/rayanz/Encoder_Decoder_attention_Dakshina_Hi_Sweep_1/runs/21j0x79y</a><br/>\n",
       "                "
      ],
      "text/plain": [
       "<IPython.core.display.HTML object>"
      ]
     },
     "metadata": {
      "tags": []
     },
     "output_type": "display_data"
    },
    {
     "name": "stderr",
     "output_type": "stream",
     "text": [
      "\u001b[34m\u001b[1mwandb\u001b[0m: Agent Starting Run: xye116q4 with config:\n",
      "\u001b[34m\u001b[1mwandb\u001b[0m: \tbeam_search_size: 4\n",
      "\u001b[34m\u001b[1mwandb\u001b[0m: \tcell_type: GRU\n",
      "\u001b[34m\u001b[1mwandb\u001b[0m: \tdropout: 0.6303525822456986\n",
      "\u001b[34m\u001b[1mwandb\u001b[0m: \tepochs: 14\n",
      "\u001b[34m\u001b[1mwandb\u001b[0m: \thidden_layer_size: 256\n",
      "\u001b[34m\u001b[1mwandb\u001b[0m: \tno_encoder_decoder_layers: 1\n",
      "\u001b[34m\u001b[1mwandb\u001b[0m: \tteacher_forcing_ratio: 0.44932953528102826\n"
     ]
    },
    {
     "data": {
      "text/html": [
       "\n",
       "                Tracking run with wandb version 0.10.30<br/>\n",
       "                Syncing run <strong style=\"color:#cdcd00\">worldly-sweep-3</strong> to <a href=\"https://wandb.ai\" target=\"_blank\">Weights & Biases</a> <a href=\"https://docs.wandb.com/integrations/jupyter.html\" target=\"_blank\">(Documentation)</a>.<br/>\n",
       "                Project page: <a href=\"https://wandb.ai/rayanz/Encoder_Decoder_attention_Dakshina_Hi_Sweep_1\" target=\"_blank\">https://wandb.ai/rayanz/Encoder_Decoder_attention_Dakshina_Hi_Sweep_1</a><br/>\n",
       "                Sweep page: <a href=\"https://wandb.ai/rayanz/Encoder_Decoder_attention_Dakshina_Hi_Sweep_1/sweeps/g9ym6ooa\" target=\"_blank\">https://wandb.ai/rayanz/Encoder_Decoder_attention_Dakshina_Hi_Sweep_1/sweeps/g9ym6ooa</a><br/>\n",
       "Run page: <a href=\"https://wandb.ai/rayanz/Encoder_Decoder_attention_Dakshina_Hi_Sweep_1/runs/xye116q4\" target=\"_blank\">https://wandb.ai/rayanz/Encoder_Decoder_attention_Dakshina_Hi_Sweep_1/runs/xye116q4</a><br/>\n",
       "                Run data is saved locally in <code>/content/wandb/run-20210512_183916-xye116q4</code><br/><br/>\n",
       "            "
      ],
      "text/plain": [
       "<IPython.core.display.HTML object>"
      ]
     },
     "metadata": {
      "tags": []
     },
     "output_type": "display_data"
    },
    {
     "name": "stderr",
     "output_type": "stream",
     "text": [
      "/usr/local/lib/python3.7/dist-packages/torch/nn/modules/rnn.py:63: UserWarning: dropout option adds dropout after all but last recurrent layer, so non-zero dropout expects num_layers greater than 1, but got dropout=0.6303525822456986 and num_layers=1\n",
      "  \"num_layers={}\".format(dropout, num_layers))\n"
     ]
    },
    {
     "name": "stdout",
     "output_type": "stream",
     "text": [
      "Epoch: 01 | Time: 1m 2s\n",
      "\tTrain Loss: 2.186 | Train PPL:   8.898\n",
      "\tTrain Accuracy: 0.033\n",
      "\tVal. Loss: 1.179 |  Val. PPL:   3.251\n",
      "\tVal Accuracy: 0.110\n",
      "Epoch: 02 | Time: 1m 4s\n",
      "\tTrain Loss: 1.062 | Train PPL:   2.891\n",
      "\tTrain Accuracy: 0.155\n",
      "\tVal. Loss: 1.053 |  Val. PPL:   2.866\n",
      "\tVal Accuracy: 0.239\n",
      "Epoch: 03 | Time: 1m 4s\n",
      "\tTrain Loss: 0.839 | Train PPL:   2.314\n",
      "\tTrain Accuracy: 0.230\n",
      "\tVal. Loss: 1.065 |  Val. PPL:   2.900\n",
      "\tVal Accuracy: 0.281\n",
      "Epoch: 04 | Time: 1m 3s\n",
      "\tTrain Loss: 0.732 | Train PPL:   2.080\n",
      "\tTrain Accuracy: 0.278\n",
      "\tVal. Loss: 1.078 |  Val. PPL:   2.939\n",
      "\tVal Accuracy: 0.305\n",
      "Epoch: 05 | Time: 1m 4s\n",
      "\tTrain Loss: 0.658 | Train PPL:   1.931\n",
      "\tTrain Accuracy: 0.315\n",
      "\tVal. Loss: 1.037 |  Val. PPL:   2.820\n",
      "\tVal Accuracy: 0.340\n",
      "Epoch: 06 | Time: 1m 4s\n",
      "\tTrain Loss: 0.603 | Train PPL:   1.827\n",
      "\tTrain Accuracy: 0.344\n",
      "\tVal. Loss: 1.053 |  Val. PPL:   2.865\n",
      "\tVal Accuracy: 0.357\n",
      "Epoch: 07 | Time: 1m 5s\n",
      "\tTrain Loss: 0.556 | Train PPL:   1.744\n",
      "\tTrain Accuracy: 0.376\n",
      "\tVal. Loss: 1.076 |  Val. PPL:   2.934\n",
      "\tVal Accuracy: 0.376\n",
      "Epoch: 08 | Time: 1m 4s\n",
      "\tTrain Loss: 0.512 | Train PPL:   1.669\n",
      "\tTrain Accuracy: 0.405\n",
      "\tVal. Loss: 1.071 |  Val. PPL:   2.918\n",
      "\tVal Accuracy: 0.380\n",
      "Epoch: 09 | Time: 1m 5s\n",
      "\tTrain Loss: 0.480 | Train PPL:   1.615\n",
      "\tTrain Accuracy: 0.423\n",
      "\tVal. Loss: 1.082 |  Val. PPL:   2.952\n",
      "\tVal Accuracy: 0.377\n",
      "Epoch: 10 | Time: 1m 5s\n",
      "\tTrain Loss: 0.453 | Train PPL:   1.572\n",
      "\tTrain Accuracy: 0.446\n",
      "\tVal. Loss: 1.049 |  Val. PPL:   2.854\n",
      "\tVal Accuracy: 0.387\n",
      "Epoch: 11 | Time: 1m 5s\n",
      "\tTrain Loss: 0.423 | Train PPL:   1.526\n",
      "\tTrain Accuracy: 0.465\n",
      "\tVal. Loss: 1.073 |  Val. PPL:   2.924\n",
      "\tVal Accuracy: 0.390\n",
      "Epoch: 12 | Time: 1m 5s\n",
      "\tTrain Loss: 0.400 | Train PPL:   1.492\n",
      "\tTrain Accuracy: 0.489\n",
      "\tVal. Loss: 1.114 |  Val. PPL:   3.048\n",
      "\tVal Accuracy: 0.392\n",
      "Epoch: 13 | Time: 1m 2s\n",
      "\tTrain Loss: 0.381 | Train PPL:   1.464\n",
      "\tTrain Accuracy: 0.507\n",
      "\tVal. Loss: 1.111 |  Val. PPL:   3.037\n",
      "\tVal Accuracy: 0.391\n",
      "Epoch: 14 | Time: 1m 4s\n",
      "\tTrain Loss: 0.360 | Train PPL:   1.433\n",
      "\tTrain Accuracy: 0.522\n",
      "\tVal. Loss: 1.142 |  Val. PPL:   3.132\n",
      "\tVal Accuracy: 0.377\n"
     ]
    },
    {
     "data": {
      "text/html": [
       "<br/>Waiting for W&B process to finish, PID 460<br/>Program ended successfully."
      ],
      "text/plain": [
       "<IPython.core.display.HTML object>"
      ]
     },
     "metadata": {
      "tags": []
     },
     "output_type": "display_data"
    },
    {
     "data": {
      "application/vnd.jupyter.widget-view+json": {
       "model_id": "4a6e965bb1664ab0b1fc65e5972b54cd",
       "version_major": 2,
       "version_minor": 0
      },
      "text/plain": [
       "VBox(children=(Label(value=' 0.00MB of 0.00MB uploaded (0.00MB deduped)\\r'), FloatProgress(value=1.0, max=1.0)…"
      ]
     },
     "metadata": {
      "tags": []
     },
     "output_type": "display_data"
    },
    {
     "data": {
      "text/html": [
       "Find user logs for this run at: <code>/content/wandb/run-20210512_183916-xye116q4/logs/debug.log</code>"
      ],
      "text/plain": [
       "<IPython.core.display.HTML object>"
      ]
     },
     "metadata": {
      "tags": []
     },
     "output_type": "display_data"
    },
    {
     "data": {
      "text/html": [
       "Find internal logs for this run at: <code>/content/wandb/run-20210512_183916-xye116q4/logs/debug-internal.log</code>"
      ],
      "text/plain": [
       "<IPython.core.display.HTML object>"
      ]
     },
     "metadata": {
      "tags": []
     },
     "output_type": "display_data"
    },
    {
     "data": {
      "text/html": [
       "<h3>Run summary:</h3><br/><style>\n",
       "    table.wandb td:nth-child(1) { padding: 0 10px; text-align: right }\n",
       "    </style><table class=\"wandb\">\n",
       "<tr><td>epoch</td><td>13</td></tr><tr><td>train loss</td><td>0.35994</td></tr><tr><td>train PPL</td><td>1.43325</td></tr><tr><td>train accuracy</td><td>0.5221</td></tr><tr><td>val loss</td><td>1.14178</td></tr><tr><td>valid PPL</td><td>3.13234</td></tr><tr><td>val accuracy</td><td>0.37678</td></tr><tr><td>_runtime</td><td>904</td></tr><tr><td>_timestamp</td><td>1620845660</td></tr><tr><td>_step</td><td>13</td></tr></table>"
      ],
      "text/plain": [
       "<IPython.core.display.HTML object>"
      ]
     },
     "metadata": {
      "tags": []
     },
     "output_type": "display_data"
    },
    {
     "data": {
      "text/html": [
       "<h3>Run history:</h3><br/><style>\n",
       "    table.wandb td:nth-child(1) { padding: 0 10px; text-align: right }\n",
       "    </style><table class=\"wandb\">\n",
       "<tr><td>epoch</td><td>▁▂▂▃▃▄▄▅▅▆▆▇▇█</td></tr><tr><td>train loss</td><td>█▄▃▂▂▂▂▂▁▁▁▁▁▁</td></tr><tr><td>train PPL</td><td>█▂▂▂▁▁▁▁▁▁▁▁▁▁</td></tr><tr><td>train accuracy</td><td>▁▃▄▅▅▅▆▆▇▇▇███</td></tr><tr><td>val loss</td><td>█▂▂▃▁▂▃▃▃▂▃▅▅▆</td></tr><tr><td>valid PPL</td><td>█▂▂▃▁▂▃▃▃▂▃▅▅▆</td></tr><tr><td>val accuracy</td><td>▁▄▅▆▇▇████████</td></tr><tr><td>_runtime</td><td>▁▂▂▃▃▄▄▅▅▆▆▇▇█</td></tr><tr><td>_timestamp</td><td>▁▂▂▃▃▄▄▅▅▆▆▇▇█</td></tr><tr><td>_step</td><td>▁▂▂▃▃▄▄▅▅▆▆▇▇█</td></tr></table><br/>"
      ],
      "text/plain": [
       "<IPython.core.display.HTML object>"
      ]
     },
     "metadata": {
      "tags": []
     },
     "output_type": "display_data"
    },
    {
     "data": {
      "text/html": [
       "Synced 5 W&B file(s), 0 media file(s), 0 artifact file(s) and 0 other file(s)"
      ],
      "text/plain": [
       "<IPython.core.display.HTML object>"
      ]
     },
     "metadata": {
      "tags": []
     },
     "output_type": "display_data"
    },
    {
     "data": {
      "text/html": [
       "\n",
       "                    <br/>Synced <strong style=\"color:#cdcd00\">worldly-sweep-3</strong>: <a href=\"https://wandb.ai/rayanz/Encoder_Decoder_attention_Dakshina_Hi_Sweep_1/runs/xye116q4\" target=\"_blank\">https://wandb.ai/rayanz/Encoder_Decoder_attention_Dakshina_Hi_Sweep_1/runs/xye116q4</a><br/>\n",
       "                "
      ],
      "text/plain": [
       "<IPython.core.display.HTML object>"
      ]
     },
     "metadata": {
      "tags": []
     },
     "output_type": "display_data"
    },
    {
     "name": "stderr",
     "output_type": "stream",
     "text": [
      "\u001b[34m\u001b[1mwandb\u001b[0m: Agent Starting Run: 0pbsf6yu with config:\n",
      "\u001b[34m\u001b[1mwandb\u001b[0m: \tbeam_search_size: 4\n",
      "\u001b[34m\u001b[1mwandb\u001b[0m: \tcell_type: GRU\n",
      "\u001b[34m\u001b[1mwandb\u001b[0m: \tdropout: 0.3706694889169139\n",
      "\u001b[34m\u001b[1mwandb\u001b[0m: \tepochs: 15\n",
      "\u001b[34m\u001b[1mwandb\u001b[0m: \thidden_layer_size: 512\n",
      "\u001b[34m\u001b[1mwandb\u001b[0m: \tno_encoder_decoder_layers: 1\n",
      "\u001b[34m\u001b[1mwandb\u001b[0m: \tteacher_forcing_ratio: 0.5212485851830646\n"
     ]
    },
    {
     "data": {
      "text/html": [
       "\n",
       "                Tracking run with wandb version 0.10.30<br/>\n",
       "                Syncing run <strong style=\"color:#cdcd00\">hearty-sweep-4</strong> to <a href=\"https://wandb.ai\" target=\"_blank\">Weights & Biases</a> <a href=\"https://docs.wandb.com/integrations/jupyter.html\" target=\"_blank\">(Documentation)</a>.<br/>\n",
       "                Project page: <a href=\"https://wandb.ai/rayanz/Encoder_Decoder_attention_Dakshina_Hi_Sweep_1\" target=\"_blank\">https://wandb.ai/rayanz/Encoder_Decoder_attention_Dakshina_Hi_Sweep_1</a><br/>\n",
       "                Sweep page: <a href=\"https://wandb.ai/rayanz/Encoder_Decoder_attention_Dakshina_Hi_Sweep_1/sweeps/g9ym6ooa\" target=\"_blank\">https://wandb.ai/rayanz/Encoder_Decoder_attention_Dakshina_Hi_Sweep_1/sweeps/g9ym6ooa</a><br/>\n",
       "Run page: <a href=\"https://wandb.ai/rayanz/Encoder_Decoder_attention_Dakshina_Hi_Sweep_1/runs/0pbsf6yu\" target=\"_blank\">https://wandb.ai/rayanz/Encoder_Decoder_attention_Dakshina_Hi_Sweep_1/runs/0pbsf6yu</a><br/>\n",
       "                Run data is saved locally in <code>/content/wandb/run-20210512_185425-0pbsf6yu</code><br/><br/>\n",
       "            "
      ],
      "text/plain": [
       "<IPython.core.display.HTML object>"
      ]
     },
     "metadata": {
      "tags": []
     },
     "output_type": "display_data"
    },
    {
     "name": "stderr",
     "output_type": "stream",
     "text": [
      "/usr/local/lib/python3.7/dist-packages/torch/nn/modules/rnn.py:63: UserWarning: dropout option adds dropout after all but last recurrent layer, so non-zero dropout expects num_layers greater than 1, but got dropout=0.3706694889169139 and num_layers=1\n",
      "  \"num_layers={}\".format(dropout, num_layers))\n"
     ]
    },
    {
     "name": "stdout",
     "output_type": "stream",
     "text": [
      "Epoch: 01 | Time: 1m 11s\n",
      "\tTrain Loss: 1.818 | Train PPL:   6.162\n",
      "\tTrain Accuracy: 0.071\n",
      "\tVal. Loss: 1.048 |  Val. PPL:   2.851\n",
      "\tVal Accuracy: 0.191\n",
      "Epoch: 02 | Time: 1m 11s\n",
      "\tTrain Loss: 0.875 | Train PPL:   2.399\n",
      "\tTrain Accuracy: 0.221\n",
      "\tVal. Loss: 1.058 |  Val. PPL:   2.880\n",
      "\tVal Accuracy: 0.285\n",
      "Epoch: 03 | Time: 1m 10s\n",
      "\tTrain Loss: 0.675 | Train PPL:   1.964\n",
      "\tTrain Accuracy: 0.300\n",
      "\tVal. Loss: 1.015 |  Val. PPL:   2.760\n",
      "\tVal Accuracy: 0.336\n",
      "Epoch: 04 | Time: 1m 9s\n",
      "\tTrain Loss: 0.577 | Train PPL:   1.782\n",
      "\tTrain Accuracy: 0.355\n",
      "\tVal. Loss: 1.040 |  Val. PPL:   2.828\n",
      "\tVal Accuracy: 0.349\n",
      "Epoch: 05 | Time: 1m 11s\n",
      "\tTrain Loss: 0.510 | Train PPL:   1.665\n",
      "\tTrain Accuracy: 0.401\n",
      "\tVal. Loss: 1.022 |  Val. PPL:   2.779\n",
      "\tVal Accuracy: 0.380\n",
      "Epoch: 06 | Time: 1m 11s\n",
      "\tTrain Loss: 0.445 | Train PPL:   1.560\n",
      "\tTrain Accuracy: 0.443\n",
      "\tVal. Loss: 1.045 |  Val. PPL:   2.845\n",
      "\tVal Accuracy: 0.383\n",
      "Epoch: 07 | Time: 1m 9s\n",
      "\tTrain Loss: 0.404 | Train PPL:   1.497\n",
      "\tTrain Accuracy: 0.475\n",
      "\tVal. Loss: 1.091 |  Val. PPL:   2.978\n",
      "\tVal Accuracy: 0.381\n",
      "Epoch: 08 | Time: 1m 11s\n",
      "\tTrain Loss: 0.364 | Train PPL:   1.438\n",
      "\tTrain Accuracy: 0.511\n",
      "\tVal. Loss: 1.103 |  Val. PPL:   3.014\n",
      "\tVal Accuracy: 0.390\n",
      "Epoch: 09 | Time: 1m 13s\n",
      "\tTrain Loss: 0.326 | Train PPL:   1.386\n",
      "\tTrain Accuracy: 0.542\n",
      "\tVal. Loss: 1.084 |  Val. PPL:   2.958\n",
      "\tVal Accuracy: 0.398\n",
      "Epoch: 10 | Time: 1m 14s\n",
      "\tTrain Loss: 0.300 | Train PPL:   1.350\n",
      "\tTrain Accuracy: 0.566\n",
      "\tVal. Loss: 1.150 |  Val. PPL:   3.158\n",
      "\tVal Accuracy: 0.385\n",
      "Epoch: 11 | Time: 1m 12s\n",
      "\tTrain Loss: 0.277 | Train PPL:   1.319\n",
      "\tTrain Accuracy: 0.590\n",
      "\tVal. Loss: 1.181 |  Val. PPL:   3.259\n",
      "\tVal Accuracy: 0.404\n",
      "Epoch: 12 | Time: 1m 14s\n",
      "\tTrain Loss: 0.253 | Train PPL:   1.287\n",
      "\tTrain Accuracy: 0.622\n",
      "\tVal. Loss: 1.224 |  Val. PPL:   3.401\n",
      "\tVal Accuracy: 0.393\n",
      "Epoch: 13 | Time: 1m 14s\n",
      "\tTrain Loss: 0.228 | Train PPL:   1.257\n",
      "\tTrain Accuracy: 0.644\n",
      "\tVal. Loss: 1.255 |  Val. PPL:   3.506\n",
      "\tVal Accuracy: 0.392\n",
      "Epoch: 14 | Time: 1m 13s\n",
      "\tTrain Loss: 0.216 | Train PPL:   1.241\n",
      "\tTrain Accuracy: 0.661\n",
      "\tVal. Loss: 1.243 |  Val. PPL:   3.466\n",
      "\tVal Accuracy: 0.400\n",
      "Epoch: 15 | Time: 1m 13s\n",
      "\tTrain Loss: 0.199 | Train PPL:   1.220\n",
      "\tTrain Accuracy: 0.682\n",
      "\tVal. Loss: 1.248 |  Val. PPL:   3.484\n",
      "\tVal Accuracy: 0.399\n"
     ]
    },
    {
     "data": {
      "text/html": [
       "<br/>Waiting for W&B process to finish, PID 523<br/>Program ended successfully."
      ],
      "text/plain": [
       "<IPython.core.display.HTML object>"
      ]
     },
     "metadata": {
      "tags": []
     },
     "output_type": "display_data"
    },
    {
     "data": {
      "application/vnd.jupyter.widget-view+json": {
       "model_id": "3bb71d59ea5e487a9bfca27d79b3ad6c",
       "version_major": 2,
       "version_minor": 0
      },
      "text/plain": [
       "VBox(children=(Label(value=' 0.00MB of 0.00MB uploaded (0.00MB deduped)\\r'), FloatProgress(value=1.0, max=1.0)…"
      ]
     },
     "metadata": {
      "tags": []
     },
     "output_type": "display_data"
    },
    {
     "data": {
      "text/html": [
       "Find user logs for this run at: <code>/content/wandb/run-20210512_185425-0pbsf6yu/logs/debug.log</code>"
      ],
      "text/plain": [
       "<IPython.core.display.HTML object>"
      ]
     },
     "metadata": {
      "tags": []
     },
     "output_type": "display_data"
    },
    {
     "data": {
      "text/html": [
       "Find internal logs for this run at: <code>/content/wandb/run-20210512_185425-0pbsf6yu/logs/debug-internal.log</code>"
      ],
      "text/plain": [
       "<IPython.core.display.HTML object>"
      ]
     },
     "metadata": {
      "tags": []
     },
     "output_type": "display_data"
    },
    {
     "data": {
      "text/html": [
       "<h3>Run summary:</h3><br/><style>\n",
       "    table.wandb td:nth-child(1) { padding: 0 10px; text-align: right }\n",
       "    </style><table class=\"wandb\">\n",
       "<tr><td>epoch</td><td>14</td></tr><tr><td>train loss</td><td>0.19863</td></tr><tr><td>train PPL</td><td>1.21973</td></tr><tr><td>train accuracy</td><td>0.68229</td></tr><tr><td>val loss</td><td>1.24819</td></tr><tr><td>valid PPL</td><td>3.48404</td></tr><tr><td>val accuracy</td><td>0.39858</td></tr><tr><td>_runtime</td><td>1085</td></tr><tr><td>_timestamp</td><td>1620846750</td></tr><tr><td>_step</td><td>14</td></tr></table>"
      ],
      "text/plain": [
       "<IPython.core.display.HTML object>"
      ]
     },
     "metadata": {
      "tags": []
     },
     "output_type": "display_data"
    },
    {
     "data": {
      "text/html": [
       "<h3>Run history:</h3><br/><style>\n",
       "    table.wandb td:nth-child(1) { padding: 0 10px; text-align: right }\n",
       "    </style><table class=\"wandb\">\n",
       "<tr><td>epoch</td><td>▁▁▂▃▃▃▄▅▅▅▆▇▇▇█</td></tr><tr><td>train loss</td><td>█▄▃▃▂▂▂▂▂▁▁▁▁▁▁</td></tr><tr><td>train PPL</td><td>█▃▂▂▂▁▁▁▁▁▁▁▁▁▁</td></tr><tr><td>train accuracy</td><td>▁▃▄▄▅▅▆▆▆▇▇▇███</td></tr><tr><td>val loss</td><td>▂▂▁▂▁▂▃▄▃▅▆▇███</td></tr><tr><td>valid PPL</td><td>▂▂▁▂▁▂▃▃▃▅▆▇███</td></tr><tr><td>val accuracy</td><td>▁▄▆▆▇▇▇██▇█████</td></tr><tr><td>_runtime</td><td>▁▁▂▂▃▃▄▄▅▅▆▆▇▇█</td></tr><tr><td>_timestamp</td><td>▁▁▂▂▃▃▄▄▅▅▆▆▇▇█</td></tr><tr><td>_step</td><td>▁▁▂▃▃▃▄▅▅▅▆▇▇▇█</td></tr></table><br/>"
      ],
      "text/plain": [
       "<IPython.core.display.HTML object>"
      ]
     },
     "metadata": {
      "tags": []
     },
     "output_type": "display_data"
    },
    {
     "data": {
      "text/html": [
       "Synced 5 W&B file(s), 0 media file(s), 0 artifact file(s) and 0 other file(s)"
      ],
      "text/plain": [
       "<IPython.core.display.HTML object>"
      ]
     },
     "metadata": {
      "tags": []
     },
     "output_type": "display_data"
    },
    {
     "data": {
      "text/html": [
       "\n",
       "                    <br/>Synced <strong style=\"color:#cdcd00\">hearty-sweep-4</strong>: <a href=\"https://wandb.ai/rayanz/Encoder_Decoder_attention_Dakshina_Hi_Sweep_1/runs/0pbsf6yu\" target=\"_blank\">https://wandb.ai/rayanz/Encoder_Decoder_attention_Dakshina_Hi_Sweep_1/runs/0pbsf6yu</a><br/>\n",
       "                "
      ],
      "text/plain": [
       "<IPython.core.display.HTML object>"
      ]
     },
     "metadata": {
      "tags": []
     },
     "output_type": "display_data"
    },
    {
     "name": "stderr",
     "output_type": "stream",
     "text": [
      "\u001b[34m\u001b[1mwandb\u001b[0m: Agent Starting Run: kr2boabt with config:\n",
      "\u001b[34m\u001b[1mwandb\u001b[0m: \tbeam_search_size: 3\n",
      "\u001b[34m\u001b[1mwandb\u001b[0m: \tcell_type: LSTM\n",
      "\u001b[34m\u001b[1mwandb\u001b[0m: \tdropout: 0.5128859912270034\n",
      "\u001b[34m\u001b[1mwandb\u001b[0m: \tepochs: 15\n",
      "\u001b[34m\u001b[1mwandb\u001b[0m: \thidden_layer_size: 256\n",
      "\u001b[34m\u001b[1mwandb\u001b[0m: \tno_encoder_decoder_layers: 3\n",
      "\u001b[34m\u001b[1mwandb\u001b[0m: \tteacher_forcing_ratio: 0.33569141820857873\n"
     ]
    },
    {
     "data": {
      "text/html": [
       "\n",
       "                Tracking run with wandb version 0.10.30<br/>\n",
       "                Syncing run <strong style=\"color:#cdcd00\">laced-sweep-6</strong> to <a href=\"https://wandb.ai\" target=\"_blank\">Weights & Biases</a> <a href=\"https://docs.wandb.com/integrations/jupyter.html\" target=\"_blank\">(Documentation)</a>.<br/>\n",
       "                Project page: <a href=\"https://wandb.ai/rayanz/Encoder_Decoder_attention_Dakshina_Hi_Sweep_1\" target=\"_blank\">https://wandb.ai/rayanz/Encoder_Decoder_attention_Dakshina_Hi_Sweep_1</a><br/>\n",
       "                Sweep page: <a href=\"https://wandb.ai/rayanz/Encoder_Decoder_attention_Dakshina_Hi_Sweep_1/sweeps/g9ym6ooa\" target=\"_blank\">https://wandb.ai/rayanz/Encoder_Decoder_attention_Dakshina_Hi_Sweep_1/sweeps/g9ym6ooa</a><br/>\n",
       "Run page: <a href=\"https://wandb.ai/rayanz/Encoder_Decoder_attention_Dakshina_Hi_Sweep_1/runs/kr2boabt\" target=\"_blank\">https://wandb.ai/rayanz/Encoder_Decoder_attention_Dakshina_Hi_Sweep_1/runs/kr2boabt</a><br/>\n",
       "                Run data is saved locally in <code>/content/wandb/run-20210512_191235-kr2boabt</code><br/><br/>\n",
       "            "
      ],
      "text/plain": [
       "<IPython.core.display.HTML object>"
      ]
     },
     "metadata": {
      "tags": []
     },
     "output_type": "display_data"
    },
    {
     "name": "stdout",
     "output_type": "stream",
     "text": [
      "Epoch: 01 | Time: 1m 22s\n",
      "\tTrain Loss: 2.746 | Train PPL:  15.583\n",
      "\tTrain Accuracy: 0.001\n",
      "\tVal. Loss: 1.910 |  Val. PPL:   6.750\n",
      "\tVal Accuracy: 0.005\n",
      "Epoch: 02 | Time: 1m 24s\n",
      "\tTrain Loss: 1.699 | Train PPL:   5.470\n",
      "\tTrain Accuracy: 0.035\n",
      "\tVal. Loss: 1.115 |  Val. PPL:   3.049\n",
      "\tVal Accuracy: 0.106\n",
      "Epoch: 03 | Time: 1m 19s\n",
      "\tTrain Loss: 1.199 | Train PPL:   3.315\n",
      "\tTrain Accuracy: 0.121\n",
      "\tVal. Loss: 1.055 |  Val. PPL:   2.872\n",
      "\tVal Accuracy: 0.243\n",
      "Epoch: 04 | Time: 1m 14s\n",
      "\tTrain Loss: 0.979 | Train PPL:   2.663\n",
      "\tTrain Accuracy: 0.181\n",
      "\tVal. Loss: 1.062 |  Val. PPL:   2.893\n",
      "\tVal Accuracy: 0.259\n",
      "Epoch: 05 | Time: 1m 17s\n",
      "\tTrain Loss: 0.868 | Train PPL:   2.381\n",
      "\tTrain Accuracy: 0.222\n",
      "\tVal. Loss: 1.044 |  Val. PPL:   2.840\n",
      "\tVal Accuracy: 0.300\n",
      "Epoch: 06 | Time: 1m 15s\n",
      "\tTrain Loss: 0.797 | Train PPL:   2.219\n",
      "\tTrain Accuracy: 0.254\n",
      "\tVal. Loss: 1.081 |  Val. PPL:   2.947\n",
      "\tVal Accuracy: 0.309\n",
      "Epoch: 07 | Time: 1m 15s\n",
      "\tTrain Loss: 0.731 | Train PPL:   2.078\n",
      "\tTrain Accuracy: 0.284\n",
      "\tVal. Loss: 1.041 |  Val. PPL:   2.832\n",
      "\tVal Accuracy: 0.353\n",
      "Epoch: 08 | Time: 1m 16s\n",
      "\tTrain Loss: 0.694 | Train PPL:   2.001\n",
      "\tTrain Accuracy: 0.306\n",
      "\tVal. Loss: 1.029 |  Val. PPL:   2.800\n",
      "\tVal Accuracy: 0.365\n",
      "Epoch: 09 | Time: 1m 16s\n",
      "\tTrain Loss: 0.655 | Train PPL:   1.925\n",
      "\tTrain Accuracy: 0.324\n",
      "\tVal. Loss: 1.062 |  Val. PPL:   2.891\n",
      "\tVal Accuracy: 0.370\n",
      "Epoch: 10 | Time: 1m 15s\n",
      "\tTrain Loss: 0.617 | Train PPL:   1.853\n",
      "\tTrain Accuracy: 0.347\n",
      "\tVal. Loss: 1.033 |  Val. PPL:   2.810\n",
      "\tVal Accuracy: 0.380\n",
      "Epoch: 11 | Time: 1m 17s\n",
      "\tTrain Loss: 0.595 | Train PPL:   1.813\n",
      "\tTrain Accuracy: 0.357\n",
      "\tVal. Loss: 1.057 |  Val. PPL:   2.879\n",
      "\tVal Accuracy: 0.383\n",
      "Epoch: 12 | Time: 1m 14s\n",
      "\tTrain Loss: 0.564 | Train PPL:   1.757\n",
      "\tTrain Accuracy: 0.378\n",
      "\tVal. Loss: 1.072 |  Val. PPL:   2.921\n",
      "\tVal Accuracy: 0.393\n",
      "Epoch: 13 | Time: 1m 17s\n",
      "\tTrain Loss: 0.543 | Train PPL:   1.721\n",
      "\tTrain Accuracy: 0.392\n",
      "\tVal. Loss: 1.070 |  Val. PPL:   2.916\n",
      "\tVal Accuracy: 0.392\n",
      "Epoch: 14 | Time: 1m 17s\n",
      "\tTrain Loss: 0.523 | Train PPL:   1.686\n",
      "\tTrain Accuracy: 0.405\n",
      "\tVal. Loss: 1.069 |  Val. PPL:   2.912\n",
      "\tVal Accuracy: 0.392\n",
      "Epoch: 15 | Time: 1m 16s\n",
      "\tTrain Loss: 0.511 | Train PPL:   1.667\n",
      "\tTrain Accuracy: 0.414\n",
      "\tVal. Loss: 1.071 |  Val. PPL:   2.917\n",
      "\tVal Accuracy: 0.413\n"
     ]
    },
    {
     "data": {
      "text/html": [
       "<br/>Waiting for W&B process to finish, PID 590<br/>Program ended successfully."
      ],
      "text/plain": [
       "<IPython.core.display.HTML object>"
      ]
     },
     "metadata": {
      "tags": []
     },
     "output_type": "display_data"
    },
    {
     "data": {
      "application/vnd.jupyter.widget-view+json": {
       "model_id": "d7713131b5f0488db1e2c7ae3a978697",
       "version_major": 2,
       "version_minor": 0
      },
      "text/plain": [
       "VBox(children=(Label(value=' 0.00MB of 0.00MB uploaded (0.00MB deduped)\\r'), FloatProgress(value=1.0, max=1.0)…"
      ]
     },
     "metadata": {
      "tags": []
     },
     "output_type": "display_data"
    },
    {
     "data": {
      "text/html": [
       "Find user logs for this run at: <code>/content/wandb/run-20210512_191235-kr2boabt/logs/debug.log</code>"
      ],
      "text/plain": [
       "<IPython.core.display.HTML object>"
      ]
     },
     "metadata": {
      "tags": []
     },
     "output_type": "display_data"
    },
    {
     "data": {
      "text/html": [
       "Find internal logs for this run at: <code>/content/wandb/run-20210512_191235-kr2boabt/logs/debug-internal.log</code>"
      ],
      "text/plain": [
       "<IPython.core.display.HTML object>"
      ]
     },
     "metadata": {
      "tags": []
     },
     "output_type": "display_data"
    },
    {
     "data": {
      "text/html": [
       "<h3>Run summary:</h3><br/><style>\n",
       "    table.wandb td:nth-child(1) { padding: 0 10px; text-align: right }\n",
       "    </style><table class=\"wandb\">\n",
       "<tr><td>epoch</td><td>14</td></tr><tr><td>train loss</td><td>0.511</td></tr><tr><td>train PPL</td><td>1.66696</td></tr><tr><td>train accuracy</td><td>0.41446</td></tr><tr><td>val loss</td><td>1.07061</td></tr><tr><td>valid PPL</td><td>2.91716</td></tr><tr><td>val accuracy</td><td>0.41326</td></tr><tr><td>_runtime</td><td>1163</td></tr><tr><td>_timestamp</td><td>1620847918</td></tr><tr><td>_step</td><td>14</td></tr></table>"
      ],
      "text/plain": [
       "<IPython.core.display.HTML object>"
      ]
     },
     "metadata": {
      "tags": []
     },
     "output_type": "display_data"
    },
    {
     "data": {
      "text/html": [
       "<h3>Run history:</h3><br/><style>\n",
       "    table.wandb td:nth-child(1) { padding: 0 10px; text-align: right }\n",
       "    </style><table class=\"wandb\">\n",
       "<tr><td>epoch</td><td>▁▁▂▃▃▃▄▅▅▅▆▇▇▇█</td></tr><tr><td>train loss</td><td>█▅▃▂▂▂▂▂▁▁▁▁▁▁▁</td></tr><tr><td>train PPL</td><td>█▃▂▂▁▁▁▁▁▁▁▁▁▁▁</td></tr><tr><td>train accuracy</td><td>▁▂▃▄▅▅▆▆▆▇▇▇███</td></tr><tr><td>val loss</td><td>█▂▁▁▁▁▁▁▁▁▁▁▁▁▁</td></tr><tr><td>valid PPL</td><td>█▁▁▁▁▁▁▁▁▁▁▁▁▁▁</td></tr><tr><td>val accuracy</td><td>▁▃▅▅▆▆▇▇▇▇▇████</td></tr><tr><td>_runtime</td><td>▁▂▂▃▃▄▄▅▅▆▆▇▇██</td></tr><tr><td>_timestamp</td><td>▁▂▂▃▃▄▄▅▅▆▆▇▇██</td></tr><tr><td>_step</td><td>▁▁▂▃▃▃▄▅▅▅▆▇▇▇█</td></tr></table><br/>"
      ],
      "text/plain": [
       "<IPython.core.display.HTML object>"
      ]
     },
     "metadata": {
      "tags": []
     },
     "output_type": "display_data"
    },
    {
     "data": {
      "text/html": [
       "Synced 5 W&B file(s), 0 media file(s), 0 artifact file(s) and 0 other file(s)"
      ],
      "text/plain": [
       "<IPython.core.display.HTML object>"
      ]
     },
     "metadata": {
      "tags": []
     },
     "output_type": "display_data"
    },
    {
     "data": {
      "text/html": [
       "\n",
       "                    <br/>Synced <strong style=\"color:#cdcd00\">laced-sweep-6</strong>: <a href=\"https://wandb.ai/rayanz/Encoder_Decoder_attention_Dakshina_Hi_Sweep_1/runs/kr2boabt\" target=\"_blank\">https://wandb.ai/rayanz/Encoder_Decoder_attention_Dakshina_Hi_Sweep_1/runs/kr2boabt</a><br/>\n",
       "                "
      ],
      "text/plain": [
       "<IPython.core.display.HTML object>"
      ]
     },
     "metadata": {
      "tags": []
     },
     "output_type": "display_data"
    },
    {
     "name": "stderr",
     "output_type": "stream",
     "text": [
      "\u001b[34m\u001b[1mwandb\u001b[0m: Agent Starting Run: ayfuw1g0 with config:\n",
      "\u001b[34m\u001b[1mwandb\u001b[0m: \tbeam_search_size: 4\n",
      "\u001b[34m\u001b[1mwandb\u001b[0m: \tcell_type: LSTM\n",
      "\u001b[34m\u001b[1mwandb\u001b[0m: \tdropout: 0.3163892689028457\n",
      "\u001b[34m\u001b[1mwandb\u001b[0m: \tepochs: 10\n",
      "\u001b[34m\u001b[1mwandb\u001b[0m: \thidden_layer_size: 512\n",
      "\u001b[34m\u001b[1mwandb\u001b[0m: \tno_encoder_decoder_layers: 3\n",
      "\u001b[34m\u001b[1mwandb\u001b[0m: \tteacher_forcing_ratio: 0.2755690541018389\n"
     ]
    },
    {
     "data": {
      "text/html": [
       "\n",
       "                Tracking run with wandb version 0.10.30<br/>\n",
       "                Syncing run <strong style=\"color:#cdcd00\">magic-sweep-8</strong> to <a href=\"https://wandb.ai\" target=\"_blank\">Weights & Biases</a> <a href=\"https://docs.wandb.com/integrations/jupyter.html\" target=\"_blank\">(Documentation)</a>.<br/>\n",
       "                Project page: <a href=\"https://wandb.ai/rayanz/Encoder_Decoder_attention_Dakshina_Hi_Sweep_1\" target=\"_blank\">https://wandb.ai/rayanz/Encoder_Decoder_attention_Dakshina_Hi_Sweep_1</a><br/>\n",
       "                Sweep page: <a href=\"https://wandb.ai/rayanz/Encoder_Decoder_attention_Dakshina_Hi_Sweep_1/sweeps/g9ym6ooa\" target=\"_blank\">https://wandb.ai/rayanz/Encoder_Decoder_attention_Dakshina_Hi_Sweep_1/sweeps/g9ym6ooa</a><br/>\n",
       "Run page: <a href=\"https://wandb.ai/rayanz/Encoder_Decoder_attention_Dakshina_Hi_Sweep_1/runs/ayfuw1g0\" target=\"_blank\">https://wandb.ai/rayanz/Encoder_Decoder_attention_Dakshina_Hi_Sweep_1/runs/ayfuw1g0</a><br/>\n",
       "                Run data is saved locally in <code>/content/wandb/run-20210512_193203-ayfuw1g0</code><br/><br/>\n",
       "            "
      ],
      "text/plain": [
       "<IPython.core.display.HTML object>"
      ]
     },
     "metadata": {
      "tags": []
     },
     "output_type": "display_data"
    },
    {
     "name": "stdout",
     "output_type": "stream",
     "text": [
      "Epoch: 01 | Time: 1m 41s\n",
      "\tTrain Loss: 2.422 | Train PPL:  11.271\n",
      "\tTrain Accuracy: 0.013\n",
      "\tVal. Loss: 1.241 |  Val. PPL:   3.459\n",
      "\tVal Accuracy: 0.066\n",
      "Epoch: 02 | Time: 1m 40s\n",
      "\tTrain Loss: 1.164 | Train PPL:   3.203\n",
      "\tTrain Accuracy: 0.142\n",
      "\tVal. Loss: 0.859 |  Val. PPL:   2.361\n",
      "\tVal Accuracy: 0.217\n",
      "Epoch: 03 | Time: 1m 36s\n",
      "\tTrain Loss: 0.861 | Train PPL:   2.366\n",
      "\tTrain Accuracy: 0.247\n",
      "\tVal. Loss: 0.907 |  Val. PPL:   2.476\n",
      "\tVal Accuracy: 0.320\n",
      "Epoch: 04 | Time: 1m 34s\n",
      "\tTrain Loss: 0.705 | Train PPL:   2.023\n",
      "\tTrain Accuracy: 0.318\n",
      "\tVal. Loss: 0.975 |  Val. PPL:   2.651\n",
      "\tVal Accuracy: 0.327\n",
      "Epoch: 05 | Time: 1m 36s\n",
      "\tTrain Loss: 0.619 | Train PPL:   1.856\n",
      "\tTrain Accuracy: 0.368\n",
      "\tVal. Loss: 0.944 |  Val. PPL:   2.570\n",
      "\tVal Accuracy: 0.368\n",
      "Epoch: 06 | Time: 1m 34s\n",
      "\tTrain Loss: 0.558 | Train PPL:   1.748\n",
      "\tTrain Accuracy: 0.408\n",
      "\tVal. Loss: 0.998 |  Val. PPL:   2.714\n",
      "\tVal Accuracy: 0.373\n",
      "Epoch: 07 | Time: 1m 34s\n",
      "\tTrain Loss: 0.504 | Train PPL:   1.655\n",
      "\tTrain Accuracy: 0.444\n",
      "\tVal. Loss: 0.971 |  Val. PPL:   2.640\n",
      "\tVal Accuracy: 0.391\n",
      "Epoch: 08 | Time: 1m 35s\n",
      "\tTrain Loss: 0.464 | Train PPL:   1.590\n",
      "\tTrain Accuracy: 0.471\n",
      "\tVal. Loss: 0.970 |  Val. PPL:   2.639\n",
      "\tVal Accuracy: 0.400\n",
      "Epoch: 09 | Time: 1m 37s\n",
      "\tTrain Loss: 0.428 | Train PPL:   1.534\n",
      "\tTrain Accuracy: 0.500\n",
      "\tVal. Loss: 0.966 |  Val. PPL:   2.628\n",
      "\tVal Accuracy: 0.409\n",
      "Epoch: 10 | Time: 1m 37s\n",
      "\tTrain Loss: 0.396 | Train PPL:   1.485\n",
      "\tTrain Accuracy: 0.524\n",
      "\tVal. Loss: 1.008 |  Val. PPL:   2.739\n",
      "\tVal Accuracy: 0.396\n"
     ]
    },
    {
     "data": {
      "text/html": [
       "<br/>Waiting for W&B process to finish, PID 663<br/>Program ended successfully."
      ],
      "text/plain": [
       "<IPython.core.display.HTML object>"
      ]
     },
     "metadata": {
      "tags": []
     },
     "output_type": "display_data"
    },
    {
     "data": {
      "application/vnd.jupyter.widget-view+json": {
       "model_id": "7af52ee4e5484495a40214a8bc3a55a6",
       "version_major": 2,
       "version_minor": 0
      },
      "text/plain": [
       "VBox(children=(Label(value=' 0.00MB of 0.00MB uploaded (0.00MB deduped)\\r'), FloatProgress(value=1.0, max=1.0)…"
      ]
     },
     "metadata": {
      "tags": []
     },
     "output_type": "display_data"
    },
    {
     "data": {
      "text/html": [
       "Find user logs for this run at: <code>/content/wandb/run-20210512_193203-ayfuw1g0/logs/debug.log</code>"
      ],
      "text/plain": [
       "<IPython.core.display.HTML object>"
      ]
     },
     "metadata": {
      "tags": []
     },
     "output_type": "display_data"
    },
    {
     "data": {
      "text/html": [
       "Find internal logs for this run at: <code>/content/wandb/run-20210512_193203-ayfuw1g0/logs/debug-internal.log</code>"
      ],
      "text/plain": [
       "<IPython.core.display.HTML object>"
      ]
     },
     "metadata": {
      "tags": []
     },
     "output_type": "display_data"
    },
    {
     "data": {
      "text/html": [
       "<h3>Run summary:</h3><br/><style>\n",
       "    table.wandb td:nth-child(1) { padding: 0 10px; text-align: right }\n",
       "    </style><table class=\"wandb\">\n",
       "<tr><td>epoch</td><td>9</td></tr><tr><td>train loss</td><td>0.39572</td></tr><tr><td>train PPL</td><td>1.48545</td></tr><tr><td>train accuracy</td><td>0.52357</td></tr><tr><td>val loss</td><td>1.00769</td></tr><tr><td>valid PPL</td><td>2.73927</td></tr><tr><td>val accuracy</td><td>0.39559</td></tr><tr><td>_runtime</td><td>973</td></tr><tr><td>_timestamp</td><td>1620848896</td></tr><tr><td>_step</td><td>9</td></tr></table>"
      ],
      "text/plain": [
       "<IPython.core.display.HTML object>"
      ]
     },
     "metadata": {
      "tags": []
     },
     "output_type": "display_data"
    },
    {
     "data": {
      "text/html": [
       "<h3>Run history:</h3><br/><style>\n",
       "    table.wandb td:nth-child(1) { padding: 0 10px; text-align: right }\n",
       "    </style><table class=\"wandb\">\n",
       "<tr><td>epoch</td><td>▁▂▃▃▄▅▆▆▇█</td></tr><tr><td>train loss</td><td>█▄▃▂▂▂▁▁▁▁</td></tr><tr><td>train PPL</td><td>█▂▂▁▁▁▁▁▁▁</td></tr><tr><td>train accuracy</td><td>▁▃▄▅▆▆▇▇██</td></tr><tr><td>val loss</td><td>█▁▂▃▃▄▃▃▃▄</td></tr><tr><td>valid PPL</td><td>█▁▂▃▂▃▃▃▃▃</td></tr><tr><td>val accuracy</td><td>▁▄▆▆▇▇████</td></tr><tr><td>_runtime</td><td>▁▂▃▃▄▅▆▆▇█</td></tr><tr><td>_timestamp</td><td>▁▂▃▃▄▅▆▆▇█</td></tr><tr><td>_step</td><td>▁▂▃▃▄▅▆▆▇█</td></tr></table><br/>"
      ],
      "text/plain": [
       "<IPython.core.display.HTML object>"
      ]
     },
     "metadata": {
      "tags": []
     },
     "output_type": "display_data"
    },
    {
     "data": {
      "text/html": [
       "Synced 5 W&B file(s), 0 media file(s), 0 artifact file(s) and 0 other file(s)"
      ],
      "text/plain": [
       "<IPython.core.display.HTML object>"
      ]
     },
     "metadata": {
      "tags": []
     },
     "output_type": "display_data"
    },
    {
     "data": {
      "text/html": [
       "\n",
       "                    <br/>Synced <strong style=\"color:#cdcd00\">magic-sweep-8</strong>: <a href=\"https://wandb.ai/rayanz/Encoder_Decoder_attention_Dakshina_Hi_Sweep_1/runs/ayfuw1g0\" target=\"_blank\">https://wandb.ai/rayanz/Encoder_Decoder_attention_Dakshina_Hi_Sweep_1/runs/ayfuw1g0</a><br/>\n",
       "                "
      ],
      "text/plain": [
       "<IPython.core.display.HTML object>"
      ]
     },
     "metadata": {
      "tags": []
     },
     "output_type": "display_data"
    },
    {
     "name": "stderr",
     "output_type": "stream",
     "text": [
      "\u001b[34m\u001b[1mwandb\u001b[0m: Agent Starting Run: pdargzx0 with config:\n",
      "\u001b[34m\u001b[1mwandb\u001b[0m: \tbeam_search_size: 4\n",
      "\u001b[34m\u001b[1mwandb\u001b[0m: \tcell_type: GRU\n",
      "\u001b[34m\u001b[1mwandb\u001b[0m: \tdropout: 0.6874028282409137\n",
      "\u001b[34m\u001b[1mwandb\u001b[0m: \tepochs: 9\n",
      "\u001b[34m\u001b[1mwandb\u001b[0m: \thidden_layer_size: 256\n",
      "\u001b[34m\u001b[1mwandb\u001b[0m: \tno_encoder_decoder_layers: 1\n",
      "\u001b[34m\u001b[1mwandb\u001b[0m: \tteacher_forcing_ratio: 0.6838079996770052\n"
     ]
    },
    {
     "data": {
      "text/html": [
       "\n",
       "                Tracking run with wandb version 0.10.30<br/>\n",
       "                Syncing run <strong style=\"color:#cdcd00\">logical-sweep-10</strong> to <a href=\"https://wandb.ai\" target=\"_blank\">Weights & Biases</a> <a href=\"https://docs.wandb.com/integrations/jupyter.html\" target=\"_blank\">(Documentation)</a>.<br/>\n",
       "                Project page: <a href=\"https://wandb.ai/rayanz/Encoder_Decoder_attention_Dakshina_Hi_Sweep_1\" target=\"_blank\">https://wandb.ai/rayanz/Encoder_Decoder_attention_Dakshina_Hi_Sweep_1</a><br/>\n",
       "                Sweep page: <a href=\"https://wandb.ai/rayanz/Encoder_Decoder_attention_Dakshina_Hi_Sweep_1/sweeps/g9ym6ooa\" target=\"_blank\">https://wandb.ai/rayanz/Encoder_Decoder_attention_Dakshina_Hi_Sweep_1/sweeps/g9ym6ooa</a><br/>\n",
       "Run page: <a href=\"https://wandb.ai/rayanz/Encoder_Decoder_attention_Dakshina_Hi_Sweep_1/runs/pdargzx0\" target=\"_blank\">https://wandb.ai/rayanz/Encoder_Decoder_attention_Dakshina_Hi_Sweep_1/runs/pdargzx0</a><br/>\n",
       "                Run data is saved locally in <code>/content/wandb/run-20210512_194821-pdargzx0</code><br/><br/>\n",
       "            "
      ],
      "text/plain": [
       "<IPython.core.display.HTML object>"
      ]
     },
     "metadata": {
      "tags": []
     },
     "output_type": "display_data"
    },
    {
     "name": "stderr",
     "output_type": "stream",
     "text": [
      "/usr/local/lib/python3.7/dist-packages/torch/nn/modules/rnn.py:63: UserWarning: dropout option adds dropout after all but last recurrent layer, so non-zero dropout expects num_layers greater than 1, but got dropout=0.6874028282409137 and num_layers=1\n",
      "  \"num_layers={}\".format(dropout, num_layers))\n"
     ]
    },
    {
     "name": "stdout",
     "output_type": "stream",
     "text": [
      "Epoch: 01 | Time: 1m 1s\n",
      "\tTrain Loss: 2.093 | Train PPL:   8.113\n",
      "\tTrain Accuracy: 0.040\n",
      "\tVal. Loss: 1.244 |  Val. PPL:   3.468\n",
      "\tVal Accuracy: 0.154\n",
      "Epoch: 02 | Time: 1m 4s\n",
      "\tTrain Loss: 0.935 | Train PPL:   2.548\n",
      "\tTrain Accuracy: 0.180\n",
      "\tVal. Loss: 1.280 |  Val. PPL:   3.595\n",
      "\tVal Accuracy: 0.246\n",
      "Epoch: 03 | Time: 1m 3s\n",
      "\tTrain Loss: 0.724 | Train PPL:   2.062\n",
      "\tTrain Accuracy: 0.257\n",
      "\tVal. Loss: 1.177 |  Val. PPL:   3.246\n",
      "\tVal Accuracy: 0.308\n",
      "Epoch: 04 | Time: 1m 4s\n",
      "\tTrain Loss: 0.610 | Train PPL:   1.840\n",
      "\tTrain Accuracy: 0.307\n",
      "\tVal. Loss: 1.203 |  Val. PPL:   3.331\n",
      "\tVal Accuracy: 0.346\n",
      "Epoch: 05 | Time: 1m 4s\n",
      "\tTrain Loss: 0.547 | Train PPL:   1.727\n",
      "\tTrain Accuracy: 0.342\n",
      "\tVal. Loss: 1.209 |  Val. PPL:   3.349\n",
      "\tVal Accuracy: 0.368\n",
      "Epoch: 06 | Time: 1m 4s\n",
      "\tTrain Loss: 0.497 | Train PPL:   1.644\n",
      "\tTrain Accuracy: 0.374\n",
      "\tVal. Loss: 1.219 |  Val. PPL:   3.385\n",
      "\tVal Accuracy: 0.375\n",
      "Epoch: 07 | Time: 1m 5s\n",
      "\tTrain Loss: 0.457 | Train PPL:   1.579\n",
      "\tTrain Accuracy: 0.405\n",
      "\tVal. Loss: 1.173 |  Val. PPL:   3.230\n",
      "\tVal Accuracy: 0.377\n",
      "Epoch: 08 | Time: 1m 5s\n",
      "\tTrain Loss: 0.426 | Train PPL:   1.531\n",
      "\tTrain Accuracy: 0.429\n",
      "\tVal. Loss: 1.219 |  Val. PPL:   3.384\n",
      "\tVal Accuracy: 0.394\n",
      "Epoch: 09 | Time: 1m 5s\n",
      "\tTrain Loss: 0.403 | Train PPL:   1.496\n",
      "\tTrain Accuracy: 0.450\n",
      "\tVal. Loss: 1.188 |  Val. PPL:   3.280\n",
      "\tVal Accuracy: 0.389\n"
     ]
    },
    {
     "data": {
      "text/html": [
       "<br/>Waiting for W&B process to finish, PID 728<br/>Program ended successfully."
      ],
      "text/plain": [
       "<IPython.core.display.HTML object>"
      ]
     },
     "metadata": {
      "tags": []
     },
     "output_type": "display_data"
    },
    {
     "data": {
      "application/vnd.jupyter.widget-view+json": {
       "model_id": "199632a8bece40fdae1684971cef9432",
       "version_major": 2,
       "version_minor": 0
      },
      "text/plain": [
       "VBox(children=(Label(value=' 0.00MB of 0.00MB uploaded (0.00MB deduped)\\r'), FloatProgress(value=1.0, max=1.0)…"
      ]
     },
     "metadata": {
      "tags": []
     },
     "output_type": "display_data"
    },
    {
     "data": {
      "text/html": [
       "Find user logs for this run at: <code>/content/wandb/run-20210512_194821-pdargzx0/logs/debug.log</code>"
      ],
      "text/plain": [
       "<IPython.core.display.HTML object>"
      ]
     },
     "metadata": {
      "tags": []
     },
     "output_type": "display_data"
    },
    {
     "data": {
      "text/html": [
       "Find internal logs for this run at: <code>/content/wandb/run-20210512_194821-pdargzx0/logs/debug-internal.log</code>"
      ],
      "text/plain": [
       "<IPython.core.display.HTML object>"
      ]
     },
     "metadata": {
      "tags": []
     },
     "output_type": "display_data"
    },
    {
     "data": {
      "text/html": [
       "<h3>Run summary:</h3><br/><style>\n",
       "    table.wandb td:nth-child(1) { padding: 0 10px; text-align: right }\n",
       "    </style><table class=\"wandb\">\n",
       "<tr><td>epoch</td><td>8</td></tr><tr><td>train loss</td><td>0.40277</td></tr><tr><td>train PPL</td><td>1.49597</td></tr><tr><td>train accuracy</td><td>0.45043</td></tr><tr><td>val loss</td><td>1.18794</td></tr><tr><td>valid PPL</td><td>3.28032</td></tr><tr><td>val accuracy</td><td>0.3894</td></tr><tr><td>_runtime</td><td>583</td></tr><tr><td>_timestamp</td><td>1620849484</td></tr><tr><td>_step</td><td>8</td></tr></table>"
      ],
      "text/plain": [
       "<IPython.core.display.HTML object>"
      ]
     },
     "metadata": {
      "tags": []
     },
     "output_type": "display_data"
    },
    {
     "data": {
      "text/html": [
       "<h3>Run history:</h3><br/><style>\n",
       "    table.wandb td:nth-child(1) { padding: 0 10px; text-align: right }\n",
       "    </style><table class=\"wandb\">\n",
       "<tr><td>epoch</td><td>▁▂▃▄▅▅▆▇█</td></tr><tr><td>train loss</td><td>█▃▂▂▂▁▁▁▁</td></tr><tr><td>train PPL</td><td>█▂▂▁▁▁▁▁▁</td></tr><tr><td>train accuracy</td><td>▁▃▅▆▆▇▇██</td></tr><tr><td>val loss</td><td>▆█▁▃▃▄▁▄▂</td></tr><tr><td>valid PPL</td><td>▆█▁▃▃▄▁▄▂</td></tr><tr><td>val accuracy</td><td>▁▄▅▇▇▇███</td></tr><tr><td>_runtime</td><td>▁▂▃▄▄▅▆▇█</td></tr><tr><td>_timestamp</td><td>▁▂▃▄▄▅▆▇█</td></tr><tr><td>_step</td><td>▁▂▃▄▅▅▆▇█</td></tr></table><br/>"
      ],
      "text/plain": [
       "<IPython.core.display.HTML object>"
      ]
     },
     "metadata": {
      "tags": []
     },
     "output_type": "display_data"
    },
    {
     "data": {
      "text/html": [
       "Synced 5 W&B file(s), 0 media file(s), 0 artifact file(s) and 0 other file(s)"
      ],
      "text/plain": [
       "<IPython.core.display.HTML object>"
      ]
     },
     "metadata": {
      "tags": []
     },
     "output_type": "display_data"
    },
    {
     "data": {
      "text/html": [
       "\n",
       "                    <br/>Synced <strong style=\"color:#cdcd00\">logical-sweep-10</strong>: <a href=\"https://wandb.ai/rayanz/Encoder_Decoder_attention_Dakshina_Hi_Sweep_1/runs/pdargzx0\" target=\"_blank\">https://wandb.ai/rayanz/Encoder_Decoder_attention_Dakshina_Hi_Sweep_1/runs/pdargzx0</a><br/>\n",
       "                "
      ],
      "text/plain": [
       "<IPython.core.display.HTML object>"
      ]
     },
     "metadata": {
      "tags": []
     },
     "output_type": "display_data"
    },
    {
     "name": "stderr",
     "output_type": "stream",
     "text": [
      "\u001b[34m\u001b[1mwandb\u001b[0m: Agent Starting Run: h3794x4v with config:\n",
      "\u001b[34m\u001b[1mwandb\u001b[0m: \tbeam_search_size: 4\n",
      "\u001b[34m\u001b[1mwandb\u001b[0m: \tcell_type: GRU\n",
      "\u001b[34m\u001b[1mwandb\u001b[0m: \tdropout: 0.6901369288202513\n",
      "\u001b[34m\u001b[1mwandb\u001b[0m: \tepochs: 7\n",
      "\u001b[34m\u001b[1mwandb\u001b[0m: \thidden_layer_size: 512\n",
      "\u001b[34m\u001b[1mwandb\u001b[0m: \tno_encoder_decoder_layers: 3\n",
      "\u001b[34m\u001b[1mwandb\u001b[0m: \tteacher_forcing_ratio: 0.37735781077633646\n"
     ]
    },
    {
     "data": {
      "text/html": [
       "\n",
       "                Tracking run with wandb version 0.10.30<br/>\n",
       "                Syncing run <strong style=\"color:#cdcd00\">misunderstood-sweep-11</strong> to <a href=\"https://wandb.ai\" target=\"_blank\">Weights & Biases</a> <a href=\"https://docs.wandb.com/integrations/jupyter.html\" target=\"_blank\">(Documentation)</a>.<br/>\n",
       "                Project page: <a href=\"https://wandb.ai/rayanz/Encoder_Decoder_attention_Dakshina_Hi_Sweep_1\" target=\"_blank\">https://wandb.ai/rayanz/Encoder_Decoder_attention_Dakshina_Hi_Sweep_1</a><br/>\n",
       "                Sweep page: <a href=\"https://wandb.ai/rayanz/Encoder_Decoder_attention_Dakshina_Hi_Sweep_1/sweeps/g9ym6ooa\" target=\"_blank\">https://wandb.ai/rayanz/Encoder_Decoder_attention_Dakshina_Hi_Sweep_1/sweeps/g9ym6ooa</a><br/>\n",
       "Run page: <a href=\"https://wandb.ai/rayanz/Encoder_Decoder_attention_Dakshina_Hi_Sweep_1/runs/h3794x4v\" target=\"_blank\">https://wandb.ai/rayanz/Encoder_Decoder_attention_Dakshina_Hi_Sweep_1/runs/h3794x4v</a><br/>\n",
       "                Run data is saved locally in <code>/content/wandb/run-20210512_195809-h3794x4v</code><br/><br/>\n",
       "            "
      ],
      "text/plain": [
       "<IPython.core.display.HTML object>"
      ]
     },
     "metadata": {
      "tags": []
     },
     "output_type": "display_data"
    },
    {
     "name": "stdout",
     "output_type": "stream",
     "text": [
      "Epoch: 01 | Time: 1m 33s\n",
      "\tTrain Loss: 1.907 | Train PPL:   6.734\n",
      "\tTrain Accuracy: 0.043\n",
      "\tVal. Loss: 0.980 |  Val. PPL:   2.664\n",
      "\tVal Accuracy: 0.154\n",
      "Epoch: 02 | Time: 1m 34s\n",
      "\tTrain Loss: 1.117 | Train PPL:   3.056\n",
      "\tTrain Accuracy: 0.140\n",
      "\tVal. Loss: 0.836 |  Val. PPL:   2.307\n",
      "\tVal Accuracy: 0.200\n",
      "Epoch: 03 | Time: 1m 33s\n",
      "\tTrain Loss: 0.976 | Train PPL:   2.653\n",
      "\tTrain Accuracy: 0.181\n",
      "\tVal. Loss: 0.787 |  Val. PPL:   2.198\n",
      "\tVal Accuracy: 0.235\n",
      "Epoch: 04 | Time: 1m 34s\n",
      "\tTrain Loss: 0.904 | Train PPL:   2.468\n",
      "\tTrain Accuracy: 0.209\n",
      "\tVal. Loss: 0.761 |  Val. PPL:   2.140\n",
      "\tVal Accuracy: 0.236\n",
      "Epoch: 05 | Time: 1m 32s\n",
      "\tTrain Loss: 0.852 | Train PPL:   2.344\n",
      "\tTrain Accuracy: 0.230\n",
      "\tVal. Loss: 0.756 |  Val. PPL:   2.130\n",
      "\tVal Accuracy: 0.258\n",
      "Epoch: 06 | Time: 1m 31s\n",
      "\tTrain Loss: 0.817 | Train PPL:   2.264\n",
      "\tTrain Accuracy: 0.245\n",
      "\tVal. Loss: 0.746 |  Val. PPL:   2.108\n",
      "\tVal Accuracy: 0.263\n",
      "Epoch: 07 | Time: 1m 31s\n",
      "\tTrain Loss: 0.786 | Train PPL:   2.195\n",
      "\tTrain Accuracy: 0.257\n",
      "\tVal. Loss: 0.766 |  Val. PPL:   2.151\n",
      "\tVal Accuracy: 0.252\n"
     ]
    },
    {
     "data": {
      "text/html": [
       "<br/>Waiting for W&B process to finish, PID 779<br/>Program ended successfully."
      ],
      "text/plain": [
       "<IPython.core.display.HTML object>"
      ]
     },
     "metadata": {
      "tags": []
     },
     "output_type": "display_data"
    },
    {
     "data": {
      "application/vnd.jupyter.widget-view+json": {
       "model_id": "aa44829fca984811b0c45a0ebd3ff44a",
       "version_major": 2,
       "version_minor": 0
      },
      "text/plain": [
       "VBox(children=(Label(value=' 0.00MB of 0.00MB uploaded (0.00MB deduped)\\r'), FloatProgress(value=1.0, max=1.0)…"
      ]
     },
     "metadata": {
      "tags": []
     },
     "output_type": "display_data"
    },
    {
     "data": {
      "text/html": [
       "Find user logs for this run at: <code>/content/wandb/run-20210512_195809-h3794x4v/logs/debug.log</code>"
      ],
      "text/plain": [
       "<IPython.core.display.HTML object>"
      ]
     },
     "metadata": {
      "tags": []
     },
     "output_type": "display_data"
    },
    {
     "data": {
      "text/html": [
       "Find internal logs for this run at: <code>/content/wandb/run-20210512_195809-h3794x4v/logs/debug-internal.log</code>"
      ],
      "text/plain": [
       "<IPython.core.display.HTML object>"
      ]
     },
     "metadata": {
      "tags": []
     },
     "output_type": "display_data"
    },
    {
     "data": {
      "text/html": [
       "<h3>Run summary:</h3><br/><style>\n",
       "    table.wandb td:nth-child(1) { padding: 0 10px; text-align: right }\n",
       "    </style><table class=\"wandb\">\n",
       "<tr><td>epoch</td><td>6</td></tr><tr><td>train loss</td><td>0.78599</td></tr><tr><td>train PPL</td><td>2.19458</td></tr><tr><td>train accuracy</td><td>0.25681</td></tr><tr><td>val loss</td><td>0.76594</td></tr><tr><td>valid PPL</td><td>2.15102</td></tr><tr><td>val accuracy</td><td>0.25195</td></tr><tr><td>_runtime</td><td>653</td></tr><tr><td>_timestamp</td><td>1620850142</td></tr><tr><td>_step</td><td>6</td></tr></table>"
      ],
      "text/plain": [
       "<IPython.core.display.HTML object>"
      ]
     },
     "metadata": {
      "tags": []
     },
     "output_type": "display_data"
    },
    {
     "data": {
      "text/html": [
       "<h3>Run history:</h3><br/><style>\n",
       "    table.wandb td:nth-child(1) { padding: 0 10px; text-align: right }\n",
       "    </style><table class=\"wandb\">\n",
       "<tr><td>epoch</td><td>▁▂▃▅▆▇█</td></tr><tr><td>train loss</td><td>█▃▂▂▁▁▁</td></tr><tr><td>train PPL</td><td>█▂▂▁▁▁▁</td></tr><tr><td>train accuracy</td><td>▁▄▆▆▇██</td></tr><tr><td>val loss</td><td>█▄▂▁▁▁▂</td></tr><tr><td>valid PPL</td><td>█▄▂▁▁▁▂</td></tr><tr><td>val accuracy</td><td>▁▄▆▆██▇</td></tr><tr><td>_runtime</td><td>▁▂▃▅▆▇█</td></tr><tr><td>_timestamp</td><td>▁▂▃▅▆▇█</td></tr><tr><td>_step</td><td>▁▂▃▅▆▇█</td></tr></table><br/>"
      ],
      "text/plain": [
       "<IPython.core.display.HTML object>"
      ]
     },
     "metadata": {
      "tags": []
     },
     "output_type": "display_data"
    },
    {
     "data": {
      "text/html": [
       "Synced 5 W&B file(s), 0 media file(s), 0 artifact file(s) and 0 other file(s)"
      ],
      "text/plain": [
       "<IPython.core.display.HTML object>"
      ]
     },
     "metadata": {
      "tags": []
     },
     "output_type": "display_data"
    },
    {
     "data": {
      "text/html": [
       "\n",
       "                    <br/>Synced <strong style=\"color:#cdcd00\">misunderstood-sweep-11</strong>: <a href=\"https://wandb.ai/rayanz/Encoder_Decoder_attention_Dakshina_Hi_Sweep_1/runs/h3794x4v\" target=\"_blank\">https://wandb.ai/rayanz/Encoder_Decoder_attention_Dakshina_Hi_Sweep_1/runs/h3794x4v</a><br/>\n",
       "                "
      ],
      "text/plain": [
       "<IPython.core.display.HTML object>"
      ]
     },
     "metadata": {
      "tags": []
     },
     "output_type": "display_data"
    },
    {
     "name": "stderr",
     "output_type": "stream",
     "text": [
      "\u001b[34m\u001b[1mwandb\u001b[0m: Agent Starting Run: ldac1jfk with config:\n",
      "\u001b[34m\u001b[1mwandb\u001b[0m: \tbeam_search_size: 4\n",
      "\u001b[34m\u001b[1mwandb\u001b[0m: \tcell_type: LSTM\n",
      "\u001b[34m\u001b[1mwandb\u001b[0m: \tdropout: 0.5804100617503596\n",
      "\u001b[34m\u001b[1mwandb\u001b[0m: \tepochs: 14\n",
      "\u001b[34m\u001b[1mwandb\u001b[0m: \thidden_layer_size: 256\n",
      "\u001b[34m\u001b[1mwandb\u001b[0m: \tno_encoder_decoder_layers: 3\n",
      "\u001b[34m\u001b[1mwandb\u001b[0m: \tteacher_forcing_ratio: 0.2785522200213755\n"
     ]
    },
    {
     "data": {
      "text/html": [
       "\n",
       "                Tracking run with wandb version 0.10.30<br/>\n",
       "                Syncing run <strong style=\"color:#cdcd00\">skilled-sweep-13</strong> to <a href=\"https://wandb.ai\" target=\"_blank\">Weights & Biases</a> <a href=\"https://docs.wandb.com/integrations/jupyter.html\" target=\"_blank\">(Documentation)</a>.<br/>\n",
       "                Project page: <a href=\"https://wandb.ai/rayanz/Encoder_Decoder_attention_Dakshina_Hi_Sweep_1\" target=\"_blank\">https://wandb.ai/rayanz/Encoder_Decoder_attention_Dakshina_Hi_Sweep_1</a><br/>\n",
       "                Sweep page: <a href=\"https://wandb.ai/rayanz/Encoder_Decoder_attention_Dakshina_Hi_Sweep_1/sweeps/g9ym6ooa\" target=\"_blank\">https://wandb.ai/rayanz/Encoder_Decoder_attention_Dakshina_Hi_Sweep_1/sweeps/g9ym6ooa</a><br/>\n",
       "Run page: <a href=\"https://wandb.ai/rayanz/Encoder_Decoder_attention_Dakshina_Hi_Sweep_1/runs/ldac1jfk\" target=\"_blank\">https://wandb.ai/rayanz/Encoder_Decoder_attention_Dakshina_Hi_Sweep_1/runs/ldac1jfk</a><br/>\n",
       "                Run data is saved locally in <code>/content/wandb/run-20210512_200907-ldac1jfk</code><br/><br/>\n",
       "            "
      ],
      "text/plain": [
       "<IPython.core.display.HTML object>"
      ]
     },
     "metadata": {
      "tags": []
     },
     "output_type": "display_data"
    },
    {
     "name": "stdout",
     "output_type": "stream",
     "text": [
      "Epoch: 01 | Time: 1m 32s\n",
      "\tTrain Loss: 2.825 | Train PPL:  16.856\n",
      "\tTrain Accuracy: 0.001\n",
      "\tVal. Loss: 2.005 |  Val. PPL:   7.426\n",
      "\tVal Accuracy: 0.002\n",
      "Epoch: 02 | Time: 1m 28s\n",
      "\tTrain Loss: 1.832 | Train PPL:   6.248\n",
      "\tTrain Accuracy: 0.026\n",
      "\tVal. Loss: 1.200 |  Val. PPL:   3.321\n",
      "\tVal Accuracy: 0.062\n",
      "Epoch: 03 | Time: 1m 21s\n",
      "\tTrain Loss: 1.318 | Train PPL:   3.735\n",
      "\tTrain Accuracy: 0.090\n",
      "\tVal. Loss: 1.008 |  Val. PPL:   2.741\n",
      "\tVal Accuracy: 0.116\n",
      "Epoch: 04 | Time: 1m 26s\n",
      "\tTrain Loss: 1.119 | Train PPL:   3.061\n",
      "\tTrain Accuracy: 0.145\n",
      "\tVal. Loss: 0.874 |  Val. PPL:   2.396\n",
      "\tVal Accuracy: 0.190\n",
      "Epoch: 05 | Time: 1m 21s\n",
      "\tTrain Loss: 1.001 | Train PPL:   2.721\n",
      "\tTrain Accuracy: 0.182\n",
      "\tVal. Loss: 0.875 |  Val. PPL:   2.399\n",
      "\tVal Accuracy: 0.250\n",
      "Epoch: 06 | Time: 1m 20s\n",
      "\tTrain Loss: 0.888 | Train PPL:   2.431\n",
      "\tTrain Accuracy: 0.221\n",
      "\tVal. Loss: 0.931 |  Val. PPL:   2.537\n",
      "\tVal Accuracy: 0.305\n",
      "Epoch: 07 | Time: 1m 17s\n",
      "\tTrain Loss: 0.814 | Train PPL:   2.257\n",
      "\tTrain Accuracy: 0.247\n",
      "\tVal. Loss: 0.957 |  Val. PPL:   2.604\n",
      "\tVal Accuracy: 0.315\n",
      "Epoch: 08 | Time: 1m 20s\n",
      "\tTrain Loss: 0.767 | Train PPL:   2.152\n",
      "\tTrain Accuracy: 0.273\n",
      "\tVal. Loss: 0.967 |  Val. PPL:   2.631\n",
      "\tVal Accuracy: 0.339\n",
      "Epoch: 09 | Time: 1m 15s\n",
      "\tTrain Loss: 0.721 | Train PPL:   2.057\n",
      "\tTrain Accuracy: 0.296\n",
      "\tVal. Loss: 0.955 |  Val. PPL:   2.598\n",
      "\tVal Accuracy: 0.350\n",
      "Epoch: 10 | Time: 1m 14s\n",
      "\tTrain Loss: 0.684 | Train PPL:   1.982\n",
      "\tTrain Accuracy: 0.315\n",
      "\tVal. Loss: 0.967 |  Val. PPL:   2.630\n",
      "\tVal Accuracy: 0.358\n",
      "Epoch: 11 | Time: 1m 14s\n",
      "\tTrain Loss: 0.658 | Train PPL:   1.931\n",
      "\tTrain Accuracy: 0.329\n",
      "\tVal. Loss: 0.994 |  Val. PPL:   2.702\n",
      "\tVal Accuracy: 0.358\n",
      "Epoch: 12 | Time: 1m 19s\n",
      "\tTrain Loss: 0.631 | Train PPL:   1.879\n",
      "\tTrain Accuracy: 0.347\n",
      "\tVal. Loss: 0.997 |  Val. PPL:   2.710\n",
      "\tVal Accuracy: 0.376\n",
      "Epoch: 13 | Time: 1m 20s\n",
      "\tTrain Loss: 0.609 | Train PPL:   1.839\n",
      "\tTrain Accuracy: 0.358\n",
      "\tVal. Loss: 0.956 |  Val. PPL:   2.600\n",
      "\tVal Accuracy: 0.389\n",
      "Epoch: 14 | Time: 1m 20s\n",
      "\tTrain Loss: 0.587 | Train PPL:   1.799\n",
      "\tTrain Accuracy: 0.373\n",
      "\tVal. Loss: 0.993 |  Val. PPL:   2.701\n",
      "\tVal Accuracy: 0.375\n"
     ]
    },
    {
     "data": {
      "text/html": [
       "<br/>Waiting for W&B process to finish, PID 832<br/>Program ended successfully."
      ],
      "text/plain": [
       "<IPython.core.display.HTML object>"
      ]
     },
     "metadata": {
      "tags": []
     },
     "output_type": "display_data"
    },
    {
     "data": {
      "application/vnd.jupyter.widget-view+json": {
       "model_id": "631e95ece8dd40458ecec54dbffebd87",
       "version_major": 2,
       "version_minor": 0
      },
      "text/plain": [
       "VBox(children=(Label(value=' 0.00MB of 0.00MB uploaded (0.00MB deduped)\\r'), FloatProgress(value=1.0, max=1.0)…"
      ]
     },
     "metadata": {
      "tags": []
     },
     "output_type": "display_data"
    },
    {
     "data": {
      "text/html": [
       "Find user logs for this run at: <code>/content/wandb/run-20210512_200907-ldac1jfk/logs/debug.log</code>"
      ],
      "text/plain": [
       "<IPython.core.display.HTML object>"
      ]
     },
     "metadata": {
      "tags": []
     },
     "output_type": "display_data"
    },
    {
     "data": {
      "text/html": [
       "Find internal logs for this run at: <code>/content/wandb/run-20210512_200907-ldac1jfk/logs/debug-internal.log</code>"
      ],
      "text/plain": [
       "<IPython.core.display.HTML object>"
      ]
     },
     "metadata": {
      "tags": []
     },
     "output_type": "display_data"
    },
    {
     "data": {
      "text/html": [
       "<h3>Run summary:</h3><br/><style>\n",
       "    table.wandb td:nth-child(1) { padding: 0 10px; text-align: right }\n",
       "    </style><table class=\"wandb\">\n",
       "<tr><td>epoch</td><td>13</td></tr><tr><td>train loss</td><td>0.58741</td></tr><tr><td>train PPL</td><td>1.79933</td></tr><tr><td>train accuracy</td><td>0.37307</td></tr><tr><td>val loss</td><td>0.99345</td></tr><tr><td>valid PPL</td><td>2.70054</td></tr><tr><td>val accuracy</td><td>0.37517</td></tr><tr><td>_runtime</td><td>1134</td></tr><tr><td>_timestamp</td><td>1620851281</td></tr><tr><td>_step</td><td>13</td></tr></table>"
      ],
      "text/plain": [
       "<IPython.core.display.HTML object>"
      ]
     },
     "metadata": {
      "tags": []
     },
     "output_type": "display_data"
    },
    {
     "data": {
      "text/html": [
       "<h3>Run history:</h3><br/><style>\n",
       "    table.wandb td:nth-child(1) { padding: 0 10px; text-align: right }\n",
       "    </style><table class=\"wandb\">\n",
       "<tr><td>epoch</td><td>▁▂▂▃▃▄▄▅▅▆▆▇▇█</td></tr><tr><td>train loss</td><td>█▅▃▃▂▂▂▂▁▁▁▁▁▁</td></tr><tr><td>train PPL</td><td>█▃▂▂▁▁▁▁▁▁▁▁▁▁</td></tr><tr><td>train accuracy</td><td>▁▁▃▄▄▅▆▆▇▇▇███</td></tr><tr><td>val loss</td><td>█▃▂▁▁▁▂▂▁▂▂▂▂▂</td></tr><tr><td>valid PPL</td><td>█▂▁▁▁▁▁▁▁▁▁▁▁▁</td></tr><tr><td>val accuracy</td><td>▁▂▃▄▅▆▇▇▇▇▇███</td></tr><tr><td>_runtime</td><td>▁▂▂▃▃▄▄▅▅▆▆▇▇█</td></tr><tr><td>_timestamp</td><td>▁▂▂▃▃▄▄▅▅▆▆▇▇█</td></tr><tr><td>_step</td><td>▁▂▂▃▃▄▄▅▅▆▆▇▇█</td></tr></table><br/>"
      ],
      "text/plain": [
       "<IPython.core.display.HTML object>"
      ]
     },
     "metadata": {
      "tags": []
     },
     "output_type": "display_data"
    },
    {
     "data": {
      "text/html": [
       "Synced 5 W&B file(s), 0 media file(s), 0 artifact file(s) and 0 other file(s)"
      ],
      "text/plain": [
       "<IPython.core.display.HTML object>"
      ]
     },
     "metadata": {
      "tags": []
     },
     "output_type": "display_data"
    },
    {
     "data": {
      "text/html": [
       "\n",
       "                    <br/>Synced <strong style=\"color:#cdcd00\">skilled-sweep-13</strong>: <a href=\"https://wandb.ai/rayanz/Encoder_Decoder_attention_Dakshina_Hi_Sweep_1/runs/ldac1jfk\" target=\"_blank\">https://wandb.ai/rayanz/Encoder_Decoder_attention_Dakshina_Hi_Sweep_1/runs/ldac1jfk</a><br/>\n",
       "                "
      ],
      "text/plain": [
       "<IPython.core.display.HTML object>"
      ]
     },
     "metadata": {
      "tags": []
     },
     "output_type": "display_data"
    },
    {
     "name": "stderr",
     "output_type": "stream",
     "text": [
      "\u001b[34m\u001b[1mwandb\u001b[0m: Agent Starting Run: wyzlovjw with config:\n",
      "\u001b[34m\u001b[1mwandb\u001b[0m: \tbeam_search_size: 3\n",
      "\u001b[34m\u001b[1mwandb\u001b[0m: \tcell_type: LSTM\n",
      "\u001b[34m\u001b[1mwandb\u001b[0m: \tdropout: 0.30590148758973007\n",
      "\u001b[34m\u001b[1mwandb\u001b[0m: \tepochs: 9\n",
      "\u001b[34m\u001b[1mwandb\u001b[0m: \thidden_layer_size: 256\n",
      "\u001b[34m\u001b[1mwandb\u001b[0m: \tno_encoder_decoder_layers: 3\n",
      "\u001b[34m\u001b[1mwandb\u001b[0m: \tteacher_forcing_ratio: 0.46174312442511345\n"
     ]
    },
    {
     "data": {
      "text/html": [
       "\n",
       "                Tracking run with wandb version 0.10.30<br/>\n",
       "                Syncing run <strong style=\"color:#cdcd00\">fanciful-sweep-14</strong> to <a href=\"https://wandb.ai\" target=\"_blank\">Weights & Biases</a> <a href=\"https://docs.wandb.com/integrations/jupyter.html\" target=\"_blank\">(Documentation)</a>.<br/>\n",
       "                Project page: <a href=\"https://wandb.ai/rayanz/Encoder_Decoder_attention_Dakshina_Hi_Sweep_1\" target=\"_blank\">https://wandb.ai/rayanz/Encoder_Decoder_attention_Dakshina_Hi_Sweep_1</a><br/>\n",
       "                Sweep page: <a href=\"https://wandb.ai/rayanz/Encoder_Decoder_attention_Dakshina_Hi_Sweep_1/sweeps/g9ym6ooa\" target=\"_blank\">https://wandb.ai/rayanz/Encoder_Decoder_attention_Dakshina_Hi_Sweep_1/sweeps/g9ym6ooa</a><br/>\n",
       "Run page: <a href=\"https://wandb.ai/rayanz/Encoder_Decoder_attention_Dakshina_Hi_Sweep_1/runs/wyzlovjw\" target=\"_blank\">https://wandb.ai/rayanz/Encoder_Decoder_attention_Dakshina_Hi_Sweep_1/runs/wyzlovjw</a><br/>\n",
       "                Run data is saved locally in <code>/content/wandb/run-20210512_202806-wyzlovjw</code><br/><br/>\n",
       "            "
      ],
      "text/plain": [
       "<IPython.core.display.HTML object>"
      ]
     },
     "metadata": {
      "tags": []
     },
     "output_type": "display_data"
    },
    {
     "name": "stdout",
     "output_type": "stream",
     "text": [
      "Epoch: 01 | Time: 1m 42s\n",
      "\tTrain Loss: 2.736 | Train PPL:  15.432\n",
      "\tTrain Accuracy: 0.002\n",
      "\tVal. Loss: 1.706 |  Val. PPL:   5.505\n",
      "\tVal Accuracy: 0.008\n",
      "Epoch: 02 | Time: 1m 23s\n",
      "\tTrain Loss: 1.511 | Train PPL:   4.532\n",
      "\tTrain Accuracy: 0.067\n",
      "\tVal. Loss: 1.226 |  Val. PPL:   3.408\n",
      "\tVal Accuracy: 0.161\n",
      "Epoch: 03 | Time: 1m 18s\n",
      "\tTrain Loss: 0.986 | Train PPL:   2.681\n",
      "\tTrain Accuracy: 0.182\n",
      "\tVal. Loss: 1.139 |  Val. PPL:   3.123\n",
      "\tVal Accuracy: 0.258\n",
      "Epoch: 04 | Time: 1m 16s\n",
      "\tTrain Loss: 0.805 | Train PPL:   2.237\n",
      "\tTrain Accuracy: 0.246\n",
      "\tVal. Loss: 1.100 |  Val. PPL:   3.003\n",
      "\tVal Accuracy: 0.321\n",
      "Epoch: 05 | Time: 1m 18s\n",
      "\tTrain Loss: 0.714 | Train PPL:   2.043\n",
      "\tTrain Accuracy: 0.288\n",
      "\tVal. Loss: 1.106 |  Val. PPL:   3.022\n",
      "\tVal Accuracy: 0.341\n",
      "Epoch: 06 | Time: 1m 18s\n",
      "\tTrain Loss: 0.649 | Train PPL:   1.914\n",
      "\tTrain Accuracy: 0.318\n",
      "\tVal. Loss: 1.047 |  Val. PPL:   2.850\n",
      "\tVal Accuracy: 0.359\n",
      "Epoch: 07 | Time: 1m 18s\n",
      "\tTrain Loss: 0.600 | Train PPL:   1.823\n",
      "\tTrain Accuracy: 0.348\n",
      "\tVal. Loss: 1.073 |  Val. PPL:   2.925\n",
      "\tVal Accuracy: 0.385\n",
      "Epoch: 08 | Time: 1m 16s\n",
      "\tTrain Loss: 0.555 | Train PPL:   1.743\n",
      "\tTrain Accuracy: 0.376\n",
      "\tVal. Loss: 1.073 |  Val. PPL:   2.923\n",
      "\tVal Accuracy: 0.395\n",
      "Epoch: 09 | Time: 1m 18s\n",
      "\tTrain Loss: 0.527 | Train PPL:   1.693\n",
      "\tTrain Accuracy: 0.391\n",
      "\tVal. Loss: 1.074 |  Val. PPL:   2.928\n",
      "\tVal Accuracy: 0.401\n"
     ]
    },
    {
     "data": {
      "text/html": [
       "<br/>Waiting for W&B process to finish, PID 903<br/>Program ended successfully."
      ],
      "text/plain": [
       "<IPython.core.display.HTML object>"
      ]
     },
     "metadata": {
      "tags": []
     },
     "output_type": "display_data"
    },
    {
     "data": {
      "application/vnd.jupyter.widget-view+json": {
       "model_id": "1535e3c3d2cc417d9d8647dacda61195",
       "version_major": 2,
       "version_minor": 0
      },
      "text/plain": [
       "VBox(children=(Label(value=' 0.00MB of 0.00MB uploaded (0.00MB deduped)\\r'), FloatProgress(value=1.0, max=1.0)…"
      ]
     },
     "metadata": {
      "tags": []
     },
     "output_type": "display_data"
    },
    {
     "data": {
      "text/html": [
       "Find user logs for this run at: <code>/content/wandb/run-20210512_202806-wyzlovjw/logs/debug.log</code>"
      ],
      "text/plain": [
       "<IPython.core.display.HTML object>"
      ]
     },
     "metadata": {
      "tags": []
     },
     "output_type": "display_data"
    },
    {
     "data": {
      "text/html": [
       "Find internal logs for this run at: <code>/content/wandb/run-20210512_202806-wyzlovjw/logs/debug-internal.log</code>"
      ],
      "text/plain": [
       "<IPython.core.display.HTML object>"
      ]
     },
     "metadata": {
      "tags": []
     },
     "output_type": "display_data"
    },
    {
     "data": {
      "text/html": [
       "<h3>Run summary:</h3><br/><style>\n",
       "    table.wandb td:nth-child(1) { padding: 0 10px; text-align: right }\n",
       "    </style><table class=\"wandb\">\n",
       "<tr><td>epoch</td><td>8</td></tr><tr><td>train loss</td><td>0.52669</td></tr><tr><td>train PPL</td><td>1.69333</td></tr><tr><td>train accuracy</td><td>0.39146</td></tr><tr><td>val loss</td><td>1.07425</td></tr><tr><td>valid PPL</td><td>2.92779</td></tr><tr><td>val accuracy</td><td>0.4011</td></tr><tr><td>_runtime</td><td>734</td></tr><tr><td>_timestamp</td><td>1620852020</td></tr><tr><td>_step</td><td>8</td></tr></table>"
      ],
      "text/plain": [
       "<IPython.core.display.HTML object>"
      ]
     },
     "metadata": {
      "tags": []
     },
     "output_type": "display_data"
    },
    {
     "data": {
      "text/html": [
       "<h3>Run history:</h3><br/><style>\n",
       "    table.wandb td:nth-child(1) { padding: 0 10px; text-align: right }\n",
       "    </style><table class=\"wandb\">\n",
       "<tr><td>epoch</td><td>▁▂▃▄▅▅▆▇█</td></tr><tr><td>train loss</td><td>█▄▂▂▂▁▁▁▁</td></tr><tr><td>train PPL</td><td>█▂▂▁▁▁▁▁▁</td></tr><tr><td>train accuracy</td><td>▁▂▄▅▆▇▇██</td></tr><tr><td>val loss</td><td>█▃▂▂▂▁▁▁▁</td></tr><tr><td>valid PPL</td><td>█▂▂▁▁▁▁▁▁</td></tr><tr><td>val accuracy</td><td>▁▄▅▇▇▇███</td></tr><tr><td>_runtime</td><td>▁▂▃▄▅▅▆▇█</td></tr><tr><td>_timestamp</td><td>▁▂▃▄▅▅▆▇█</td></tr><tr><td>_step</td><td>▁▂▃▄▅▅▆▇█</td></tr></table><br/>"
      ],
      "text/plain": [
       "<IPython.core.display.HTML object>"
      ]
     },
     "metadata": {
      "tags": []
     },
     "output_type": "display_data"
    },
    {
     "data": {
      "text/html": [
       "Synced 5 W&B file(s), 0 media file(s), 0 artifact file(s) and 0 other file(s)"
      ],
      "text/plain": [
       "<IPython.core.display.HTML object>"
      ]
     },
     "metadata": {
      "tags": []
     },
     "output_type": "display_data"
    },
    {
     "data": {
      "text/html": [
       "\n",
       "                    <br/>Synced <strong style=\"color:#cdcd00\">fanciful-sweep-14</strong>: <a href=\"https://wandb.ai/rayanz/Encoder_Decoder_attention_Dakshina_Hi_Sweep_1/runs/wyzlovjw\" target=\"_blank\">https://wandb.ai/rayanz/Encoder_Decoder_attention_Dakshina_Hi_Sweep_1/runs/wyzlovjw</a><br/>\n",
       "                "
      ],
      "text/plain": [
       "<IPython.core.display.HTML object>"
      ]
     },
     "metadata": {
      "tags": []
     },
     "output_type": "display_data"
    },
    {
     "name": "stderr",
     "output_type": "stream",
     "text": [
      "\u001b[34m\u001b[1mwandb\u001b[0m: Agent Starting Run: 996tqiqb with config:\n",
      "\u001b[34m\u001b[1mwandb\u001b[0m: \tbeam_search_size: 2\n",
      "\u001b[34m\u001b[1mwandb\u001b[0m: \tcell_type: LSTM\n",
      "\u001b[34m\u001b[1mwandb\u001b[0m: \tdropout: 0.38245465291467134\n",
      "\u001b[34m\u001b[1mwandb\u001b[0m: \tepochs: 14\n",
      "\u001b[34m\u001b[1mwandb\u001b[0m: \thidden_layer_size: 256\n",
      "\u001b[34m\u001b[1mwandb\u001b[0m: \tno_encoder_decoder_layers: 3\n",
      "\u001b[34m\u001b[1mwandb\u001b[0m: \tteacher_forcing_ratio: 0.44424613228301557\n"
     ]
    },
    {
     "data": {
      "text/html": [
       "\n",
       "                Tracking run with wandb version 0.10.30<br/>\n",
       "                Syncing run <strong style=\"color:#cdcd00\">daily-sweep-16</strong> to <a href=\"https://wandb.ai\" target=\"_blank\">Weights & Biases</a> <a href=\"https://docs.wandb.com/integrations/jupyter.html\" target=\"_blank\">(Documentation)</a>.<br/>\n",
       "                Project page: <a href=\"https://wandb.ai/rayanz/Encoder_Decoder_attention_Dakshina_Hi_Sweep_1\" target=\"_blank\">https://wandb.ai/rayanz/Encoder_Decoder_attention_Dakshina_Hi_Sweep_1</a><br/>\n",
       "                Sweep page: <a href=\"https://wandb.ai/rayanz/Encoder_Decoder_attention_Dakshina_Hi_Sweep_1/sweeps/g9ym6ooa\" target=\"_blank\">https://wandb.ai/rayanz/Encoder_Decoder_attention_Dakshina_Hi_Sweep_1/sweeps/g9ym6ooa</a><br/>\n",
       "Run page: <a href=\"https://wandb.ai/rayanz/Encoder_Decoder_attention_Dakshina_Hi_Sweep_1/runs/996tqiqb\" target=\"_blank\">https://wandb.ai/rayanz/Encoder_Decoder_attention_Dakshina_Hi_Sweep_1/runs/996tqiqb</a><br/>\n",
       "                Run data is saved locally in <code>/content/wandb/run-20210512_204025-996tqiqb</code><br/><br/>\n",
       "            "
      ],
      "text/plain": [
       "<IPython.core.display.HTML object>"
      ]
     },
     "metadata": {
      "tags": []
     },
     "output_type": "display_data"
    },
    {
     "name": "stdout",
     "output_type": "stream",
     "text": [
      "Epoch: 01 | Time: 1m 42s\n",
      "\tTrain Loss: 2.769 | Train PPL:  15.939\n",
      "\tTrain Accuracy: 0.001\n",
      "\tVal. Loss: 1.901 |  Val. PPL:   6.693\n",
      "\tVal Accuracy: 0.004\n",
      "Epoch: 02 | Time: 1m 22s\n",
      "\tTrain Loss: 1.750 | Train PPL:   5.756\n",
      "\tTrain Accuracy: 0.033\n",
      "\tVal. Loss: 1.280 |  Val. PPL:   3.596\n",
      "\tVal Accuracy: 0.114\n",
      "Epoch: 03 | Time: 1m 16s\n",
      "\tTrain Loss: 1.166 | Train PPL:   3.208\n",
      "\tTrain Accuracy: 0.126\n",
      "\tVal. Loss: 1.135 |  Val. PPL:   3.111\n",
      "\tVal Accuracy: 0.230\n",
      "Epoch: 04 | Time: 1m 13s\n",
      "\tTrain Loss: 0.942 | Train PPL:   2.564\n",
      "\tTrain Accuracy: 0.193\n",
      "\tVal. Loss: 1.094 |  Val. PPL:   2.987\n",
      "\tVal Accuracy: 0.287\n",
      "Epoch: 05 | Time: 1m 14s\n",
      "\tTrain Loss: 0.811 | Train PPL:   2.250\n",
      "\tTrain Accuracy: 0.246\n",
      "\tVal. Loss: 1.097 |  Val. PPL:   2.994\n",
      "\tVal Accuracy: 0.320\n",
      "Epoch: 06 | Time: 1m 16s\n",
      "\tTrain Loss: 0.730 | Train PPL:   2.075\n",
      "\tTrain Accuracy: 0.279\n",
      "\tVal. Loss: 1.110 |  Val. PPL:   3.036\n",
      "\tVal Accuracy: 0.342\n",
      "Epoch: 07 | Time: 1m 15s\n",
      "\tTrain Loss: 0.672 | Train PPL:   1.959\n",
      "\tTrain Accuracy: 0.311\n",
      "\tVal. Loss: 1.043 |  Val. PPL:   2.839\n",
      "\tVal Accuracy: 0.367\n",
      "Epoch: 08 | Time: 1m 14s\n",
      "\tTrain Loss: 0.624 | Train PPL:   1.867\n",
      "\tTrain Accuracy: 0.334\n",
      "\tVal. Loss: 1.076 |  Val. PPL:   2.932\n",
      "\tVal Accuracy: 0.374\n",
      "Epoch: 09 | Time: 1m 15s\n",
      "\tTrain Loss: 0.581 | Train PPL:   1.787\n",
      "\tTrain Accuracy: 0.363\n",
      "\tVal. Loss: 1.053 |  Val. PPL:   2.867\n",
      "\tVal Accuracy: 0.388\n",
      "Epoch: 10 | Time: 1m 15s\n",
      "\tTrain Loss: 0.551 | Train PPL:   1.735\n",
      "\tTrain Accuracy: 0.377\n",
      "\tVal. Loss: 1.070 |  Val. PPL:   2.915\n",
      "\tVal Accuracy: 0.389\n",
      "Epoch: 11 | Time: 1m 16s\n",
      "\tTrain Loss: 0.521 | Train PPL:   1.683\n",
      "\tTrain Accuracy: 0.397\n",
      "\tVal. Loss: 1.122 |  Val. PPL:   3.070\n",
      "\tVal Accuracy: 0.397\n",
      "Epoch: 12 | Time: 1m 16s\n",
      "\tTrain Loss: 0.494 | Train PPL:   1.639\n",
      "\tTrain Accuracy: 0.417\n",
      "\tVal. Loss: 1.069 |  Val. PPL:   2.912\n",
      "\tVal Accuracy: 0.409\n",
      "Epoch: 13 | Time: 1m 16s\n",
      "\tTrain Loss: 0.476 | Train PPL:   1.610\n",
      "\tTrain Accuracy: 0.429\n",
      "\tVal. Loss: 1.084 |  Val. PPL:   2.956\n",
      "\tVal Accuracy: 0.411\n",
      "Epoch: 14 | Time: 1m 16s\n",
      "\tTrain Loss: 0.449 | Train PPL:   1.566\n",
      "\tTrain Accuracy: 0.449\n",
      "\tVal. Loss: 1.131 |  Val. PPL:   3.098\n",
      "\tVal Accuracy: 0.416\n"
     ]
    },
    {
     "data": {
      "text/html": [
       "<br/>Waiting for W&B process to finish, PID 958<br/>Program ended successfully."
      ],
      "text/plain": [
       "<IPython.core.display.HTML object>"
      ]
     },
     "metadata": {
      "tags": []
     },
     "output_type": "display_data"
    },
    {
     "data": {
      "application/vnd.jupyter.widget-view+json": {
       "model_id": "142eb739b2414dafb46e2902600a0fe7",
       "version_major": 2,
       "version_minor": 0
      },
      "text/plain": [
       "VBox(children=(Label(value=' 0.00MB of 0.00MB uploaded (0.00MB deduped)\\r'), FloatProgress(value=1.0, max=1.0)…"
      ]
     },
     "metadata": {
      "tags": []
     },
     "output_type": "display_data"
    },
    {
     "data": {
      "text/html": [
       "Find user logs for this run at: <code>/content/wandb/run-20210512_204025-996tqiqb/logs/debug.log</code>"
      ],
      "text/plain": [
       "<IPython.core.display.HTML object>"
      ]
     },
     "metadata": {
      "tags": []
     },
     "output_type": "display_data"
    },
    {
     "data": {
      "text/html": [
       "Find internal logs for this run at: <code>/content/wandb/run-20210512_204025-996tqiqb/logs/debug-internal.log</code>"
      ],
      "text/plain": [
       "<IPython.core.display.HTML object>"
      ]
     },
     "metadata": {
      "tags": []
     },
     "output_type": "display_data"
    },
    {
     "data": {
      "text/html": [
       "<h3>Run summary:</h3><br/><style>\n",
       "    table.wandb td:nth-child(1) { padding: 0 10px; text-align: right }\n",
       "    </style><table class=\"wandb\">\n",
       "<tr><td>epoch</td><td>13</td></tr><tr><td>train loss</td><td>0.44861</td></tr><tr><td>train PPL</td><td>1.56614</td></tr><tr><td>train accuracy</td><td>0.44946</td></tr><tr><td>val loss</td><td>1.13089</td></tr><tr><td>valid PPL</td><td>3.09842</td></tr><tr><td>val accuracy</td><td>0.41625</td></tr><tr><td>_runtime</td><td>1096</td></tr><tr><td>_timestamp</td><td>1620853121</td></tr><tr><td>_step</td><td>13</td></tr></table>"
      ],
      "text/plain": [
       "<IPython.core.display.HTML object>"
      ]
     },
     "metadata": {
      "tags": []
     },
     "output_type": "display_data"
    },
    {
     "data": {
      "text/html": [
       "<h3>Run history:</h3><br/><style>\n",
       "    table.wandb td:nth-child(1) { padding: 0 10px; text-align: right }\n",
       "    </style><table class=\"wandb\">\n",
       "<tr><td>epoch</td><td>▁▂▂▃▃▄▄▅▅▆▆▇▇█</td></tr><tr><td>train loss</td><td>█▅▃▂▂▂▂▂▁▁▁▁▁▁</td></tr><tr><td>train PPL</td><td>█▃▂▁▁▁▁▁▁▁▁▁▁▁</td></tr><tr><td>train accuracy</td><td>▁▁▃▄▅▅▆▆▇▇▇▇██</td></tr><tr><td>val loss</td><td>█▃▂▁▁▂▁▁▁▁▂▁▁▂</td></tr><tr><td>valid PPL</td><td>█▂▁▁▁▁▁▁▁▁▁▁▁▁</td></tr><tr><td>val accuracy</td><td>▁▃▅▆▆▇▇▇██████</td></tr><tr><td>_runtime</td><td>▁▂▂▃▃▄▄▅▅▆▆▇▇█</td></tr><tr><td>_timestamp</td><td>▁▂▂▃▃▄▄▅▅▆▆▇▇█</td></tr><tr><td>_step</td><td>▁▂▂▃▃▄▄▅▅▆▆▇▇█</td></tr></table><br/>"
      ],
      "text/plain": [
       "<IPython.core.display.HTML object>"
      ]
     },
     "metadata": {
      "tags": []
     },
     "output_type": "display_data"
    },
    {
     "data": {
      "text/html": [
       "Synced 5 W&B file(s), 0 media file(s), 0 artifact file(s) and 0 other file(s)"
      ],
      "text/plain": [
       "<IPython.core.display.HTML object>"
      ]
     },
     "metadata": {
      "tags": []
     },
     "output_type": "display_data"
    },
    {
     "data": {
      "text/html": [
       "\n",
       "                    <br/>Synced <strong style=\"color:#cdcd00\">daily-sweep-16</strong>: <a href=\"https://wandb.ai/rayanz/Encoder_Decoder_attention_Dakshina_Hi_Sweep_1/runs/996tqiqb\" target=\"_blank\">https://wandb.ai/rayanz/Encoder_Decoder_attention_Dakshina_Hi_Sweep_1/runs/996tqiqb</a><br/>\n",
       "                "
      ],
      "text/plain": [
       "<IPython.core.display.HTML object>"
      ]
     },
     "metadata": {
      "tags": []
     },
     "output_type": "display_data"
    },
    {
     "name": "stderr",
     "output_type": "stream",
     "text": [
      "\u001b[34m\u001b[1mwandb\u001b[0m: Agent Starting Run: 8qs4zadd with config:\n",
      "\u001b[34m\u001b[1mwandb\u001b[0m: \tbeam_search_size: 3\n",
      "\u001b[34m\u001b[1mwandb\u001b[0m: \tcell_type: LSTM\n",
      "\u001b[34m\u001b[1mwandb\u001b[0m: \tdropout: 0.3406860935726627\n",
      "\u001b[34m\u001b[1mwandb\u001b[0m: \tepochs: 15\n",
      "\u001b[34m\u001b[1mwandb\u001b[0m: \thidden_layer_size: 256\n",
      "\u001b[34m\u001b[1mwandb\u001b[0m: \tno_encoder_decoder_layers: 2\n",
      "\u001b[34m\u001b[1mwandb\u001b[0m: \tteacher_forcing_ratio: 0.3162365032802797\n"
     ]
    },
    {
     "data": {
      "text/html": [
       "\n",
       "                Tracking run with wandb version 0.10.30<br/>\n",
       "                Syncing run <strong style=\"color:#cdcd00\">robust-sweep-17</strong> to <a href=\"https://wandb.ai\" target=\"_blank\">Weights & Biases</a> <a href=\"https://docs.wandb.com/integrations/jupyter.html\" target=\"_blank\">(Documentation)</a>.<br/>\n",
       "                Project page: <a href=\"https://wandb.ai/rayanz/Encoder_Decoder_attention_Dakshina_Hi_Sweep_1\" target=\"_blank\">https://wandb.ai/rayanz/Encoder_Decoder_attention_Dakshina_Hi_Sweep_1</a><br/>\n",
       "                Sweep page: <a href=\"https://wandb.ai/rayanz/Encoder_Decoder_attention_Dakshina_Hi_Sweep_1/sweeps/g9ym6ooa\" target=\"_blank\">https://wandb.ai/rayanz/Encoder_Decoder_attention_Dakshina_Hi_Sweep_1/sweeps/g9ym6ooa</a><br/>\n",
       "Run page: <a href=\"https://wandb.ai/rayanz/Encoder_Decoder_attention_Dakshina_Hi_Sweep_1/runs/8qs4zadd\" target=\"_blank\">https://wandb.ai/rayanz/Encoder_Decoder_attention_Dakshina_Hi_Sweep_1/runs/8qs4zadd</a><br/>\n",
       "                Run data is saved locally in <code>/content/wandb/run-20210512_205847-8qs4zadd</code><br/><br/>\n",
       "            "
      ],
      "text/plain": [
       "<IPython.core.display.HTML object>"
      ]
     },
     "metadata": {
      "tags": []
     },
     "output_type": "display_data"
    },
    {
     "name": "stdout",
     "output_type": "stream",
     "text": [
      "Epoch: 01 | Time: 1m 18s\n",
      "\tTrain Loss: 2.627 | Train PPL:  13.831\n",
      "\tTrain Accuracy: 0.005\n",
      "\tVal. Loss: 1.456 |  Val. PPL:   4.287\n",
      "\tVal Accuracy: 0.028\n",
      "Epoch: 02 | Time: 1m 11s\n",
      "\tTrain Loss: 1.309 | Train PPL:   3.701\n",
      "\tTrain Accuracy: 0.099\n",
      "\tVal. Loss: 1.118 |  Val. PPL:   3.059\n",
      "\tVal Accuracy: 0.175\n",
      "Epoch: 03 | Time: 1m 11s\n",
      "\tTrain Loss: 0.976 | Train PPL:   2.653\n",
      "\tTrain Accuracy: 0.190\n",
      "\tVal. Loss: 1.060 |  Val. PPL:   2.888\n",
      "\tVal Accuracy: 0.272\n",
      "Epoch: 04 | Time: 1m 10s\n",
      "\tTrain Loss: 0.832 | Train PPL:   2.298\n",
      "\tTrain Accuracy: 0.246\n",
      "\tVal. Loss: 0.986 |  Val. PPL:   2.679\n",
      "\tVal Accuracy: 0.320\n",
      "Epoch: 05 | Time: 1m 11s\n",
      "\tTrain Loss: 0.741 | Train PPL:   2.098\n",
      "\tTrain Accuracy: 0.290\n",
      "\tVal. Loss: 0.991 |  Val. PPL:   2.693\n",
      "\tVal Accuracy: 0.329\n",
      "Epoch: 06 | Time: 1m 11s\n",
      "\tTrain Loss: 0.670 | Train PPL:   1.955\n",
      "\tTrain Accuracy: 0.327\n",
      "\tVal. Loss: 0.996 |  Val. PPL:   2.708\n",
      "\tVal Accuracy: 0.340\n",
      "Epoch: 07 | Time: 1m 10s\n",
      "\tTrain Loss: 0.617 | Train PPL:   1.853\n",
      "\tTrain Accuracy: 0.360\n",
      "\tVal. Loss: 1.021 |  Val. PPL:   2.775\n",
      "\tVal Accuracy: 0.356\n",
      "Epoch: 08 | Time: 1m 10s\n",
      "\tTrain Loss: 0.573 | Train PPL:   1.773\n",
      "\tTrain Accuracy: 0.387\n",
      "\tVal. Loss: 1.024 |  Val. PPL:   2.784\n",
      "\tVal Accuracy: 0.365\n",
      "Epoch: 09 | Time: 1m 11s\n",
      "\tTrain Loss: 0.530 | Train PPL:   1.699\n",
      "\tTrain Accuracy: 0.414\n",
      "\tVal. Loss: 1.019 |  Val. PPL:   2.769\n",
      "\tVal Accuracy: 0.388\n",
      "Epoch: 10 | Time: 1m 12s\n",
      "\tTrain Loss: 0.498 | Train PPL:   1.646\n",
      "\tTrain Accuracy: 0.436\n",
      "\tVal. Loss: 0.993 |  Val. PPL:   2.700\n",
      "\tVal Accuracy: 0.382\n",
      "Epoch: 11 | Time: 1m 12s\n",
      "\tTrain Loss: 0.466 | Train PPL:   1.593\n",
      "\tTrain Accuracy: 0.456\n",
      "\tVal. Loss: 1.043 |  Val. PPL:   2.837\n",
      "\tVal Accuracy: 0.394\n",
      "Epoch: 12 | Time: 1m 11s\n",
      "\tTrain Loss: 0.439 | Train PPL:   1.551\n",
      "\tTrain Accuracy: 0.478\n",
      "\tVal. Loss: 1.057 |  Val. PPL:   2.877\n",
      "\tVal Accuracy: 0.390\n",
      "Epoch: 13 | Time: 1m 12s\n",
      "\tTrain Loss: 0.414 | Train PPL:   1.513\n",
      "\tTrain Accuracy: 0.497\n",
      "\tVal. Loss: 1.055 |  Val. PPL:   2.872\n",
      "\tVal Accuracy: 0.393\n",
      "Epoch: 14 | Time: 1m 12s\n",
      "\tTrain Loss: 0.397 | Train PPL:   1.487\n",
      "\tTrain Accuracy: 0.515\n",
      "\tVal. Loss: 1.060 |  Val. PPL:   2.885\n",
      "\tVal Accuracy: 0.396\n",
      "Epoch: 15 | Time: 1m 16s\n",
      "\tTrain Loss: 0.377 | Train PPL:   1.457\n",
      "\tTrain Accuracy: 0.528\n",
      "\tVal. Loss: 1.077 |  Val. PPL:   2.937\n",
      "\tVal Accuracy: 0.408\n"
     ]
    },
    {
     "data": {
      "text/html": [
       "<br/>Waiting for W&B process to finish, PID 1051<br/>Program ended successfully."
      ],
      "text/plain": [
       "<IPython.core.display.HTML object>"
      ]
     },
     "metadata": {
      "tags": []
     },
     "output_type": "display_data"
    },
    {
     "data": {
      "application/vnd.jupyter.widget-view+json": {
       "model_id": "609a10d37ea04976a1e00b79c3a3dc52",
       "version_major": 2,
       "version_minor": 0
      },
      "text/plain": [
       "VBox(children=(Label(value=' 0.00MB of 0.00MB uploaded (0.00MB deduped)\\r'), FloatProgress(value=1.0, max=1.0)…"
      ]
     },
     "metadata": {
      "tags": []
     },
     "output_type": "display_data"
    },
    {
     "data": {
      "text/html": [
       "Find user logs for this run at: <code>/content/wandb/run-20210512_205847-8qs4zadd/logs/debug.log</code>"
      ],
      "text/plain": [
       "<IPython.core.display.HTML object>"
      ]
     },
     "metadata": {
      "tags": []
     },
     "output_type": "display_data"
    },
    {
     "data": {
      "text/html": [
       "Find internal logs for this run at: <code>/content/wandb/run-20210512_205847-8qs4zadd/logs/debug-internal.log</code>"
      ],
      "text/plain": [
       "<IPython.core.display.HTML object>"
      ]
     },
     "metadata": {
      "tags": []
     },
     "output_type": "display_data"
    },
    {
     "data": {
      "text/html": [
       "<h3>Run summary:</h3><br/><style>\n",
       "    table.wandb td:nth-child(1) { padding: 0 10px; text-align: right }\n",
       "    </style><table class=\"wandb\">\n",
       "<tr><td>epoch</td><td>14</td></tr><tr><td>train loss</td><td>0.37667</td></tr><tr><td>train PPL</td><td>1.45743</td></tr><tr><td>train accuracy</td><td>0.52755</td></tr><tr><td>val loss</td><td>1.07732</td></tr><tr><td>valid PPL</td><td>2.93679</td></tr><tr><td>val accuracy</td><td>0.40799</td></tr><tr><td>_runtime</td><td>1085</td></tr><tr><td>_timestamp</td><td>1620854212</td></tr><tr><td>_step</td><td>14</td></tr></table>"
      ],
      "text/plain": [
       "<IPython.core.display.HTML object>"
      ]
     },
     "metadata": {
      "tags": []
     },
     "output_type": "display_data"
    },
    {
     "data": {
      "text/html": [
       "<h3>Run history:</h3><br/><style>\n",
       "    table.wandb td:nth-child(1) { padding: 0 10px; text-align: right }\n",
       "    </style><table class=\"wandb\">\n",
       "<tr><td>epoch</td><td>▁▁▂▃▃▃▄▅▅▅▆▇▇▇█</td></tr><tr><td>train loss</td><td>█▄▃▂▂▂▂▂▁▁▁▁▁▁▁</td></tr><tr><td>train PPL</td><td>█▂▂▁▁▁▁▁▁▁▁▁▁▁▁</td></tr><tr><td>train accuracy</td><td>▁▂▃▄▅▅▆▆▆▇▇▇███</td></tr><tr><td>val loss</td><td>█▃▂▁▁▁▂▂▁▁▂▂▂▂▂</td></tr><tr><td>valid PPL</td><td>█▃▂▁▁▁▁▁▁▁▂▂▂▂▂</td></tr><tr><td>val accuracy</td><td>▁▄▆▆▇▇▇▇███████</td></tr><tr><td>_runtime</td><td>▁▂▂▂▃▃▄▄▅▅▆▆▇▇█</td></tr><tr><td>_timestamp</td><td>▁▂▂▂▃▃▄▄▅▅▆▆▇▇█</td></tr><tr><td>_step</td><td>▁▁▂▃▃▃▄▅▅▅▆▇▇▇█</td></tr></table><br/>"
      ],
      "text/plain": [
       "<IPython.core.display.HTML object>"
      ]
     },
     "metadata": {
      "tags": []
     },
     "output_type": "display_data"
    },
    {
     "data": {
      "text/html": [
       "Synced 5 W&B file(s), 0 media file(s), 0 artifact file(s) and 0 other file(s)"
      ],
      "text/plain": [
       "<IPython.core.display.HTML object>"
      ]
     },
     "metadata": {
      "tags": []
     },
     "output_type": "display_data"
    },
    {
     "data": {
      "text/html": [
       "\n",
       "                    <br/>Synced <strong style=\"color:#cdcd00\">robust-sweep-17</strong>: <a href=\"https://wandb.ai/rayanz/Encoder_Decoder_attention_Dakshina_Hi_Sweep_1/runs/8qs4zadd\" target=\"_blank\">https://wandb.ai/rayanz/Encoder_Decoder_attention_Dakshina_Hi_Sweep_1/runs/8qs4zadd</a><br/>\n",
       "                "
      ],
      "text/plain": [
       "<IPython.core.display.HTML object>"
      ]
     },
     "metadata": {
      "tags": []
     },
     "output_type": "display_data"
    },
    {
     "name": "stderr",
     "output_type": "stream",
     "text": [
      "\u001b[34m\u001b[1mwandb\u001b[0m: Agent Starting Run: xkfmrhf7 with config:\n",
      "\u001b[34m\u001b[1mwandb\u001b[0m: \tbeam_search_size: 2\n",
      "\u001b[34m\u001b[1mwandb\u001b[0m: \tcell_type: GRU\n",
      "\u001b[34m\u001b[1mwandb\u001b[0m: \tdropout: 0.2712930749063079\n",
      "\u001b[34m\u001b[1mwandb\u001b[0m: \tepochs: 14\n",
      "\u001b[34m\u001b[1mwandb\u001b[0m: \thidden_layer_size: 256\n",
      "\u001b[34m\u001b[1mwandb\u001b[0m: \tno_encoder_decoder_layers: 3\n",
      "\u001b[34m\u001b[1mwandb\u001b[0m: \tteacher_forcing_ratio: 0.7349997779313252\n"
     ]
    },
    {
     "data": {
      "text/html": [
       "\n",
       "                Tracking run with wandb version 0.10.30<br/>\n",
       "                Syncing run <strong style=\"color:#cdcd00\">scarlet-sweep-19</strong> to <a href=\"https://wandb.ai\" target=\"_blank\">Weights & Biases</a> <a href=\"https://docs.wandb.com/integrations/jupyter.html\" target=\"_blank\">(Documentation)</a>.<br/>\n",
       "                Project page: <a href=\"https://wandb.ai/rayanz/Encoder_Decoder_attention_Dakshina_Hi_Sweep_1\" target=\"_blank\">https://wandb.ai/rayanz/Encoder_Decoder_attention_Dakshina_Hi_Sweep_1</a><br/>\n",
       "                Sweep page: <a href=\"https://wandb.ai/rayanz/Encoder_Decoder_attention_Dakshina_Hi_Sweep_1/sweeps/g9ym6ooa\" target=\"_blank\">https://wandb.ai/rayanz/Encoder_Decoder_attention_Dakshina_Hi_Sweep_1/sweeps/g9ym6ooa</a><br/>\n",
       "Run page: <a href=\"https://wandb.ai/rayanz/Encoder_Decoder_attention_Dakshina_Hi_Sweep_1/runs/xkfmrhf7\" target=\"_blank\">https://wandb.ai/rayanz/Encoder_Decoder_attention_Dakshina_Hi_Sweep_1/runs/xkfmrhf7</a><br/>\n",
       "                Run data is saved locally in <code>/content/wandb/run-20210512_211700-xkfmrhf7</code><br/><br/>\n",
       "            "
      ],
      "text/plain": [
       "<IPython.core.display.HTML object>"
      ]
     },
     "metadata": {
      "tags": []
     },
     "output_type": "display_data"
    },
    {
     "name": "stdout",
     "output_type": "stream",
     "text": [
      "Epoch: 01 | Time: 1m 26s\n",
      "\tTrain Loss: 2.029 | Train PPL:   7.607\n",
      "\tTrain Accuracy: 0.039\n",
      "\tVal. Loss: 1.036 |  Val. PPL:   2.819\n",
      "\tVal Accuracy: 0.111\n",
      "Epoch: 02 | Time: 1m 19s\n",
      "\tTrain Loss: 0.992 | Train PPL:   2.697\n",
      "\tTrain Accuracy: 0.177\n",
      "\tVal. Loss: 1.078 |  Val. PPL:   2.937\n",
      "\tVal Accuracy: 0.277\n",
      "Epoch: 03 | Time: 1m 17s\n",
      "\tTrain Loss: 0.737 | Train PPL:   2.089\n",
      "\tTrain Accuracy: 0.263\n",
      "\tVal. Loss: 1.135 |  Val. PPL:   3.111\n",
      "\tVal Accuracy: 0.320\n",
      "Epoch: 04 | Time: 1m 18s\n",
      "\tTrain Loss: 0.624 | Train PPL:   1.866\n",
      "\tTrain Accuracy: 0.310\n",
      "\tVal. Loss: 1.200 |  Val. PPL:   3.322\n",
      "\tVal Accuracy: 0.338\n",
      "Epoch: 05 | Time: 1m 17s\n",
      "\tTrain Loss: 0.558 | Train PPL:   1.746\n",
      "\tTrain Accuracy: 0.347\n",
      "\tVal. Loss: 1.163 |  Val. PPL:   3.201\n",
      "\tVal Accuracy: 0.374\n",
      "Epoch: 06 | Time: 1m 17s\n",
      "\tTrain Loss: 0.508 | Train PPL:   1.663\n",
      "\tTrain Accuracy: 0.374\n",
      "\tVal. Loss: 1.170 |  Val. PPL:   3.222\n",
      "\tVal Accuracy: 0.375\n",
      "Epoch: 07 | Time: 1m 13s\n",
      "\tTrain Loss: 0.468 | Train PPL:   1.596\n",
      "\tTrain Accuracy: 0.402\n",
      "\tVal. Loss: 1.187 |  Val. PPL:   3.278\n",
      "\tVal Accuracy: 0.378\n",
      "Epoch: 08 | Time: 1m 14s\n",
      "\tTrain Loss: 0.442 | Train PPL:   1.555\n",
      "\tTrain Accuracy: 0.421\n",
      "\tVal. Loss: 1.151 |  Val. PPL:   3.162\n",
      "\tVal Accuracy: 0.409\n",
      "Epoch: 09 | Time: 1m 15s\n",
      "\tTrain Loss: 0.415 | Train PPL:   1.515\n",
      "\tTrain Accuracy: 0.441\n",
      "\tVal. Loss: 1.222 |  Val. PPL:   3.394\n",
      "\tVal Accuracy: 0.399\n",
      "Epoch: 10 | Time: 1m 16s\n",
      "\tTrain Loss: 0.397 | Train PPL:   1.487\n",
      "\tTrain Accuracy: 0.456\n",
      "\tVal. Loss: 1.243 |  Val. PPL:   3.467\n",
      "\tVal Accuracy: 0.402\n",
      "Epoch: 11 | Time: 1m 18s\n",
      "\tTrain Loss: 0.377 | Train PPL:   1.458\n",
      "\tTrain Accuracy: 0.472\n",
      "\tVal. Loss: 1.217 |  Val. PPL:   3.379\n",
      "\tVal Accuracy: 0.412\n",
      "Epoch: 12 | Time: 1m 16s\n",
      "\tTrain Loss: 0.358 | Train PPL:   1.430\n",
      "\tTrain Accuracy: 0.491\n",
      "\tVal. Loss: 1.229 |  Val. PPL:   3.417\n",
      "\tVal Accuracy: 0.425\n",
      "Epoch: 13 | Time: 1m 18s\n",
      "\tTrain Loss: 0.352 | Train PPL:   1.421\n",
      "\tTrain Accuracy: 0.496\n",
      "\tVal. Loss: 1.228 |  Val. PPL:   3.413\n",
      "\tVal Accuracy: 0.418\n",
      "Epoch: 14 | Time: 1m 19s\n",
      "\tTrain Loss: 0.334 | Train PPL:   1.397\n",
      "\tTrain Accuracy: 0.514\n",
      "\tVal. Loss: 1.251 |  Val. PPL:   3.493\n",
      "\tVal Accuracy: 0.418\n"
     ]
    },
    {
     "data": {
      "text/html": [
       "<br/>Waiting for W&B process to finish, PID 1332<br/>Program ended successfully."
      ],
      "text/plain": [
       "<IPython.core.display.HTML object>"
      ]
     },
     "metadata": {
      "tags": []
     },
     "output_type": "display_data"
    },
    {
     "data": {
      "application/vnd.jupyter.widget-view+json": {
       "model_id": "2189881617f341caa746225d82db8e4d",
       "version_major": 2,
       "version_minor": 0
      },
      "text/plain": [
       "VBox(children=(Label(value=' 0.00MB of 0.00MB uploaded (0.00MB deduped)\\r'), FloatProgress(value=1.0, max=1.0)…"
      ]
     },
     "metadata": {
      "tags": []
     },
     "output_type": "display_data"
    },
    {
     "data": {
      "text/html": [
       "Find user logs for this run at: <code>/content/wandb/run-20210512_211700-xkfmrhf7/logs/debug.log</code>"
      ],
      "text/plain": [
       "<IPython.core.display.HTML object>"
      ]
     },
     "metadata": {
      "tags": []
     },
     "output_type": "display_data"
    },
    {
     "data": {
      "text/html": [
       "Find internal logs for this run at: <code>/content/wandb/run-20210512_211700-xkfmrhf7/logs/debug-internal.log</code>"
      ],
      "text/plain": [
       "<IPython.core.display.HTML object>"
      ]
     },
     "metadata": {
      "tags": []
     },
     "output_type": "display_data"
    },
    {
     "data": {
      "text/html": [
       "<h3>Run summary:</h3><br/><style>\n",
       "    table.wandb td:nth-child(1) { padding: 0 10px; text-align: right }\n",
       "    </style><table class=\"wandb\">\n",
       "<tr><td>epoch</td><td>13</td></tr><tr><td>train loss</td><td>0.33415</td></tr><tr><td>train PPL</td><td>1.39675</td></tr><tr><td>train accuracy</td><td>0.51432</td></tr><tr><td>val loss</td><td>1.25068</td></tr><tr><td>valid PPL</td><td>3.49272</td></tr><tr><td>val accuracy</td><td>0.41831</td></tr><tr><td>_runtime</td><td>1092</td></tr><tr><td>_timestamp</td><td>1620855312</td></tr><tr><td>_step</td><td>13</td></tr></table>"
      ],
      "text/plain": [
       "<IPython.core.display.HTML object>"
      ]
     },
     "metadata": {
      "tags": []
     },
     "output_type": "display_data"
    },
    {
     "data": {
      "text/html": [
       "<h3>Run history:</h3><br/><style>\n",
       "    table.wandb td:nth-child(1) { padding: 0 10px; text-align: right }\n",
       "    </style><table class=\"wandb\">\n",
       "<tr><td>epoch</td><td>▁▂▂▃▃▄▄▅▅▆▆▇▇█</td></tr><tr><td>train loss</td><td>█▄▃▂▂▂▂▁▁▁▁▁▁▁</td></tr><tr><td>train PPL</td><td>█▂▂▂▁▁▁▁▁▁▁▁▁▁</td></tr><tr><td>train accuracy</td><td>▁▃▄▅▆▆▆▇▇▇▇███</td></tr><tr><td>val loss</td><td>▁▂▄▆▅▅▆▅▇█▇▇▇█</td></tr><tr><td>valid PPL</td><td>▁▂▄▆▅▅▆▅▇█▇▇▇█</td></tr><tr><td>val accuracy</td><td>▁▅▆▆▇▇▇█▇█████</td></tr><tr><td>_runtime</td><td>▁▂▂▃▃▄▄▅▅▆▆▇▇█</td></tr><tr><td>_timestamp</td><td>▁▂▂▃▃▄▄▅▅▆▆▇▇█</td></tr><tr><td>_step</td><td>▁▂▂▃▃▄▄▅▅▆▆▇▇█</td></tr></table><br/>"
      ],
      "text/plain": [
       "<IPython.core.display.HTML object>"
      ]
     },
     "metadata": {
      "tags": []
     },
     "output_type": "display_data"
    },
    {
     "data": {
      "text/html": [
       "Synced 5 W&B file(s), 0 media file(s), 0 artifact file(s) and 0 other file(s)"
      ],
      "text/plain": [
       "<IPython.core.display.HTML object>"
      ]
     },
     "metadata": {
      "tags": []
     },
     "output_type": "display_data"
    },
    {
     "data": {
      "text/html": [
       "\n",
       "                    <br/>Synced <strong style=\"color:#cdcd00\">scarlet-sweep-19</strong>: <a href=\"https://wandb.ai/rayanz/Encoder_Decoder_attention_Dakshina_Hi_Sweep_1/runs/xkfmrhf7\" target=\"_blank\">https://wandb.ai/rayanz/Encoder_Decoder_attention_Dakshina_Hi_Sweep_1/runs/xkfmrhf7</a><br/>\n",
       "                "
      ],
      "text/plain": [
       "<IPython.core.display.HTML object>"
      ]
     },
     "metadata": {
      "tags": []
     },
     "output_type": "display_data"
    },
    {
     "name": "stderr",
     "output_type": "stream",
     "text": [
      "\u001b[34m\u001b[1mwandb\u001b[0m: Agent Starting Run: 3vscmtfx with config:\n",
      "\u001b[34m\u001b[1mwandb\u001b[0m: \tbeam_search_size: 4\n",
      "\u001b[34m\u001b[1mwandb\u001b[0m: \tcell_type: LSTM\n",
      "\u001b[34m\u001b[1mwandb\u001b[0m: \tdropout: 0.27909888445142167\n",
      "\u001b[34m\u001b[1mwandb\u001b[0m: \tepochs: 15\n",
      "\u001b[34m\u001b[1mwandb\u001b[0m: \thidden_layer_size: 256\n",
      "\u001b[34m\u001b[1mwandb\u001b[0m: \tno_encoder_decoder_layers: 3\n",
      "\u001b[34m\u001b[1mwandb\u001b[0m: \tteacher_forcing_ratio: 0.2690853302397402\n"
     ]
    },
    {
     "data": {
      "text/html": [
       "\n",
       "                Tracking run with wandb version 0.10.30<br/>\n",
       "                Syncing run <strong style=\"color:#cdcd00\">sage-sweep-20</strong> to <a href=\"https://wandb.ai\" target=\"_blank\">Weights & Biases</a> <a href=\"https://docs.wandb.com/integrations/jupyter.html\" target=\"_blank\">(Documentation)</a>.<br/>\n",
       "                Project page: <a href=\"https://wandb.ai/rayanz/Encoder_Decoder_attention_Dakshina_Hi_Sweep_1\" target=\"_blank\">https://wandb.ai/rayanz/Encoder_Decoder_attention_Dakshina_Hi_Sweep_1</a><br/>\n",
       "                Sweep page: <a href=\"https://wandb.ai/rayanz/Encoder_Decoder_attention_Dakshina_Hi_Sweep_1/sweeps/g9ym6ooa\" target=\"_blank\">https://wandb.ai/rayanz/Encoder_Decoder_attention_Dakshina_Hi_Sweep_1/sweeps/g9ym6ooa</a><br/>\n",
       "Run page: <a href=\"https://wandb.ai/rayanz/Encoder_Decoder_attention_Dakshina_Hi_Sweep_1/runs/3vscmtfx\" target=\"_blank\">https://wandb.ai/rayanz/Encoder_Decoder_attention_Dakshina_Hi_Sweep_1/runs/3vscmtfx</a><br/>\n",
       "                Run data is saved locally in <code>/content/wandb/run-20210512_213519-3vscmtfx</code><br/><br/>\n",
       "            "
      ],
      "text/plain": [
       "<IPython.core.display.HTML object>"
      ]
     },
     "metadata": {
      "tags": []
     },
     "output_type": "display_data"
    },
    {
     "name": "stdout",
     "output_type": "stream",
     "text": [
      "Epoch: 01 | Time: 1m 38s\n",
      "\tTrain Loss: 2.782 | Train PPL:  16.157\n",
      "\tTrain Accuracy: 0.001\n",
      "\tVal. Loss: 1.874 |  Val. PPL:   6.515\n",
      "\tVal Accuracy: 0.002\n",
      "Epoch: 02 | Time: 1m 27s\n",
      "\tTrain Loss: 1.714 | Train PPL:   5.554\n",
      "\tTrain Accuracy: 0.036\n",
      "\tVal. Loss: 1.176 |  Val. PPL:   3.241\n",
      "\tVal Accuracy: 0.066\n",
      "Epoch: 03 | Time: 1m 28s\n",
      "\tTrain Loss: 1.196 | Train PPL:   3.308\n",
      "\tTrain Accuracy: 0.124\n",
      "\tVal. Loss: 1.013 |  Val. PPL:   2.753\n",
      "\tVal Accuracy: 0.188\n",
      "Epoch: 04 | Time: 1m 23s\n",
      "\tTrain Loss: 0.956 | Train PPL:   2.601\n",
      "\tTrain Accuracy: 0.199\n",
      "\tVal. Loss: 1.018 |  Val. PPL:   2.767\n",
      "\tVal Accuracy: 0.279\n",
      "Epoch: 05 | Time: 1m 20s\n",
      "\tTrain Loss: 0.834 | Train PPL:   2.302\n",
      "\tTrain Accuracy: 0.250\n",
      "\tVal. Loss: 0.994 |  Val. PPL:   2.702\n",
      "\tVal Accuracy: 0.307\n",
      "Epoch: 06 | Time: 1m 19s\n",
      "\tTrain Loss: 0.744 | Train PPL:   2.105\n",
      "\tTrain Accuracy: 0.291\n",
      "\tVal. Loss: 0.999 |  Val. PPL:   2.715\n",
      "\tVal Accuracy: 0.335\n",
      "Epoch: 07 | Time: 1m 20s\n",
      "\tTrain Loss: 0.690 | Train PPL:   1.994\n",
      "\tTrain Accuracy: 0.320\n",
      "\tVal. Loss: 0.946 |  Val. PPL:   2.576\n",
      "\tVal Accuracy: 0.362\n",
      "Epoch: 08 | Time: 1m 21s\n",
      "\tTrain Loss: 0.645 | Train PPL:   1.906\n",
      "\tTrain Accuracy: 0.345\n",
      "\tVal. Loss: 0.988 |  Val. PPL:   2.685\n",
      "\tVal Accuracy: 0.361\n",
      "Epoch: 09 | Time: 1m 25s\n",
      "\tTrain Loss: 0.600 | Train PPL:   1.821\n",
      "\tTrain Accuracy: 0.373\n",
      "\tVal. Loss: 1.009 |  Val. PPL:   2.741\n",
      "\tVal Accuracy: 0.368\n",
      "Epoch: 10 | Time: 1m 22s\n",
      "\tTrain Loss: 0.564 | Train PPL:   1.757\n",
      "\tTrain Accuracy: 0.395\n",
      "\tVal. Loss: 0.983 |  Val. PPL:   2.672\n",
      "\tVal Accuracy: 0.387\n",
      "Epoch: 11 | Time: 1m 19s\n",
      "\tTrain Loss: 0.530 | Train PPL:   1.699\n",
      "\tTrain Accuracy: 0.417\n",
      "\tVal. Loss: 0.991 |  Val. PPL:   2.694\n",
      "\tVal Accuracy: 0.396\n"
     ]
    }
   ],
   "source": [
    "#wandb.agent(sweep_id = 'g9ym6ooa', project=modelName+\"_Sweep_1\", function = sp_train)"
   ]
  },
  {
   "cell_type": "code",
   "execution_count": null,
   "id": "f8a16251",
   "metadata": {
    "colab": {
     "base_uri": "https://localhost:8080/"
    },
    "id": "f8a16251",
    "outputId": "ced538d4-8016-4b38-8cc8-e8a82ffc3e46"
   },
   "outputs": [
    {
     "name": "stdout",
     "output_type": "stream",
     "text": [
      "Create sweep with ID: ms9uhn1q\n",
      "Sweep URL: https://wandb.ai/rayanz/Encoder_Decoder_attention_Dakshina_Hi_Sweep_1/sweeps/ms9uhn1q\n"
     ]
    }
   ],
   "source": [
    "sweep_id = wandb.sweep(sweep_config, project=modelName+\"_Sweep_1\")"
   ]
  },
  {
   "cell_type": "code",
   "execution_count": null,
   "id": "e1d687bc",
   "metadata": {
    "colab": {
     "base_uri": "https://localhost:8080/",
     "height": 370
    },
    "id": "e1d687bc",
    "outputId": "e0d2781a-bd6c-4e27-9462-87e92c0013cc"
   },
   "outputs": [
    {
     "name": "stderr",
     "output_type": "stream",
     "text": [
      "\u001b[34m\u001b[1mwandb\u001b[0m: Agent Starting Run: va572bml with config:\n",
      "\u001b[34m\u001b[1mwandb\u001b[0m: \tbeam_search_size: 4\n",
      "\u001b[34m\u001b[1mwandb\u001b[0m: \tcell_type: LSTM\n",
      "\u001b[34m\u001b[1mwandb\u001b[0m: \tdropout: 0.5\n",
      "\u001b[34m\u001b[1mwandb\u001b[0m: \tepochs: 20\n",
      "\u001b[34m\u001b[1mwandb\u001b[0m: \thidden_layer_size: 512\n",
      "\u001b[34m\u001b[1mwandb\u001b[0m: \tno_encoder_decoder_layers: 2\n",
      "\u001b[34m\u001b[1mwandb\u001b[0m: \tteacher_forcing_ratio: 0.2\n"
     ]
    },
    {
     "data": {
      "text/html": [
       "\n",
       "                Tracking run with wandb version 0.10.30<br/>\n",
       "                Syncing run <strong style=\"color:#cdcd00\">crimson-sweep-1</strong> to <a href=\"https://wandb.ai\" target=\"_blank\">Weights & Biases</a> <a href=\"https://docs.wandb.com/integrations/jupyter.html\" target=\"_blank\">(Documentation)</a>.<br/>\n",
       "                Project page: <a href=\"https://wandb.ai/rayanz/Encoder_Decoder_attention_Dakshina_Hi_Sweep_1\" target=\"_blank\">https://wandb.ai/rayanz/Encoder_Decoder_attention_Dakshina_Hi_Sweep_1</a><br/>\n",
       "                Sweep page: <a href=\"https://wandb.ai/rayanz/Encoder_Decoder_attention_Dakshina_Hi_Sweep_1/sweeps/ms9uhn1q\" target=\"_blank\">https://wandb.ai/rayanz/Encoder_Decoder_attention_Dakshina_Hi_Sweep_1/sweeps/ms9uhn1q</a><br/>\n",
       "Run page: <a href=\"https://wandb.ai/rayanz/Encoder_Decoder_attention_Dakshina_Hi_Sweep_1/runs/va572bml\" target=\"_blank\">https://wandb.ai/rayanz/Encoder_Decoder_attention_Dakshina_Hi_Sweep_1/runs/va572bml</a><br/>\n",
       "                Run data is saved locally in <code>/content/wandb/run-20210512_164900-va572bml</code><br/><br/>\n",
       "            "
      ],
      "text/plain": [
       "<IPython.core.display.HTML object>"
      ]
     },
     "metadata": {
      "tags": []
     },
     "output_type": "display_data"
    },
    {
     "name": "stdout",
     "output_type": "stream",
     "text": [
      "Epoch: 01 | Time: 1m 33s\n",
      "\tTrain Loss: 2.128 | Train PPL:   8.400\n",
      "\tTrain Accuracy: 0.038\n",
      "\tVal. Loss: 1.072 |  Val. PPL:   2.921\n",
      "\tVal Accuracy: 0.100\n"
     ]
    },
    {
     "name": "stderr",
     "output_type": "stream",
     "text": [
      "\u001b[34m\u001b[1mwandb\u001b[0m: Ctrl + C detected. Stopping sweep.\n"
     ]
    }
   ],
   "source": [
    "wandb.agent(sweep_id, sp_train)"
   ]
  },
  {
   "cell_type": "code",
   "execution_count": null,
   "id": "SqedXAV7_dYG",
   "metadata": {
    "id": "SqedXAV7_dYG"
   },
   "outputs": [],
   "source": []
  }
 ],
 "metadata": {
  "accelerator": "GPU",
  "colab": {
   "name": "Copy of Sweep_Enc_Dec.ipynb",
   "provenance": []
  },
  "kernelspec": {
   "display_name": "Python 3",
   "language": "python",
   "name": "python3"
  },
  "language_info": {
   "codemirror_mode": {
    "name": "ipython",
    "version": 3
   },
   "file_extension": ".py",
   "mimetype": "text/x-python",
   "name": "python",
   "nbconvert_exporter": "python",
   "pygments_lexer": "ipython3",
   "version": "3.7.3"
  },
  "widgets": {
   "application/vnd.jupyter.widget-state+json": {
    "01a2533acf9f43ad988ff1aec275e9d9": {
     "model_module": "@jupyter-widgets/controls",
     "model_name": "DescriptionStyleModel",
     "state": {
      "_model_module": "@jupyter-widgets/controls",
      "_model_module_version": "1.5.0",
      "_model_name": "DescriptionStyleModel",
      "_view_count": null,
      "_view_module": "@jupyter-widgets/base",
      "_view_module_version": "1.2.0",
      "_view_name": "StyleView",
      "description_width": ""
     }
    },
    "05d854199b3c4f3aa6cc2ba2a66b6187": {
     "model_module": "@jupyter-widgets/controls",
     "model_name": "LabelModel",
     "state": {
      "_dom_classes": [],
      "_model_module": "@jupyter-widgets/controls",
      "_model_module_version": "1.5.0",
      "_model_name": "LabelModel",
      "_view_count": null,
      "_view_module": "@jupyter-widgets/controls",
      "_view_module_version": "1.5.0",
      "_view_name": "LabelView",
      "description": "",
      "description_tooltip": null,
      "layout": "IPY_MODEL_60e9c205e3794916a8e2fcc946e56b17",
      "placeholder": "​",
      "style": "IPY_MODEL_098f8932bd884b2f9a57a334b90ff7a4",
      "value": " 0.01MB of 0.01MB uploaded (0.00MB deduped)\r"
     }
    },
    "098f8932bd884b2f9a57a334b90ff7a4": {
     "model_module": "@jupyter-widgets/controls",
     "model_name": "DescriptionStyleModel",
     "state": {
      "_model_module": "@jupyter-widgets/controls",
      "_model_module_version": "1.5.0",
      "_model_name": "DescriptionStyleModel",
      "_view_count": null,
      "_view_module": "@jupyter-widgets/base",
      "_view_module_version": "1.2.0",
      "_view_name": "StyleView",
      "description_width": ""
     }
    },
    "0e9ea8cdc3334a428aa17d48f90e0eb4": {
     "model_module": "@jupyter-widgets/base",
     "model_name": "LayoutModel",
     "state": {
      "_model_module": "@jupyter-widgets/base",
      "_model_module_version": "1.2.0",
      "_model_name": "LayoutModel",
      "_view_count": null,
      "_view_module": "@jupyter-widgets/base",
      "_view_module_version": "1.2.0",
      "_view_name": "LayoutView",
      "align_content": null,
      "align_items": null,
      "align_self": null,
      "border": null,
      "bottom": null,
      "display": null,
      "flex": null,
      "flex_flow": null,
      "grid_area": null,
      "grid_auto_columns": null,
      "grid_auto_flow": null,
      "grid_auto_rows": null,
      "grid_column": null,
      "grid_gap": null,
      "grid_row": null,
      "grid_template_areas": null,
      "grid_template_columns": null,
      "grid_template_rows": null,
      "height": null,
      "justify_content": null,
      "justify_items": null,
      "left": null,
      "margin": null,
      "max_height": null,
      "max_width": null,
      "min_height": null,
      "min_width": null,
      "object_fit": null,
      "object_position": null,
      "order": null,
      "overflow": null,
      "overflow_x": null,
      "overflow_y": null,
      "padding": null,
      "right": null,
      "top": null,
      "visibility": null,
      "width": null
     }
    },
    "0f5c4202a8674442bb50b9a22d5f3625": {
     "model_module": "@jupyter-widgets/controls",
     "model_name": "DescriptionStyleModel",
     "state": {
      "_model_module": "@jupyter-widgets/controls",
      "_model_module_version": "1.5.0",
      "_model_name": "DescriptionStyleModel",
      "_view_count": null,
      "_view_module": "@jupyter-widgets/base",
      "_view_module_version": "1.2.0",
      "_view_name": "StyleView",
      "description_width": ""
     }
    },
    "10162466584746069d70ade29cf9662d": {
     "model_module": "@jupyter-widgets/controls",
     "model_name": "DescriptionStyleModel",
     "state": {
      "_model_module": "@jupyter-widgets/controls",
      "_model_module_version": "1.5.0",
      "_model_name": "DescriptionStyleModel",
      "_view_count": null,
      "_view_module": "@jupyter-widgets/base",
      "_view_module_version": "1.2.0",
      "_view_name": "StyleView",
      "description_width": ""
     }
    },
    "10771f45b22e4ab1b945bac1944e4584": {
     "model_module": "@jupyter-widgets/controls",
     "model_name": "FloatProgressModel",
     "state": {
      "_dom_classes": [],
      "_model_module": "@jupyter-widgets/controls",
      "_model_module_version": "1.5.0",
      "_model_name": "FloatProgressModel",
      "_view_count": null,
      "_view_module": "@jupyter-widgets/controls",
      "_view_module_version": "1.5.0",
      "_view_name": "ProgressView",
      "bar_style": "",
      "description": "",
      "description_tooltip": null,
      "layout": "IPY_MODEL_4b845049664b423f912859a6116057dc",
      "max": 1,
      "min": 0,
      "orientation": "horizontal",
      "style": "IPY_MODEL_7ec36d4306a54acbbb84a1185c8d0892",
      "value": 1
     }
    },
    "11df95086561449c8d06ce5442948289": {
     "model_module": "@jupyter-widgets/base",
     "model_name": "LayoutModel",
     "state": {
      "_model_module": "@jupyter-widgets/base",
      "_model_module_version": "1.2.0",
      "_model_name": "LayoutModel",
      "_view_count": null,
      "_view_module": "@jupyter-widgets/base",
      "_view_module_version": "1.2.0",
      "_view_name": "LayoutView",
      "align_content": null,
      "align_items": null,
      "align_self": null,
      "border": null,
      "bottom": null,
      "display": null,
      "flex": null,
      "flex_flow": null,
      "grid_area": null,
      "grid_auto_columns": null,
      "grid_auto_flow": null,
      "grid_auto_rows": null,
      "grid_column": null,
      "grid_gap": null,
      "grid_row": null,
      "grid_template_areas": null,
      "grid_template_columns": null,
      "grid_template_rows": null,
      "height": null,
      "justify_content": null,
      "justify_items": null,
      "left": null,
      "margin": null,
      "max_height": null,
      "max_width": null,
      "min_height": null,
      "min_width": null,
      "object_fit": null,
      "object_position": null,
      "order": null,
      "overflow": null,
      "overflow_x": null,
      "overflow_y": null,
      "padding": null,
      "right": null,
      "top": null,
      "visibility": null,
      "width": null
     }
    },
    "142eb739b2414dafb46e2902600a0fe7": {
     "model_module": "@jupyter-widgets/controls",
     "model_name": "VBoxModel",
     "state": {
      "_dom_classes": [],
      "_model_module": "@jupyter-widgets/controls",
      "_model_module_version": "1.5.0",
      "_model_name": "VBoxModel",
      "_view_count": null,
      "_view_module": "@jupyter-widgets/controls",
      "_view_module_version": "1.5.0",
      "_view_name": "VBoxView",
      "box_style": "",
      "children": [
       "IPY_MODEL_a11eb3ffc5324e77a6b3c7f60eb34c3f",
       "IPY_MODEL_6e9ea48fc6934c358a05d63473aa87fa"
      ],
      "layout": "IPY_MODEL_262683216b0a4df9a66eed48d7d5d852"
     }
    },
    "1535e3c3d2cc417d9d8647dacda61195": {
     "model_module": "@jupyter-widgets/controls",
     "model_name": "VBoxModel",
     "state": {
      "_dom_classes": [],
      "_model_module": "@jupyter-widgets/controls",
      "_model_module_version": "1.5.0",
      "_model_name": "VBoxModel",
      "_view_count": null,
      "_view_module": "@jupyter-widgets/controls",
      "_view_module_version": "1.5.0",
      "_view_name": "VBoxView",
      "box_style": "",
      "children": [
       "IPY_MODEL_1fbed25e7b8b48b18889766298560078",
       "IPY_MODEL_539a7640fc8643708c1851507dc7312f"
      ],
      "layout": "IPY_MODEL_312671f343bd470ab4b632f064be65ce"
     }
    },
    "1930996d40254504b7621f9262087e21": {
     "model_module": "@jupyter-widgets/controls",
     "model_name": "ProgressStyleModel",
     "state": {
      "_model_module": "@jupyter-widgets/controls",
      "_model_module_version": "1.5.0",
      "_model_name": "ProgressStyleModel",
      "_view_count": null,
      "_view_module": "@jupyter-widgets/base",
      "_view_module_version": "1.2.0",
      "_view_name": "StyleView",
      "bar_color": null,
      "description_width": ""
     }
    },
    "199632a8bece40fdae1684971cef9432": {
     "model_module": "@jupyter-widgets/controls",
     "model_name": "VBoxModel",
     "state": {
      "_dom_classes": [],
      "_model_module": "@jupyter-widgets/controls",
      "_model_module_version": "1.5.0",
      "_model_name": "VBoxModel",
      "_view_count": null,
      "_view_module": "@jupyter-widgets/controls",
      "_view_module_version": "1.5.0",
      "_view_name": "VBoxView",
      "box_style": "",
      "children": [
       "IPY_MODEL_e8aee72d14264ec28e94a54f11753f9d",
       "IPY_MODEL_e1d7a1f2f79d42a28f0b8429d792d84d"
      ],
      "layout": "IPY_MODEL_57f6126656c84940898107aec5b408f4"
     }
    },
    "1aa29ffc87f8454f970237df28e2f172": {
     "model_module": "@jupyter-widgets/controls",
     "model_name": "ProgressStyleModel",
     "state": {
      "_model_module": "@jupyter-widgets/controls",
      "_model_module_version": "1.5.0",
      "_model_name": "ProgressStyleModel",
      "_view_count": null,
      "_view_module": "@jupyter-widgets/base",
      "_view_module_version": "1.2.0",
      "_view_name": "StyleView",
      "bar_color": null,
      "description_width": ""
     }
    },
    "1fbed25e7b8b48b18889766298560078": {
     "model_module": "@jupyter-widgets/controls",
     "model_name": "LabelModel",
     "state": {
      "_dom_classes": [],
      "_model_module": "@jupyter-widgets/controls",
      "_model_module_version": "1.5.0",
      "_model_name": "LabelModel",
      "_view_count": null,
      "_view_module": "@jupyter-widgets/controls",
      "_view_module_version": "1.5.0",
      "_view_name": "LabelView",
      "description": "",
      "description_tooltip": null,
      "layout": "IPY_MODEL_45e5973ceea04441b09455a9ea1b5751",
      "placeholder": "​",
      "style": "IPY_MODEL_75dd141725cb4f938b29ca3ad15dcc7a",
      "value": " 0.01MB of 0.01MB uploaded (0.00MB deduped)\r"
     }
    },
    "2189881617f341caa746225d82db8e4d": {
     "model_module": "@jupyter-widgets/controls",
     "model_name": "VBoxModel",
     "state": {
      "_dom_classes": [],
      "_model_module": "@jupyter-widgets/controls",
      "_model_module_version": "1.5.0",
      "_model_name": "VBoxModel",
      "_view_count": null,
      "_view_module": "@jupyter-widgets/controls",
      "_view_module_version": "1.5.0",
      "_view_name": "VBoxView",
      "box_style": "",
      "children": [
       "IPY_MODEL_05d854199b3c4f3aa6cc2ba2a66b6187",
       "IPY_MODEL_2aadd1f11a734276aba0160ac90a40a7"
      ],
      "layout": "IPY_MODEL_f557c10e717d42539582c3fdf2fa5b24"
     }
    },
    "21b1c66b4ec947fab1cdd41af643a903": {
     "model_module": "@jupyter-widgets/controls",
     "model_name": "ProgressStyleModel",
     "state": {
      "_model_module": "@jupyter-widgets/controls",
      "_model_module_version": "1.5.0",
      "_model_name": "ProgressStyleModel",
      "_view_count": null,
      "_view_module": "@jupyter-widgets/base",
      "_view_module_version": "1.2.0",
      "_view_name": "StyleView",
      "bar_color": null,
      "description_width": ""
     }
    },
    "25d4b951c7434c688b83a6bd5aab13c2": {
     "model_module": "@jupyter-widgets/controls",
     "model_name": "DescriptionStyleModel",
     "state": {
      "_model_module": "@jupyter-widgets/controls",
      "_model_module_version": "1.5.0",
      "_model_name": "DescriptionStyleModel",
      "_view_count": null,
      "_view_module": "@jupyter-widgets/base",
      "_view_module_version": "1.2.0",
      "_view_name": "StyleView",
      "description_width": ""
     }
    },
    "262683216b0a4df9a66eed48d7d5d852": {
     "model_module": "@jupyter-widgets/base",
     "model_name": "LayoutModel",
     "state": {
      "_model_module": "@jupyter-widgets/base",
      "_model_module_version": "1.2.0",
      "_model_name": "LayoutModel",
      "_view_count": null,
      "_view_module": "@jupyter-widgets/base",
      "_view_module_version": "1.2.0",
      "_view_name": "LayoutView",
      "align_content": null,
      "align_items": null,
      "align_self": null,
      "border": null,
      "bottom": null,
      "display": null,
      "flex": null,
      "flex_flow": null,
      "grid_area": null,
      "grid_auto_columns": null,
      "grid_auto_flow": null,
      "grid_auto_rows": null,
      "grid_column": null,
      "grid_gap": null,
      "grid_row": null,
      "grid_template_areas": null,
      "grid_template_columns": null,
      "grid_template_rows": null,
      "height": null,
      "justify_content": null,
      "justify_items": null,
      "left": null,
      "margin": null,
      "max_height": null,
      "max_width": null,
      "min_height": null,
      "min_width": null,
      "object_fit": null,
      "object_position": null,
      "order": null,
      "overflow": null,
      "overflow_x": null,
      "overflow_y": null,
      "padding": null,
      "right": null,
      "top": null,
      "visibility": null,
      "width": null
     }
    },
    "262f003e29f34103a8397f47e1ea0b3a": {
     "model_module": "@jupyter-widgets/controls",
     "model_name": "FloatProgressModel",
     "state": {
      "_dom_classes": [],
      "_model_module": "@jupyter-widgets/controls",
      "_model_module_version": "1.5.0",
      "_model_name": "FloatProgressModel",
      "_view_count": null,
      "_view_module": "@jupyter-widgets/controls",
      "_view_module_version": "1.5.0",
      "_view_name": "ProgressView",
      "bar_style": "",
      "description": "",
      "description_tooltip": null,
      "layout": "IPY_MODEL_6c0768587e88493c8c6a4ac723c860f7",
      "max": 1,
      "min": 0,
      "orientation": "horizontal",
      "style": "IPY_MODEL_ab9f8b9f6641423b98d7a66e0fdbff06",
      "value": 1
     }
    },
    "2aadd1f11a734276aba0160ac90a40a7": {
     "model_module": "@jupyter-widgets/controls",
     "model_name": "FloatProgressModel",
     "state": {
      "_dom_classes": [],
      "_model_module": "@jupyter-widgets/controls",
      "_model_module_version": "1.5.0",
      "_model_name": "FloatProgressModel",
      "_view_count": null,
      "_view_module": "@jupyter-widgets/controls",
      "_view_module_version": "1.5.0",
      "_view_name": "ProgressView",
      "bar_style": "",
      "description": "",
      "description_tooltip": null,
      "layout": "IPY_MODEL_62103d23df2c48bdba4b0c90a9718450",
      "max": 1,
      "min": 0,
      "orientation": "horizontal",
      "style": "IPY_MODEL_9f04acd0c63945c0b2ca13e47c211918",
      "value": 1
     }
    },
    "312671f343bd470ab4b632f064be65ce": {
     "model_module": "@jupyter-widgets/base",
     "model_name": "LayoutModel",
     "state": {
      "_model_module": "@jupyter-widgets/base",
      "_model_module_version": "1.2.0",
      "_model_name": "LayoutModel",
      "_view_count": null,
      "_view_module": "@jupyter-widgets/base",
      "_view_module_version": "1.2.0",
      "_view_name": "LayoutView",
      "align_content": null,
      "align_items": null,
      "align_self": null,
      "border": null,
      "bottom": null,
      "display": null,
      "flex": null,
      "flex_flow": null,
      "grid_area": null,
      "grid_auto_columns": null,
      "grid_auto_flow": null,
      "grid_auto_rows": null,
      "grid_column": null,
      "grid_gap": null,
      "grid_row": null,
      "grid_template_areas": null,
      "grid_template_columns": null,
      "grid_template_rows": null,
      "height": null,
      "justify_content": null,
      "justify_items": null,
      "left": null,
      "margin": null,
      "max_height": null,
      "max_width": null,
      "min_height": null,
      "min_width": null,
      "object_fit": null,
      "object_position": null,
      "order": null,
      "overflow": null,
      "overflow_x": null,
      "overflow_y": null,
      "padding": null,
      "right": null,
      "top": null,
      "visibility": null,
      "width": null
     }
    },
    "3bb71d59ea5e487a9bfca27d79b3ad6c": {
     "model_module": "@jupyter-widgets/controls",
     "model_name": "VBoxModel",
     "state": {
      "_dom_classes": [],
      "_model_module": "@jupyter-widgets/controls",
      "_model_module_version": "1.5.0",
      "_model_name": "VBoxModel",
      "_view_count": null,
      "_view_module": "@jupyter-widgets/controls",
      "_view_module_version": "1.5.0",
      "_view_name": "VBoxView",
      "box_style": "",
      "children": [
       "IPY_MODEL_b8effde5220a4e3c9687d27a4af05717",
       "IPY_MODEL_cd8e94846b594e0f90c4ef3ada411e86"
      ],
      "layout": "IPY_MODEL_ce096939a21046f98b4f995645e64a92"
     }
    },
    "3c4fd67c0aa540f0a8c9f724f42324c9": {
     "model_module": "@jupyter-widgets/controls",
     "model_name": "FloatProgressModel",
     "state": {
      "_dom_classes": [],
      "_model_module": "@jupyter-widgets/controls",
      "_model_module_version": "1.5.0",
      "_model_name": "FloatProgressModel",
      "_view_count": null,
      "_view_module": "@jupyter-widgets/controls",
      "_view_module_version": "1.5.0",
      "_view_name": "ProgressView",
      "bar_style": "",
      "description": "",
      "description_tooltip": null,
      "layout": "IPY_MODEL_425b7c191bda4fb285d6489057508645",
      "max": 1,
      "min": 0,
      "orientation": "horizontal",
      "style": "IPY_MODEL_c9d54cc58bee40a98e7843fd90ef4746",
      "value": 1
     }
    },
    "3da850a7cb0a4fc39e2fa133f1cef1c0": {
     "model_module": "@jupyter-widgets/base",
     "model_name": "LayoutModel",
     "state": {
      "_model_module": "@jupyter-widgets/base",
      "_model_module_version": "1.2.0",
      "_model_name": "LayoutModel",
      "_view_count": null,
      "_view_module": "@jupyter-widgets/base",
      "_view_module_version": "1.2.0",
      "_view_name": "LayoutView",
      "align_content": null,
      "align_items": null,
      "align_self": null,
      "border": null,
      "bottom": null,
      "display": null,
      "flex": null,
      "flex_flow": null,
      "grid_area": null,
      "grid_auto_columns": null,
      "grid_auto_flow": null,
      "grid_auto_rows": null,
      "grid_column": null,
      "grid_gap": null,
      "grid_row": null,
      "grid_template_areas": null,
      "grid_template_columns": null,
      "grid_template_rows": null,
      "height": null,
      "justify_content": null,
      "justify_items": null,
      "left": null,
      "margin": null,
      "max_height": null,
      "max_width": null,
      "min_height": null,
      "min_width": null,
      "object_fit": null,
      "object_position": null,
      "order": null,
      "overflow": null,
      "overflow_x": null,
      "overflow_y": null,
      "padding": null,
      "right": null,
      "top": null,
      "visibility": null,
      "width": null
     }
    },
    "3f134181952144a38bfe737f7bd2a0fd": {
     "model_module": "@jupyter-widgets/base",
     "model_name": "LayoutModel",
     "state": {
      "_model_module": "@jupyter-widgets/base",
      "_model_module_version": "1.2.0",
      "_model_name": "LayoutModel",
      "_view_count": null,
      "_view_module": "@jupyter-widgets/base",
      "_view_module_version": "1.2.0",
      "_view_name": "LayoutView",
      "align_content": null,
      "align_items": null,
      "align_self": null,
      "border": null,
      "bottom": null,
      "display": null,
      "flex": null,
      "flex_flow": null,
      "grid_area": null,
      "grid_auto_columns": null,
      "grid_auto_flow": null,
      "grid_auto_rows": null,
      "grid_column": null,
      "grid_gap": null,
      "grid_row": null,
      "grid_template_areas": null,
      "grid_template_columns": null,
      "grid_template_rows": null,
      "height": null,
      "justify_content": null,
      "justify_items": null,
      "left": null,
      "margin": null,
      "max_height": null,
      "max_width": null,
      "min_height": null,
      "min_width": null,
      "object_fit": null,
      "object_position": null,
      "order": null,
      "overflow": null,
      "overflow_x": null,
      "overflow_y": null,
      "padding": null,
      "right": null,
      "top": null,
      "visibility": null,
      "width": null
     }
    },
    "41fcc552bc21480f8207ca2aa55fffda": {
     "model_module": "@jupyter-widgets/controls",
     "model_name": "DescriptionStyleModel",
     "state": {
      "_model_module": "@jupyter-widgets/controls",
      "_model_module_version": "1.5.0",
      "_model_name": "DescriptionStyleModel",
      "_view_count": null,
      "_view_module": "@jupyter-widgets/base",
      "_view_module_version": "1.2.0",
      "_view_name": "StyleView",
      "description_width": ""
     }
    },
    "425b7c191bda4fb285d6489057508645": {
     "model_module": "@jupyter-widgets/base",
     "model_name": "LayoutModel",
     "state": {
      "_model_module": "@jupyter-widgets/base",
      "_model_module_version": "1.2.0",
      "_model_name": "LayoutModel",
      "_view_count": null,
      "_view_module": "@jupyter-widgets/base",
      "_view_module_version": "1.2.0",
      "_view_name": "LayoutView",
      "align_content": null,
      "align_items": null,
      "align_self": null,
      "border": null,
      "bottom": null,
      "display": null,
      "flex": null,
      "flex_flow": null,
      "grid_area": null,
      "grid_auto_columns": null,
      "grid_auto_flow": null,
      "grid_auto_rows": null,
      "grid_column": null,
      "grid_gap": null,
      "grid_row": null,
      "grid_template_areas": null,
      "grid_template_columns": null,
      "grid_template_rows": null,
      "height": null,
      "justify_content": null,
      "justify_items": null,
      "left": null,
      "margin": null,
      "max_height": null,
      "max_width": null,
      "min_height": null,
      "min_width": null,
      "object_fit": null,
      "object_position": null,
      "order": null,
      "overflow": null,
      "overflow_x": null,
      "overflow_y": null,
      "padding": null,
      "right": null,
      "top": null,
      "visibility": null,
      "width": null
     }
    },
    "426f79d56b4142dd903256e2e69b0911": {
     "model_module": "@jupyter-widgets/base",
     "model_name": "LayoutModel",
     "state": {
      "_model_module": "@jupyter-widgets/base",
      "_model_module_version": "1.2.0",
      "_model_name": "LayoutModel",
      "_view_count": null,
      "_view_module": "@jupyter-widgets/base",
      "_view_module_version": "1.2.0",
      "_view_name": "LayoutView",
      "align_content": null,
      "align_items": null,
      "align_self": null,
      "border": null,
      "bottom": null,
      "display": null,
      "flex": null,
      "flex_flow": null,
      "grid_area": null,
      "grid_auto_columns": null,
      "grid_auto_flow": null,
      "grid_auto_rows": null,
      "grid_column": null,
      "grid_gap": null,
      "grid_row": null,
      "grid_template_areas": null,
      "grid_template_columns": null,
      "grid_template_rows": null,
      "height": null,
      "justify_content": null,
      "justify_items": null,
      "left": null,
      "margin": null,
      "max_height": null,
      "max_width": null,
      "min_height": null,
      "min_width": null,
      "object_fit": null,
      "object_position": null,
      "order": null,
      "overflow": null,
      "overflow_x": null,
      "overflow_y": null,
      "padding": null,
      "right": null,
      "top": null,
      "visibility": null,
      "width": null
     }
    },
    "45e5973ceea04441b09455a9ea1b5751": {
     "model_module": "@jupyter-widgets/base",
     "model_name": "LayoutModel",
     "state": {
      "_model_module": "@jupyter-widgets/base",
      "_model_module_version": "1.2.0",
      "_model_name": "LayoutModel",
      "_view_count": null,
      "_view_module": "@jupyter-widgets/base",
      "_view_module_version": "1.2.0",
      "_view_name": "LayoutView",
      "align_content": null,
      "align_items": null,
      "align_self": null,
      "border": null,
      "bottom": null,
      "display": null,
      "flex": null,
      "flex_flow": null,
      "grid_area": null,
      "grid_auto_columns": null,
      "grid_auto_flow": null,
      "grid_auto_rows": null,
      "grid_column": null,
      "grid_gap": null,
      "grid_row": null,
      "grid_template_areas": null,
      "grid_template_columns": null,
      "grid_template_rows": null,
      "height": null,
      "justify_content": null,
      "justify_items": null,
      "left": null,
      "margin": null,
      "max_height": null,
      "max_width": null,
      "min_height": null,
      "min_width": null,
      "object_fit": null,
      "object_position": null,
      "order": null,
      "overflow": null,
      "overflow_x": null,
      "overflow_y": null,
      "padding": null,
      "right": null,
      "top": null,
      "visibility": null,
      "width": null
     }
    },
    "4a6e965bb1664ab0b1fc65e5972b54cd": {
     "model_module": "@jupyter-widgets/controls",
     "model_name": "VBoxModel",
     "state": {
      "_dom_classes": [],
      "_model_module": "@jupyter-widgets/controls",
      "_model_module_version": "1.5.0",
      "_model_name": "VBoxModel",
      "_view_count": null,
      "_view_module": "@jupyter-widgets/controls",
      "_view_module_version": "1.5.0",
      "_view_name": "VBoxView",
      "box_style": "",
      "children": [
       "IPY_MODEL_7f7739f1d7334b3cb8f7517ac286bb40",
       "IPY_MODEL_3c4fd67c0aa540f0a8c9f724f42324c9"
      ],
      "layout": "IPY_MODEL_579db41bb75a40e9a02b4816c0b5648c"
     }
    },
    "4b845049664b423f912859a6116057dc": {
     "model_module": "@jupyter-widgets/base",
     "model_name": "LayoutModel",
     "state": {
      "_model_module": "@jupyter-widgets/base",
      "_model_module_version": "1.2.0",
      "_model_name": "LayoutModel",
      "_view_count": null,
      "_view_module": "@jupyter-widgets/base",
      "_view_module_version": "1.2.0",
      "_view_name": "LayoutView",
      "align_content": null,
      "align_items": null,
      "align_self": null,
      "border": null,
      "bottom": null,
      "display": null,
      "flex": null,
      "flex_flow": null,
      "grid_area": null,
      "grid_auto_columns": null,
      "grid_auto_flow": null,
      "grid_auto_rows": null,
      "grid_column": null,
      "grid_gap": null,
      "grid_row": null,
      "grid_template_areas": null,
      "grid_template_columns": null,
      "grid_template_rows": null,
      "height": null,
      "justify_content": null,
      "justify_items": null,
      "left": null,
      "margin": null,
      "max_height": null,
      "max_width": null,
      "min_height": null,
      "min_width": null,
      "object_fit": null,
      "object_position": null,
      "order": null,
      "overflow": null,
      "overflow_x": null,
      "overflow_y": null,
      "padding": null,
      "right": null,
      "top": null,
      "visibility": null,
      "width": null
     }
    },
    "4bbab4855275435f9cfde1434cb501e5": {
     "model_module": "@jupyter-widgets/base",
     "model_name": "LayoutModel",
     "state": {
      "_model_module": "@jupyter-widgets/base",
      "_model_module_version": "1.2.0",
      "_model_name": "LayoutModel",
      "_view_count": null,
      "_view_module": "@jupyter-widgets/base",
      "_view_module_version": "1.2.0",
      "_view_name": "LayoutView",
      "align_content": null,
      "align_items": null,
      "align_self": null,
      "border": null,
      "bottom": null,
      "display": null,
      "flex": null,
      "flex_flow": null,
      "grid_area": null,
      "grid_auto_columns": null,
      "grid_auto_flow": null,
      "grid_auto_rows": null,
      "grid_column": null,
      "grid_gap": null,
      "grid_row": null,
      "grid_template_areas": null,
      "grid_template_columns": null,
      "grid_template_rows": null,
      "height": null,
      "justify_content": null,
      "justify_items": null,
      "left": null,
      "margin": null,
      "max_height": null,
      "max_width": null,
      "min_height": null,
      "min_width": null,
      "object_fit": null,
      "object_position": null,
      "order": null,
      "overflow": null,
      "overflow_x": null,
      "overflow_y": null,
      "padding": null,
      "right": null,
      "top": null,
      "visibility": null,
      "width": null
     }
    },
    "4c8f1e84a52f4e1d8b67a52e2a9930b6": {
     "model_module": "@jupyter-widgets/controls",
     "model_name": "LabelModel",
     "state": {
      "_dom_classes": [],
      "_model_module": "@jupyter-widgets/controls",
      "_model_module_version": "1.5.0",
      "_model_name": "LabelModel",
      "_view_count": null,
      "_view_module": "@jupyter-widgets/controls",
      "_view_module_version": "1.5.0",
      "_view_name": "LabelView",
      "description": "",
      "description_tooltip": null,
      "layout": "IPY_MODEL_11df95086561449c8d06ce5442948289",
      "placeholder": "​",
      "style": "IPY_MODEL_25d4b951c7434c688b83a6bd5aab13c2",
      "value": " 0.01MB of 0.01MB uploaded (0.00MB deduped)\r"
     }
    },
    "4e78987ea1544a1ebff3478a2afd359b": {
     "model_module": "@jupyter-widgets/base",
     "model_name": "LayoutModel",
     "state": {
      "_model_module": "@jupyter-widgets/base",
      "_model_module_version": "1.2.0",
      "_model_name": "LayoutModel",
      "_view_count": null,
      "_view_module": "@jupyter-widgets/base",
      "_view_module_version": "1.2.0",
      "_view_name": "LayoutView",
      "align_content": null,
      "align_items": null,
      "align_self": null,
      "border": null,
      "bottom": null,
      "display": null,
      "flex": null,
      "flex_flow": null,
      "grid_area": null,
      "grid_auto_columns": null,
      "grid_auto_flow": null,
      "grid_auto_rows": null,
      "grid_column": null,
      "grid_gap": null,
      "grid_row": null,
      "grid_template_areas": null,
      "grid_template_columns": null,
      "grid_template_rows": null,
      "height": null,
      "justify_content": null,
      "justify_items": null,
      "left": null,
      "margin": null,
      "max_height": null,
      "max_width": null,
      "min_height": null,
      "min_width": null,
      "object_fit": null,
      "object_position": null,
      "order": null,
      "overflow": null,
      "overflow_x": null,
      "overflow_y": null,
      "padding": null,
      "right": null,
      "top": null,
      "visibility": null,
      "width": null
     }
    },
    "4ffe57269e02444083a9bcf14f8e7e43": {
     "model_module": "@jupyter-widgets/controls",
     "model_name": "DescriptionStyleModel",
     "state": {
      "_model_module": "@jupyter-widgets/controls",
      "_model_module_version": "1.5.0",
      "_model_name": "DescriptionStyleModel",
      "_view_count": null,
      "_view_module": "@jupyter-widgets/base",
      "_view_module_version": "1.2.0",
      "_view_name": "StyleView",
      "description_width": ""
     }
    },
    "539a7640fc8643708c1851507dc7312f": {
     "model_module": "@jupyter-widgets/controls",
     "model_name": "FloatProgressModel",
     "state": {
      "_dom_classes": [],
      "_model_module": "@jupyter-widgets/controls",
      "_model_module_version": "1.5.0",
      "_model_name": "FloatProgressModel",
      "_view_count": null,
      "_view_module": "@jupyter-widgets/controls",
      "_view_module_version": "1.5.0",
      "_view_name": "ProgressView",
      "bar_style": "",
      "description": "",
      "description_tooltip": null,
      "layout": "IPY_MODEL_cc0cc9e9e7864cf8b38100e11687e9d1",
      "max": 1,
      "min": 0,
      "orientation": "horizontal",
      "style": "IPY_MODEL_e4e5d4f4bb5b40caa631669c3bcf2d47",
      "value": 1
     }
    },
    "579db41bb75a40e9a02b4816c0b5648c": {
     "model_module": "@jupyter-widgets/base",
     "model_name": "LayoutModel",
     "state": {
      "_model_module": "@jupyter-widgets/base",
      "_model_module_version": "1.2.0",
      "_model_name": "LayoutModel",
      "_view_count": null,
      "_view_module": "@jupyter-widgets/base",
      "_view_module_version": "1.2.0",
      "_view_name": "LayoutView",
      "align_content": null,
      "align_items": null,
      "align_self": null,
      "border": null,
      "bottom": null,
      "display": null,
      "flex": null,
      "flex_flow": null,
      "grid_area": null,
      "grid_auto_columns": null,
      "grid_auto_flow": null,
      "grid_auto_rows": null,
      "grid_column": null,
      "grid_gap": null,
      "grid_row": null,
      "grid_template_areas": null,
      "grid_template_columns": null,
      "grid_template_rows": null,
      "height": null,
      "justify_content": null,
      "justify_items": null,
      "left": null,
      "margin": null,
      "max_height": null,
      "max_width": null,
      "min_height": null,
      "min_width": null,
      "object_fit": null,
      "object_position": null,
      "order": null,
      "overflow": null,
      "overflow_x": null,
      "overflow_y": null,
      "padding": null,
      "right": null,
      "top": null,
      "visibility": null,
      "width": null
     }
    },
    "57f6126656c84940898107aec5b408f4": {
     "model_module": "@jupyter-widgets/base",
     "model_name": "LayoutModel",
     "state": {
      "_model_module": "@jupyter-widgets/base",
      "_model_module_version": "1.2.0",
      "_model_name": "LayoutModel",
      "_view_count": null,
      "_view_module": "@jupyter-widgets/base",
      "_view_module_version": "1.2.0",
      "_view_name": "LayoutView",
      "align_content": null,
      "align_items": null,
      "align_self": null,
      "border": null,
      "bottom": null,
      "display": null,
      "flex": null,
      "flex_flow": null,
      "grid_area": null,
      "grid_auto_columns": null,
      "grid_auto_flow": null,
      "grid_auto_rows": null,
      "grid_column": null,
      "grid_gap": null,
      "grid_row": null,
      "grid_template_areas": null,
      "grid_template_columns": null,
      "grid_template_rows": null,
      "height": null,
      "justify_content": null,
      "justify_items": null,
      "left": null,
      "margin": null,
      "max_height": null,
      "max_width": null,
      "min_height": null,
      "min_width": null,
      "object_fit": null,
      "object_position": null,
      "order": null,
      "overflow": null,
      "overflow_x": null,
      "overflow_y": null,
      "padding": null,
      "right": null,
      "top": null,
      "visibility": null,
      "width": null
     }
    },
    "5bf066b726c34563835a559b02dab33e": {
     "model_module": "@jupyter-widgets/controls",
     "model_name": "LabelModel",
     "state": {
      "_dom_classes": [],
      "_model_module": "@jupyter-widgets/controls",
      "_model_module_version": "1.5.0",
      "_model_name": "LabelModel",
      "_view_count": null,
      "_view_module": "@jupyter-widgets/controls",
      "_view_module_version": "1.5.0",
      "_view_name": "LabelView",
      "description": "",
      "description_tooltip": null,
      "layout": "IPY_MODEL_0e9ea8cdc3334a428aa17d48f90e0eb4",
      "placeholder": "​",
      "style": "IPY_MODEL_10162466584746069d70ade29cf9662d",
      "value": " 0.01MB of 0.01MB uploaded (0.00MB deduped)\r"
     }
    },
    "5f912130827d49d1b57e99316c4ad2b8": {
     "model_module": "@jupyter-widgets/controls",
     "model_name": "ProgressStyleModel",
     "state": {
      "_model_module": "@jupyter-widgets/controls",
      "_model_module_version": "1.5.0",
      "_model_name": "ProgressStyleModel",
      "_view_count": null,
      "_view_module": "@jupyter-widgets/base",
      "_view_module_version": "1.2.0",
      "_view_name": "StyleView",
      "bar_color": null,
      "description_width": ""
     }
    },
    "609a10d37ea04976a1e00b79c3a3dc52": {
     "model_module": "@jupyter-widgets/controls",
     "model_name": "VBoxModel",
     "state": {
      "_dom_classes": [],
      "_model_module": "@jupyter-widgets/controls",
      "_model_module_version": "1.5.0",
      "_model_name": "VBoxModel",
      "_view_count": null,
      "_view_module": "@jupyter-widgets/controls",
      "_view_module_version": "1.5.0",
      "_view_name": "VBoxView",
      "box_style": "",
      "children": [
       "IPY_MODEL_68b2f67a3b834742b8ae3cf349dc6477",
       "IPY_MODEL_10771f45b22e4ab1b945bac1944e4584"
      ],
      "layout": "IPY_MODEL_4bbab4855275435f9cfde1434cb501e5"
     }
    },
    "60e9c205e3794916a8e2fcc946e56b17": {
     "model_module": "@jupyter-widgets/base",
     "model_name": "LayoutModel",
     "state": {
      "_model_module": "@jupyter-widgets/base",
      "_model_module_version": "1.2.0",
      "_model_name": "LayoutModel",
      "_view_count": null,
      "_view_module": "@jupyter-widgets/base",
      "_view_module_version": "1.2.0",
      "_view_name": "LayoutView",
      "align_content": null,
      "align_items": null,
      "align_self": null,
      "border": null,
      "bottom": null,
      "display": null,
      "flex": null,
      "flex_flow": null,
      "grid_area": null,
      "grid_auto_columns": null,
      "grid_auto_flow": null,
      "grid_auto_rows": null,
      "grid_column": null,
      "grid_gap": null,
      "grid_row": null,
      "grid_template_areas": null,
      "grid_template_columns": null,
      "grid_template_rows": null,
      "height": null,
      "justify_content": null,
      "justify_items": null,
      "left": null,
      "margin": null,
      "max_height": null,
      "max_width": null,
      "min_height": null,
      "min_width": null,
      "object_fit": null,
      "object_position": null,
      "order": null,
      "overflow": null,
      "overflow_x": null,
      "overflow_y": null,
      "padding": null,
      "right": null,
      "top": null,
      "visibility": null,
      "width": null
     }
    },
    "62103d23df2c48bdba4b0c90a9718450": {
     "model_module": "@jupyter-widgets/base",
     "model_name": "LayoutModel",
     "state": {
      "_model_module": "@jupyter-widgets/base",
      "_model_module_version": "1.2.0",
      "_model_name": "LayoutModel",
      "_view_count": null,
      "_view_module": "@jupyter-widgets/base",
      "_view_module_version": "1.2.0",
      "_view_name": "LayoutView",
      "align_content": null,
      "align_items": null,
      "align_self": null,
      "border": null,
      "bottom": null,
      "display": null,
      "flex": null,
      "flex_flow": null,
      "grid_area": null,
      "grid_auto_columns": null,
      "grid_auto_flow": null,
      "grid_auto_rows": null,
      "grid_column": null,
      "grid_gap": null,
      "grid_row": null,
      "grid_template_areas": null,
      "grid_template_columns": null,
      "grid_template_rows": null,
      "height": null,
      "justify_content": null,
      "justify_items": null,
      "left": null,
      "margin": null,
      "max_height": null,
      "max_width": null,
      "min_height": null,
      "min_width": null,
      "object_fit": null,
      "object_position": null,
      "order": null,
      "overflow": null,
      "overflow_x": null,
      "overflow_y": null,
      "padding": null,
      "right": null,
      "top": null,
      "visibility": null,
      "width": null
     }
    },
    "631e95ece8dd40458ecec54dbffebd87": {
     "model_module": "@jupyter-widgets/controls",
     "model_name": "VBoxModel",
     "state": {
      "_dom_classes": [],
      "_model_module": "@jupyter-widgets/controls",
      "_model_module_version": "1.5.0",
      "_model_name": "VBoxModel",
      "_view_count": null,
      "_view_module": "@jupyter-widgets/controls",
      "_view_module_version": "1.5.0",
      "_view_name": "VBoxView",
      "box_style": "",
      "children": [
       "IPY_MODEL_4c8f1e84a52f4e1d8b67a52e2a9930b6",
       "IPY_MODEL_262f003e29f34103a8397f47e1ea0b3a"
      ],
      "layout": "IPY_MODEL_d2c10eb28b274892831038cdb215d2b2"
     }
    },
    "65bdc04c89114891acc1c4ffaa630a31": {
     "model_module": "@jupyter-widgets/controls",
     "model_name": "DescriptionStyleModel",
     "state": {
      "_model_module": "@jupyter-widgets/controls",
      "_model_module_version": "1.5.0",
      "_model_name": "DescriptionStyleModel",
      "_view_count": null,
      "_view_module": "@jupyter-widgets/base",
      "_view_module_version": "1.2.0",
      "_view_name": "StyleView",
      "description_width": ""
     }
    },
    "6680093161a44be18c94319e02872815": {
     "model_module": "@jupyter-widgets/base",
     "model_name": "LayoutModel",
     "state": {
      "_model_module": "@jupyter-widgets/base",
      "_model_module_version": "1.2.0",
      "_model_name": "LayoutModel",
      "_view_count": null,
      "_view_module": "@jupyter-widgets/base",
      "_view_module_version": "1.2.0",
      "_view_name": "LayoutView",
      "align_content": null,
      "align_items": null,
      "align_self": null,
      "border": null,
      "bottom": null,
      "display": null,
      "flex": null,
      "flex_flow": null,
      "grid_area": null,
      "grid_auto_columns": null,
      "grid_auto_flow": null,
      "grid_auto_rows": null,
      "grid_column": null,
      "grid_gap": null,
      "grid_row": null,
      "grid_template_areas": null,
      "grid_template_columns": null,
      "grid_template_rows": null,
      "height": null,
      "justify_content": null,
      "justify_items": null,
      "left": null,
      "margin": null,
      "max_height": null,
      "max_width": null,
      "min_height": null,
      "min_width": null,
      "object_fit": null,
      "object_position": null,
      "order": null,
      "overflow": null,
      "overflow_x": null,
      "overflow_y": null,
      "padding": null,
      "right": null,
      "top": null,
      "visibility": null,
      "width": null
     }
    },
    "6759f67dc94d45259d7b42d5ea76e6a0": {
     "model_module": "@jupyter-widgets/controls",
     "model_name": "VBoxModel",
     "state": {
      "_dom_classes": [],
      "_model_module": "@jupyter-widgets/controls",
      "_model_module_version": "1.5.0",
      "_model_name": "VBoxModel",
      "_view_count": null,
      "_view_module": "@jupyter-widgets/controls",
      "_view_module_version": "1.5.0",
      "_view_name": "VBoxView",
      "box_style": "",
      "children": [
       "IPY_MODEL_5bf066b726c34563835a559b02dab33e",
       "IPY_MODEL_915ce17f676d4d8da25c467ce8a3eb14"
      ],
      "layout": "IPY_MODEL_753aa6820fa14a4bb103a8998d452ef9"
     }
    },
    "68b2f67a3b834742b8ae3cf349dc6477": {
     "model_module": "@jupyter-widgets/controls",
     "model_name": "LabelModel",
     "state": {
      "_dom_classes": [],
      "_model_module": "@jupyter-widgets/controls",
      "_model_module_version": "1.5.0",
      "_model_name": "LabelModel",
      "_view_count": null,
      "_view_module": "@jupyter-widgets/controls",
      "_view_module_version": "1.5.0",
      "_view_name": "LabelView",
      "description": "",
      "description_tooltip": null,
      "layout": "IPY_MODEL_a1930d86d19443e5ba38d24e8c25b61a",
      "placeholder": "​",
      "style": "IPY_MODEL_cd5de422266b4d6a8d06f4525469b7dd",
      "value": " 0.01MB of 0.01MB uploaded (0.00MB deduped)\r"
     }
    },
    "6c0768587e88493c8c6a4ac723c860f7": {
     "model_module": "@jupyter-widgets/base",
     "model_name": "LayoutModel",
     "state": {
      "_model_module": "@jupyter-widgets/base",
      "_model_module_version": "1.2.0",
      "_model_name": "LayoutModel",
      "_view_count": null,
      "_view_module": "@jupyter-widgets/base",
      "_view_module_version": "1.2.0",
      "_view_name": "LayoutView",
      "align_content": null,
      "align_items": null,
      "align_self": null,
      "border": null,
      "bottom": null,
      "display": null,
      "flex": null,
      "flex_flow": null,
      "grid_area": null,
      "grid_auto_columns": null,
      "grid_auto_flow": null,
      "grid_auto_rows": null,
      "grid_column": null,
      "grid_gap": null,
      "grid_row": null,
      "grid_template_areas": null,
      "grid_template_columns": null,
      "grid_template_rows": null,
      "height": null,
      "justify_content": null,
      "justify_items": null,
      "left": null,
      "margin": null,
      "max_height": null,
      "max_width": null,
      "min_height": null,
      "min_width": null,
      "object_fit": null,
      "object_position": null,
      "order": null,
      "overflow": null,
      "overflow_x": null,
      "overflow_y": null,
      "padding": null,
      "right": null,
      "top": null,
      "visibility": null,
      "width": null
     }
    },
    "6e9ea48fc6934c358a05d63473aa87fa": {
     "model_module": "@jupyter-widgets/controls",
     "model_name": "FloatProgressModel",
     "state": {
      "_dom_classes": [],
      "_model_module": "@jupyter-widgets/controls",
      "_model_module_version": "1.5.0",
      "_model_name": "FloatProgressModel",
      "_view_count": null,
      "_view_module": "@jupyter-widgets/controls",
      "_view_module_version": "1.5.0",
      "_view_name": "ProgressView",
      "bar_style": "",
      "description": "",
      "description_tooltip": null,
      "layout": "IPY_MODEL_6680093161a44be18c94319e02872815",
      "max": 1,
      "min": 0,
      "orientation": "horizontal",
      "style": "IPY_MODEL_1930996d40254504b7621f9262087e21",
      "value": 1
     }
    },
    "753aa6820fa14a4bb103a8998d452ef9": {
     "model_module": "@jupyter-widgets/base",
     "model_name": "LayoutModel",
     "state": {
      "_model_module": "@jupyter-widgets/base",
      "_model_module_version": "1.2.0",
      "_model_name": "LayoutModel",
      "_view_count": null,
      "_view_module": "@jupyter-widgets/base",
      "_view_module_version": "1.2.0",
      "_view_name": "LayoutView",
      "align_content": null,
      "align_items": null,
      "align_self": null,
      "border": null,
      "bottom": null,
      "display": null,
      "flex": null,
      "flex_flow": null,
      "grid_area": null,
      "grid_auto_columns": null,
      "grid_auto_flow": null,
      "grid_auto_rows": null,
      "grid_column": null,
      "grid_gap": null,
      "grid_row": null,
      "grid_template_areas": null,
      "grid_template_columns": null,
      "grid_template_rows": null,
      "height": null,
      "justify_content": null,
      "justify_items": null,
      "left": null,
      "margin": null,
      "max_height": null,
      "max_width": null,
      "min_height": null,
      "min_width": null,
      "object_fit": null,
      "object_position": null,
      "order": null,
      "overflow": null,
      "overflow_x": null,
      "overflow_y": null,
      "padding": null,
      "right": null,
      "top": null,
      "visibility": null,
      "width": null
     }
    },
    "75dd141725cb4f938b29ca3ad15dcc7a": {
     "model_module": "@jupyter-widgets/controls",
     "model_name": "DescriptionStyleModel",
     "state": {
      "_model_module": "@jupyter-widgets/controls",
      "_model_module_version": "1.5.0",
      "_model_name": "DescriptionStyleModel",
      "_view_count": null,
      "_view_module": "@jupyter-widgets/base",
      "_view_module_version": "1.2.0",
      "_view_name": "StyleView",
      "description_width": ""
     }
    },
    "7af52ee4e5484495a40214a8bc3a55a6": {
     "model_module": "@jupyter-widgets/controls",
     "model_name": "VBoxModel",
     "state": {
      "_dom_classes": [],
      "_model_module": "@jupyter-widgets/controls",
      "_model_module_version": "1.5.0",
      "_model_name": "VBoxModel",
      "_view_count": null,
      "_view_module": "@jupyter-widgets/controls",
      "_view_module_version": "1.5.0",
      "_view_name": "VBoxView",
      "box_style": "",
      "children": [
       "IPY_MODEL_f98a7aa146cb4c7482af02391b2b9c7b",
       "IPY_MODEL_92d64c2bee7a43b2a17045ea9f862756"
      ],
      "layout": "IPY_MODEL_973dad0d9a3f4ab2b9738e193e180a1b"
     }
    },
    "7ec36d4306a54acbbb84a1185c8d0892": {
     "model_module": "@jupyter-widgets/controls",
     "model_name": "ProgressStyleModel",
     "state": {
      "_model_module": "@jupyter-widgets/controls",
      "_model_module_version": "1.5.0",
      "_model_name": "ProgressStyleModel",
      "_view_count": null,
      "_view_module": "@jupyter-widgets/base",
      "_view_module_version": "1.2.0",
      "_view_name": "StyleView",
      "bar_color": null,
      "description_width": ""
     }
    },
    "7f7739f1d7334b3cb8f7517ac286bb40": {
     "model_module": "@jupyter-widgets/controls",
     "model_name": "LabelModel",
     "state": {
      "_dom_classes": [],
      "_model_module": "@jupyter-widgets/controls",
      "_model_module_version": "1.5.0",
      "_model_name": "LabelModel",
      "_view_count": null,
      "_view_module": "@jupyter-widgets/controls",
      "_view_module_version": "1.5.0",
      "_view_name": "LabelView",
      "description": "",
      "description_tooltip": null,
      "layout": "IPY_MODEL_aca188468e2d49f7912e8d842fc72c6c",
      "placeholder": "​",
      "style": "IPY_MODEL_01a2533acf9f43ad988ff1aec275e9d9",
      "value": " 0.01MB of 0.01MB uploaded (0.00MB deduped)\r"
     }
    },
    "807e9b816fa34a46ac60a1791d215553": {
     "model_module": "@jupyter-widgets/controls",
     "model_name": "DescriptionStyleModel",
     "state": {
      "_model_module": "@jupyter-widgets/controls",
      "_model_module_version": "1.5.0",
      "_model_name": "DescriptionStyleModel",
      "_view_count": null,
      "_view_module": "@jupyter-widgets/base",
      "_view_module_version": "1.2.0",
      "_view_name": "StyleView",
      "description_width": ""
     }
    },
    "8846b750ef134ff996ab48966819ec05": {
     "model_module": "@jupyter-widgets/base",
     "model_name": "LayoutModel",
     "state": {
      "_model_module": "@jupyter-widgets/base",
      "_model_module_version": "1.2.0",
      "_model_name": "LayoutModel",
      "_view_count": null,
      "_view_module": "@jupyter-widgets/base",
      "_view_module_version": "1.2.0",
      "_view_name": "LayoutView",
      "align_content": null,
      "align_items": null,
      "align_self": null,
      "border": null,
      "bottom": null,
      "display": null,
      "flex": null,
      "flex_flow": null,
      "grid_area": null,
      "grid_auto_columns": null,
      "grid_auto_flow": null,
      "grid_auto_rows": null,
      "grid_column": null,
      "grid_gap": null,
      "grid_row": null,
      "grid_template_areas": null,
      "grid_template_columns": null,
      "grid_template_rows": null,
      "height": null,
      "justify_content": null,
      "justify_items": null,
      "left": null,
      "margin": null,
      "max_height": null,
      "max_width": null,
      "min_height": null,
      "min_width": null,
      "object_fit": null,
      "object_position": null,
      "order": null,
      "overflow": null,
      "overflow_x": null,
      "overflow_y": null,
      "padding": null,
      "right": null,
      "top": null,
      "visibility": null,
      "width": null
     }
    },
    "8c8220c2f55c49e589d91a1194c91872": {
     "model_module": "@jupyter-widgets/controls",
     "model_name": "FloatProgressModel",
     "state": {
      "_dom_classes": [],
      "_model_module": "@jupyter-widgets/controls",
      "_model_module_version": "1.5.0",
      "_model_name": "FloatProgressModel",
      "_view_count": null,
      "_view_module": "@jupyter-widgets/controls",
      "_view_module_version": "1.5.0",
      "_view_name": "ProgressView",
      "bar_style": "",
      "description": "",
      "description_tooltip": null,
      "layout": "IPY_MODEL_426f79d56b4142dd903256e2e69b0911",
      "max": 1,
      "min": 0,
      "orientation": "horizontal",
      "style": "IPY_MODEL_1aa29ffc87f8454f970237df28e2f172",
      "value": 1
     }
    },
    "915ce17f676d4d8da25c467ce8a3eb14": {
     "model_module": "@jupyter-widgets/controls",
     "model_name": "FloatProgressModel",
     "state": {
      "_dom_classes": [],
      "_model_module": "@jupyter-widgets/controls",
      "_model_module_version": "1.5.0",
      "_model_name": "FloatProgressModel",
      "_view_count": null,
      "_view_module": "@jupyter-widgets/controls",
      "_view_module_version": "1.5.0",
      "_view_name": "ProgressView",
      "bar_style": "",
      "description": "",
      "description_tooltip": null,
      "layout": "IPY_MODEL_8846b750ef134ff996ab48966819ec05",
      "max": 1,
      "min": 0,
      "orientation": "horizontal",
      "style": "IPY_MODEL_21b1c66b4ec947fab1cdd41af643a903",
      "value": 1
     }
    },
    "91a2276e937b41998755c6cde1f51c93": {
     "model_module": "@jupyter-widgets/base",
     "model_name": "LayoutModel",
     "state": {
      "_model_module": "@jupyter-widgets/base",
      "_model_module_version": "1.2.0",
      "_model_name": "LayoutModel",
      "_view_count": null,
      "_view_module": "@jupyter-widgets/base",
      "_view_module_version": "1.2.0",
      "_view_name": "LayoutView",
      "align_content": null,
      "align_items": null,
      "align_self": null,
      "border": null,
      "bottom": null,
      "display": null,
      "flex": null,
      "flex_flow": null,
      "grid_area": null,
      "grid_auto_columns": null,
      "grid_auto_flow": null,
      "grid_auto_rows": null,
      "grid_column": null,
      "grid_gap": null,
      "grid_row": null,
      "grid_template_areas": null,
      "grid_template_columns": null,
      "grid_template_rows": null,
      "height": null,
      "justify_content": null,
      "justify_items": null,
      "left": null,
      "margin": null,
      "max_height": null,
      "max_width": null,
      "min_height": null,
      "min_width": null,
      "object_fit": null,
      "object_position": null,
      "order": null,
      "overflow": null,
      "overflow_x": null,
      "overflow_y": null,
      "padding": null,
      "right": null,
      "top": null,
      "visibility": null,
      "width": null
     }
    },
    "92d64c2bee7a43b2a17045ea9f862756": {
     "model_module": "@jupyter-widgets/controls",
     "model_name": "FloatProgressModel",
     "state": {
      "_dom_classes": [],
      "_model_module": "@jupyter-widgets/controls",
      "_model_module_version": "1.5.0",
      "_model_name": "FloatProgressModel",
      "_view_count": null,
      "_view_module": "@jupyter-widgets/controls",
      "_view_module_version": "1.5.0",
      "_view_name": "ProgressView",
      "bar_style": "",
      "description": "",
      "description_tooltip": null,
      "layout": "IPY_MODEL_91a2276e937b41998755c6cde1f51c93",
      "max": 1,
      "min": 0,
      "orientation": "horizontal",
      "style": "IPY_MODEL_5f912130827d49d1b57e99316c4ad2b8",
      "value": 1
     }
    },
    "94b0b6061ab443419e9690b2365051cc": {
     "model_module": "@jupyter-widgets/controls",
     "model_name": "LabelModel",
     "state": {
      "_dom_classes": [],
      "_model_module": "@jupyter-widgets/controls",
      "_model_module_version": "1.5.0",
      "_model_name": "LabelModel",
      "_view_count": null,
      "_view_module": "@jupyter-widgets/controls",
      "_view_module_version": "1.5.0",
      "_view_name": "LabelView",
      "description": "",
      "description_tooltip": null,
      "layout": "IPY_MODEL_dd85eb3e47054a3fbd32e9ed59a0bc10",
      "placeholder": "​",
      "style": "IPY_MODEL_41fcc552bc21480f8207ca2aa55fffda",
      "value": " 0.01MB of 0.01MB uploaded (0.00MB deduped)\r"
     }
    },
    "9630b70210334313afe4434bf1efb942": {
     "model_module": "@jupyter-widgets/controls",
     "model_name": "ProgressStyleModel",
     "state": {
      "_model_module": "@jupyter-widgets/controls",
      "_model_module_version": "1.5.0",
      "_model_name": "ProgressStyleModel",
      "_view_count": null,
      "_view_module": "@jupyter-widgets/base",
      "_view_module_version": "1.2.0",
      "_view_name": "StyleView",
      "bar_color": null,
      "description_width": ""
     }
    },
    "973dad0d9a3f4ab2b9738e193e180a1b": {
     "model_module": "@jupyter-widgets/base",
     "model_name": "LayoutModel",
     "state": {
      "_model_module": "@jupyter-widgets/base",
      "_model_module_version": "1.2.0",
      "_model_name": "LayoutModel",
      "_view_count": null,
      "_view_module": "@jupyter-widgets/base",
      "_view_module_version": "1.2.0",
      "_view_name": "LayoutView",
      "align_content": null,
      "align_items": null,
      "align_self": null,
      "border": null,
      "bottom": null,
      "display": null,
      "flex": null,
      "flex_flow": null,
      "grid_area": null,
      "grid_auto_columns": null,
      "grid_auto_flow": null,
      "grid_auto_rows": null,
      "grid_column": null,
      "grid_gap": null,
      "grid_row": null,
      "grid_template_areas": null,
      "grid_template_columns": null,
      "grid_template_rows": null,
      "height": null,
      "justify_content": null,
      "justify_items": null,
      "left": null,
      "margin": null,
      "max_height": null,
      "max_width": null,
      "min_height": null,
      "min_width": null,
      "object_fit": null,
      "object_position": null,
      "order": null,
      "overflow": null,
      "overflow_x": null,
      "overflow_y": null,
      "padding": null,
      "right": null,
      "top": null,
      "visibility": null,
      "width": null
     }
    },
    "98df6a93ab0e428a97d02810d99f9a1f": {
     "model_module": "@jupyter-widgets/base",
     "model_name": "LayoutModel",
     "state": {
      "_model_module": "@jupyter-widgets/base",
      "_model_module_version": "1.2.0",
      "_model_name": "LayoutModel",
      "_view_count": null,
      "_view_module": "@jupyter-widgets/base",
      "_view_module_version": "1.2.0",
      "_view_name": "LayoutView",
      "align_content": null,
      "align_items": null,
      "align_self": null,
      "border": null,
      "bottom": null,
      "display": null,
      "flex": null,
      "flex_flow": null,
      "grid_area": null,
      "grid_auto_columns": null,
      "grid_auto_flow": null,
      "grid_auto_rows": null,
      "grid_column": null,
      "grid_gap": null,
      "grid_row": null,
      "grid_template_areas": null,
      "grid_template_columns": null,
      "grid_template_rows": null,
      "height": null,
      "justify_content": null,
      "justify_items": null,
      "left": null,
      "margin": null,
      "max_height": null,
      "max_width": null,
      "min_height": null,
      "min_width": null,
      "object_fit": null,
      "object_position": null,
      "order": null,
      "overflow": null,
      "overflow_x": null,
      "overflow_y": null,
      "padding": null,
      "right": null,
      "top": null,
      "visibility": null,
      "width": null
     }
    },
    "9f04acd0c63945c0b2ca13e47c211918": {
     "model_module": "@jupyter-widgets/controls",
     "model_name": "ProgressStyleModel",
     "state": {
      "_model_module": "@jupyter-widgets/controls",
      "_model_module_version": "1.5.0",
      "_model_name": "ProgressStyleModel",
      "_view_count": null,
      "_view_module": "@jupyter-widgets/base",
      "_view_module_version": "1.2.0",
      "_view_name": "StyleView",
      "bar_color": null,
      "description_width": ""
     }
    },
    "a11eb3ffc5324e77a6b3c7f60eb34c3f": {
     "model_module": "@jupyter-widgets/controls",
     "model_name": "LabelModel",
     "state": {
      "_dom_classes": [],
      "_model_module": "@jupyter-widgets/controls",
      "_model_module_version": "1.5.0",
      "_model_name": "LabelModel",
      "_view_count": null,
      "_view_module": "@jupyter-widgets/controls",
      "_view_module_version": "1.5.0",
      "_view_name": "LabelView",
      "description": "",
      "description_tooltip": null,
      "layout": "IPY_MODEL_d07273afe3f7424cbf413a4c963be670",
      "placeholder": "​",
      "style": "IPY_MODEL_65bdc04c89114891acc1c4ffaa630a31",
      "value": " 0.01MB of 0.01MB uploaded (0.00MB deduped)\r"
     }
    },
    "a1930d86d19443e5ba38d24e8c25b61a": {
     "model_module": "@jupyter-widgets/base",
     "model_name": "LayoutModel",
     "state": {
      "_model_module": "@jupyter-widgets/base",
      "_model_module_version": "1.2.0",
      "_model_name": "LayoutModel",
      "_view_count": null,
      "_view_module": "@jupyter-widgets/base",
      "_view_module_version": "1.2.0",
      "_view_name": "LayoutView",
      "align_content": null,
      "align_items": null,
      "align_self": null,
      "border": null,
      "bottom": null,
      "display": null,
      "flex": null,
      "flex_flow": null,
      "grid_area": null,
      "grid_auto_columns": null,
      "grid_auto_flow": null,
      "grid_auto_rows": null,
      "grid_column": null,
      "grid_gap": null,
      "grid_row": null,
      "grid_template_areas": null,
      "grid_template_columns": null,
      "grid_template_rows": null,
      "height": null,
      "justify_content": null,
      "justify_items": null,
      "left": null,
      "margin": null,
      "max_height": null,
      "max_width": null,
      "min_height": null,
      "min_width": null,
      "object_fit": null,
      "object_position": null,
      "order": null,
      "overflow": null,
      "overflow_x": null,
      "overflow_y": null,
      "padding": null,
      "right": null,
      "top": null,
      "visibility": null,
      "width": null
     }
    },
    "aa44829fca984811b0c45a0ebd3ff44a": {
     "model_module": "@jupyter-widgets/controls",
     "model_name": "VBoxModel",
     "state": {
      "_dom_classes": [],
      "_model_module": "@jupyter-widgets/controls",
      "_model_module_version": "1.5.0",
      "_model_name": "VBoxModel",
      "_view_count": null,
      "_view_module": "@jupyter-widgets/controls",
      "_view_module_version": "1.5.0",
      "_view_name": "VBoxView",
      "box_style": "",
      "children": [
       "IPY_MODEL_94b0b6061ab443419e9690b2365051cc",
       "IPY_MODEL_8c8220c2f55c49e589d91a1194c91872"
      ],
      "layout": "IPY_MODEL_4e78987ea1544a1ebff3478a2afd359b"
     }
    },
    "ab9f8b9f6641423b98d7a66e0fdbff06": {
     "model_module": "@jupyter-widgets/controls",
     "model_name": "ProgressStyleModel",
     "state": {
      "_model_module": "@jupyter-widgets/controls",
      "_model_module_version": "1.5.0",
      "_model_name": "ProgressStyleModel",
      "_view_count": null,
      "_view_module": "@jupyter-widgets/base",
      "_view_module_version": "1.2.0",
      "_view_name": "StyleView",
      "bar_color": null,
      "description_width": ""
     }
    },
    "ac280bafabca4fbb8a913a30f4fd4d46": {
     "model_module": "@jupyter-widgets/controls",
     "model_name": "LabelModel",
     "state": {
      "_dom_classes": [],
      "_model_module": "@jupyter-widgets/controls",
      "_model_module_version": "1.5.0",
      "_model_name": "LabelModel",
      "_view_count": null,
      "_view_module": "@jupyter-widgets/controls",
      "_view_module_version": "1.5.0",
      "_view_name": "LabelView",
      "description": "",
      "description_tooltip": null,
      "layout": "IPY_MODEL_3da850a7cb0a4fc39e2fa133f1cef1c0",
      "placeholder": "​",
      "style": "IPY_MODEL_4ffe57269e02444083a9bcf14f8e7e43",
      "value": " 0.01MB of 0.01MB uploaded (0.00MB deduped)\r"
     }
    },
    "aca188468e2d49f7912e8d842fc72c6c": {
     "model_module": "@jupyter-widgets/base",
     "model_name": "LayoutModel",
     "state": {
      "_model_module": "@jupyter-widgets/base",
      "_model_module_version": "1.2.0",
      "_model_name": "LayoutModel",
      "_view_count": null,
      "_view_module": "@jupyter-widgets/base",
      "_view_module_version": "1.2.0",
      "_view_name": "LayoutView",
      "align_content": null,
      "align_items": null,
      "align_self": null,
      "border": null,
      "bottom": null,
      "display": null,
      "flex": null,
      "flex_flow": null,
      "grid_area": null,
      "grid_auto_columns": null,
      "grid_auto_flow": null,
      "grid_auto_rows": null,
      "grid_column": null,
      "grid_gap": null,
      "grid_row": null,
      "grid_template_areas": null,
      "grid_template_columns": null,
      "grid_template_rows": null,
      "height": null,
      "justify_content": null,
      "justify_items": null,
      "left": null,
      "margin": null,
      "max_height": null,
      "max_width": null,
      "min_height": null,
      "min_width": null,
      "object_fit": null,
      "object_position": null,
      "order": null,
      "overflow": null,
      "overflow_x": null,
      "overflow_y": null,
      "padding": null,
      "right": null,
      "top": null,
      "visibility": null,
      "width": null
     }
    },
    "acb4214b7c8548fc9019d4c6caf09589": {
     "model_module": "@jupyter-widgets/controls",
     "model_name": "DescriptionStyleModel",
     "state": {
      "_model_module": "@jupyter-widgets/controls",
      "_model_module_version": "1.5.0",
      "_model_name": "DescriptionStyleModel",
      "_view_count": null,
      "_view_module": "@jupyter-widgets/base",
      "_view_module_version": "1.2.0",
      "_view_name": "StyleView",
      "description_width": ""
     }
    },
    "ae14992e700348db95c75fc6cd3a4191": {
     "model_module": "@jupyter-widgets/controls",
     "model_name": "ProgressStyleModel",
     "state": {
      "_model_module": "@jupyter-widgets/controls",
      "_model_module_version": "1.5.0",
      "_model_name": "ProgressStyleModel",
      "_view_count": null,
      "_view_module": "@jupyter-widgets/base",
      "_view_module_version": "1.2.0",
      "_view_name": "StyleView",
      "bar_color": null,
      "description_width": ""
     }
    },
    "b8effde5220a4e3c9687d27a4af05717": {
     "model_module": "@jupyter-widgets/controls",
     "model_name": "LabelModel",
     "state": {
      "_dom_classes": [],
      "_model_module": "@jupyter-widgets/controls",
      "_model_module_version": "1.5.0",
      "_model_name": "LabelModel",
      "_view_count": null,
      "_view_module": "@jupyter-widgets/controls",
      "_view_module_version": "1.5.0",
      "_view_name": "LabelView",
      "description": "",
      "description_tooltip": null,
      "layout": "IPY_MODEL_98df6a93ab0e428a97d02810d99f9a1f",
      "placeholder": "​",
      "style": "IPY_MODEL_acb4214b7c8548fc9019d4c6caf09589",
      "value": " 0.01MB of 0.01MB uploaded (0.00MB deduped)\r"
     }
    },
    "bbd960d143f8462aaa8e338cd2ec5a9c": {
     "model_module": "@jupyter-widgets/controls",
     "model_name": "ProgressStyleModel",
     "state": {
      "_model_module": "@jupyter-widgets/controls",
      "_model_module_version": "1.5.0",
      "_model_name": "ProgressStyleModel",
      "_view_count": null,
      "_view_module": "@jupyter-widgets/base",
      "_view_module_version": "1.2.0",
      "_view_name": "StyleView",
      "bar_color": null,
      "description_width": ""
     }
    },
    "bc6d21baa39f43c79c06cb98a50cc4ad": {
     "model_module": "@jupyter-widgets/base",
     "model_name": "LayoutModel",
     "state": {
      "_model_module": "@jupyter-widgets/base",
      "_model_module_version": "1.2.0",
      "_model_name": "LayoutModel",
      "_view_count": null,
      "_view_module": "@jupyter-widgets/base",
      "_view_module_version": "1.2.0",
      "_view_name": "LayoutView",
      "align_content": null,
      "align_items": null,
      "align_self": null,
      "border": null,
      "bottom": null,
      "display": null,
      "flex": null,
      "flex_flow": null,
      "grid_area": null,
      "grid_auto_columns": null,
      "grid_auto_flow": null,
      "grid_auto_rows": null,
      "grid_column": null,
      "grid_gap": null,
      "grid_row": null,
      "grid_template_areas": null,
      "grid_template_columns": null,
      "grid_template_rows": null,
      "height": null,
      "justify_content": null,
      "justify_items": null,
      "left": null,
      "margin": null,
      "max_height": null,
      "max_width": null,
      "min_height": null,
      "min_width": null,
      "object_fit": null,
      "object_position": null,
      "order": null,
      "overflow": null,
      "overflow_x": null,
      "overflow_y": null,
      "padding": null,
      "right": null,
      "top": null,
      "visibility": null,
      "width": null
     }
    },
    "c295e7ed83584268a23a90201475459a": {
     "model_module": "@jupyter-widgets/base",
     "model_name": "LayoutModel",
     "state": {
      "_model_module": "@jupyter-widgets/base",
      "_model_module_version": "1.2.0",
      "_model_name": "LayoutModel",
      "_view_count": null,
      "_view_module": "@jupyter-widgets/base",
      "_view_module_version": "1.2.0",
      "_view_name": "LayoutView",
      "align_content": null,
      "align_items": null,
      "align_self": null,
      "border": null,
      "bottom": null,
      "display": null,
      "flex": null,
      "flex_flow": null,
      "grid_area": null,
      "grid_auto_columns": null,
      "grid_auto_flow": null,
      "grid_auto_rows": null,
      "grid_column": null,
      "grid_gap": null,
      "grid_row": null,
      "grid_template_areas": null,
      "grid_template_columns": null,
      "grid_template_rows": null,
      "height": null,
      "justify_content": null,
      "justify_items": null,
      "left": null,
      "margin": null,
      "max_height": null,
      "max_width": null,
      "min_height": null,
      "min_width": null,
      "object_fit": null,
      "object_position": null,
      "order": null,
      "overflow": null,
      "overflow_x": null,
      "overflow_y": null,
      "padding": null,
      "right": null,
      "top": null,
      "visibility": null,
      "width": null
     }
    },
    "c49befa67f3b46ba9c5cb7e0cb30222e": {
     "model_module": "@jupyter-widgets/base",
     "model_name": "LayoutModel",
     "state": {
      "_model_module": "@jupyter-widgets/base",
      "_model_module_version": "1.2.0",
      "_model_name": "LayoutModel",
      "_view_count": null,
      "_view_module": "@jupyter-widgets/base",
      "_view_module_version": "1.2.0",
      "_view_name": "LayoutView",
      "align_content": null,
      "align_items": null,
      "align_self": null,
      "border": null,
      "bottom": null,
      "display": null,
      "flex": null,
      "flex_flow": null,
      "grid_area": null,
      "grid_auto_columns": null,
      "grid_auto_flow": null,
      "grid_auto_rows": null,
      "grid_column": null,
      "grid_gap": null,
      "grid_row": null,
      "grid_template_areas": null,
      "grid_template_columns": null,
      "grid_template_rows": null,
      "height": null,
      "justify_content": null,
      "justify_items": null,
      "left": null,
      "margin": null,
      "max_height": null,
      "max_width": null,
      "min_height": null,
      "min_width": null,
      "object_fit": null,
      "object_position": null,
      "order": null,
      "overflow": null,
      "overflow_x": null,
      "overflow_y": null,
      "padding": null,
      "right": null,
      "top": null,
      "visibility": null,
      "width": null
     }
    },
    "c81189165d2849eca357e3720d6f13e2": {
     "model_module": "@jupyter-widgets/base",
     "model_name": "LayoutModel",
     "state": {
      "_model_module": "@jupyter-widgets/base",
      "_model_module_version": "1.2.0",
      "_model_name": "LayoutModel",
      "_view_count": null,
      "_view_module": "@jupyter-widgets/base",
      "_view_module_version": "1.2.0",
      "_view_name": "LayoutView",
      "align_content": null,
      "align_items": null,
      "align_self": null,
      "border": null,
      "bottom": null,
      "display": null,
      "flex": null,
      "flex_flow": null,
      "grid_area": null,
      "grid_auto_columns": null,
      "grid_auto_flow": null,
      "grid_auto_rows": null,
      "grid_column": null,
      "grid_gap": null,
      "grid_row": null,
      "grid_template_areas": null,
      "grid_template_columns": null,
      "grid_template_rows": null,
      "height": null,
      "justify_content": null,
      "justify_items": null,
      "left": null,
      "margin": null,
      "max_height": null,
      "max_width": null,
      "min_height": null,
      "min_width": null,
      "object_fit": null,
      "object_position": null,
      "order": null,
      "overflow": null,
      "overflow_x": null,
      "overflow_y": null,
      "padding": null,
      "right": null,
      "top": null,
      "visibility": null,
      "width": null
     }
    },
    "c9d54cc58bee40a98e7843fd90ef4746": {
     "model_module": "@jupyter-widgets/controls",
     "model_name": "ProgressStyleModel",
     "state": {
      "_model_module": "@jupyter-widgets/controls",
      "_model_module_version": "1.5.0",
      "_model_name": "ProgressStyleModel",
      "_view_count": null,
      "_view_module": "@jupyter-widgets/base",
      "_view_module_version": "1.2.0",
      "_view_name": "StyleView",
      "bar_color": null,
      "description_width": ""
     }
    },
    "cc0cc9e9e7864cf8b38100e11687e9d1": {
     "model_module": "@jupyter-widgets/base",
     "model_name": "LayoutModel",
     "state": {
      "_model_module": "@jupyter-widgets/base",
      "_model_module_version": "1.2.0",
      "_model_name": "LayoutModel",
      "_view_count": null,
      "_view_module": "@jupyter-widgets/base",
      "_view_module_version": "1.2.0",
      "_view_name": "LayoutView",
      "align_content": null,
      "align_items": null,
      "align_self": null,
      "border": null,
      "bottom": null,
      "display": null,
      "flex": null,
      "flex_flow": null,
      "grid_area": null,
      "grid_auto_columns": null,
      "grid_auto_flow": null,
      "grid_auto_rows": null,
      "grid_column": null,
      "grid_gap": null,
      "grid_row": null,
      "grid_template_areas": null,
      "grid_template_columns": null,
      "grid_template_rows": null,
      "height": null,
      "justify_content": null,
      "justify_items": null,
      "left": null,
      "margin": null,
      "max_height": null,
      "max_width": null,
      "min_height": null,
      "min_width": null,
      "object_fit": null,
      "object_position": null,
      "order": null,
      "overflow": null,
      "overflow_x": null,
      "overflow_y": null,
      "padding": null,
      "right": null,
      "top": null,
      "visibility": null,
      "width": null
     }
    },
    "cd5de422266b4d6a8d06f4525469b7dd": {
     "model_module": "@jupyter-widgets/controls",
     "model_name": "DescriptionStyleModel",
     "state": {
      "_model_module": "@jupyter-widgets/controls",
      "_model_module_version": "1.5.0",
      "_model_name": "DescriptionStyleModel",
      "_view_count": null,
      "_view_module": "@jupyter-widgets/base",
      "_view_module_version": "1.2.0",
      "_view_name": "StyleView",
      "description_width": ""
     }
    },
    "cd8e94846b594e0f90c4ef3ada411e86": {
     "model_module": "@jupyter-widgets/controls",
     "model_name": "FloatProgressModel",
     "state": {
      "_dom_classes": [],
      "_model_module": "@jupyter-widgets/controls",
      "_model_module_version": "1.5.0",
      "_model_name": "FloatProgressModel",
      "_view_count": null,
      "_view_module": "@jupyter-widgets/controls",
      "_view_module_version": "1.5.0",
      "_view_name": "ProgressView",
      "bar_style": "",
      "description": "",
      "description_tooltip": null,
      "layout": "IPY_MODEL_c295e7ed83584268a23a90201475459a",
      "max": 1,
      "min": 0,
      "orientation": "horizontal",
      "style": "IPY_MODEL_ae14992e700348db95c75fc6cd3a4191",
      "value": 1
     }
    },
    "ce096939a21046f98b4f995645e64a92": {
     "model_module": "@jupyter-widgets/base",
     "model_name": "LayoutModel",
     "state": {
      "_model_module": "@jupyter-widgets/base",
      "_model_module_version": "1.2.0",
      "_model_name": "LayoutModel",
      "_view_count": null,
      "_view_module": "@jupyter-widgets/base",
      "_view_module_version": "1.2.0",
      "_view_name": "LayoutView",
      "align_content": null,
      "align_items": null,
      "align_self": null,
      "border": null,
      "bottom": null,
      "display": null,
      "flex": null,
      "flex_flow": null,
      "grid_area": null,
      "grid_auto_columns": null,
      "grid_auto_flow": null,
      "grid_auto_rows": null,
      "grid_column": null,
      "grid_gap": null,
      "grid_row": null,
      "grid_template_areas": null,
      "grid_template_columns": null,
      "grid_template_rows": null,
      "height": null,
      "justify_content": null,
      "justify_items": null,
      "left": null,
      "margin": null,
      "max_height": null,
      "max_width": null,
      "min_height": null,
      "min_width": null,
      "object_fit": null,
      "object_position": null,
      "order": null,
      "overflow": null,
      "overflow_x": null,
      "overflow_y": null,
      "padding": null,
      "right": null,
      "top": null,
      "visibility": null,
      "width": null
     }
    },
    "d07273afe3f7424cbf413a4c963be670": {
     "model_module": "@jupyter-widgets/base",
     "model_name": "LayoutModel",
     "state": {
      "_model_module": "@jupyter-widgets/base",
      "_model_module_version": "1.2.0",
      "_model_name": "LayoutModel",
      "_view_count": null,
      "_view_module": "@jupyter-widgets/base",
      "_view_module_version": "1.2.0",
      "_view_name": "LayoutView",
      "align_content": null,
      "align_items": null,
      "align_self": null,
      "border": null,
      "bottom": null,
      "display": null,
      "flex": null,
      "flex_flow": null,
      "grid_area": null,
      "grid_auto_columns": null,
      "grid_auto_flow": null,
      "grid_auto_rows": null,
      "grid_column": null,
      "grid_gap": null,
      "grid_row": null,
      "grid_template_areas": null,
      "grid_template_columns": null,
      "grid_template_rows": null,
      "height": null,
      "justify_content": null,
      "justify_items": null,
      "left": null,
      "margin": null,
      "max_height": null,
      "max_width": null,
      "min_height": null,
      "min_width": null,
      "object_fit": null,
      "object_position": null,
      "order": null,
      "overflow": null,
      "overflow_x": null,
      "overflow_y": null,
      "padding": null,
      "right": null,
      "top": null,
      "visibility": null,
      "width": null
     }
    },
    "d24cfbed7f044a4f852b230c613398d9": {
     "model_module": "@jupyter-widgets/controls",
     "model_name": "FloatProgressModel",
     "state": {
      "_dom_classes": [],
      "_model_module": "@jupyter-widgets/controls",
      "_model_module_version": "1.5.0",
      "_model_name": "FloatProgressModel",
      "_view_count": null,
      "_view_module": "@jupyter-widgets/controls",
      "_view_module_version": "1.5.0",
      "_view_name": "ProgressView",
      "bar_style": "",
      "description": "",
      "description_tooltip": null,
      "layout": "IPY_MODEL_bc6d21baa39f43c79c06cb98a50cc4ad",
      "max": 1,
      "min": 0,
      "orientation": "horizontal",
      "style": "IPY_MODEL_9630b70210334313afe4434bf1efb942",
      "value": 1
     }
    },
    "d2c10eb28b274892831038cdb215d2b2": {
     "model_module": "@jupyter-widgets/base",
     "model_name": "LayoutModel",
     "state": {
      "_model_module": "@jupyter-widgets/base",
      "_model_module_version": "1.2.0",
      "_model_name": "LayoutModel",
      "_view_count": null,
      "_view_module": "@jupyter-widgets/base",
      "_view_module_version": "1.2.0",
      "_view_name": "LayoutView",
      "align_content": null,
      "align_items": null,
      "align_self": null,
      "border": null,
      "bottom": null,
      "display": null,
      "flex": null,
      "flex_flow": null,
      "grid_area": null,
      "grid_auto_columns": null,
      "grid_auto_flow": null,
      "grid_auto_rows": null,
      "grid_column": null,
      "grid_gap": null,
      "grid_row": null,
      "grid_template_areas": null,
      "grid_template_columns": null,
      "grid_template_rows": null,
      "height": null,
      "justify_content": null,
      "justify_items": null,
      "left": null,
      "margin": null,
      "max_height": null,
      "max_width": null,
      "min_height": null,
      "min_width": null,
      "object_fit": null,
      "object_position": null,
      "order": null,
      "overflow": null,
      "overflow_x": null,
      "overflow_y": null,
      "padding": null,
      "right": null,
      "top": null,
      "visibility": null,
      "width": null
     }
    },
    "d7713131b5f0488db1e2c7ae3a978697": {
     "model_module": "@jupyter-widgets/controls",
     "model_name": "VBoxModel",
     "state": {
      "_dom_classes": [],
      "_model_module": "@jupyter-widgets/controls",
      "_model_module_version": "1.5.0",
      "_model_name": "VBoxModel",
      "_view_count": null,
      "_view_module": "@jupyter-widgets/controls",
      "_view_module_version": "1.5.0",
      "_view_name": "VBoxView",
      "box_style": "",
      "children": [
       "IPY_MODEL_ac280bafabca4fbb8a913a30f4fd4d46",
       "IPY_MODEL_d24cfbed7f044a4f852b230c613398d9"
      ],
      "layout": "IPY_MODEL_c81189165d2849eca357e3720d6f13e2"
     }
    },
    "dd85eb3e47054a3fbd32e9ed59a0bc10": {
     "model_module": "@jupyter-widgets/base",
     "model_name": "LayoutModel",
     "state": {
      "_model_module": "@jupyter-widgets/base",
      "_model_module_version": "1.2.0",
      "_model_name": "LayoutModel",
      "_view_count": null,
      "_view_module": "@jupyter-widgets/base",
      "_view_module_version": "1.2.0",
      "_view_name": "LayoutView",
      "align_content": null,
      "align_items": null,
      "align_self": null,
      "border": null,
      "bottom": null,
      "display": null,
      "flex": null,
      "flex_flow": null,
      "grid_area": null,
      "grid_auto_columns": null,
      "grid_auto_flow": null,
      "grid_auto_rows": null,
      "grid_column": null,
      "grid_gap": null,
      "grid_row": null,
      "grid_template_areas": null,
      "grid_template_columns": null,
      "grid_template_rows": null,
      "height": null,
      "justify_content": null,
      "justify_items": null,
      "left": null,
      "margin": null,
      "max_height": null,
      "max_width": null,
      "min_height": null,
      "min_width": null,
      "object_fit": null,
      "object_position": null,
      "order": null,
      "overflow": null,
      "overflow_x": null,
      "overflow_y": null,
      "padding": null,
      "right": null,
      "top": null,
      "visibility": null,
      "width": null
     }
    },
    "e1d7a1f2f79d42a28f0b8429d792d84d": {
     "model_module": "@jupyter-widgets/controls",
     "model_name": "FloatProgressModel",
     "state": {
      "_dom_classes": [],
      "_model_module": "@jupyter-widgets/controls",
      "_model_module_version": "1.5.0",
      "_model_name": "FloatProgressModel",
      "_view_count": null,
      "_view_module": "@jupyter-widgets/controls",
      "_view_module_version": "1.5.0",
      "_view_name": "ProgressView",
      "bar_style": "",
      "description": "",
      "description_tooltip": null,
      "layout": "IPY_MODEL_ee341f5e65a740ea9effc2d9b17f230c",
      "max": 1,
      "min": 0,
      "orientation": "horizontal",
      "style": "IPY_MODEL_bbd960d143f8462aaa8e338cd2ec5a9c",
      "value": 1
     }
    },
    "e4e5d4f4bb5b40caa631669c3bcf2d47": {
     "model_module": "@jupyter-widgets/controls",
     "model_name": "ProgressStyleModel",
     "state": {
      "_model_module": "@jupyter-widgets/controls",
      "_model_module_version": "1.5.0",
      "_model_name": "ProgressStyleModel",
      "_view_count": null,
      "_view_module": "@jupyter-widgets/base",
      "_view_module_version": "1.2.0",
      "_view_name": "StyleView",
      "bar_color": null,
      "description_width": ""
     }
    },
    "e8aee72d14264ec28e94a54f11753f9d": {
     "model_module": "@jupyter-widgets/controls",
     "model_name": "LabelModel",
     "state": {
      "_dom_classes": [],
      "_model_module": "@jupyter-widgets/controls",
      "_model_module_version": "1.5.0",
      "_model_name": "LabelModel",
      "_view_count": null,
      "_view_module": "@jupyter-widgets/controls",
      "_view_module_version": "1.5.0",
      "_view_name": "LabelView",
      "description": "",
      "description_tooltip": null,
      "layout": "IPY_MODEL_3f134181952144a38bfe737f7bd2a0fd",
      "placeholder": "​",
      "style": "IPY_MODEL_0f5c4202a8674442bb50b9a22d5f3625",
      "value": " 0.01MB of 0.01MB uploaded (0.00MB deduped)\r"
     }
    },
    "ee341f5e65a740ea9effc2d9b17f230c": {
     "model_module": "@jupyter-widgets/base",
     "model_name": "LayoutModel",
     "state": {
      "_model_module": "@jupyter-widgets/base",
      "_model_module_version": "1.2.0",
      "_model_name": "LayoutModel",
      "_view_count": null,
      "_view_module": "@jupyter-widgets/base",
      "_view_module_version": "1.2.0",
      "_view_name": "LayoutView",
      "align_content": null,
      "align_items": null,
      "align_self": null,
      "border": null,
      "bottom": null,
      "display": null,
      "flex": null,
      "flex_flow": null,
      "grid_area": null,
      "grid_auto_columns": null,
      "grid_auto_flow": null,
      "grid_auto_rows": null,
      "grid_column": null,
      "grid_gap": null,
      "grid_row": null,
      "grid_template_areas": null,
      "grid_template_columns": null,
      "grid_template_rows": null,
      "height": null,
      "justify_content": null,
      "justify_items": null,
      "left": null,
      "margin": null,
      "max_height": null,
      "max_width": null,
      "min_height": null,
      "min_width": null,
      "object_fit": null,
      "object_position": null,
      "order": null,
      "overflow": null,
      "overflow_x": null,
      "overflow_y": null,
      "padding": null,
      "right": null,
      "top": null,
      "visibility": null,
      "width": null
     }
    },
    "f557c10e717d42539582c3fdf2fa5b24": {
     "model_module": "@jupyter-widgets/base",
     "model_name": "LayoutModel",
     "state": {
      "_model_module": "@jupyter-widgets/base",
      "_model_module_version": "1.2.0",
      "_model_name": "LayoutModel",
      "_view_count": null,
      "_view_module": "@jupyter-widgets/base",
      "_view_module_version": "1.2.0",
      "_view_name": "LayoutView",
      "align_content": null,
      "align_items": null,
      "align_self": null,
      "border": null,
      "bottom": null,
      "display": null,
      "flex": null,
      "flex_flow": null,
      "grid_area": null,
      "grid_auto_columns": null,
      "grid_auto_flow": null,
      "grid_auto_rows": null,
      "grid_column": null,
      "grid_gap": null,
      "grid_row": null,
      "grid_template_areas": null,
      "grid_template_columns": null,
      "grid_template_rows": null,
      "height": null,
      "justify_content": null,
      "justify_items": null,
      "left": null,
      "margin": null,
      "max_height": null,
      "max_width": null,
      "min_height": null,
      "min_width": null,
      "object_fit": null,
      "object_position": null,
      "order": null,
      "overflow": null,
      "overflow_x": null,
      "overflow_y": null,
      "padding": null,
      "right": null,
      "top": null,
      "visibility": null,
      "width": null
     }
    },
    "f98a7aa146cb4c7482af02391b2b9c7b": {
     "model_module": "@jupyter-widgets/controls",
     "model_name": "LabelModel",
     "state": {
      "_dom_classes": [],
      "_model_module": "@jupyter-widgets/controls",
      "_model_module_version": "1.5.0",
      "_model_name": "LabelModel",
      "_view_count": null,
      "_view_module": "@jupyter-widgets/controls",
      "_view_module_version": "1.5.0",
      "_view_name": "LabelView",
      "description": "",
      "description_tooltip": null,
      "layout": "IPY_MODEL_c49befa67f3b46ba9c5cb7e0cb30222e",
      "placeholder": "​",
      "style": "IPY_MODEL_807e9b816fa34a46ac60a1791d215553",
      "value": " 0.01MB of 0.01MB uploaded (0.00MB deduped)\r"
     }
    }
   }
  }
 },
 "nbformat": 4,
 "nbformat_minor": 5
}
