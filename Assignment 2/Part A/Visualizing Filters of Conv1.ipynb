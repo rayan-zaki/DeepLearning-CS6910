{
 "cells": [
  {
   "cell_type": "code",
   "execution_count": 1,
   "id": "working-swaziland",
   "metadata": {},
   "outputs": [],
   "source": [
    "# configuration cell\n",
    "\n",
    "no_epochs = 30\n",
    "\n",
    "act_fn_dict = {\n",
    "    'conv1':'relu',\n",
    "    'conv2':'relu',\n",
    "    'conv3':'relu',\n",
    "    'conv4':'relu',\n",
    "    'conv5':'relu',\n",
    "    'fc1':'relu'\n",
    "}\n",
    "\n",
    "kernel_size_list = [3,3,3,3,3]\n",
    "no_kernel_list = [32,32,64,64,128]\n",
    "dropout_list = [0,0,0.5]\n",
    "fc1_nodes = 1024\n",
    "no_classes = 10\n",
    "lr = 0.0001\n",
    "lr_schedule = 0.5 # per 10 epochs half the learning rate"
   ]
  },
  {
   "cell_type": "code",
   "execution_count": 2,
   "id": "second-disclaimer",
   "metadata": {},
   "outputs": [],
   "source": [
    "import torch\n",
    "import torch.nn as nn\n",
    "import torchvision\n",
    "import torch.nn.functional as F\n",
    "import torch.optim as optim\n",
    "from torch.optim.lr_scheduler import StepLR\n",
    "import matplotlib.pyplot as plt\n",
    "import numpy as np\n",
    "import shutil\n",
    "import os\n",
    "import wandb\n",
    "from util import*"
   ]
  },
  {
   "cell_type": "code",
   "execution_count": 3,
   "id": "sustained-consistency",
   "metadata": {},
   "outputs": [],
   "source": [
    "# check if CUDA is available\n",
    "use_cuda = torch.cuda.is_available()\n",
    "if use_cuda == True:\n",
    "    device = torch.device(\"cuda\")\n",
    "else:\n",
    "    device = torch.device(\"cpu\")"
   ]
  },
  {
   "cell_type": "code",
   "execution_count": 19,
   "id": "outside-convert",
   "metadata": {},
   "outputs": [],
   "source": [
    "modelName = 'Best_CNN_5Layers_iNaturalist_filters'"
   ]
  },
  {
   "cell_type": "code",
   "execution_count": 5,
   "id": "treated-lloyd",
   "metadata": {},
   "outputs": [],
   "source": [
    "ckp_path = \"./Best_CNN_5Layers_iNaturalist/checkpoint/current_checkpoint.pt\"\n",
    "best_ckp_path = \"./Best_CNN_5Layers_iNaturalist/best_model/best_model.pt\""
   ]
  },
  {
   "cell_type": "code",
   "execution_count": 20,
   "id": "greater-williams",
   "metadata": {},
   "outputs": [
    {
     "data": {
      "text/html": [
       "Finishing last run (ID:168jdeoq) before initializing another..."
      ],
      "text/plain": [
       "<IPython.core.display.HTML object>"
      ]
     },
     "metadata": {},
     "output_type": "display_data"
    },
    {
     "data": {
      "text/html": [
       "<br/>Waiting for W&B process to finish, PID 13716<br/>Program ended successfully."
      ],
      "text/plain": [
       "<IPython.core.display.HTML object>"
      ]
     },
     "metadata": {},
     "output_type": "display_data"
    },
    {
     "data": {
      "application/vnd.jupyter.widget-view+json": {
       "model_id": "",
       "version_major": 2,
       "version_minor": 0
      },
      "text/plain": [
       "VBox(children=(Label(value=' 0.00MB of 0.00MB uploaded (0.00MB deduped)\\r'), FloatProgress(value=1.0, max=1.0)…"
      ]
     },
     "metadata": {},
     "output_type": "display_data"
    },
    {
     "data": {
      "text/html": [
       "Find user logs for this run at: <code>C:\\Users\\Rayan Zaki\\Desktop\\Fundamentals of Deep Learning\\Assignment 2\\Part A\\wandb\\run-20210416_145205-168jdeoq\\logs\\debug.log</code>"
      ],
      "text/plain": [
       "<IPython.core.display.HTML object>"
      ]
     },
     "metadata": {},
     "output_type": "display_data"
    },
    {
     "data": {
      "text/html": [
       "Find internal logs for this run at: <code>C:\\Users\\Rayan Zaki\\Desktop\\Fundamentals of Deep Learning\\Assignment 2\\Part A\\wandb\\run-20210416_145205-168jdeoq\\logs\\debug-internal.log</code>"
      ],
      "text/plain": [
       "<IPython.core.display.HTML object>"
      ]
     },
     "metadata": {},
     "output_type": "display_data"
    },
    {
     "data": {
      "text/html": [
       "Synced 4 W&B file(s), 0 media file(s), 0 artifact file(s) and 0 other file(s)"
      ],
      "text/plain": [
       "<IPython.core.display.HTML object>"
      ]
     },
     "metadata": {},
     "output_type": "display_data"
    },
    {
     "data": {
      "text/html": [
       "\n",
       "                    <br/>Synced <strong style=\"color:#cdcd00\">silver-glade-6</strong>: <a href=\"https://wandb.ai/rayanz/Best_CNN_5Layers_iNaturalist_Images/runs/168jdeoq\" target=\"_blank\">https://wandb.ai/rayanz/Best_CNN_5Layers_iNaturalist_Images/runs/168jdeoq</a><br/>\n",
       "                "
      ],
      "text/plain": [
       "<IPython.core.display.HTML object>"
      ]
     },
     "metadata": {},
     "output_type": "display_data"
    },
    {
     "data": {
      "text/html": [
       "...Successfully finished last run (ID:168jdeoq). Initializing new run:<br/><br/>"
      ],
      "text/plain": [
       "<IPython.core.display.HTML object>"
      ]
     },
     "metadata": {},
     "output_type": "display_data"
    },
    {
     "name": "stderr",
     "output_type": "stream",
     "text": [
      "wandb: wandb version 0.10.26 is available!  To upgrade, please run:\n",
      "wandb:  $ pip install wandb --upgrade\n"
     ]
    },
    {
     "data": {
      "text/html": [
       "\n",
       "                Tracking run with wandb version 0.10.22<br/>\n",
       "                Syncing run <strong style=\"color:#cdcd00\">whole-eon-1</strong> to <a href=\"https://wandb.ai\" target=\"_blank\">Weights & Biases</a> <a href=\"https://docs.wandb.com/integrations/jupyter.html\" target=\"_blank\">(Documentation)</a>.<br/>\n",
       "                Project page: <a href=\"https://wandb.ai/rayanz/Best_CNN_5Layers_iNaturalist_filters\" target=\"_blank\">https://wandb.ai/rayanz/Best_CNN_5Layers_iNaturalist_filters</a><br/>\n",
       "                Run page: <a href=\"https://wandb.ai/rayanz/Best_CNN_5Layers_iNaturalist_filters/runs/2qqmciic\" target=\"_blank\">https://wandb.ai/rayanz/Best_CNN_5Layers_iNaturalist_filters/runs/2qqmciic</a><br/>\n",
       "                Run data is saved locally in <code>C:\\Users\\Rayan Zaki\\Desktop\\Fundamentals of Deep Learning\\Assignment 2\\Part A\\wandb\\run-20210416_145226-2qqmciic</code><br/><br/>\n",
       "            "
      ],
      "text/plain": [
       "<IPython.core.display.HTML object>"
      ]
     },
     "metadata": {},
     "output_type": "display_data"
    },
    {
     "data": {
      "text/html": [
       "<h1>Run(2qqmciic)</h1><iframe src=\"https://wandb.ai/rayanz/Best_CNN_5Layers_iNaturalist_filters/runs/2qqmciic\" style=\"border:none;width:100%;height:400px\"></iframe>"
      ],
      "text/plain": [
       "<wandb.sdk.wandb_run.Run at 0x11c5dbe7780>"
      ]
     },
     "execution_count": 20,
     "metadata": {},
     "output_type": "execute_result"
    }
   ],
   "source": [
    "wandb.init(project=modelName)"
   ]
  },
  {
   "cell_type": "code",
   "execution_count": 7,
   "id": "broken-cause",
   "metadata": {},
   "outputs": [],
   "source": [
    "batch_size = 64\n",
    "datasetTrain, datasetVal, datasetTest = load_datasets()\n",
    "loaders = data_loader(datasetTrain, datasetVal, datasetTest, batch_size)"
   ]
  },
  {
   "cell_type": "code",
   "execution_count": 8,
   "id": "known-greenhouse",
   "metadata": {},
   "outputs": [],
   "source": [
    "def act_fn(act_name):\n",
    "    if act_name==\"relu\":\n",
    "        return nn.ReLU(inplace=True)\n",
    "    \n",
    "    elif act_name==\"sigmoid\":\n",
    "        return nn.Sigmoid(inplace=True)\n",
    "    \n",
    "    elif act_name==\"tanh\":\n",
    "        return nn.Tanh(inplace==True)"
   ]
  },
  {
   "cell_type": "code",
   "execution_count": 9,
   "id": "successful-boring",
   "metadata": {},
   "outputs": [],
   "source": [
    "class conv_block(nn.Module):\n",
    "    def __init__(self, in_channels, out_channels, kernel_size = 3 ,BN=True , NL=\"relu\", stride = 1, padding = 0):\n",
    "        super(conv_block, self).__init__()\n",
    "        self.BN=BN\n",
    "        self.NL=NL\n",
    "        k = kernel_size\n",
    "        \n",
    "        self.conv = nn.Conv2d(in_channels, out_channels, kernel_size = k, stride = stride, padding = padding, bias=False)\n",
    "        \n",
    "        if self.BN==True:\n",
    "            self.bn = nn.BatchNorm2d(out_channels, eps=0.001)\n",
    "            \n",
    "        self.act = act_fn(NL)\n",
    "        \n",
    "    def forward(self, x):\n",
    "        x = self.conv(x)\n",
    "        \n",
    "        if self.BN==True:\n",
    "            x = self.bn(x)\n",
    "        \n",
    "        return self.act(x)"
   ]
  },
  {
   "cell_type": "code",
   "execution_count": 10,
   "id": "assured-toolbox",
   "metadata": {},
   "outputs": [],
   "source": [
    "class fc_block(nn.Module):\n",
    "    def __init__(self, in_channels, out_channels, BN=False , NL=\"relu\"):\n",
    "        super(fc_block, self).__init__()\n",
    "        self.BN=BN\n",
    "        self.NL=NL\n",
    "        self.fc = nn.Linear(in_channels, out_channels)\n",
    "        \n",
    "        if self.BN==True:\n",
    "            self.bn = nn.BatchNorm2d(out_channels, eps=0.001)\n",
    "            \n",
    "        self.act = act_fn(NL)\n",
    "        \n",
    "    def forward(self, x):\n",
    "        x = self.fc(x)\n",
    "        \n",
    "        if self.BN==True:\n",
    "            x = self.bn(x)\n",
    "        \n",
    "        x = self.act(x)\n",
    "        \n",
    "        return x"
   ]
  },
  {
   "cell_type": "code",
   "execution_count": 11,
   "id": "abstract-density",
   "metadata": {},
   "outputs": [],
   "source": [
    "def get_fc_in(input_dim, kernel_size_list, no_kernel_list):\n",
    "    H = input_dim\n",
    "    fc_in = H - kernel_size_list[0] + 1 # conv1\n",
    "    fc_in = (fc_in - 2) //2  + 1 # max pool 1\n",
    "    fc_in = fc_in - kernel_size_list[1] + 1 # conv2\n",
    "    fc_in = (fc_in - 2) //2  + 1 # max pool 2\n",
    "    fc_in = fc_in - kernel_size_list[2] + 1 #conv3\n",
    "    fc_in = (fc_in - 2) //2  + 1 # max pool 3\n",
    "    fc_in = fc_in - kernel_size_list[3] + 1 #conv4\n",
    "    fc_in = (fc_in - 2) //2  + 1 # max pool 4\n",
    "    fc_in = fc_in - kernel_size_list[4] + 1 #conv5\n",
    "    fc_in = (fc_in - 2) //2  + 1 # max pool 5\n",
    "    #print(fc_in)\n",
    "    return fc_in * fc_in * no_kernel_list[4]"
   ]
  },
  {
   "cell_type": "code",
   "execution_count": 12,
   "id": "unnecessary-stevens",
   "metadata": {},
   "outputs": [],
   "source": [
    "class CNN_5layer(nn.Module):\n",
    "    def __init__(self, kernel_size_list, no_kernel_list, act_fn_dict, dropout_list, fc1_nodes, no_classes):\n",
    "        super(CNN_5layer, self).__init__()\n",
    "        self.dropout_list = dropout_list\n",
    "        self.input_dim = 224\n",
    "        #self.input_dim = 128\n",
    "        self.conv1 = conv_block(3, no_kernel_list[0], kernel_size=kernel_size_list[0], BN=False, NL=act_fn_dict['conv1'])\n",
    "        self.maxpool1 = nn.MaxPool2d((2, 2))\n",
    "        self.conv2 = conv_block(no_kernel_list[0], no_kernel_list[1], kernel_size=kernel_size_list[1], BN=True, NL=act_fn_dict['conv2'])\n",
    "        self.maxpool2 = nn.MaxPool2d((2, 2))\n",
    "        \n",
    "        if self.dropout_list[0]!=0:\n",
    "            self.dropout1 = nn.Dropout(dropout_list[0])\n",
    "\n",
    "        self.conv3 = conv_block(no_kernel_list[1], no_kernel_list[2], kernel_size=kernel_size_list[2], BN=True, NL=act_fn_dict['conv3'])\n",
    "        self.maxpool3 = nn.MaxPool2d((2, 2))\n",
    "        self.conv4 = conv_block(no_kernel_list[2], no_kernel_list[3], kernel_size=kernel_size_list[3], BN=True, NL=act_fn_dict['conv4'])\n",
    "        self.maxpool4 = nn.MaxPool2d((2, 2))\n",
    "        \n",
    "        if self.dropout_list[1]!=0:\n",
    "            self.dropout2 = nn.Dropout(dropout_list[1])\n",
    "\n",
    "        self.conv5 = conv_block(no_kernel_list[3], no_kernel_list[4], kernel_size=kernel_size_list[4], BN=True, NL=act_fn_dict['conv5'])\n",
    "        self.maxpool5 = nn.MaxPool2d((2, 2))\n",
    "        \n",
    "        self.fc1_in_features = get_fc_in(self.input_dim, kernel_size_list, no_kernel_list)\n",
    "        \n",
    "        self.fc1 = fc_block(self.fc1_in_features, fc1_nodes , NL=act_fn_dict['fc1'])\n",
    "        \n",
    "        if self.dropout_list[2]!=0:\n",
    "            self.dropout3 = nn.Dropout(dropout_list[2])\n",
    "        \n",
    "        self.fc2 = nn.Linear(fc1_nodes, no_classes)\n",
    "    \n",
    "    \n",
    "    def forward(self, x):\n",
    "        if x.shape[2]!=self.input_dim:\n",
    "            print(\"input dim not matched\")\n",
    "            return\n",
    "        x = self.conv1(x)\n",
    "        x = self.maxpool1(x)\n",
    "        x = self.conv2(x)\n",
    "        x = self.maxpool2(x)\n",
    "        \n",
    "        if self.dropout_list[0]!=0:\n",
    "            x = self.dropout1(x)\n",
    "        \n",
    "        x = self.conv3(x)\n",
    "        x = self.maxpool3(x)\n",
    "        x = self.conv4(x)\n",
    "        x = self.maxpool4(x)\n",
    "        \n",
    "        if self.dropout_list[1]!=0:\n",
    "            x = self.dropout2(x)\n",
    "        \n",
    "        x = self.conv5(x)\n",
    "        x = self.maxpool5(x)\n",
    "        \n",
    "        x = x.view(x.shape[0], -1)\n",
    "        \n",
    "        x = self.fc1(x)\n",
    "        if self.dropout_list[2]!=0:\n",
    "            x = self.dropout3(x)\n",
    "        \n",
    "        x = self.fc2(x)\n",
    "        \n",
    "        return x"
   ]
  },
  {
   "cell_type": "code",
   "execution_count": 13,
   "id": "detected-parliament",
   "metadata": {},
   "outputs": [],
   "source": [
    "model = CNN_5layer(kernel_size_list, no_kernel_list, act_fn_dict, dropout_list, fc1_nodes, no_classes)"
   ]
  },
  {
   "cell_type": "code",
   "execution_count": 14,
   "id": "acquired-coordination",
   "metadata": {},
   "outputs": [],
   "source": [
    "model = model.to(device)"
   ]
  },
  {
   "cell_type": "code",
   "execution_count": 15,
   "id": "congressional-bradley",
   "metadata": {},
   "outputs": [],
   "source": [
    "optimizer = optim.Adam(model.parameters(), lr=lr, betas=(0.9, 0.999), eps=1e-08, weight_decay=0, amsgrad=False)\n",
    "scheduler = StepLR(optimizer, step_size=10, gamma=lr_schedule)\n",
    "criterion = nn.CrossEntropyLoss()"
   ]
  },
  {
   "cell_type": "code",
   "execution_count": 16,
   "id": "endangered-death",
   "metadata": {},
   "outputs": [],
   "source": [
    "# load the saved last checkpoint\n",
    "best_trained_model, optimizer, start_epoch, valid_loss, valid_acc, valid_loss_min = load_ckp(best_ckp_path, model, optimizer)"
   ]
  },
  {
   "cell_type": "code",
   "execution_count": 17,
   "id": "dense-genius",
   "metadata": {},
   "outputs": [],
   "source": [
    "class_names = ['Amphibia', 'Animalia', 'Arachnida', 'Aves', 'Fungi', 'Insecta', 'Mammalia', 'Mollusca', 'Plantae', 'Reptilia']"
   ]
  },
  {
   "cell_type": "code",
   "execution_count": 21,
   "id": "macro-effort",
   "metadata": {},
   "outputs": [
    {
     "data": {
      "text/plain": [
       "<generator object Module.named_parameters at 0x0000011C5D70DED0>"
      ]
     },
     "execution_count": 21,
     "metadata": {},
     "output_type": "execute_result"
    }
   ],
   "source": [
    "best_trained_model.named_parameters()"
   ]
  },
  {
   "cell_type": "code",
   "execution_count": 24,
   "id": "outstanding-poster",
   "metadata": {},
   "outputs": [
    {
     "name": "stdout",
     "output_type": "stream",
     "text": [
      "conv1.conv.weight\n",
      "torch.Size([32, 3, 3, 3])\n",
      "conv2.conv.weight\n",
      "torch.Size([32, 32, 3, 3])\n",
      "conv2.bn.weight\n",
      "torch.Size([32])\n",
      "conv2.bn.bias\n",
      "torch.Size([32])\n",
      "conv3.conv.weight\n",
      "torch.Size([64, 32, 3, 3])\n",
      "conv3.bn.weight\n",
      "torch.Size([64])\n",
      "conv3.bn.bias\n",
      "torch.Size([64])\n",
      "conv4.conv.weight\n",
      "torch.Size([64, 64, 3, 3])\n",
      "conv4.bn.weight\n",
      "torch.Size([64])\n",
      "conv4.bn.bias\n",
      "torch.Size([64])\n",
      "conv5.conv.weight\n",
      "torch.Size([128, 64, 3, 3])\n",
      "conv5.bn.weight\n",
      "torch.Size([128])\n",
      "conv5.bn.bias\n",
      "torch.Size([128])\n",
      "fc1.fc.weight\n",
      "torch.Size([1024, 3200])\n",
      "fc1.fc.bias\n",
      "torch.Size([1024])\n",
      "fc2.weight\n",
      "torch.Size([10, 1024])\n",
      "fc2.bias\n",
      "torch.Size([10])\n"
     ]
    }
   ],
   "source": [
    "for name, param in best_trained_model.named_parameters():\n",
    "    print(name)\n",
    "    print(param.shape)"
   ]
  },
  {
   "cell_type": "code",
   "execution_count": 27,
   "id": "major-institution",
   "metadata": {},
   "outputs": [
    {
     "data": {
      "text/plain": [
       "torch.Size([32, 3, 3, 3])"
      ]
     },
     "execution_count": 27,
     "metadata": {},
     "output_type": "execute_result"
    }
   ],
   "source": [
    "best_trained_model.conv1.conv.weight.shape"
   ]
  },
  {
   "cell_type": "code",
   "execution_count": 28,
   "id": "regional-excellence",
   "metadata": {},
   "outputs": [],
   "source": [
    "conv1_filters=[]\n",
    "for i in range(best_trained_model.conv1.conv.weight.shape[0]):\n",
    "    conv1_filters.append(wandb.Image(\n",
    "            best_trained_model.conv1.conv.weight[i], caption=\"Filter: {}\".format(i+1)))"
   ]
  },
  {
   "cell_type": "code",
   "execution_count": 29,
   "id": "favorite-modeling",
   "metadata": {},
   "outputs": [],
   "source": [
    "wandb.log({\"Conv1 Layer All 32 Filters\": conv1_filters})"
   ]
  }
 ],
 "metadata": {
  "kernelspec": {
   "display_name": "Python 3",
   "language": "python",
   "name": "python3"
  },
  "language_info": {
   "codemirror_mode": {
    "name": "ipython",
    "version": 3
   },
   "file_extension": ".py",
   "mimetype": "text/x-python",
   "name": "python",
   "nbconvert_exporter": "python",
   "pygments_lexer": "ipython3",
   "version": "3.7.3"
  }
 },
 "nbformat": 4,
 "nbformat_minor": 5
}
