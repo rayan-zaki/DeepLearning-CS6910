{
 "cells": [
  {
   "cell_type": "code",
   "execution_count": 1,
   "id": "working-swaziland",
   "metadata": {},
   "outputs": [],
   "source": [
    "# configuration cell\n",
    "\n",
    "no_epochs = 30\n",
    "\n",
    "act_fn_dict = {\n",
    "    'conv1':'relu',\n",
    "    'conv2':'relu',\n",
    "    'conv3':'relu',\n",
    "    'conv4':'relu',\n",
    "    'conv5':'relu',\n",
    "    'fc1':'relu'\n",
    "}\n",
    "\n",
    "kernel_size_list = [3,3,3,3,3]\n",
    "no_kernel_list = [32,32,64,64,128]\n",
    "dropout_list = [0,0,0.5]\n",
    "fc1_nodes = 1024\n",
    "no_classes = 10\n",
    "lr = 0.0001\n",
    "lr_schedule = 0.5 # per 10 epochs half the learning rate"
   ]
  },
  {
   "cell_type": "code",
   "execution_count": 2,
   "id": "second-disclaimer",
   "metadata": {},
   "outputs": [],
   "source": [
    "import torch\n",
    "import torch.nn as nn\n",
    "import torchvision\n",
    "import torch.nn.functional as F\n",
    "import torch.optim as optim\n",
    "from torch.optim.lr_scheduler import StepLR\n",
    "import matplotlib.pyplot as plt\n",
    "import numpy as np\n",
    "import shutil\n",
    "import os\n",
    "import wandb\n",
    "from util import*"
   ]
  },
  {
   "cell_type": "code",
   "execution_count": 3,
   "id": "sustained-consistency",
   "metadata": {},
   "outputs": [],
   "source": [
    "# check if CUDA is available\n",
    "use_cuda = torch.cuda.is_available()\n",
    "if use_cuda == True:\n",
    "    device = torch.device(\"cuda\")\n",
    "else:\n",
    "    device = torch.device(\"cpu\")"
   ]
  },
  {
   "cell_type": "code",
   "execution_count": 4,
   "id": "outside-convert",
   "metadata": {},
   "outputs": [],
   "source": [
    "modelName = 'Best_CNN_5Layers_iNaturalist_Images'"
   ]
  },
  {
   "cell_type": "code",
   "execution_count": 5,
   "id": "treated-lloyd",
   "metadata": {},
   "outputs": [],
   "source": [
    "ckp_path = \"./Best_CNN_5Layers_iNaturalist/checkpoint/current_checkpoint.pt\"\n",
    "best_ckp_path = \"./Best_CNN_5Layers_iNaturalist/best_model/best_model.pt\""
   ]
  },
  {
   "cell_type": "code",
   "execution_count": null,
   "id": "greater-williams",
   "metadata": {},
   "outputs": [],
   "source": [
    "wandb.init(project=modelName)"
   ]
  },
  {
   "cell_type": "code",
   "execution_count": 7,
   "id": "broken-cause",
   "metadata": {},
   "outputs": [],
   "source": [
    "batch_size = 64\n",
    "datasetTrain, datasetVal, datasetTest = load_datasets()\n",
    "loaders = data_loader(datasetTrain, datasetVal, datasetTest, batch_size)"
   ]
  },
  {
   "cell_type": "code",
   "execution_count": 8,
   "id": "known-greenhouse",
   "metadata": {},
   "outputs": [],
   "source": [
    "def act_fn(act_name):\n",
    "    if act_name==\"relu\":\n",
    "        return nn.ReLU(inplace=True)\n",
    "    \n",
    "    elif act_name==\"sigmoid\":\n",
    "        return nn.Sigmoid(inplace=True)\n",
    "    \n",
    "    elif act_name==\"tanh\":\n",
    "        return nn.Tanh(inplace==True)"
   ]
  },
  {
   "cell_type": "code",
   "execution_count": 9,
   "id": "successful-boring",
   "metadata": {},
   "outputs": [],
   "source": [
    "class conv_block(nn.Module):\n",
    "    def __init__(self, in_channels, out_channels, kernel_size = 3 ,BN=True , NL=\"relu\", stride = 1, padding = 0):\n",
    "        super(conv_block, self).__init__()\n",
    "        self.BN=BN\n",
    "        self.NL=NL\n",
    "        k = kernel_size\n",
    "        \n",
    "        self.conv = nn.Conv2d(in_channels, out_channels, kernel_size = k, stride = stride, padding = padding, bias=False)\n",
    "        \n",
    "        if self.BN==True:\n",
    "            self.bn = nn.BatchNorm2d(out_channels, eps=0.001)\n",
    "            \n",
    "        self.act = act_fn(NL)\n",
    "        \n",
    "    def forward(self, x):\n",
    "        x = self.conv(x)\n",
    "        \n",
    "        if self.BN==True:\n",
    "            x = self.bn(x)\n",
    "        \n",
    "        return self.act(x)"
   ]
  },
  {
   "cell_type": "code",
   "execution_count": 10,
   "id": "assured-toolbox",
   "metadata": {},
   "outputs": [],
   "source": [
    "class fc_block(nn.Module):\n",
    "    def __init__(self, in_channels, out_channels, BN=False , NL=\"relu\"):\n",
    "        super(fc_block, self).__init__()\n",
    "        self.BN=BN\n",
    "        self.NL=NL\n",
    "        self.fc = nn.Linear(in_channels, out_channels)\n",
    "        \n",
    "        if self.BN==True:\n",
    "            self.bn = nn.BatchNorm2d(out_channels, eps=0.001)\n",
    "            \n",
    "        self.act = act_fn(NL)\n",
    "        \n",
    "    def forward(self, x):\n",
    "        x = self.fc(x)\n",
    "        \n",
    "        if self.BN==True:\n",
    "            x = self.bn(x)\n",
    "        \n",
    "        x = self.act(x)\n",
    "        \n",
    "        return x"
   ]
  },
  {
   "cell_type": "code",
   "execution_count": 11,
   "id": "abstract-density",
   "metadata": {},
   "outputs": [],
   "source": [
    "def get_fc_in(input_dim, kernel_size_list, no_kernel_list):\n",
    "    H = input_dim\n",
    "    fc_in = H - kernel_size_list[0] + 1 # conv1\n",
    "    fc_in = (fc_in - 2) //2  + 1 # max pool 1\n",
    "    fc_in = fc_in - kernel_size_list[1] + 1 # conv2\n",
    "    fc_in = (fc_in - 2) //2  + 1 # max pool 2\n",
    "    fc_in = fc_in - kernel_size_list[2] + 1 #conv3\n",
    "    fc_in = (fc_in - 2) //2  + 1 # max pool 3\n",
    "    fc_in = fc_in - kernel_size_list[3] + 1 #conv4\n",
    "    fc_in = (fc_in - 2) //2  + 1 # max pool 4\n",
    "    fc_in = fc_in - kernel_size_list[4] + 1 #conv5\n",
    "    fc_in = (fc_in - 2) //2  + 1 # max pool 5\n",
    "    #print(fc_in)\n",
    "    return fc_in * fc_in * no_kernel_list[4]"
   ]
  },
  {
   "cell_type": "code",
   "execution_count": 12,
   "id": "unnecessary-stevens",
   "metadata": {},
   "outputs": [],
   "source": [
    "class CNN_5layer(nn.Module):\n",
    "    def __init__(self, kernel_size_list, no_kernel_list, act_fn_dict, dropout_list, fc1_nodes, no_classes):\n",
    "        super(CNN_5layer, self).__init__()\n",
    "        self.dropout_list = dropout_list\n",
    "        self.input_dim = 224\n",
    "        #self.input_dim = 128\n",
    "        self.conv1 = conv_block(3, no_kernel_list[0], kernel_size=kernel_size_list[0], BN=False, NL=act_fn_dict['conv1'])\n",
    "        self.maxpool1 = nn.MaxPool2d((2, 2))\n",
    "        self.conv2 = conv_block(no_kernel_list[0], no_kernel_list[1], kernel_size=kernel_size_list[1], BN=True, NL=act_fn_dict['conv2'])\n",
    "        self.maxpool2 = nn.MaxPool2d((2, 2))\n",
    "        \n",
    "        if self.dropout_list[0]!=0:\n",
    "            self.dropout1 = nn.Dropout(dropout_list[0])\n",
    "\n",
    "        self.conv3 = conv_block(no_kernel_list[1], no_kernel_list[2], kernel_size=kernel_size_list[2], BN=True, NL=act_fn_dict['conv3'])\n",
    "        self.maxpool3 = nn.MaxPool2d((2, 2))\n",
    "        self.conv4 = conv_block(no_kernel_list[2], no_kernel_list[3], kernel_size=kernel_size_list[3], BN=True, NL=act_fn_dict['conv4'])\n",
    "        self.maxpool4 = nn.MaxPool2d((2, 2))\n",
    "        \n",
    "        if self.dropout_list[1]!=0:\n",
    "            self.dropout2 = nn.Dropout(dropout_list[1])\n",
    "\n",
    "        self.conv5 = conv_block(no_kernel_list[3], no_kernel_list[4], kernel_size=kernel_size_list[4], BN=True, NL=act_fn_dict['conv5'])\n",
    "        self.maxpool5 = nn.MaxPool2d((2, 2))\n",
    "        \n",
    "        self.fc1_in_features = get_fc_in(self.input_dim, kernel_size_list, no_kernel_list)\n",
    "        \n",
    "        self.fc1 = fc_block(self.fc1_in_features, fc1_nodes , NL=act_fn_dict['fc1'])\n",
    "        \n",
    "        if self.dropout_list[2]!=0:\n",
    "            self.dropout3 = nn.Dropout(dropout_list[2])\n",
    "        \n",
    "        self.fc2 = nn.Linear(fc1_nodes, no_classes)\n",
    "    \n",
    "    \n",
    "    def forward(self, x):\n",
    "        if x.shape[2]!=self.input_dim:\n",
    "            print(\"input dim not matched\")\n",
    "            return\n",
    "        x = self.conv1(x)\n",
    "        x = self.maxpool1(x)\n",
    "        x = self.conv2(x)\n",
    "        x = self.maxpool2(x)\n",
    "        \n",
    "        if self.dropout_list[0]!=0:\n",
    "            x = self.dropout1(x)\n",
    "        \n",
    "        x = self.conv3(x)\n",
    "        x = self.maxpool3(x)\n",
    "        x = self.conv4(x)\n",
    "        x = self.maxpool4(x)\n",
    "        \n",
    "        if self.dropout_list[1]!=0:\n",
    "            x = self.dropout2(x)\n",
    "        \n",
    "        x = self.conv5(x)\n",
    "        x = self.maxpool5(x)\n",
    "        \n",
    "        x = x.view(x.shape[0], -1)\n",
    "        \n",
    "        x = self.fc1(x)\n",
    "        if self.dropout_list[2]!=0:\n",
    "            x = self.dropout3(x)\n",
    "        \n",
    "        x = self.fc2(x)\n",
    "        \n",
    "        return x"
   ]
  },
  {
   "cell_type": "code",
   "execution_count": 13,
   "id": "detected-parliament",
   "metadata": {},
   "outputs": [],
   "source": [
    "model = CNN_5layer(kernel_size_list, no_kernel_list, act_fn_dict, dropout_list, fc1_nodes, no_classes)"
   ]
  },
  {
   "cell_type": "code",
   "execution_count": 14,
   "id": "acquired-coordination",
   "metadata": {},
   "outputs": [],
   "source": [
    "model = model.to(device)"
   ]
  },
  {
   "cell_type": "code",
   "execution_count": 15,
   "id": "congressional-bradley",
   "metadata": {},
   "outputs": [],
   "source": [
    "optimizer = optim.Adam(model.parameters(), lr=lr, betas=(0.9, 0.999), eps=1e-08, weight_decay=0, amsgrad=False)\n",
    "scheduler = StepLR(optimizer, step_size=10, gamma=lr_schedule)\n",
    "criterion = nn.CrossEntropyLoss()"
   ]
  },
  {
   "cell_type": "code",
   "execution_count": 16,
   "id": "endangered-death",
   "metadata": {},
   "outputs": [],
   "source": [
    "# load the saved last checkpoint\n",
    "best_trained_model, optimizer, start_epoch, valid_loss, valid_acc, valid_loss_min = load_ckp(best_ckp_path, model, optimizer)"
   ]
  },
  {
   "cell_type": "code",
   "execution_count": 17,
   "id": "dense-genius",
   "metadata": {},
   "outputs": [],
   "source": [
    "class_names = ['Amphibia', 'Animalia', 'Arachnida', 'Aves', 'Fungi', 'Insecta', 'Mammalia', 'Mollusca', 'Plantae', 'Reptilia']"
   ]
  },
  {
   "cell_type": "code",
   "execution_count": 18,
   "id": "proprietary-opportunity",
   "metadata": {},
   "outputs": [
    {
     "name": "stdout",
     "output_type": "stream",
     "text": [
      "Reptilia   Amphibia\n",
      "Amphibia   Amphibia\n",
      "Mollusca   Amphibia\n",
      "Amphibia   Amphibia\n",
      "Animalia   Animalia\n",
      "Reptilia   Animalia\n",
      "Animalia   Animalia\n",
      "Arachnida   Arachnida\n",
      "Arachnida   Arachnida\n",
      "Arachnida   Arachnida\n",
      "Mammalia   Aves\n",
      "Mammalia   Aves\n",
      "Aves   Aves\n",
      "Fungi   Fungi\n",
      "Plantae   Fungi\n",
      "Fungi   Fungi\n",
      "Arachnida   Insecta\n",
      "Reptilia   Insecta\n",
      "Reptilia   Insecta\n",
      "Aves   Mammalia\n",
      "Mammalia   Mammalia\n",
      "Arachnida   Mammalia\n",
      "Fungi   Mollusca\n",
      "Animalia   Mollusca\n",
      "Mollusca   Mollusca\n",
      "Plantae   Plantae\n",
      "Plantae   Plantae\n",
      "Fungi   Plantae\n",
      "Insecta   Plantae\n",
      "Mammalia   Reptilia\n",
      "Reptilia   Reptilia\n",
      "Reptilia   Reptilia\n"
     ]
    }
   ],
   "source": [
    "best_trained_model.eval()\n",
    "test_loss = 0\n",
    "correct = 0\n",
    "best_loss = 1\n",
    "\n",
    "example_images = []\n",
    "with torch.no_grad():\n",
    "    for batch_idx, (data, target) in enumerate(loaders['test']):\n",
    "        # Load the input features and labels from the test dataset\n",
    "        data, target = data.to(device), target.to(device)\n",
    "\n",
    "        # Make predictions: Pass image data from test dataset, make predictions about class image belongs to (0-9 in this case)\n",
    "        output = best_trained_model(data)\n",
    "\n",
    "        # Compute the loss sum up batch loss\n",
    "        #test_loss += criterion(output, target, reduction='sum').item()\n",
    "        \n",
    "        loss = criterion(output, target)\n",
    "        \n",
    "        #pred = torch.eq(torch.max(F.softmax(output, dim=1), dim=1)[1],target).view(-1)\n",
    "        pred = torch.max(F.softmax(output, dim=1), dim=1)[1]\n",
    "        test_loss = test_loss + ((1 / (batch_idx + 1)) * (loss.data - test_loss))\n",
    "        \n",
    "        \n",
    "        # Get the index of the max log-probability\n",
    "        #pred = output.max(1, keepdim=True)[1]\n",
    "        correct += pred.eq(target.view_as(pred)).sum().item()\n",
    "        #correct += torch.sum(pred).item()\n",
    "        print(class_names[pred[0].item()],\" \", class_names[target[0]])\n",
    "        # WandB – Log images in your test dataset automatically, along with predicted and true labels by passing pytorch tensors with image data into wandb.Image\n",
    "        example_images.append(wandb.Image(\n",
    "            data[0], caption=\"Pred: {} Truth: {}\".format(class_names[pred[0].item()], class_names[target[0]])))\n",
    "\n",
    "# WandB – wandb.log(a_dict) logs the keys and values of the dictionary passed in and associates the values with a step.\n",
    "# You can log anything by passing it to wandb.log, including histograms, custom matplotlib objects, images, video, text, tables, html, pointclouds and other 3D objects.\n",
    "# Here we use it to log test accuracy, loss and some test images (along with their true and predicted labels).\n"
   ]
  },
  {
   "cell_type": "code",
   "execution_count": 19,
   "id": "sharing-prior",
   "metadata": {},
   "outputs": [],
   "source": [
    "wandb.log({\"Test Set Examples with Predictions\": example_images})"
   ]
  }
 ],
 "metadata": {
  "kernelspec": {
   "display_name": "Python 3",
   "language": "python",
   "name": "python3"
  },
  "language_info": {
   "codemirror_mode": {
    "name": "ipython",
    "version": 3
   },
   "file_extension": ".py",
   "mimetype": "text/x-python",
   "name": "python",
   "nbconvert_exporter": "python",
   "pygments_lexer": "ipython3",
   "version": "3.7.3"
  }
 },
 "nbformat": 4,
 "nbformat_minor": 5
}
