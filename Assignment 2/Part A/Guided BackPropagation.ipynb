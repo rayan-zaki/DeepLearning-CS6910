{
 "cells": [
  {
   "cell_type": "code",
   "execution_count": 1,
   "id": "working-swaziland",
   "metadata": {},
   "outputs": [],
   "source": [
    "# configuration cell\n",
    "\n",
    "no_epochs = 30\n",
    "\n",
    "act_fn_dict = {\n",
    "    'conv1':'relu',\n",
    "    'conv2':'relu',\n",
    "    'conv3':'relu',\n",
    "    'conv4':'relu',\n",
    "    'conv5':'relu',\n",
    "    'fc1':'relu'\n",
    "}\n",
    "\n",
    "kernel_size_list = [3,3,3,3,3]\n",
    "no_kernel_list = [32,32,64,64,128]\n",
    "dropout_list = [0,0,0.5]\n",
    "fc1_nodes = 1024\n",
    "no_classes = 10\n",
    "lr = 0.0001\n",
    "lr_schedule = 0.5 # per 10 epochs half the learning rate"
   ]
  },
  {
   "cell_type": "code",
   "execution_count": 2,
   "id": "second-disclaimer",
   "metadata": {},
   "outputs": [],
   "source": [
    "import torch\n",
    "import torch.nn as nn\n",
    "import torchvision\n",
    "import torch.nn.functional as F\n",
    "import torch.optim as optim\n",
    "from torch.optim.lr_scheduler import StepLR\n",
    "import matplotlib.pyplot as plt\n",
    "import numpy as np\n",
    "import shutil\n",
    "import os\n",
    "import wandb\n",
    "from util import*\n",
    "import copy"
   ]
  },
  {
   "cell_type": "code",
   "execution_count": 3,
   "id": "refined-interpretation",
   "metadata": {},
   "outputs": [],
   "source": [
    "from torch.nn import ReLU"
   ]
  },
  {
   "cell_type": "markdown",
   "id": "surface-affair",
   "metadata": {},
   "source": [
    "# check if CUDA is available\n",
    "use_cuda = torch.cuda.is_available()\n",
    "if use_cuda == True:\n",
    "    device = torch.device(\"cuda\")\n",
    "else:\n",
    "    device = torch.device(\"cpu\")"
   ]
  },
  {
   "cell_type": "code",
   "execution_count": 4,
   "id": "useful-tissue",
   "metadata": {},
   "outputs": [],
   "source": [
    "device = torch.device(\"cpu\")"
   ]
  },
  {
   "cell_type": "code",
   "execution_count": 5,
   "id": "outside-convert",
   "metadata": {},
   "outputs": [],
   "source": [
    "modelName = 'Best_CNN_5Layers_iNaturalist_guided_backprop'"
   ]
  },
  {
   "cell_type": "code",
   "execution_count": 6,
   "id": "treated-lloyd",
   "metadata": {},
   "outputs": [],
   "source": [
    "ckp_path = \"./Best_CNN_5Layers_iNaturalist/checkpoint/current_checkpoint.pt\"\n",
    "best_ckp_path = \"./Best_CNN_5Layers_iNaturalist/best_model/best_model.pt\""
   ]
  },
  {
   "cell_type": "code",
   "execution_count": 7,
   "id": "greater-williams",
   "metadata": {},
   "outputs": [
    {
     "name": "stderr",
     "output_type": "stream",
     "text": [
      "wandb: Currently logged in as: rayanz (use `wandb login --relogin` to force relogin)\n",
      "wandb: wandb version 0.10.26 is available!  To upgrade, please run:\n",
      "wandb:  $ pip install wandb --upgrade\n"
     ]
    },
    {
     "data": {
      "text/html": [
       "\n",
       "                Tracking run with wandb version 0.10.22<br/>\n",
       "                Syncing run <strong style=\"color:#cdcd00\">olive-fog-7</strong> to <a href=\"https://wandb.ai\" target=\"_blank\">Weights & Biases</a> <a href=\"https://docs.wandb.com/integrations/jupyter.html\" target=\"_blank\">(Documentation)</a>.<br/>\n",
       "                Project page: <a href=\"https://wandb.ai/rayanz/Best_CNN_5Layers_iNaturalist_guided_backprop\" target=\"_blank\">https://wandb.ai/rayanz/Best_CNN_5Layers_iNaturalist_guided_backprop</a><br/>\n",
       "                Run page: <a href=\"https://wandb.ai/rayanz/Best_CNN_5Layers_iNaturalist_guided_backprop/runs/qlwwyxqa\" target=\"_blank\">https://wandb.ai/rayanz/Best_CNN_5Layers_iNaturalist_guided_backprop/runs/qlwwyxqa</a><br/>\n",
       "                Run data is saved locally in <code>C:\\Users\\Rayan Zaki\\Desktop\\Fundamentals of Deep Learning\\Assignment 2\\Part A\\wandb\\run-20210417_195230-qlwwyxqa</code><br/><br/>\n",
       "            "
      ],
      "text/plain": [
       "<IPython.core.display.HTML object>"
      ]
     },
     "metadata": {},
     "output_type": "display_data"
    },
    {
     "data": {
      "text/html": [
       "<h1>Run(qlwwyxqa)</h1><iframe src=\"https://wandb.ai/rayanz/Best_CNN_5Layers_iNaturalist_guided_backprop/runs/qlwwyxqa\" style=\"border:none;width:100%;height:400px\"></iframe>"
      ],
      "text/plain": [
       "<wandb.sdk.wandb_run.Run at 0x1c290267390>"
      ]
     },
     "execution_count": 7,
     "metadata": {},
     "output_type": "execute_result"
    }
   ],
   "source": [
    "wandb.init(project=modelName)"
   ]
  },
  {
   "cell_type": "code",
   "execution_count": 8,
   "id": "broken-cause",
   "metadata": {},
   "outputs": [],
   "source": [
    "batch_size = 1\n",
    "datasetTrain, datasetVal, datasetTest = load_datasets()\n",
    "loaders = data_loader(datasetTrain, datasetVal, datasetTest, batch_size)"
   ]
  },
  {
   "cell_type": "code",
   "execution_count": 9,
   "id": "sublime-coalition",
   "metadata": {},
   "outputs": [],
   "source": [
    "def recreate_image(im_as_var):\n",
    "    reverse_mean = [-0.485, -0.456, -0.406]\n",
    "    reverse_std = [1/0.229, 1/0.224, 1/0.225]\n",
    "    recreated_im = copy.copy(im_as_var.data.numpy()[0])\n",
    "    for c in range(3):\n",
    "        recreated_im[c] /= reverse_std[c]\n",
    "        recreated_im[c] -= reverse_mean[c]\n",
    "    recreated_im[recreated_im > 1] = 1\n",
    "    recreated_im[recreated_im < 0] = 0\n",
    "    recreated_im = np.round(recreated_im * 255)\n",
    "\n",
    "    recreated_im = np.uint8(recreated_im).transpose(1, 2, 0)\n",
    "    return recreated_im"
   ]
  },
  {
   "cell_type": "code",
   "execution_count": 10,
   "id": "known-greenhouse",
   "metadata": {},
   "outputs": [],
   "source": [
    "def act_fn(act_name):\n",
    "    if act_name==\"relu\":\n",
    "        return nn.ReLU(inplace=True)\n",
    "    \n",
    "    elif act_name==\"sigmoid\":\n",
    "        return nn.Sigmoid(inplace=True)\n",
    "    \n",
    "    elif act_name==\"tanh\":\n",
    "        return nn.Tanh(inplace==True)"
   ]
  },
  {
   "cell_type": "code",
   "execution_count": 11,
   "id": "successful-boring",
   "metadata": {},
   "outputs": [],
   "source": [
    "class conv_block(nn.Module):\n",
    "    def __init__(self, in_channels, out_channels, kernel_size = 3 ,BN=True , NL=\"relu\", stride = 1, padding = 0):\n",
    "        super(conv_block, self).__init__()\n",
    "        self.BN=BN\n",
    "        self.NL=NL\n",
    "        k = kernel_size\n",
    "        \n",
    "        self.conv = nn.Conv2d(in_channels, out_channels, kernel_size = k, stride = stride, padding = padding, bias=False)\n",
    "        \n",
    "        if self.BN==True:\n",
    "            self.bn = nn.BatchNorm2d(out_channels, eps=0.001)\n",
    "            \n",
    "        self.act = act_fn(NL)\n",
    "        \n",
    "    def forward(self, x):\n",
    "        x = self.conv(x)\n",
    "        \n",
    "        if self.BN==True:\n",
    "            x = self.bn(x)\n",
    "        \n",
    "        return self.act(x)"
   ]
  },
  {
   "cell_type": "code",
   "execution_count": 12,
   "id": "assured-toolbox",
   "metadata": {},
   "outputs": [],
   "source": [
    "class fc_block(nn.Module):\n",
    "    def __init__(self, in_channels, out_channels, BN=False , NL=\"relu\"):\n",
    "        super(fc_block, self).__init__()\n",
    "        self.BN=BN\n",
    "        self.NL=NL\n",
    "        self.fc = nn.Linear(in_channels, out_channels)\n",
    "        \n",
    "        if self.BN==True:\n",
    "            self.bn = nn.BatchNorm2d(out_channels, eps=0.001)\n",
    "            \n",
    "        self.act = act_fn(NL)\n",
    "        \n",
    "    def forward(self, x):\n",
    "        x = self.fc(x)\n",
    "        \n",
    "        if self.BN==True:\n",
    "            x = self.bn(x)\n",
    "        \n",
    "        x = self.act(x)\n",
    "        \n",
    "        return x"
   ]
  },
  {
   "cell_type": "code",
   "execution_count": 13,
   "id": "abstract-density",
   "metadata": {},
   "outputs": [],
   "source": [
    "def get_fc_in(input_dim, kernel_size_list, no_kernel_list):\n",
    "    H = input_dim\n",
    "    fc_in = H - kernel_size_list[0] + 1 # conv1\n",
    "    fc_in = (fc_in - 2) //2  + 1 # max pool 1\n",
    "    fc_in = fc_in - kernel_size_list[1] + 1 # conv2\n",
    "    fc_in = (fc_in - 2) //2  + 1 # max pool 2\n",
    "    fc_in = fc_in - kernel_size_list[2] + 1 #conv3\n",
    "    fc_in = (fc_in - 2) //2  + 1 # max pool 3\n",
    "    fc_in = fc_in - kernel_size_list[3] + 1 #conv4\n",
    "    fc_in = (fc_in - 2) //2  + 1 # max pool 4\n",
    "    fc_in = fc_in - kernel_size_list[4] + 1 #conv5\n",
    "    fc_in = (fc_in - 2) //2  + 1 # max pool 5\n",
    "    #print(fc_in)\n",
    "    return fc_in * fc_in * no_kernel_list[4]"
   ]
  },
  {
   "cell_type": "code",
   "execution_count": 14,
   "id": "unnecessary-stevens",
   "metadata": {},
   "outputs": [],
   "source": [
    "class CNN_5layer(nn.Module):\n",
    "    def __init__(self, kernel_size_list, no_kernel_list, act_fn_dict, dropout_list, fc1_nodes, no_classes):\n",
    "        super(CNN_5layer, self).__init__()\n",
    "        self.dropout_list = dropout_list\n",
    "        self.input_dim = 224\n",
    "        #self.input_dim = 128\n",
    "        self.conv1 = conv_block(3, no_kernel_list[0], kernel_size=kernel_size_list[0], BN=False, NL=act_fn_dict['conv1'])\n",
    "        self.maxpool1 = nn.MaxPool2d((2, 2))\n",
    "        self.conv2 = conv_block(no_kernel_list[0], no_kernel_list[1], kernel_size=kernel_size_list[1], BN=True, NL=act_fn_dict['conv2'])\n",
    "        self.maxpool2 = nn.MaxPool2d((2, 2))\n",
    "        \n",
    "        if self.dropout_list[0]!=0:\n",
    "            self.dropout1 = nn.Dropout(dropout_list[0])\n",
    "\n",
    "        self.conv3 = conv_block(no_kernel_list[1], no_kernel_list[2], kernel_size=kernel_size_list[2], BN=True, NL=act_fn_dict['conv3'])\n",
    "        self.maxpool3 = nn.MaxPool2d((2, 2))\n",
    "        self.conv4 = conv_block(no_kernel_list[2], no_kernel_list[3], kernel_size=kernel_size_list[3], BN=True, NL=act_fn_dict['conv4'])\n",
    "        self.maxpool4 = nn.MaxPool2d((2, 2))\n",
    "        \n",
    "        if self.dropout_list[1]!=0:\n",
    "            self.dropout2 = nn.Dropout(dropout_list[1])\n",
    "\n",
    "        self.conv5 = conv_block(no_kernel_list[3], no_kernel_list[4], kernel_size=kernel_size_list[4], BN=True, NL=act_fn_dict['conv5'])\n",
    "        self.maxpool5 = nn.MaxPool2d((2, 2))\n",
    "        \n",
    "        self.fc1_in_features = get_fc_in(self.input_dim, kernel_size_list, no_kernel_list)\n",
    "        \n",
    "        self.fc1 = fc_block(self.fc1_in_features, fc1_nodes , NL=act_fn_dict['fc1'])\n",
    "        \n",
    "        if self.dropout_list[2]!=0:\n",
    "            self.dropout3 = nn.Dropout(dropout_list[2])\n",
    "        \n",
    "        self.fc2 = nn.Linear(fc1_nodes, no_classes)\n",
    "    \n",
    "    \n",
    "    def forward(self, x):\n",
    "        if x.shape[2]!=self.input_dim:\n",
    "            print(\"input dim not matched\")\n",
    "            return\n",
    "        x = self.conv1(x)\n",
    "        x = self.maxpool1(x)\n",
    "        x = self.conv2(x)\n",
    "        x = self.maxpool2(x)\n",
    "        \n",
    "        if self.dropout_list[0]!=0:\n",
    "            x = self.dropout1(x)\n",
    "        \n",
    "        x = self.conv3(x)\n",
    "        x = self.maxpool3(x)\n",
    "        x = self.conv4(x)\n",
    "        x = self.maxpool4(x)\n",
    "        \n",
    "        if self.dropout_list[1]!=0:\n",
    "            x = self.dropout2(x)\n",
    "        \n",
    "        x = self.conv5(x)\n",
    "        x = self.maxpool5(x)\n",
    "        \n",
    "        x = x.view(x.shape[0], -1)\n",
    "        \n",
    "        x = self.fc1(x)\n",
    "        if self.dropout_list[2]!=0:\n",
    "            x = self.dropout3(x)\n",
    "        \n",
    "        x = self.fc2(x)\n",
    "        \n",
    "        return x"
   ]
  },
  {
   "cell_type": "code",
   "execution_count": 15,
   "id": "detected-parliament",
   "metadata": {},
   "outputs": [],
   "source": [
    "model = CNN_5layer(kernel_size_list, no_kernel_list, act_fn_dict, dropout_list, fc1_nodes, no_classes)"
   ]
  },
  {
   "cell_type": "code",
   "execution_count": 16,
   "id": "acquired-coordination",
   "metadata": {},
   "outputs": [],
   "source": [
    "#model = model.to(device)"
   ]
  },
  {
   "cell_type": "code",
   "execution_count": 17,
   "id": "congressional-bradley",
   "metadata": {},
   "outputs": [],
   "source": [
    "optimizer = optim.Adam(model.parameters(), lr=lr, betas=(0.9, 0.999), eps=1e-08, weight_decay=0, amsgrad=False)\n",
    "scheduler = StepLR(optimizer, step_size=10, gamma=lr_schedule)\n",
    "criterion = nn.CrossEntropyLoss()"
   ]
  },
  {
   "cell_type": "code",
   "execution_count": 18,
   "id": "endangered-death",
   "metadata": {},
   "outputs": [],
   "source": [
    "# load the saved last checkpoint\n",
    "best_trained_model, optimizer, start_epoch, valid_loss, valid_acc, valid_loss_min = load_ckp(best_ckp_path, model, optimizer)"
   ]
  },
  {
   "cell_type": "code",
   "execution_count": 19,
   "id": "dense-genius",
   "metadata": {},
   "outputs": [],
   "source": [
    "class_names = ['Amphibia', 'Animalia', 'Arachnida', 'Aves', 'Fungi', 'Insecta', 'Mammalia', 'Mollusca', 'Plantae', 'Reptilia']"
   ]
  },
  {
   "cell_type": "code",
   "execution_count": 20,
   "id": "variable-crest",
   "metadata": {},
   "outputs": [],
   "source": [
    "class GuidedBackprop():\n",
    "    def __init__(self, model):\n",
    "        self.model = model\n",
    "        self.gradients = None\n",
    "        self.forward_relu_outputs = []\n",
    "        # Put model in evaluation mode\n",
    "        self.model.eval()\n",
    "        self.update_relus()\n",
    "        self.hook_layers()\n",
    "\n",
    "    def hook_layers(self):\n",
    "        def hook_function(module, grad_in, grad_out):\n",
    "            self.gradients = grad_in[0]\n",
    "        # Register hook to the first layer\n",
    "        first_layer = list(self.model._modules.items())[0][1].conv\n",
    "        first_layer.register_backward_hook(hook_function)\n",
    "\n",
    "    def update_relus(self):\n",
    "        def relu_backward_hook_function(module, grad_in, grad_out):\n",
    "            # Get last forward output\n",
    "            corresponding_forward_output = self.forward_relu_outputs[-1]\n",
    "            corresponding_forward_output[corresponding_forward_output > 0] = 1\n",
    "            modified_grad_out = corresponding_forward_output * torch.clamp(grad_in[0], min=0.0)\n",
    "            del self.forward_relu_outputs[-1]  # Remove last forward output\n",
    "            return (modified_grad_out,)\n",
    "\n",
    "        def relu_forward_hook_function(module, ten_in, ten_out):\n",
    "            self.forward_relu_outputs.append(ten_out)\n",
    "\n",
    "        # Loop through layers, hook up ReLUs\n",
    "        \n",
    "        msReLU = list(filter(lambda m: type(m) == torch.nn.modules.ReLU or type(m) == torch.nn.modules.ReLU6, self.model.modules()))\n",
    "        print(msReLU)\n",
    "        for i, m in enumerate(msReLU): \n",
    "            m.register_backward_hook(relu_backward_hook_function)\n",
    "            m.register_forward_hook(relu_forward_hook_function)\n",
    "\n",
    "    def generate_gradients(self, input_image):\n",
    "        # Forward pass\n",
    "        grads_10=[]\n",
    "        self.image = image.requires_grad_()\n",
    "        model_output = self.model(self.image)\n",
    "        np_arr = model_output.detach().numpy()\n",
    "        i = np.flatnonzero(np_arr)\n",
    "        ix = np.random.choice(len(i), 10 , replace=False)\n",
    "        ind = torch.tensor(ix)\n",
    "        sh = model_output.shape\n",
    "        u_ind = unravel_index(ind, sh)\n",
    "        \n",
    "        for i in range(10):\n",
    "            model_output = self.model(self.image)\n",
    "            self.model.zero_grad()\n",
    "            one_hot_output = torch.zeros_like(model_output)\n",
    "            one_hot_output[tuple(u_ind[i])] = model_output[tuple(u_ind[i])]\n",
    "            model_output.backward(gradient=one_hot_output)\n",
    "            # Convert Pytorch variable to numpy array\n",
    "            # [0] to get rid of the first channel (1,3,224,224)\n",
    "            gradients_as_arr = self.gradients.data.numpy()[0]\n",
    "            #grads_10.append(gradients_as_arr*500)\n",
    "            #x=np.transpose(x, (1, 2, 0))\n",
    "            grads_10.append(wandb.Image(np.transpose(gradients_as_arr, (1, 2, 0)), caption=\"Neuron : {}\".format(i+1)))\n",
    "        return grads_10"
   ]
  },
  {
   "cell_type": "code",
   "execution_count": 21,
   "id": "beautiful-quarterly",
   "metadata": {},
   "outputs": [
    {
     "name": "stdout",
     "output_type": "stream",
     "text": [
      " child 0 is:\n",
      "conv_block(\n",
      "  (conv): Conv2d(3, 32, kernel_size=(3, 3), stride=(1, 1), bias=False)\n",
      "  (act): ReLU(inplace=True)\n",
      ")\n",
      " child 1 is:\n",
      "MaxPool2d(kernel_size=(2, 2), stride=(2, 2), padding=0, dilation=1, ceil_mode=False)\n",
      " child 2 is:\n",
      "conv_block(\n",
      "  (conv): Conv2d(32, 32, kernel_size=(3, 3), stride=(1, 1), bias=False)\n",
      "  (bn): BatchNorm2d(32, eps=0.001, momentum=0.1, affine=True, track_running_stats=True)\n",
      "  (act): ReLU(inplace=True)\n",
      ")\n",
      " child 3 is:\n",
      "MaxPool2d(kernel_size=(2, 2), stride=(2, 2), padding=0, dilation=1, ceil_mode=False)\n",
      " child 4 is:\n",
      "conv_block(\n",
      "  (conv): Conv2d(32, 64, kernel_size=(3, 3), stride=(1, 1), bias=False)\n",
      "  (bn): BatchNorm2d(64, eps=0.001, momentum=0.1, affine=True, track_running_stats=True)\n",
      "  (act): ReLU(inplace=True)\n",
      ")\n",
      " child 5 is:\n",
      "MaxPool2d(kernel_size=(2, 2), stride=(2, 2), padding=0, dilation=1, ceil_mode=False)\n",
      " child 6 is:\n",
      "conv_block(\n",
      "  (conv): Conv2d(64, 64, kernel_size=(3, 3), stride=(1, 1), bias=False)\n",
      "  (bn): BatchNorm2d(64, eps=0.001, momentum=0.1, affine=True, track_running_stats=True)\n",
      "  (act): ReLU(inplace=True)\n",
      ")\n",
      " child 7 is:\n",
      "MaxPool2d(kernel_size=(2, 2), stride=(2, 2), padding=0, dilation=1, ceil_mode=False)\n",
      " child 8 is:\n",
      "conv_block(\n",
      "  (conv): Conv2d(64, 128, kernel_size=(3, 3), stride=(1, 1), bias=False)\n",
      "  (bn): BatchNorm2d(128, eps=0.001, momentum=0.1, affine=True, track_running_stats=True)\n",
      "  (act): ReLU(inplace=True)\n",
      ")\n",
      " child 9 is:\n",
      "MaxPool2d(kernel_size=(2, 2), stride=(2, 2), padding=0, dilation=1, ceil_mode=False)\n",
      " child 10 is:\n",
      "fc_block(\n",
      "  (fc): Linear(in_features=3200, out_features=1024, bias=True)\n",
      "  (act): ReLU(inplace=True)\n",
      ")\n",
      " child 11 is:\n",
      "Dropout(p=0.5, inplace=False)\n",
      " child 12 is:\n",
      "Linear(in_features=1024, out_features=10, bias=True)\n"
     ]
    }
   ],
   "source": [
    "child_counter = 0\n",
    "for child in best_trained_model.children():\n",
    "    print(\" child\", child_counter, \"is:\")\n",
    "    print(child)\n",
    "    child_counter += 1"
   ]
  },
  {
   "cell_type": "code",
   "execution_count": 22,
   "id": "collaborative-arizona",
   "metadata": {},
   "outputs": [],
   "source": [
    "best_trained_model_trunc = nn.Sequential(*list(best_trained_model.children())[:-4])"
   ]
  },
  {
   "cell_type": "code",
   "execution_count": 23,
   "id": "residential-tutorial",
   "metadata": {},
   "outputs": [
    {
     "data": {
      "text/plain": [
       "Sequential(\n",
       "  (0): conv_block(\n",
       "    (conv): Conv2d(3, 32, kernel_size=(3, 3), stride=(1, 1), bias=False)\n",
       "    (act): ReLU(inplace=True)\n",
       "  )\n",
       "  (1): MaxPool2d(kernel_size=(2, 2), stride=(2, 2), padding=0, dilation=1, ceil_mode=False)\n",
       "  (2): conv_block(\n",
       "    (conv): Conv2d(32, 32, kernel_size=(3, 3), stride=(1, 1), bias=False)\n",
       "    (bn): BatchNorm2d(32, eps=0.001, momentum=0.1, affine=True, track_running_stats=True)\n",
       "    (act): ReLU(inplace=True)\n",
       "  )\n",
       "  (3): MaxPool2d(kernel_size=(2, 2), stride=(2, 2), padding=0, dilation=1, ceil_mode=False)\n",
       "  (4): conv_block(\n",
       "    (conv): Conv2d(32, 64, kernel_size=(3, 3), stride=(1, 1), bias=False)\n",
       "    (bn): BatchNorm2d(64, eps=0.001, momentum=0.1, affine=True, track_running_stats=True)\n",
       "    (act): ReLU(inplace=True)\n",
       "  )\n",
       "  (5): MaxPool2d(kernel_size=(2, 2), stride=(2, 2), padding=0, dilation=1, ceil_mode=False)\n",
       "  (6): conv_block(\n",
       "    (conv): Conv2d(64, 64, kernel_size=(3, 3), stride=(1, 1), bias=False)\n",
       "    (bn): BatchNorm2d(64, eps=0.001, momentum=0.1, affine=True, track_running_stats=True)\n",
       "    (act): ReLU(inplace=True)\n",
       "  )\n",
       "  (7): MaxPool2d(kernel_size=(2, 2), stride=(2, 2), padding=0, dilation=1, ceil_mode=False)\n",
       "  (8): conv_block(\n",
       "    (conv): Conv2d(64, 128, kernel_size=(3, 3), stride=(1, 1), bias=False)\n",
       "    (bn): BatchNorm2d(128, eps=0.001, momentum=0.1, affine=True, track_running_stats=True)\n",
       "    (act): ReLU(inplace=True)\n",
       "  )\n",
       ")"
      ]
     },
     "execution_count": 23,
     "metadata": {},
     "output_type": "execute_result"
    }
   ],
   "source": [
    "best_trained_model_trunc"
   ]
  },
  {
   "cell_type": "code",
   "execution_count": 24,
   "id": "rental-finland",
   "metadata": {},
   "outputs": [],
   "source": [
    "def unravel_index(\n",
    "    indices: torch.LongTensor,\n",
    "    shape: torch.IntTensor,\n",
    ") -> torch.LongTensor:\n",
    "    coord = []\n",
    "\n",
    "    for dim in reversed(shape):\n",
    "        coord.append(indices % dim)\n",
    "        indices = indices // dim\n",
    "\n",
    "    coord = torch.stack(coord[::-1], dim=-1)\n",
    "\n",
    "    return coord\n"
   ]
  },
  {
   "cell_type": "code",
   "execution_count": 25,
   "id": "hundred-glucose",
   "metadata": {
    "scrolled": false
   },
   "outputs": [
    {
     "name": "stdout",
     "output_type": "stream",
     "text": [
      "[ReLU(inplace=True), ReLU(inplace=True), ReLU(inplace=True), ReLU(inplace=True), ReLU(inplace=True)]\n"
     ]
    }
   ],
   "source": [
    "dataIterator = iter(loaders['test'])\n",
    "\n",
    "#(image, target) = next(dataIterator)\n",
    "\n",
    "for i in range(4):\n",
    "    (image, target) = next(dataIterator)\n",
    "\n",
    "gbp = GuidedBackprop(best_trained_model_trunc)"
   ]
  },
  {
   "cell_type": "code",
   "execution_count": 26,
   "id": "radio-gateway",
   "metadata": {},
   "outputs": [
    {
     "name": "stderr",
     "output_type": "stream",
     "text": [
      "D:\\Anaconda3\\lib\\site-packages\\torch\\nn\\modules\\module.py:795: UserWarning: Using a non-full backward hook when the forward contains multiple autograd Nodes is deprecated and will be removed in future versions. This hook will be missing some grad_input. Please use register_full_backward_hook to get the documented behavior.\n",
      "  warnings.warn(\"Using a non-full backward hook when the forward contains multiple autograd Nodes \"\n"
     ]
    }
   ],
   "source": [
    "guided_grads = gbp.generate_gradients(image)"
   ]
  },
  {
   "cell_type": "code",
   "execution_count": 27,
   "id": "filled-advocate",
   "metadata": {
    "scrolled": false
   },
   "outputs": [
    {
     "data": {
      "text/plain": [
       "<matplotlib.image.AxesImage at 0x1c2913413c8>"
      ]
     },
     "execution_count": 27,
     "metadata": {},
     "output_type": "execute_result"
    },
    {
     "data": {
      "image/png": "[encoded data removed]",
      "text/plain": [
       "<Figure size 432x288 with 1 Axes>"
      ]
     },
     "metadata": {
      "needs_background": "light"
     },
     "output_type": "display_data"
    }
   ],
   "source": [
    "plt.imshow(recreate_image(image))"
   ]
  },
  {
   "cell_type": "code",
   "execution_count": 28,
   "id": "consolidated-saturday",
   "metadata": {},
   "outputs": [],
   "source": [
    "guided_grads.insert(0,wandb.Image(\n",
    "            recreate_image(image), caption=\"Actual image\"))"
   ]
  },
  {
   "cell_type": "code",
   "execution_count": 29,
   "id": "favorite-modeling",
   "metadata": {},
   "outputs": [],
   "source": [
    "wandb.log({\"GuidedPropagation fo 10 neurons\": guided_grads})"
   ]
  },
  {
   "cell_type": "code",
   "execution_count": null,
   "id": "improved-loading",
   "metadata": {},
   "outputs": [],
   "source": []
  }
 ],
 "metadata": {
  "kernelspec": {
   "display_name": "Python 3",
   "language": "python",
   "name": "python3"
  },
  "language_info": {
   "codemirror_mode": {
    "name": "ipython",
    "version": 3
   },
   "file_extension": ".py",
   "mimetype": "text/x-python",
   "name": "python",
   "nbconvert_exporter": "python",
   "pygments_lexer": "ipython3",
   "version": "3.7.3"
  }
 },
 "nbformat": 4,
 "nbformat_minor": 5
}
